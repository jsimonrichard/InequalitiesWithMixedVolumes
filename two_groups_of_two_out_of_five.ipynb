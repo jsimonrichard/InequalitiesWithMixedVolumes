{
 "cells": [
  {
   "cell_type": "code",
   "execution_count": 39,
   "id": "db28537f-2d79-4a51-ae6b-a7073dfead56",
   "metadata": {},
   "outputs": [],
   "source": [
    "load(\"mv_inequality_search.sage\")"
   ]
  },
  {
   "cell_type": "code",
   "execution_count": 40,
   "id": "b2168c30-d076-46dd-b745-6f6daec545ea",
   "metadata": {},
   "outputs": [],
   "source": [
    "rays = compute_rays(5)"
   ]
  },
  {
   "cell_type": "code",
   "execution_count": 41,
   "id": "bee1d632-34da-4d79-b019-bd07a8f5b323",
   "metadata": {},
   "outputs": [],
   "source": [
    "cv = compute_convex_hull(5)"
   ]
  },
  {
   "cell_type": "code",
   "execution_count": 42,
   "id": "18228846-3656-41cc-8cc4-382bf26ca44d",
   "metadata": {},
   "outputs": [
    {
     "data": {
      "text/plain": [
       "(An inequality (0, 0, 2, 0, 0, -2, 0, -1, 1, 1, -2, 1, 0, 1, 0) x + 0 >= 0,\n",
       " An inequality (0, 0, 0, 0, 0, -2, 0, 1, 1, 1, -2, 1, 0, 3, -2) x + 0 >= 0,\n",
       " An inequality (0, 0, 0, 2, 0, 0, 0, -1, 1, 1, -2, 1, 0, 1, -2) x + 0 >= 0,\n",
       " An inequality (0, 0, -2, -2, 0, 0, 0, 1, 1, 1, 2, 1, 0, -1, 0) x + 0 >= 0,\n",
       " An inequality (0, 0, 2, 0, 0, 0, 0, -1, -1, 1, 0, -1, 0, 1, 0) x + 0 >= 0,\n",
       " An inequality (0, 0, 0, 0, 0, 0, 0, 1, -1, 1, 0, -1, 0, -1, 2) x + 0 >= 0,\n",
       " An inequality (0, 0, 0, 0, 0, 0, 0, 1, 1, -1, 2, -1, 0, -1, 0) x + 0 >= 0,\n",
       " An inequality (0, 0, 0, 0, 0, 2, 0, 1, -1, -1, 0, 1, 0, -1, 0) x + 0 >= 0,\n",
       " An inequality (0, 0, 0, 2, 0, 0, 0, -1, -1, -1, 0, 1, 0, 1, 0) x + 0 >= 0,\n",
       " An inequality (0, 0, -2, -2, 0, 2, 0, 1, 1, -1, 2, -1, 0, -1, 2) x + 0 >= 0)"
      ]
     },
     "execution_count": 42,
     "metadata": {},
     "output_type": "execute_result"
    }
   ],
   "source": [
    "cv.inequalities()"
   ]
  },
  {
   "cell_type": "code",
   "execution_count": 43,
   "id": "6276727e-6769-44b3-bdaa-097724edc76e",
   "metadata": {},
   "outputs": [
    {
     "data": {
      "text/plain": [
       "(A ray in the direction (0, 0, 0, 0, 1, 1, 0, 0, 1, 0, 0, 0, 1, 1, 1),\n",
       " A ray in the direction (0, 0, 0, 1, 0, 0, 1, 0, 0, 0, 1, 1, 0, 1, 1),\n",
       " A ray in the direction (0, 0, 1, 0, 1, 1, 1, 1, 0, 0, 0, 1, 0, 0, 0),\n",
       " A ray in the direction (0, 0, 1, 1, 0, 0, 0, 1, 1, 0, 1, 0, 1, 0, 0),\n",
       " A ray in the direction (0, 1, 0, 1, 1, 0, 0, 1, 0, 1, 0, 0, 0, 0, 1),\n",
       " A ray in the direction (0, 1, 1, 0, 0, 1, 0, 0, 0, 1, 1, 0, 0, 1, 0),\n",
       " A ray in the direction (1, 0, 0, 0, 1, 0, 0, 0, 0, 1, 1, 1, 1, 0, 0),\n",
       " A ray in the direction (1, 0, 0, 1, 0, 1, 1, 0, 1, 1, 0, 0, 0, 0, 0),\n",
       " A ray in the direction (1, 1, 0, 0, 0, 0, 1, 1, 0, 0, 0, 0, 1, 1, 0),\n",
       " A ray in the direction (1, 1, 1, 0, 0, 0, 0, 0, 1, 0, 0, 1, 0, 0, 1))"
      ]
     },
     "execution_count": 43,
     "metadata": {},
     "output_type": "execute_result"
    }
   ],
   "source": [
    "cv.rays()"
   ]
  },
  {
   "cell_type": "code",
   "execution_count": 44,
   "id": "a90e97cb-4cdb-4a14-8ef5-8d119afe375d",
   "metadata": {},
   "outputs": [
    {
     "data": {
      "text/plain": [
       "[(0, 1/4, 1/4, 0, 0, 1/4, 0, 0, 0, 1/4, 1/4, 0, 0, 1/4, 0),\n",
       " (1/4, 0, 0, 0, 1/4, 0, 0, 0, 0, 1/4, 1/4, 1/4, 1/4, 0, 0),\n",
       " (1/4, 1/4, 0, 0, 0, 0, 1/4, 1/4, 0, 0, 0, 0, 1/4, 1/4, 0),\n",
       " (0, 0, 1/4, 0, 1/4, 1/4, 1/4, 1/4, 0, 0, 0, 1/4, 0, 0, 0),\n",
       " (0, 0, 0, 0, 1/4, 1/4, 0, 0, 1/4, 0, 0, 0, 1/4, 1/4, 1/4),\n",
       " (0, 0, 1/4, 1/4, 0, 0, 0, 1/4, 1/4, 0, 1/4, 0, 1/4, 0, 0),\n",
       " (0, 1/4, 0, 1/4, 1/4, 0, 0, 1/4, 0, 1/4, 0, 0, 0, 0, 1/4),\n",
       " (0, 0, 0, 1/4, 0, 0, 1/4, 0, 0, 0, 1/4, 1/4, 0, 1/4, 1/4),\n",
       " (1/4, 0, 0, 1/4, 0, 1/4, 1/4, 0, 1/4, 1/4, 0, 0, 0, 0, 0),\n",
       " (1/4, 1/4, 1/4, 0, 0, 0, 0, 0, 1/4, 0, 0, 1/4, 0, 0, 1/4),\n",
       " (1/4, 1/4, 1/4, 0, 0, 0, 0, 0, 1/4, 0, 0, 1/4, 0, 0, 1/4),\n",
       " (1/4, 0, 0, 1/4, 0, 1/4, 1/4, 0, 1/4, 1/4, 0, 0, 0, 0, 0),\n",
       " (0, 0, 0, 1/4, 0, 0, 1/4, 0, 0, 0, 1/4, 1/4, 0, 1/4, 1/4),\n",
       " (0, 1/4, 0, 1/4, 1/4, 0, 0, 1/4, 0, 1/4, 0, 0, 0, 0, 1/4),\n",
       " (0, 0, 1/4, 1/4, 0, 0, 0, 1/4, 1/4, 0, 1/4, 0, 1/4, 0, 0),\n",
       " (0, 0, 0, 0, 1/4, 1/4, 0, 0, 1/4, 0, 0, 0, 1/4, 1/4, 1/4),\n",
       " (0, 0, 1/4, 0, 1/4, 1/4, 1/4, 1/4, 0, 0, 0, 1/4, 0, 0, 0),\n",
       " (1/4, 1/4, 0, 0, 0, 0, 1/4, 1/4, 0, 0, 0, 0, 1/4, 1/4, 0),\n",
       " (1/4, 0, 0, 0, 1/4, 0, 0, 0, 0, 1/4, 1/4, 1/4, 1/4, 0, 0),\n",
       " (0, 1/4, 1/4, 0, 0, 1/4, 0, 0, 0, 1/4, 1/4, 0, 0, 1/4, 0)]"
      ]
     },
     "execution_count": 44,
     "metadata": {},
     "output_type": "execute_result"
    }
   ],
   "source": [
    "rays"
   ]
  },
  {
   "cell_type": "code",
   "execution_count": null,
   "id": "ef5ddca7-b553-486a-a6c5-bf4378307855",
   "metadata": {},
   "outputs": [],
   "source": []
  }
 ],
 "metadata": {
  "kernelspec": {
   "display_name": "SageMath 10.0",
   "language": "sagemath",
   "name": "sagemath"
  },
  "language_info": {
   "codemirror_mode": {
    "name": "ipython",
    "version": 3
   },
   "file_extension": ".py",
   "mimetype": "text/x-python",
   "name": "python",
   "nbconvert_exporter": "python",
   "pygments_lexer": "ipython3",
   "version": "3.10.12"
  }
 },
 "nbformat": 4,
 "nbformat_minor": 5
}
