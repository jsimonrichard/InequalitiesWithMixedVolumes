{
 "cells": [
  {
   "cell_type": "code",
   "execution_count": 1,
   "id": "db28537f-2d79-4a51-ae6b-a7073dfead56",
   "metadata": {},
   "outputs": [],
   "source": [
    "load(\"mv_inequality_search.sage\")"
   ]
  },
  {
   "cell_type": "code",
   "execution_count": 10,
   "id": "bee1d632-34da-4d79-b019-bd07a8f5b323",
   "metadata": {},
   "outputs": [],
   "source": [
    "cv = compute_convex_hull(5)"
   ]
  },
  {
   "cell_type": "code",
   "execution_count": 11,
   "id": "18228846-3656-41cc-8cc4-382bf26ca44d",
   "metadata": {},
   "outputs": [],
   "source": [
    "ieq = cv.inequalities()"
   ]
  },
  {
   "cell_type": "code",
   "execution_count": 12,
   "id": "48212f2b-9121-401a-b2b6-51c899586b8b",
   "metadata": {},
   "outputs": [],
   "source": [
    "eq = cv.equations()"
   ]
  },
  {
   "cell_type": "code",
   "execution_count": 25,
   "id": "4fb1f49a-dcb2-40dd-bfa8-e6af4437bf78",
   "metadata": {},
   "outputs": [],
   "source": [
    "k_1, k_2 = var(\"k_1 k_2\")"
   ]
  },
  {
   "cell_type": "code",
   "execution_count": 5,
   "id": "78a2e1b5-9c99-4689-a300-17688c8113ee",
   "metadata": {},
   "outputs": [],
   "source": [
    "rays = compute_rays(5,\n",
    "    mixed_volume = lambda a,b: 1/2*(a[0]*b[1] + a[1]*b[0]),\n",
    "    body_types = Set([\n",
    "        (k_1, 0),\n",
    "        (0, k_2)\n",
    "    ])\n",
    ")"
   ]
  },
  {
   "cell_type": "code",
   "execution_count": null,
   "id": "4b5693a4-2415-418b-8b94-3195e74c0092",
   "metadata": {},
   "outputs": [],
   "source": [
    "rays"
   ]
  },
  {
   "cell_type": "code",
   "execution_count": 35,
   "id": "e1d4a4f9-c373-4895-89bb-dbfeef31f8e0",
   "metadata": {},
   "outputs": [
    {
     "data": {
      "text/plain": [
       "(An inequality (0, 0, 2, 0, 0, -2, 0, -1, 1, 1, -2, 1, 0, 1, 0) x + 0 >= 0,\n",
       " An inequality (0, 0, 0, 0, 0, -2, 0, 1, 1, 1, -2, 1, 0, 3, -2) x + 0 >= 0,\n",
       " An inequality (0, 0, 0, 2, 0, 0, 0, -1, 1, 1, -2, 1, 0, 1, -2) x + 0 >= 0,\n",
       " An inequality (0, 0, -2, -2, 0, 0, 0, 1, 1, 1, 2, 1, 0, -1, 0) x + 0 >= 0,\n",
       " An inequality (0, 0, 2, 0, 0, 0, 0, -1, -1, 1, 0, -1, 0, 1, 0) x + 0 >= 0,\n",
       " An inequality (0, 0, 0, 0, 0, 0, 0, 1, -1, 1, 0, -1, 0, -1, 2) x + 0 >= 0,\n",
       " An inequality (0, 0, 0, 0, 0, 0, 0, 1, 1, -1, 2, -1, 0, -1, 0) x + 0 >= 0,\n",
       " An inequality (0, 0, 0, 0, 0, 2, 0, 1, -1, -1, 0, 1, 0, -1, 0) x + 0 >= 0,\n",
       " An inequality (0, 0, 0, 2, 0, 0, 0, -1, -1, -1, 0, 1, 0, 1, 0) x + 0 >= 0,\n",
       " An inequality (0, 0, -2, -2, 0, 2, 0, 1, 1, -1, 2, -1, 0, -1, 2) x + 0 >= 0)"
      ]
     },
     "execution_count": 35,
     "metadata": {},
     "output_type": "execute_result"
    }
   ],
   "source": [
    "cv = Polyhedron(rays=[[QQ(item.substitute(k_1=1,k_2=1)) for item in ray] for ray in rays])\n",
    "cv.inequalities()"
   ]
  },
  {
   "cell_type": "code",
   "execution_count": 3,
   "id": "68563121-2b4f-4317-b4e8-636d5f17d9b9",
   "metadata": {},
   "outputs": [
    {
     "name": "stdout",
     "output_type": "stream",
     "text": [
      "{{3, 4}, {0, 2}}\n",
      "{{2, 4}, {0, 3}}\n",
      "{{1, 4}, {0, 3}}\n",
      "{{0, 1}, {2, 3}}\n",
      "{{1, 2}, {0, 4}}\n",
      "{{1, 3}, {0, 4}}\n",
      "{{0, 2}, {1, 3}}\n",
      "{{1, 2}, {0, 3}}\n",
      "{{3, 4}, {0, 1}}\n",
      "{{2, 3}, {0, 4}}\n",
      "{{1, 4}, {2, 3}}\n",
      "{{0, 2}, {1, 4}}\n",
      "{{3, 4}, {1, 2}}\n",
      "{{2, 4}, {1, 3}}\n",
      "{{0, 1}, {2, 4}}\n"
     ]
    }
   ],
   "source": [
    "terms = generate_inequality_terms(5)\n",
    "for term in terms:\n",
    "    print(term)"
   ]
  },
  {
   "cell_type": "code",
   "execution_count": 6,
   "id": "bb938c23-3f47-429b-b1a6-35e47e34dc3f",
   "metadata": {},
   "outputs": [
    {
     "data": {
      "text/plain": [
       "[(0, 0, 0, -1, 0, 0, 1, -1, 0, 0, 0, 0, 0, 0, 0),\n",
       " (0, 0, 0, 0, -1, 0, 0, 0, 0, 0, 0, 1, 0, 0, -1),\n",
       " (0, 0, 1, 0, 0, -1, 0, 0, -1, 0, 0, 0, 0, 0, 0),\n",
       " (-1, 1, 0, 0, 0, 0, 0, 0, 0, -1, 0, 0, 0, 0, 0),\n",
       " (0, 0, 0, 0, 0, 0, 0, 0, 0, 0, -1, 0, -1, 1, 0)]"
      ]
     },
     "execution_count": 6,
     "metadata": {},
     "output_type": "execute_result"
    }
   ],
   "source": [
    "plucker_basis_preimage = [\n",
    "    [0,1,2,3],\n",
    "    [0,1,2,4],\n",
    "    [0,1,3,4],\n",
    "    [0,2,3,4],\n",
    "    [1,2,3,4],\n",
    "]\n",
    "\n",
    "term_list = list(terms)\n",
    "\n",
    "plucker_basis = []\n",
    "for i,j,k,l in plucker_basis_preimage:\n",
    "    v = vector([0]*15)\n",
    "    v[term_list.index(Set([Set([i,j]), Set([k,l])]))] = -1\n",
    "    v[term_list.index(Set([Set([i,k]), Set([j,l])]))] = 1\n",
    "    v[term_list.index(Set([Set([i,l]), Set([j,k])]))] = -1\n",
    "    plucker_basis.append(v)\n",
    "\n",
    "plucker_basis"
   ]
  },
  {
   "cell_type": "code",
   "execution_count": 18,
   "id": "c57bcabf-3545-47a8-bd73-b544d7a54659",
   "metadata": {},
   "outputs": [
    {
     "data": {
      "text/plain": [
       "An equation (0, 0, 1, 1, 1, -1, 0, -1, 0, 0, -1, 0, 0, 1, -1) x + 0 == 0"
      ]
     },
     "execution_count": 18,
     "metadata": {},
     "output_type": "execute_result"
    }
   ],
   "source": [
    "eq[0]"
   ]
  },
  {
   "cell_type": "code",
   "execution_count": 23,
   "id": "20d76dbc-394b-4795-b3f8-24a60c5217aa",
   "metadata": {},
   "outputs": [
    {
     "data": {
      "text/plain": [
       "(0, 0, 1, 1, 1, -1, 0, -1, 0, 0, -1, 0, 0, 1, -1)"
      ]
     },
     "execution_count": 23,
     "metadata": {},
     "output_type": "execute_result"
    }
   ],
   "source": [
    "eq[0].vector()[1:16] "
   ]
  },
  {
   "cell_type": "code",
   "execution_count": 31,
   "id": "59f2ef65-ebe4-4892-86d4-1386f8337b42",
   "metadata": {},
   "outputs": [
    {
     "data": {
      "text/plain": [
       "[ 0  0  0 -1  0  0]\n",
       "[ 0  0  0  1  0  0]\n",
       "[ 0  0  1  0  0  1]\n",
       "[-1  0  0  0  0  1]\n",
       "[ 0 -1  0  0  0  0]\n",
       "[ 0  0 -1  0  0  0]\n",
       "[ 1  0  0  0  0  0]\n",
       "[-1  0  0  0  0 -1]\n",
       "[ 0  0 -1  0  0 -1]\n",
       "[ 0  0  0 -1  0  0]\n",
       "[ 0  0  0  0 -1 -1]\n",
       "[ 0  1  0  0  0  0]\n",
       "[ 0  0  0  0 -1  1]\n",
       "[ 0  0  0  0  1  0]\n",
       "[ 0 -1  0  0  0  0]"
      ]
     },
     "execution_count": 31,
     "metadata": {},
     "output_type": "execute_result"
    }
   ],
   "source": [
    "m = Matrix(plucker_basis + [eq[4].vector()[1:16]]).transpose()\n",
    "m"
   ]
  },
  {
   "cell_type": "code",
   "execution_count": 26,
   "id": "cf17fc47-b74a-423e-958b-ec5107b9ebb1",
   "metadata": {},
   "outputs": [
    {
     "data": {
      "text/plain": [
       "6"
      ]
     },
     "execution_count": 26,
     "metadata": {},
     "output_type": "execute_result"
    }
   ],
   "source": [
    "m.rank()"
   ]
  },
  {
   "cell_type": "code",
   "execution_count": null,
   "id": "a25ed93c-9e35-4bc0-95af-760766d927a8",
   "metadata": {},
   "outputs": [],
   "source": [
    "def permute_term(term: Set, p):\n",
    "    \"\"\"\n",
    "    Permute term by the permutation p\n",
    "    \"\"\"\n",
    "    return Set([Set([ for item in mv])  for mv in term])\n",
    "\n"
   ]
  },
  {
   "cell_type": "code",
   "execution_count": null,
   "id": "81e578bb-a39b-442e-80ef-fe5b68326d1a",
   "metadata": {},
   "outputs": [],
   "source": []
  }
 ],
 "metadata": {
  "kernelspec": {
   "display_name": "SageMath 10.0",
   "language": "sagemath",
   "name": "sagemath"
  },
  "language_info": {
   "codemirror_mode": {
    "name": "ipython",
    "version": 3
   },
   "file_extension": ".py",
   "mimetype": "text/x-python",
   "name": "python",
   "nbconvert_exporter": "python",
   "pygments_lexer": "ipython3",
   "version": "3.10.12"
  }
 },
 "nbformat": 4,
 "nbformat_minor": 5
}
