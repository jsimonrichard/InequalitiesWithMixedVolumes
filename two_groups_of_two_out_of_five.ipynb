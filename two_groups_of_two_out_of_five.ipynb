{
 "cells": [
  {
   "cell_type": "code",
   "execution_count": 1,
   "id": "db28537f-2d79-4a51-ae6b-a7073dfead56",
   "metadata": {},
   "outputs": [],
   "source": [
    "from IPython.display import display, Math, Latex\n",
    "\n",
    "load(\"mv_inequality_search.sage\")"
   ]
  },
  {
   "cell_type": "markdown",
   "id": "b29ac9e9-1ad3-4b90-8cf9-bb7dc4375859",
   "metadata": {},
   "source": [
    "# Inequalities with Mixed Volumes\n",
    "Searching for relations of the form\n",
    "\n",
    "$$\n",
    "\\sum_{i=0} a_i V(K_{l_i}, K_{m_i}) V(K_{n_i}, K_{o_i}) V(K_{p_i}, K_{q_i}) \\geq 0\n",
    "$$\n",
    "\n",
    "where $1 \\leq l_i \\neq m_i \\neq n_i \\neq o_i \\neq p_i \\neq q_i \\leq n$."
   ]
  },
  {
   "cell_type": "markdown",
   "id": "d7bd9cb9-1c99-4f07-9595-953087753b08",
   "metadata": {},
   "source": [
    "Using the functions in *mv_inequality_search.sage* (especially `compute_convex_hull`), we can easily find relations for small $n$.\n",
    "\n",
    "We'll start with $n=6$."
   ]
  },
  {
   "cell_type": "code",
   "execution_count": 2,
   "id": "2f0b4f41-ae30-4454-82ff-46833b3de2ee",
   "metadata": {},
   "outputs": [],
   "source": [
    "n = 6"
   ]
  },
  {
   "cell_type": "markdown",
   "id": "d60b8676-c7bf-476a-9c9c-1e651bd4f464",
   "metadata": {},
   "source": [
    "Below is a column vector that we'll reference throughout this notebook."
   ]
  },
  {
   "cell_type": "code",
   "execution_count": 3,
   "id": "506091df-a59a-4f20-a41d-a43b18a69d76",
   "metadata": {},
   "outputs": [
    {
     "data": {
      "text/html": [
       "<html>\\(\\displaystyle x = \\left(\\begin{array}{r}\n",
       "V\\left(K_{1}, K_{2}\\right) V\\left(K_{3}, K_{4}\\right) V\\left(K_{5}, K_{6}\\right) \\\\\n",
       "V\\left(K_{1}, K_{3}\\right) V\\left(K_{2}, K_{5}\\right) V\\left(K_{4}, K_{6}\\right) \\\\\n",
       "V\\left(K_{1}, K_{5}\\right) V\\left(K_{2}, K_{3}\\right) V\\left(K_{4}, K_{6}\\right) \\\\\n",
       "V\\left(K_{1}, K_{4}\\right) V\\left(K_{2}, K_{6}\\right) V\\left(K_{3}, K_{5}\\right) \\\\\n",
       "V\\left(K_{1}, K_{4}\\right) V\\left(K_{2}, K_{3}\\right) V\\left(K_{5}, K_{6}\\right) \\\\\n",
       "V\\left(K_{1}, K_{6}\\right) V\\left(K_{2}, K_{3}\\right) V\\left(K_{4}, K_{5}\\right) \\\\\n",
       "V\\left(K_{1}, K_{4}\\right) V\\left(K_{2}, K_{5}\\right) V\\left(K_{3}, K_{6}\\right) \\\\\n",
       "V\\left(K_{1}, K_{3}\\right) V\\left(K_{2}, K_{4}\\right) V\\left(K_{5}, K_{6}\\right) \\\\\n",
       "V\\left(K_{1}, K_{2}\\right) V\\left(K_{3}, K_{6}\\right) V\\left(K_{4}, K_{5}\\right) \\\\\n",
       "V\\left(K_{1}, K_{2}\\right) V\\left(K_{3}, K_{5}\\right) V\\left(K_{4}, K_{6}\\right) \\\\\n",
       "V\\left(K_{1}, K_{5}\\right) V\\left(K_{2}, K_{6}\\right) V\\left(K_{3}, K_{4}\\right) \\\\\n",
       "V\\left(K_{1}, K_{5}\\right) V\\left(K_{2}, K_{4}\\right) V\\left(K_{3}, K_{6}\\right) \\\\\n",
       "V\\left(K_{1}, K_{6}\\right) V\\left(K_{2}, K_{5}\\right) V\\left(K_{3}, K_{4}\\right) \\\\\n",
       "V\\left(K_{1}, K_{6}\\right) V\\left(K_{2}, K_{4}\\right) V\\left(K_{3}, K_{5}\\right) \\\\\n",
       "V\\left(K_{1}, K_{3}\\right) V\\left(K_{2}, K_{6}\\right) V\\left(K_{4}, K_{5}\\right)\n",
       "\\end{array}\\right)\\)</html>"
      ],
      "text/latex": [
       "$\\displaystyle x = \\left(\\begin{array}{r}\n",
       "V\\left(K_{1}, K_{2}\\right) V\\left(K_{3}, K_{4}\\right) V\\left(K_{5}, K_{6}\\right) \\\\\n",
       "V\\left(K_{1}, K_{3}\\right) V\\left(K_{2}, K_{5}\\right) V\\left(K_{4}, K_{6}\\right) \\\\\n",
       "V\\left(K_{1}, K_{5}\\right) V\\left(K_{2}, K_{3}\\right) V\\left(K_{4}, K_{6}\\right) \\\\\n",
       "V\\left(K_{1}, K_{4}\\right) V\\left(K_{2}, K_{6}\\right) V\\left(K_{3}, K_{5}\\right) \\\\\n",
       "V\\left(K_{1}, K_{4}\\right) V\\left(K_{2}, K_{3}\\right) V\\left(K_{5}, K_{6}\\right) \\\\\n",
       "V\\left(K_{1}, K_{6}\\right) V\\left(K_{2}, K_{3}\\right) V\\left(K_{4}, K_{5}\\right) \\\\\n",
       "V\\left(K_{1}, K_{4}\\right) V\\left(K_{2}, K_{5}\\right) V\\left(K_{3}, K_{6}\\right) \\\\\n",
       "V\\left(K_{1}, K_{3}\\right) V\\left(K_{2}, K_{4}\\right) V\\left(K_{5}, K_{6}\\right) \\\\\n",
       "V\\left(K_{1}, K_{2}\\right) V\\left(K_{3}, K_{6}\\right) V\\left(K_{4}, K_{5}\\right) \\\\\n",
       "V\\left(K_{1}, K_{2}\\right) V\\left(K_{3}, K_{5}\\right) V\\left(K_{4}, K_{6}\\right) \\\\\n",
       "V\\left(K_{1}, K_{5}\\right) V\\left(K_{2}, K_{6}\\right) V\\left(K_{3}, K_{4}\\right) \\\\\n",
       "V\\left(K_{1}, K_{5}\\right) V\\left(K_{2}, K_{4}\\right) V\\left(K_{3}, K_{6}\\right) \\\\\n",
       "V\\left(K_{1}, K_{6}\\right) V\\left(K_{2}, K_{5}\\right) V\\left(K_{3}, K_{4}\\right) \\\\\n",
       "V\\left(K_{1}, K_{6}\\right) V\\left(K_{2}, K_{4}\\right) V\\left(K_{3}, K_{5}\\right) \\\\\n",
       "V\\left(K_{1}, K_{3}\\right) V\\left(K_{2}, K_{6}\\right) V\\left(K_{4}, K_{5}\\right)\n",
       "\\end{array}\\right)$"
      ],
      "text/plain": [
       "x = \\left(\\begin{array}{r}\n",
       "V\\left(K_{1}, K_{2}\\right) V\\left(K_{3}, K_{4}\\right) V\\left(K_{5}, K_{6}\\right) \\\\\n",
       "V\\left(K_{1}, K_{3}\\right) V\\left(K_{2}, K_{5}\\right) V\\left(K_{4}, K_{6}\\right) \\\\\n",
       "V\\left(K_{1}, K_{5}\\right) V\\left(K_{2}, K_{3}\\right) V\\left(K_{4}, K_{6}\\right) \\\\\n",
       "V\\left(K_{1}, K_{4}\\right) V\\left(K_{2}, K_{6}\\right) V\\left(K_{3}, K_{5}\\right) \\\\\n",
       "V\\left(K_{1}, K_{4}\\right) V\\left(K_{2}, K_{3}\\right) V\\left(K_{5}, K_{6}\\right) \\\\\n",
       "V\\left(K_{1}, K_{6}\\right) V\\left(K_{2}, K_{3}\\right) V\\left(K_{4}, K_{5}\\right) \\\\\n",
       "V\\left(K_{1}, K_{4}\\right) V\\left(K_{2}, K_{5}\\right) V\\left(K_{3}, K_{6}\\right) \\\\\n",
       "V\\left(K_{1}, K_{3}\\right) V\\left(K_{2}, K_{4}\\right) V\\left(K_{5}, K_{6}\\right) \\\\\n",
       "V\\left(K_{1}, K_{2}\\right) V\\left(K_{3}, K_{6}\\right) V\\left(K_{4}, K_{5}\\right) \\\\\n",
       "V\\left(K_{1}, K_{2}\\right) V\\left(K_{3}, K_{5}\\right) V\\left(K_{4}, K_{6}\\right) \\\\\n",
       "V\\left(K_{1}, K_{5}\\right) V\\left(K_{2}, K_{6}\\right) V\\left(K_{3}, K_{4}\\right) \\\\\n",
       "V\\left(K_{1}, K_{5}\\right) V\\left(K_{2}, K_{4}\\right) V\\left(K_{3}, K_{6}\\right) \\\\\n",
       "V\\left(K_{1}, K_{6}\\right) V\\left(K_{2}, K_{5}\\right) V\\left(K_{3}, K_{4}\\right) \\\\\n",
       "V\\left(K_{1}, K_{6}\\right) V\\left(K_{2}, K_{4}\\right) V\\left(K_{3}, K_{5}\\right) \\\\\n",
       "V\\left(K_{1}, K_{3}\\right) V\\left(K_{2}, K_{6}\\right) V\\left(K_{4}, K_{5}\\right)\n",
       "\\end{array}\\right)"
      ]
     },
     "execution_count": 3,
     "metadata": {},
     "output_type": "execute_result"
    }
   ],
   "source": [
    "%display latex\n",
    "\n",
    "# Define symbols for printing LaTeX\n",
    "V = function(\"V\") # Mixed volumes\n",
    "K = var([f\"K_{i}\" for i in range(1,n+1)]) # Bodies\n",
    "\n",
    "# Define term column vector\n",
    "terms = generate_inequality_terms(n, dimension=2, term_factors=3)\n",
    "term_list = list(terms)\n",
    "x = var('x')\n",
    "x_vec = Matrix([\n",
    "    V(K[term[0][0]-1], K[term[0][1]-1]) *\n",
    "    V(K[term[1][0]-1], K[term[1][1]-1]) *\n",
    "    V(K[term[2][0]-1], K[term[2][1]-1]) for term in terms\n",
    "]).transpose()\n",
    "latex(x) + \"=\" + latex(x_vec)"
   ]
  },
  {
   "cell_type": "code",
   "execution_count": 4,
   "id": "653d5de4-c30e-4660-ab10-ddca5272446a",
   "metadata": {},
   "outputs": [
    {
     "data": {
      "text/html": [
       "<html>\\(\\displaystyle 15\\)</html>"
      ],
      "text/latex": [
       "$\\displaystyle 15$"
      ],
      "text/plain": [
       "15"
      ]
     },
     "execution_count": 4,
     "metadata": {},
     "output_type": "execute_result"
    }
   ],
   "source": [
    "len(term_list)"
   ]
  },
  {
   "cell_type": "code",
   "execution_count": 5,
   "id": "bee1d632-34da-4d79-b019-bd07a8f5b323",
   "metadata": {
    "scrolled": true
   },
   "outputs": [],
   "source": [
    "# Compute convex hull\n",
    "cv = compute_convex_hull(n)"
   ]
  },
  {
   "cell_type": "code",
   "execution_count": 6,
   "id": "e57989da-21e2-492a-8405-78a428dd060f",
   "metadata": {},
   "outputs": [
    {
     "data": {
      "text/html": [
       "<html>\\(\\displaystyle 10\\)</html>"
      ],
      "text/latex": [
       "$\\displaystyle 10$"
      ],
      "text/plain": [
       "10"
      ]
     },
     "execution_count": 6,
     "metadata": {},
     "output_type": "execute_result"
    }
   ],
   "source": [
    "ieqs = cv.inequalities()\n",
    "len(ieqs)"
   ]
  },
  {
   "cell_type": "code",
   "execution_count": 7,
   "id": "18228846-3656-41cc-8cc4-382bf26ca44d",
   "metadata": {},
   "outputs": [
    {
     "data": {
      "text/html": [
       "<html>\\(\\displaystyle \\left(\\begin{array}{rrrrrrrrrrrrrrr}\n",
       "0 & 0 & -1 & -1 & 0 & 0 & 0 & 1 & -1 & 2 & 0 & 0 & 1 & 0 & 0 \\\\\n",
       "2 & 0 & 1 & 1 & 0 & 0 & 0 & -1 & -1 & 0 & 0 & 0 & -1 & 0 & 0 \\\\\n",
       "2 & 0 & 1 & 1 & 0 & 0 & 0 & -1 & 1 & -2 & -2 & 0 & 1 & 0 & 0 \\\\\n",
       "0 & 0 & -1 & -1 & 0 & 0 & 0 & 1 & 1 & 0 & 2 & 0 & -1 & 0 & 0 \\\\\n",
       "0 & 2 & 1 & 1 & 0 & 0 & 0 & 1 & 1 & -2 & 0 & 0 & -1 & 0 & -2 \\\\\n",
       "0 & 0 & 1 & -1 & 0 & 0 & 0 & -1 & -1 & 0 & 0 & 0 & 1 & 0 & 2 \\\\\n",
       "0 & 2 & -1 & 1 & 0 & 0 & 0 & -1 & 1 & 0 & 0 & 0 & -1 & 0 & 0 \\\\\n",
       "-2 & -2 & 1 & -1 & 0 & 0 & 0 & 1 & 1 & 2 & 0 & 0 & 1 & 0 & 0 \\\\\n",
       "0 & -2 & 1 & 1 & 0 & 0 & 0 & 1 & -1 & 0 & -2 & 0 & 1 & 0 & 2 \\\\\n",
       "-2 & 0 & -1 & 1 & 0 & 0 & 0 & 1 & 1 & 0 & 2 & 0 & 1 & 0 & -2\n",
       "\\end{array}\\right) x \\geq \\vec 0\\)</html>"
      ],
      "text/latex": [
       "$\\displaystyle \\left(\\begin{array}{rrrrrrrrrrrrrrr}\n",
       "0 & 0 & -1 & -1 & 0 & 0 & 0 & 1 & -1 & 2 & 0 & 0 & 1 & 0 & 0 \\\\\n",
       "2 & 0 & 1 & 1 & 0 & 0 & 0 & -1 & -1 & 0 & 0 & 0 & -1 & 0 & 0 \\\\\n",
       "2 & 0 & 1 & 1 & 0 & 0 & 0 & -1 & 1 & -2 & -2 & 0 & 1 & 0 & 0 \\\\\n",
       "0 & 0 & -1 & -1 & 0 & 0 & 0 & 1 & 1 & 0 & 2 & 0 & -1 & 0 & 0 \\\\\n",
       "0 & 2 & 1 & 1 & 0 & 0 & 0 & 1 & 1 & -2 & 0 & 0 & -1 & 0 & -2 \\\\\n",
       "0 & 0 & 1 & -1 & 0 & 0 & 0 & -1 & -1 & 0 & 0 & 0 & 1 & 0 & 2 \\\\\n",
       "0 & 2 & -1 & 1 & 0 & 0 & 0 & -1 & 1 & 0 & 0 & 0 & -1 & 0 & 0 \\\\\n",
       "-2 & -2 & 1 & -1 & 0 & 0 & 0 & 1 & 1 & 2 & 0 & 0 & 1 & 0 & 0 \\\\\n",
       "0 & -2 & 1 & 1 & 0 & 0 & 0 & 1 & -1 & 0 & -2 & 0 & 1 & 0 & 2 \\\\\n",
       "-2 & 0 & -1 & 1 & 0 & 0 & 0 & 1 & 1 & 0 & 2 & 0 & 1 & 0 & -2\n",
       "\\end{array}\\right) x \\geq \\vec 0$"
      ],
      "text/plain": [
       "\\left(\\begin{array}{rrrrrrrrrrrrrrr}\n",
       "0 & 0 & -1 & -1 & 0 & 0 & 0 & 1 & -1 & 2 & 0 & 0 & 1 & 0 & 0 \\\\\n",
       "2 & 0 & 1 & 1 & 0 & 0 & 0 & -1 & -1 & 0 & 0 & 0 & -1 & 0 & 0 \\\\\n",
       "2 & 0 & 1 & 1 & 0 & 0 & 0 & -1 & 1 & -2 & -2 & 0 & 1 & 0 & 0 \\\\\n",
       "0 & 0 & -1 & -1 & 0 & 0 & 0 & 1 & 1 & 0 & 2 & 0 & -1 & 0 & 0 \\\\\n",
       "0 & 2 & 1 & 1 & 0 & 0 & 0 & 1 & 1 & -2 & 0 & 0 & -1 & 0 & -2 \\\\\n",
       "0 & 0 & 1 & -1 & 0 & 0 & 0 & -1 & -1 & 0 & 0 & 0 & 1 & 0 & 2 \\\\\n",
       "0 & 2 & -1 & 1 & 0 & 0 & 0 & -1 & 1 & 0 & 0 & 0 & -1 & 0 & 0 \\\\\n",
       "-2 & -2 & 1 & -1 & 0 & 0 & 0 & 1 & 1 & 2 & 0 & 0 & 1 & 0 & 0 \\\\\n",
       "0 & -2 & 1 & 1 & 0 & 0 & 0 & 1 & -1 & 0 & -2 & 0 & 1 & 0 & 2 \\\\\n",
       "-2 & 0 & -1 & 1 & 0 & 0 & 0 & 1 & 1 & 0 & 2 & 0 & 1 & 0 & -2\n",
       "\\end{array}\\right) x \\geq \\vec 0"
      ]
     },
     "execution_count": 7,
     "metadata": {},
     "output_type": "execute_result"
    }
   ],
   "source": [
    "%display latex\n",
    "A = Matrix([i.vector()[1:16] for i in ieqs])\n",
    "latex(A) + latex(x) + \"\\\\geq \\\\vec 0\""
   ]
  },
  {
   "cell_type": "code",
   "execution_count": 8,
   "id": "48212f2b-9121-401a-b2b6-51c899586b8b",
   "metadata": {},
   "outputs": [
    {
     "data": {
      "text/html": [
       "<html>\\(\\displaystyle \\left(\\begin{array}{rrrrrrrrrrrrrrr}\n",
       "1 & 0 & 1 & 1 & -1 & 0 & 0 & 0 & 0 & -1 & -1 & 0 & 0 & 0 & 0 \\\\\n",
       "0 & 1 & -1 & 0 & 0 & 1 & 0 & 0 & 0 & 0 & 1 & 0 & -1 & 0 & -1 \\\\\n",
       "0 & 1 & 0 & 1 & 0 & 0 & -1 & 0 & 1 & -1 & 0 & 0 & 0 & 0 & -1 \\\\\n",
       "1 & 0 & 0 & 0 & 0 & 0 & 0 & -1 & -1 & 0 & -1 & 1 & 0 & 0 & 1 \\\\\n",
       "1 & 1 & 0 & 0 & 0 & 0 & 0 & -1 & 0 & -1 & 0 & 0 & -1 & 1 & 0\n",
       "\\end{array}\\right) x = \\vec 0\\)</html>"
      ],
      "text/latex": [
       "$\\displaystyle \\left(\\begin{array}{rrrrrrrrrrrrrrr}\n",
       "1 & 0 & 1 & 1 & -1 & 0 & 0 & 0 & 0 & -1 & -1 & 0 & 0 & 0 & 0 \\\\\n",
       "0 & 1 & -1 & 0 & 0 & 1 & 0 & 0 & 0 & 0 & 1 & 0 & -1 & 0 & -1 \\\\\n",
       "0 & 1 & 0 & 1 & 0 & 0 & -1 & 0 & 1 & -1 & 0 & 0 & 0 & 0 & -1 \\\\\n",
       "1 & 0 & 0 & 0 & 0 & 0 & 0 & -1 & -1 & 0 & -1 & 1 & 0 & 0 & 1 \\\\\n",
       "1 & 1 & 0 & 0 & 0 & 0 & 0 & -1 & 0 & -1 & 0 & 0 & -1 & 1 & 0\n",
       "\\end{array}\\right) x = \\vec 0$"
      ],
      "text/plain": [
       "\\left(\\begin{array}{rrrrrrrrrrrrrrr}\n",
       "1 & 0 & 1 & 1 & -1 & 0 & 0 & 0 & 0 & -1 & -1 & 0 & 0 & 0 & 0 \\\\\n",
       "0 & 1 & -1 & 0 & 0 & 1 & 0 & 0 & 0 & 0 & 1 & 0 & -1 & 0 & -1 \\\\\n",
       "0 & 1 & 0 & 1 & 0 & 0 & -1 & 0 & 1 & -1 & 0 & 0 & 0 & 0 & -1 \\\\\n",
       "1 & 0 & 0 & 0 & 0 & 0 & 0 & -1 & -1 & 0 & -1 & 1 & 0 & 0 & 1 \\\\\n",
       "1 & 1 & 0 & 0 & 0 & 0 & 0 & -1 & 0 & -1 & 0 & 0 & -1 & 1 & 0\n",
       "\\end{array}\\right) x = \\vec 0"
      ]
     },
     "execution_count": 8,
     "metadata": {},
     "output_type": "execute_result"
    }
   ],
   "source": [
    "%display latex\n",
    "eqs = cv.equations()\n",
    "\n",
    "B = Matrix([i.vector()[1:16] for i in eqs])\n",
    "latex(B) + latex(x) + \"= \\\\vec 0\""
   ]
  },
  {
   "cell_type": "code",
   "execution_count": 9,
   "id": "14263585-6fb0-4fe8-88ea-3a367ecf9c79",
   "metadata": {},
   "outputs": [
    {
     "data": {
      "text/html": [
       "<html>\\(\\displaystyle 15\\)</html>"
      ],
      "text/latex": [
       "$\\displaystyle 15$"
      ],
      "text/plain": [
       "15"
      ]
     },
     "execution_count": 9,
     "metadata": {},
     "output_type": "execute_result"
    }
   ],
   "source": [
    "C = Matrix([i.vector()[1:16] for i in eqs]+[i.vector()[1:16] for i in ieqs])\n",
    "C.rank()"
   ]
  },
  {
   "cell_type": "code",
   "execution_count": 10,
   "id": "22833b2b-a942-43f3-b419-c778b20523ad",
   "metadata": {},
   "outputs": [
    {
     "data": {
      "text/html": [
       "<html>\\(\\displaystyle \\left(-V\\left(K_{1}, K_{5}\\right) V\\left(K_{2}, K_{6}\\right) V\\left(K_{3}, K_{4}\\right) + V\\left(K_{1}, K_{4}\\right) V\\left(K_{2}, K_{6}\\right) V\\left(K_{3}, K_{5}\\right) + V\\left(K_{1}, K_{5}\\right) V\\left(K_{2}, K_{3}\\right) V\\left(K_{4}, K_{6}\\right) - V\\left(K_{1}, K_{2}\\right) V\\left(K_{3}, K_{5}\\right) V\\left(K_{4}, K_{6}\\right) - V\\left(K_{1}, K_{4}\\right) V\\left(K_{2}, K_{3}\\right) V\\left(K_{5}, K_{6}\\right) + V\\left(K_{1}, K_{2}\\right) V\\left(K_{3}, K_{4}\\right) V\\left(K_{5}, K_{6}\\right)\\right)\\)</html>"
      ],
      "text/latex": [
       "$\\displaystyle \\left(-V\\left(K_{1}, K_{5}\\right) V\\left(K_{2}, K_{6}\\right) V\\left(K_{3}, K_{4}\\right) + V\\left(K_{1}, K_{4}\\right) V\\left(K_{2}, K_{6}\\right) V\\left(K_{3}, K_{5}\\right) + V\\left(K_{1}, K_{5}\\right) V\\left(K_{2}, K_{3}\\right) V\\left(K_{4}, K_{6}\\right) - V\\left(K_{1}, K_{2}\\right) V\\left(K_{3}, K_{5}\\right) V\\left(K_{4}, K_{6}\\right) - V\\left(K_{1}, K_{4}\\right) V\\left(K_{2}, K_{3}\\right) V\\left(K_{5}, K_{6}\\right) + V\\left(K_{1}, K_{2}\\right) V\\left(K_{3}, K_{4}\\right) V\\left(K_{5}, K_{6}\\right)\\right)$"
      ],
      "text/plain": [
       "(-V(K_1, K_5)*V(K_2, K_6)*V(K_3, K_4) + V(K_1, K_4)*V(K_2, K_6)*V(K_3, K_5) + V(K_1, K_5)*V(K_2, K_3)*V(K_4, K_6) - V(K_1, K_2)*V(K_3, K_5)*V(K_4, K_6) - V(K_1, K_4)*V(K_2, K_3)*V(K_5, K_6) + V(K_1, K_2)*V(K_3, K_4)*V(K_5, K_6))"
      ]
     },
     "execution_count": 10,
     "metadata": {},
     "output_type": "execute_result"
    }
   ],
   "source": [
    "(eqs[0].vector()[1:16] * x_vec)"
   ]
  },
  {
   "cell_type": "code",
   "execution_count": 11,
   "id": "83b88dc8-a31f-45bc-81c4-66780cf7d979",
   "metadata": {},
   "outputs": [
    {
     "data": {
      "text/html": [
       "<html>\\(\\displaystyle 10\\)</html>"
      ],
      "text/latex": [
       "$\\displaystyle 10$"
      ],
      "text/plain": [
       "10"
      ]
     },
     "execution_count": 11,
     "metadata": {},
     "output_type": "execute_result"
    }
   ],
   "source": [
    "cv.dimension()"
   ]
  },
  {
   "cell_type": "markdown",
   "id": "30834e00-6e23-4d43-8eed-fa2fb4a15d19",
   "metadata": {},
   "source": [
    "Next, we'd like to determine how many fundamental relations we have.\n",
    "\n",
    "If we permute the labels of our six bodies, we expect to get the same set of relations. However, appling these permutations to any one relation is sure to change it. We'd like to determine how many of these relations are simply a permuted form of another relation and how many are fundamentally unique.\n",
    "\n",
    "These permutations, represented by the symmetric group $S_{6}$, induce another permutation group $G < S_{15}$ on the terms of the relations. This group acts on our set of relations and produce orbits of fundamentally equivalent relations.\n",
    "\n",
    "To find these orbits, we can simply use SageMath's orbit API."
   ]
  },
  {
   "cell_type": "code",
   "execution_count": 12,
   "id": "81e578bb-a39b-442e-80ef-fe5b68326d1a",
   "metadata": {},
   "outputs": [
    {
     "data": {
      "text/html": [
       "<html>\\(\\displaystyle \\mathrm{True}\\)</html>"
      ],
      "text/latex": [
       "$\\displaystyle \\mathrm{True}$"
      ],
      "text/plain": [
       "True"
      ]
     },
     "execution_count": 12,
     "metadata": {},
     "output_type": "execute_result"
    }
   ],
   "source": [
    "sg = SymmetricGroup(6)\n",
    "\n",
    "term_list = list(terms)\n",
    "g = PermutationGroup([\n",
    "    term_permutation_from_body_permutation(p, term_list) for p in sg\n",
    "])\n",
    "g.is_subgroup(SymmetricGroup(15))"
   ]
  },
  {
   "cell_type": "code",
   "execution_count": 13,
   "id": "a4ff4752-f958-4559-aead-6211798a51c2",
   "metadata": {},
   "outputs": [
    {
     "data": {
      "text/html": [
       "<html>\\(\\displaystyle 720\\)</html>"
      ],
      "text/latex": [
       "$\\displaystyle 720$"
      ],
      "text/plain": [
       "720"
      ]
     },
     "execution_count": 13,
     "metadata": {},
     "output_type": "execute_result"
    }
   ],
   "source": [
    "len(g.gens())"
   ]
  },
  {
   "cell_type": "code",
   "execution_count": 14,
   "id": "e325c923-5a48-42ef-b1d3-cc304de3b2df",
   "metadata": {
    "scrolled": true
   },
   "outputs": [
    {
     "data": {
      "text/html": [
       "<html>\\(\\displaystyle 720\\)</html>"
      ],
      "text/latex": [
       "$\\displaystyle 720$"
      ],
      "text/plain": [
       "720"
      ]
     },
     "execution_count": 14,
     "metadata": {},
     "output_type": "execute_result"
    }
   ],
   "source": [
    "len(g)"
   ]
  },
  {
   "cell_type": "code",
   "execution_count": 15,
   "id": "3f320fff-f4f6-41c0-a9d8-3226f26ae36c",
   "metadata": {
    "scrolled": true
   },
   "outputs": [
    {
     "data": {
      "text/html": [
       "<html>\\(\\displaystyle 10\\)</html>"
      ],
      "text/latex": [
       "$\\displaystyle 10$"
      ],
      "text/plain": [
       "10"
      ]
     },
     "execution_count": 15,
     "metadata": {},
     "output_type": "execute_result"
    }
   ],
   "source": [
    "ieq_orbits = Set(list(get_orbit_of_relation(ieq, g, x_vec) for ieq in ieqs))\n",
    "len(list(ieq_orbits))"
   ]
  },
  {
   "cell_type": "code",
   "execution_count": 16,
   "id": "ef7537ed-78ed-412e-b293-cd96e730d484",
   "metadata": {},
   "outputs": [
    {
     "data": {
      "text/html": [
       "<html>\\(\\displaystyle 5\\)</html>"
      ],
      "text/latex": [
       "$\\displaystyle 5$"
      ],
      "text/plain": [
       "5"
      ]
     },
     "execution_count": 16,
     "metadata": {},
     "output_type": "execute_result"
    }
   ],
   "source": [
    "eq_orbits = Set(list(get_orbit_of_relation(eq, g, x_vec) for eq in eqs))\n",
    "len(list(eq_orbits))"
   ]
  },
  {
   "cell_type": "code",
   "execution_count": null,
   "id": "dd189385-5eb8-4fb9-a3c6-a352aae79e4c",
   "metadata": {},
   "outputs": [],
   "source": []
  }
 ],
 "metadata": {
  "kernelspec": {
   "display_name": "SageMath 10.0",
   "language": "sagemath",
   "name": "sagemath"
  },
  "language_info": {
   "codemirror_mode": {
    "name": "ipython",
    "version": 3
   },
   "file_extension": ".py",
   "mimetype": "text/x-python",
   "name": "python",
   "nbconvert_exporter": "python",
   "pygments_lexer": "ipython3",
   "version": "3.10.12"
  }
 },
 "nbformat": 4,
 "nbformat_minor": 5
}
