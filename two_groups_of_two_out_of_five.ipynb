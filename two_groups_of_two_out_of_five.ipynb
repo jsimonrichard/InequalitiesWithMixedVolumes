{
 "cells": [
  {
   "cell_type": "code",
   "execution_count": 30,
   "id": "db28537f-2d79-4a51-ae6b-a7073dfead56",
   "metadata": {},
   "outputs": [],
   "source": [
    "from IPython.display import display, Math, Latex\n",
    "\n",
    "load(\"mv_inequality_search.sage\")"
   ]
  },
  {
   "cell_type": "markdown",
   "id": "b29ac9e9-1ad3-4b90-8cf9-bb7dc4375859",
   "metadata": {},
   "source": [
    "# Inequalities with Mixed Volumes\n",
    "Searching for relations of the form\n",
    "\n",
    "$$\n",
    "\\sum_{i=0} a_i V(K_{l_i}, K_{m_i}) V(K_{n_i}, K_{o_i}) \\geq 0\n",
    "$$\n",
    "\n",
    "where $1 \\leq l_i \\neq m_i \\neq n_i \\neq o_i \\leq n$."
   ]
  },
  {
   "cell_type": "markdown",
   "id": "d7bd9cb9-1c99-4f07-9595-953087753b08",
   "metadata": {},
   "source": [
    "Using the functions in *mv_inequality_search.sage* (especially `compute_convex_hull`), we can easily find relations for small $n$.\n",
    "\n",
    "We'll start with $n=5$."
   ]
  },
  {
   "cell_type": "code",
   "execution_count": 2,
   "id": "2f0b4f41-ae30-4454-82ff-46833b3de2ee",
   "metadata": {},
   "outputs": [],
   "source": [
    "n = 5"
   ]
  },
  {
   "cell_type": "markdown",
   "id": "d60b8676-c7bf-476a-9c9c-1e651bd4f464",
   "metadata": {},
   "source": [
    "Below is a column vector that we'll reference throughout this notebook."
   ]
  },
  {
   "cell_type": "code",
   "execution_count": 3,
   "id": "506091df-a59a-4f20-a41d-a43b18a69d76",
   "metadata": {},
   "outputs": [
    {
     "data": {
      "text/html": [
       "<html>\\(\\displaystyle x = \\left(\\begin{array}{r}\n",
       "V\\left(K_{1}, K_{2}\\right) V\\left(K_{4}, K_{5}\\right) \\\\\n",
       "V\\left(K_{2}, K_{4}\\right) V\\left(K_{3}, K_{5}\\right) \\\\\n",
       "V\\left(K_{1}, K_{4}\\right) V\\left(K_{3}, K_{5}\\right) \\\\\n",
       "V\\left(K_{1}, K_{5}\\right) V\\left(K_{2}, K_{4}\\right) \\\\\n",
       "V\\left(K_{1}, K_{2}\\right) V\\left(K_{3}, K_{5}\\right) \\\\\n",
       "V\\left(K_{2}, K_{5}\\right) V\\left(K_{3}, K_{4}\\right) \\\\\n",
       "V\\left(K_{1}, K_{3}\\right) V\\left(K_{2}, K_{5}\\right) \\\\\n",
       "V\\left(K_{1}, K_{5}\\right) V\\left(K_{2}, K_{3}\\right) \\\\\n",
       "V\\left(K_{2}, K_{3}\\right) V\\left(K_{4}, K_{5}\\right) \\\\\n",
       "V\\left(K_{1}, K_{4}\\right) V\\left(K_{2}, K_{5}\\right) \\\\\n",
       "V\\left(K_{1}, K_{4}\\right) V\\left(K_{2}, K_{3}\\right) \\\\\n",
       "V\\left(K_{1}, K_{5}\\right) V\\left(K_{3}, K_{4}\\right) \\\\\n",
       "V\\left(K_{1}, K_{2}\\right) V\\left(K_{3}, K_{4}\\right) \\\\\n",
       "V\\left(K_{1}, K_{3}\\right) V\\left(K_{2}, K_{4}\\right) \\\\\n",
       "V\\left(K_{1}, K_{3}\\right) V\\left(K_{4}, K_{5}\\right)\n",
       "\\end{array}\\right)\\)</html>"
      ],
      "text/latex": [
       "$\\displaystyle x = \\left(\\begin{array}{r}\n",
       "V\\left(K_{1}, K_{2}\\right) V\\left(K_{4}, K_{5}\\right) \\\\\n",
       "V\\left(K_{2}, K_{4}\\right) V\\left(K_{3}, K_{5}\\right) \\\\\n",
       "V\\left(K_{1}, K_{4}\\right) V\\left(K_{3}, K_{5}\\right) \\\\\n",
       "V\\left(K_{1}, K_{5}\\right) V\\left(K_{2}, K_{4}\\right) \\\\\n",
       "V\\left(K_{1}, K_{2}\\right) V\\left(K_{3}, K_{5}\\right) \\\\\n",
       "V\\left(K_{2}, K_{5}\\right) V\\left(K_{3}, K_{4}\\right) \\\\\n",
       "V\\left(K_{1}, K_{3}\\right) V\\left(K_{2}, K_{5}\\right) \\\\\n",
       "V\\left(K_{1}, K_{5}\\right) V\\left(K_{2}, K_{3}\\right) \\\\\n",
       "V\\left(K_{2}, K_{3}\\right) V\\left(K_{4}, K_{5}\\right) \\\\\n",
       "V\\left(K_{1}, K_{4}\\right) V\\left(K_{2}, K_{5}\\right) \\\\\n",
       "V\\left(K_{1}, K_{4}\\right) V\\left(K_{2}, K_{3}\\right) \\\\\n",
       "V\\left(K_{1}, K_{5}\\right) V\\left(K_{3}, K_{4}\\right) \\\\\n",
       "V\\left(K_{1}, K_{2}\\right) V\\left(K_{3}, K_{4}\\right) \\\\\n",
       "V\\left(K_{1}, K_{3}\\right) V\\left(K_{2}, K_{4}\\right) \\\\\n",
       "V\\left(K_{1}, K_{3}\\right) V\\left(K_{4}, K_{5}\\right)\n",
       "\\end{array}\\right)$"
      ],
      "text/plain": [
       "x = \\left(\\begin{array}{r}\n",
       "V\\left(K_{1}, K_{2}\\right) V\\left(K_{4}, K_{5}\\right) \\\\\n",
       "V\\left(K_{2}, K_{4}\\right) V\\left(K_{3}, K_{5}\\right) \\\\\n",
       "V\\left(K_{1}, K_{4}\\right) V\\left(K_{3}, K_{5}\\right) \\\\\n",
       "V\\left(K_{1}, K_{5}\\right) V\\left(K_{2}, K_{4}\\right) \\\\\n",
       "V\\left(K_{1}, K_{2}\\right) V\\left(K_{3}, K_{5}\\right) \\\\\n",
       "V\\left(K_{2}, K_{5}\\right) V\\left(K_{3}, K_{4}\\right) \\\\\n",
       "V\\left(K_{1}, K_{3}\\right) V\\left(K_{2}, K_{5}\\right) \\\\\n",
       "V\\left(K_{1}, K_{5}\\right) V\\left(K_{2}, K_{3}\\right) \\\\\n",
       "V\\left(K_{2}, K_{3}\\right) V\\left(K_{4}, K_{5}\\right) \\\\\n",
       "V\\left(K_{1}, K_{4}\\right) V\\left(K_{2}, K_{5}\\right) \\\\\n",
       "V\\left(K_{1}, K_{4}\\right) V\\left(K_{2}, K_{3}\\right) \\\\\n",
       "V\\left(K_{1}, K_{5}\\right) V\\left(K_{3}, K_{4}\\right) \\\\\n",
       "V\\left(K_{1}, K_{2}\\right) V\\left(K_{3}, K_{4}\\right) \\\\\n",
       "V\\left(K_{1}, K_{3}\\right) V\\left(K_{2}, K_{4}\\right) \\\\\n",
       "V\\left(K_{1}, K_{3}\\right) V\\left(K_{4}, K_{5}\\right)\n",
       "\\end{array}\\right)"
      ]
     },
     "execution_count": 3,
     "metadata": {},
     "output_type": "execute_result"
    }
   ],
   "source": [
    "%display latex\n",
    "\n",
    "# Define symbols for printing LaTeX\n",
    "V = function(\"V\") # Mixed volumes\n",
    "K = var([f\"K_{i}\" for i in range(1,n+1)]) # Bodies\n",
    "\n",
    "# Define term column vector\n",
    "terms = generate_inequality_terms(n)\n",
    "x = var('x')\n",
    "x_vec = Matrix([\n",
    "    V(K[term[0][0]-1], K[term[0][1]-1]) *\n",
    "    V(K[term[1][0]-1], K[term[1][1]-1]) for term in terms\n",
    "]).transpose()\n",
    "latex(x) + \"=\" + latex(x_vec)"
   ]
  },
  {
   "cell_type": "code",
   "execution_count": 4,
   "id": "bee1d632-34da-4d79-b019-bd07a8f5b323",
   "metadata": {},
   "outputs": [],
   "source": [
    "# Compute convex hull\n",
    "cv = compute_convex_hull(n)"
   ]
  },
  {
   "cell_type": "code",
   "execution_count": 5,
   "id": "18228846-3656-41cc-8cc4-382bf26ca44d",
   "metadata": {},
   "outputs": [
    {
     "data": {
      "text/html": [
       "<html>\\(\\displaystyle \\left(\\begin{array}{rrrrrrrrrrrrrrr}\n",
       "0 & 1 & 0 & 0 & 0 & 0 & -2 & 3 & 0 & 1 & -2 & -2 & 1 & 0 & 1 \\\\\n",
       "0 & 1 & 0 & 0 & 0 & 0 & 0 & 1 & -2 & 1 & 0 & -2 & 1 & -2 & 3 \\\\\n",
       "0 & -1 & 0 & 0 & 0 & 0 & -2 & 1 & 0 & 1 & -2 & 0 & 1 & 2 & 1 \\\\\n",
       "0 & -1 & 0 & 0 & 0 & 0 & 0 & -1 & 2 & 1 & 0 & 0 & 1 & 0 & -1 \\\\\n",
       "0 & 1 & 0 & 0 & 0 & 0 & 0 & -1 & 0 & 1 & 0 & 2 & -1 & 0 & -1 \\\\\n",
       "0 & 1 & 0 & 0 & 0 & 0 & 0 & -1 & 0 & -1 & 2 & 0 & -1 & 0 & 1 \\\\\n",
       "0 & 1 & 0 & 0 & 0 & 0 & 2 & -1 & 0 & -1 & 0 & 0 & 1 & 0 & -1 \\\\\n",
       "0 & 1 & 0 & 0 & 0 & 0 & 0 & 1 & -2 & -1 & 2 & 0 & 1 & -2 & 1 \\\\\n",
       "0 & -1 & 0 & 0 & 0 & 0 & 0 & 1 & 0 & 1 & 0 & 0 & -1 & 2 & -1 \\\\\n",
       "0 & -1 & 0 & 0 & 0 & 0 & 2 & -1 & 2 & -1 & 0 & 2 & -1 & 0 & -1\n",
       "\\end{array}\\right) x \\geq \\vec 0\\)</html>"
      ],
      "text/latex": [
       "$\\displaystyle \\left(\\begin{array}{rrrrrrrrrrrrrrr}\n",
       "0 & 1 & 0 & 0 & 0 & 0 & -2 & 3 & 0 & 1 & -2 & -2 & 1 & 0 & 1 \\\\\n",
       "0 & 1 & 0 & 0 & 0 & 0 & 0 & 1 & -2 & 1 & 0 & -2 & 1 & -2 & 3 \\\\\n",
       "0 & -1 & 0 & 0 & 0 & 0 & -2 & 1 & 0 & 1 & -2 & 0 & 1 & 2 & 1 \\\\\n",
       "0 & -1 & 0 & 0 & 0 & 0 & 0 & -1 & 2 & 1 & 0 & 0 & 1 & 0 & -1 \\\\\n",
       "0 & 1 & 0 & 0 & 0 & 0 & 0 & -1 & 0 & 1 & 0 & 2 & -1 & 0 & -1 \\\\\n",
       "0 & 1 & 0 & 0 & 0 & 0 & 0 & -1 & 0 & -1 & 2 & 0 & -1 & 0 & 1 \\\\\n",
       "0 & 1 & 0 & 0 & 0 & 0 & 2 & -1 & 0 & -1 & 0 & 0 & 1 & 0 & -1 \\\\\n",
       "0 & 1 & 0 & 0 & 0 & 0 & 0 & 1 & -2 & -1 & 2 & 0 & 1 & -2 & 1 \\\\\n",
       "0 & -1 & 0 & 0 & 0 & 0 & 0 & 1 & 0 & 1 & 0 & 0 & -1 & 2 & -1 \\\\\n",
       "0 & -1 & 0 & 0 & 0 & 0 & 2 & -1 & 2 & -1 & 0 & 2 & -1 & 0 & -1\n",
       "\\end{array}\\right) x \\geq \\vec 0$"
      ],
      "text/plain": [
       "\\left(\\begin{array}{rrrrrrrrrrrrrrr}\n",
       "0 & 1 & 0 & 0 & 0 & 0 & -2 & 3 & 0 & 1 & -2 & -2 & 1 & 0 & 1 \\\\\n",
       "0 & 1 & 0 & 0 & 0 & 0 & 0 & 1 & -2 & 1 & 0 & -2 & 1 & -2 & 3 \\\\\n",
       "0 & -1 & 0 & 0 & 0 & 0 & -2 & 1 & 0 & 1 & -2 & 0 & 1 & 2 & 1 \\\\\n",
       "0 & -1 & 0 & 0 & 0 & 0 & 0 & -1 & 2 & 1 & 0 & 0 & 1 & 0 & -1 \\\\\n",
       "0 & 1 & 0 & 0 & 0 & 0 & 0 & -1 & 0 & 1 & 0 & 2 & -1 & 0 & -1 \\\\\n",
       "0 & 1 & 0 & 0 & 0 & 0 & 0 & -1 & 0 & -1 & 2 & 0 & -1 & 0 & 1 \\\\\n",
       "0 & 1 & 0 & 0 & 0 & 0 & 2 & -1 & 0 & -1 & 0 & 0 & 1 & 0 & -1 \\\\\n",
       "0 & 1 & 0 & 0 & 0 & 0 & 0 & 1 & -2 & -1 & 2 & 0 & 1 & -2 & 1 \\\\\n",
       "0 & -1 & 0 & 0 & 0 & 0 & 0 & 1 & 0 & 1 & 0 & 0 & -1 & 2 & -1 \\\\\n",
       "0 & -1 & 0 & 0 & 0 & 0 & 2 & -1 & 2 & -1 & 0 & 2 & -1 & 0 & -1\n",
       "\\end{array}\\right) x \\geq \\vec 0"
      ]
     },
     "execution_count": 5,
     "metadata": {},
     "output_type": "execute_result"
    }
   ],
   "source": [
    "%display latex\n",
    "ieq = cv.inequalities()\n",
    "\n",
    "A = Matrix([i.vector()[1:16] for i in ieq])\n",
    "latex(A) + latex(x) + \"\\\\geq \\\\vec 0\""
   ]
  },
  {
   "cell_type": "code",
   "execution_count": 6,
   "id": "48212f2b-9121-401a-b2b6-51c899586b8b",
   "metadata": {},
   "outputs": [
    {
     "data": {
      "text/html": [
       "<html>\\(\\displaystyle \\left(\\begin{array}{rrrrrrrrrrrrrrr}\n",
       "0 & 1 & 0 & 0 & -1 & 0 & 0 & 1 & -1 & 0 & 0 & -1 & 1 & -1 & 1 \\\\\n",
       "1 & 0 & 0 & 0 & 0 & 0 & 1 & -1 & 0 & -1 & 1 & 1 & -1 & 0 & -1 \\\\\n",
       "0 & 0 & 0 & 0 & 0 & 1 & -1 & 1 & -1 & 0 & 0 & -1 & 0 & 0 & 1 \\\\\n",
       "0 & 1 & -1 & 0 & 0 & 0 & 0 & 0 & -1 & 0 & 1 & 0 & 0 & -1 & 1 \\\\\n",
       "0 & 0 & 0 & 1 & 0 & 0 & 1 & -1 & 0 & -1 & 1 & 0 & 0 & -1 & 0\n",
       "\\end{array}\\right) x = \\vec 0\\)</html>"
      ],
      "text/latex": [
       "$\\displaystyle \\left(\\begin{array}{rrrrrrrrrrrrrrr}\n",
       "0 & 1 & 0 & 0 & -1 & 0 & 0 & 1 & -1 & 0 & 0 & -1 & 1 & -1 & 1 \\\\\n",
       "1 & 0 & 0 & 0 & 0 & 0 & 1 & -1 & 0 & -1 & 1 & 1 & -1 & 0 & -1 \\\\\n",
       "0 & 0 & 0 & 0 & 0 & 1 & -1 & 1 & -1 & 0 & 0 & -1 & 0 & 0 & 1 \\\\\n",
       "0 & 1 & -1 & 0 & 0 & 0 & 0 & 0 & -1 & 0 & 1 & 0 & 0 & -1 & 1 \\\\\n",
       "0 & 0 & 0 & 1 & 0 & 0 & 1 & -1 & 0 & -1 & 1 & 0 & 0 & -1 & 0\n",
       "\\end{array}\\right) x = \\vec 0$"
      ],
      "text/plain": [
       "\\left(\\begin{array}{rrrrrrrrrrrrrrr}\n",
       "0 & 1 & 0 & 0 & -1 & 0 & 0 & 1 & -1 & 0 & 0 & -1 & 1 & -1 & 1 \\\\\n",
       "1 & 0 & 0 & 0 & 0 & 0 & 1 & -1 & 0 & -1 & 1 & 1 & -1 & 0 & -1 \\\\\n",
       "0 & 0 & 0 & 0 & 0 & 1 & -1 & 1 & -1 & 0 & 0 & -1 & 0 & 0 & 1 \\\\\n",
       "0 & 1 & -1 & 0 & 0 & 0 & 0 & 0 & -1 & 0 & 1 & 0 & 0 & -1 & 1 \\\\\n",
       "0 & 0 & 0 & 1 & 0 & 0 & 1 & -1 & 0 & -1 & 1 & 0 & 0 & -1 & 0\n",
       "\\end{array}\\right) x = \\vec 0"
      ]
     },
     "execution_count": 6,
     "metadata": {},
     "output_type": "execute_result"
    }
   ],
   "source": [
    "%display latex\n",
    "eq = cv.equations()\n",
    "\n",
    "B = Matrix([i.vector()[1:16] for i in eq])\n",
    "latex(B) + latex(x) + \"= \\\\vec 0\""
   ]
  },
  {
   "cell_type": "markdown",
   "id": "a3b020b3-2ed7-4513-8d7b-316a26336e15",
   "metadata": {},
   "source": [
    "Now, we'd like to understand if any of these equations are simply re-formations of the plucker relation for two dimensions:\n",
    "$$\n",
    "-V(K_1,K_2)V(K_3, K_4) + V(K_1,K_3)V(K_2,K_4) - V(K_1,K_4)V(K_2, K_3) = 0\n",
    "$$\n",
    "\n",
    "This can be determined by checking if the rows of these coefficient matricies are linearly dependent on a set vectors containing all of the coefficients of all possible formulations of the 2D plucker relation. This set is shown as the rows of the matrix below."
   ]
  },
  {
   "cell_type": "code",
   "execution_count": 7,
   "id": "bb938c23-3f47-429b-b1a6-35e47e34dc3f",
   "metadata": {},
   "outputs": [
    {
     "data": {
      "text/html": [
       "<html>\\(\\displaystyle \\left(\\begin{array}{rrrrrrrrrrrrrrr}\n",
       "0 & 0 & 0 & 0 & 0 & 0 & 0 & 0 & 0 & 0 & -1 & 0 & -1 & 1 & 0 \\\\\n",
       "0 & 0 & 0 & 0 & -1 & 0 & 1 & -1 & 0 & 0 & 0 & 0 & 0 & 0 & 0 \\\\\n",
       "-1 & 0 & 0 & -1 & 0 & 0 & 0 & 0 & 0 & 1 & 0 & 0 & 0 & 0 & 0 \\\\\n",
       "0 & 0 & 1 & 0 & 0 & 0 & 0 & 0 & 0 & 0 & 0 & -1 & 0 & 0 & -1 \\\\\n",
       "0 & 1 & 0 & 0 & 0 & -1 & 0 & 0 & -1 & 0 & 0 & 0 & 0 & 0 & 0\n",
       "\\end{array}\\right)\\)</html>"
      ],
      "text/latex": [
       "$\\displaystyle \\left(\\begin{array}{rrrrrrrrrrrrrrr}\n",
       "0 & 0 & 0 & 0 & 0 & 0 & 0 & 0 & 0 & 0 & -1 & 0 & -1 & 1 & 0 \\\\\n",
       "0 & 0 & 0 & 0 & -1 & 0 & 1 & -1 & 0 & 0 & 0 & 0 & 0 & 0 & 0 \\\\\n",
       "-1 & 0 & 0 & -1 & 0 & 0 & 0 & 0 & 0 & 1 & 0 & 0 & 0 & 0 & 0 \\\\\n",
       "0 & 0 & 1 & 0 & 0 & 0 & 0 & 0 & 0 & 0 & 0 & -1 & 0 & 0 & -1 \\\\\n",
       "0 & 1 & 0 & 0 & 0 & -1 & 0 & 0 & -1 & 0 & 0 & 0 & 0 & 0 & 0\n",
       "\\end{array}\\right)$"
      ],
      "text/plain": [
       "[ 0  0  0  0  0  0  0  0  0  0 -1  0 -1  1  0]\n",
       "[ 0  0  0  0 -1  0  1 -1  0  0  0  0  0  0  0]\n",
       "[-1  0  0 -1  0  0  0  0  0  1  0  0  0  0  0]\n",
       "[ 0  0  1  0  0  0  0  0  0  0  0 -1  0  0 -1]\n",
       "[ 0  1  0  0  0 -1  0  0 -1  0  0  0  0  0  0]"
      ]
     },
     "execution_count": 7,
     "metadata": {},
     "output_type": "execute_result"
    }
   ],
   "source": [
    "%display latex\n",
    "P = Matrix(generate_plucker_vectors(n, terms))\n",
    "P"
   ]
  },
  {
   "cell_type": "markdown",
   "id": "b8c8c112-5cf4-40f4-b498-582e3745f467",
   "metadata": {},
   "source": [
    "As shown by the code below, none of our equations are dependent on the plucker relations."
   ]
  },
  {
   "cell_type": "code",
   "execution_count": 8,
   "id": "20d76dbc-394b-4795-b3f8-24a60c5217aa",
   "metadata": {},
   "outputs": [
    {
     "name": "stdout",
     "output_type": "stream",
     "text": [
      "An inequality (0, 1, 0, 0, 0, 0, -2, 3, 0, 1, -2, -2, 1, 0, 1) x + 0 >= 0 --> 6\n",
      "An inequality (0, 1, 0, 0, 0, 0, 0, 1, -2, 1, 0, -2, 1, -2, 3) x + 0 >= 0 --> 6\n",
      "An inequality (0, -1, 0, 0, 0, 0, -2, 1, 0, 1, -2, 0, 1, 2, 1) x + 0 >= 0 --> 6\n",
      "An inequality (0, -1, 0, 0, 0, 0, 0, -1, 2, 1, 0, 0, 1, 0, -1) x + 0 >= 0 --> 6\n",
      "An inequality (0, 1, 0, 0, 0, 0, 0, -1, 0, 1, 0, 2, -1, 0, -1) x + 0 >= 0 --> 6\n",
      "An inequality (0, 1, 0, 0, 0, 0, 0, -1, 0, -1, 2, 0, -1, 0, 1) x + 0 >= 0 --> 6\n",
      "An inequality (0, 1, 0, 0, 0, 0, 2, -1, 0, -1, 0, 0, 1, 0, -1) x + 0 >= 0 --> 6\n",
      "An inequality (0, 1, 0, 0, 0, 0, 0, 1, -2, -1, 2, 0, 1, -2, 1) x + 0 >= 0 --> 6\n",
      "An inequality (0, -1, 0, 0, 0, 0, 0, 1, 0, 1, 0, 0, -1, 2, -1) x + 0 >= 0 --> 6\n",
      "An inequality (0, -1, 0, 0, 0, 0, 2, -1, 2, -1, 0, 2, -1, 0, -1) x + 0 >= 0 --> 6\n",
      "An equation (0, 1, 0, 0, -1, 0, 0, 1, -1, 0, 0, -1, 1, -1, 1) x + 0 == 0 --> 6\n",
      "An equation (1, 0, 0, 0, 0, 0, 1, -1, 0, -1, 1, 1, -1, 0, -1) x + 0 == 0 --> 6\n",
      "An equation (0, 0, 0, 0, 0, 1, -1, 1, -1, 0, 0, -1, 0, 0, 1) x + 0 == 0 --> 6\n",
      "An equation (0, 1, -1, 0, 0, 0, 0, 0, -1, 0, 1, 0, 0, -1, 1) x + 0 == 0 --> 6\n",
      "An equation (0, 0, 0, 1, 0, 0, 1, -1, 0, -1, 1, 0, 0, -1, 0) x + 0 == 0 --> 6\n"
     ]
    }
   ],
   "source": [
    "for i in ieq+eq:\n",
    "    M = Matrix(P.rows() + [i.vector()[1:16]])\n",
    "    print(f\"{i} --> {M.rank()}\")"
   ]
  },
  {
   "cell_type": "markdown",
   "id": "30834e00-6e23-4d43-8eed-fa2fb4a15d19",
   "metadata": {},
   "source": [
    "Next, we'd like to determine how many fundamental relations we have.\n",
    "\n",
    "If we permute the labels of our five bodies, we expect to get the same set of relations. However, appling these permutations to any one relation is sure to change it. We'd like to determine how many of these relations are simply a permuted form of another relation and how many are fundamentally unique.\n",
    "\n",
    "These permutations, represented by the symmetric group $S_{5}$, induce another permutation group $G < S_{15}$ on the terms of the relations. This group acts on our set of relations and produce orbits of fundamentally equivalent relations.\n",
    "\n",
    "To find these orbits, we can simply use SageMath's orbit API."
   ]
  },
  {
   "cell_type": "code",
   "execution_count": 52,
   "id": "81e578bb-a39b-442e-80ef-fe5b68326d1a",
   "metadata": {},
   "outputs": [
    {
     "data": {
      "text/html": [
       "<html>\\(\\displaystyle \\left(\\left\\{2, 10, 13, 15\\right\\}, \\left\\{9, 3, 4, 13\\right\\}, \\left\\{4, 5, 6, 15\\right\\}, \\left\\{9, 4, 13, 7\\right\\}, \\left\\{8, 10, 13, 15\\right\\}, \\left\\{11, 4, 5, 15\\right\\}, \\left\\{9, 10, 12, 5\\right\\}, \\left\\{9, 10, 5, 14\\right\\}, \\left\\{1, 3, 6, 14\\right\\}, \\left\\{9, 3, 4, 7\\right\\}, \\left\\{8, 3, 6, 14\\right\\}, \\left\\{11, 4, 5, 6\\right\\}, \\left\\{9, 12, 5, 14\\right\\}, \\left\\{1, 2, 11, 12\\right\\}, \\left\\{11, 5, 6, 15\\right\\}, \\left\\{2, 11, 12, 7\\right\\}, \\left\\{8, 2, 10, 15\\right\\}, \\left\\{10, 12, 5, 14\\right\\}, \\left\\{8, 1, 3, 14\\right\\}, \\left\\{8, 1, 6, 14\\right\\}, \\left\\{1, 2, 12, 7\\right\\}, \\left\\{9, 10, 12, 14\\right\\}, \\left\\{8, 2, 10, 13\\right\\}, \\left\\{3, 4, 13, 7\\right\\}, \\left\\{8, 1, 3, 6\\right\\}, \\left\\{9, 3, 13, 7\\right\\}, \\left\\{1, 2, 11, 7\\right\\}, \\left\\{8, 2, 13, 15\\right\\}, \\left\\{1, 11, 12, 7\\right\\}, \\left\\{11, 4, 6, 15\\right\\}\\right)\\)</html>"
      ],
      "text/latex": [
       "$\\displaystyle \\left(\\left\\{2, 10, 13, 15\\right\\}, \\left\\{9, 3, 4, 13\\right\\}, \\left\\{4, 5, 6, 15\\right\\}, \\left\\{9, 4, 13, 7\\right\\}, \\left\\{8, 10, 13, 15\\right\\}, \\left\\{11, 4, 5, 15\\right\\}, \\left\\{9, 10, 12, 5\\right\\}, \\left\\{9, 10, 5, 14\\right\\}, \\left\\{1, 3, 6, 14\\right\\}, \\left\\{9, 3, 4, 7\\right\\}, \\left\\{8, 3, 6, 14\\right\\}, \\left\\{11, 4, 5, 6\\right\\}, \\left\\{9, 12, 5, 14\\right\\}, \\left\\{1, 2, 11, 12\\right\\}, \\left\\{11, 5, 6, 15\\right\\}, \\left\\{2, 11, 12, 7\\right\\}, \\left\\{8, 2, 10, 15\\right\\}, \\left\\{10, 12, 5, 14\\right\\}, \\left\\{8, 1, 3, 14\\right\\}, \\left\\{8, 1, 6, 14\\right\\}, \\left\\{1, 2, 12, 7\\right\\}, \\left\\{9, 10, 12, 14\\right\\}, \\left\\{8, 2, 10, 13\\right\\}, \\left\\{3, 4, 13, 7\\right\\}, \\left\\{8, 1, 3, 6\\right\\}, \\left\\{9, 3, 13, 7\\right\\}, \\left\\{1, 2, 11, 7\\right\\}, \\left\\{8, 2, 13, 15\\right\\}, \\left\\{1, 11, 12, 7\\right\\}, \\left\\{11, 4, 6, 15\\right\\}\\right)$"
      ],
      "text/plain": [
       "({2, 10, 13, 15},\n",
       " {9, 3, 4, 13},\n",
       " {4, 5, 6, 15},\n",
       " {9, 4, 13, 7},\n",
       " {8, 10, 13, 15},\n",
       " {11, 4, 5, 15},\n",
       " {9, 10, 12, 5},\n",
       " {9, 10, 5, 14},\n",
       " {1, 3, 6, 14},\n",
       " {9, 3, 4, 7},\n",
       " {8, 3, 6, 14},\n",
       " {11, 4, 5, 6},\n",
       " {9, 12, 5, 14},\n",
       " {1, 2, 11, 12},\n",
       " {11, 5, 6, 15},\n",
       " {2, 11, 12, 7},\n",
       " {8, 2, 10, 15},\n",
       " {10, 12, 5, 14},\n",
       " {8, 1, 3, 14},\n",
       " {8, 1, 6, 14},\n",
       " {1, 2, 12, 7},\n",
       " {9, 10, 12, 14},\n",
       " {8, 2, 10, 13},\n",
       " {3, 4, 13, 7},\n",
       " {8, 1, 3, 6},\n",
       " {9, 3, 13, 7},\n",
       " {1, 2, 11, 7},\n",
       " {8, 2, 13, 15},\n",
       " {1, 11, 12, 7},\n",
       " {11, 4, 6, 15})"
      ]
     },
     "execution_count": 52,
     "metadata": {},
     "output_type": "execute_result"
    }
   ],
   "source": [
    "sg = SymmetricGroup(5)\n",
    "\n",
    "term_list = list(terms)\n",
    "g = PermutationGroup([\n",
    "    term_permutation(term_list, p) for p in sg\n",
    "])\n",
    "\n",
    "o = g.orbit((2, 10, 13, 15), action=\"OnSets\")\n",
    "o"
   ]
  },
  {
   "cell_type": "code",
   "execution_count": 53,
   "id": "567a3d1e-743e-4500-a8d4-7b404e7d3c44",
   "metadata": {},
   "outputs": [
    {
     "data": {
      "text/html": [
       "<html>\\(\\displaystyle 30\\)</html>"
      ],
      "text/latex": [
       "$\\displaystyle 30$"
      ],
      "text/plain": [
       "30"
      ]
     },
     "execution_count": 53,
     "metadata": {},
     "output_type": "execute_result"
    }
   ],
   "source": [
    "len(o)"
   ]
  },
  {
   "cell_type": "markdown",
   "id": "4f7be78a-2e9d-4f4c-aeb1-920f13a6b868",
   "metadata": {},
   "source": [
    "Perhapse this produces unnecessary inequalities?"
   ]
  },
  {
   "cell_type": "code",
   "execution_count": 50,
   "id": "57f1e046-5f9a-466a-9aad-feabd937dee3",
   "metadata": {},
   "outputs": [
    {
     "data": {
      "text/html": [
       "<html>\\(\\displaystyle \\verb|(2,3)(4,10)(6,12)(7,8)(9,15)(11,14)|\\)</html>"
      ],
      "text/latex": [
       "$\\displaystyle \\verb|(2,3)(4,10)(6,12)(7,8)(9,15)(11,14)|$"
      ],
      "text/plain": [
       "'(2,3)(4,10)(6,12)(7,8)(9,15)(11,14)'"
      ]
     },
     "execution_count": 50,
     "metadata": {},
     "output_type": "execute_result"
    }
   ],
   "source": [
    "term_permutation(term_list, Permutation('(1,2)(3)(4)(5)')).cycle_string()"
   ]
  }
 ],
 "metadata": {
  "kernelspec": {
   "display_name": "SageMath 10.0",
   "language": "sagemath",
   "name": "sagemath"
  },
  "language_info": {
   "codemirror_mode": {
    "name": "ipython",
    "version": 3
   },
   "file_extension": ".py",
   "mimetype": "text/x-python",
   "name": "python",
   "nbconvert_exporter": "python",
   "pygments_lexer": "ipython3",
   "version": "3.10.12"
  }
 },
 "nbformat": 4,
 "nbformat_minor": 5
}
