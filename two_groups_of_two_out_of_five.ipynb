{
 "cells": [
  {
   "cell_type": "code",
   "execution_count": 2,
   "id": "db28537f-2d79-4a51-ae6b-a7073dfead56",
   "metadata": {},
   "outputs": [],
   "source": [
    "load(\"mv_inequality_search.sage\")"
   ]
  },
  {
   "cell_type": "code",
   "execution_count": 57,
   "id": "bee1d632-34da-4d79-b019-bd07a8f5b323",
   "metadata": {},
   "outputs": [],
   "source": [
    "cv = compute_convex_hull(5)"
   ]
  },
  {
   "cell_type": "code",
   "execution_count": 58,
   "id": "18228846-3656-41cc-8cc4-382bf26ca44d",
   "metadata": {},
   "outputs": [
    {
     "data": {
      "text/plain": [
       "(An inequality (0, 0, 2, 0, 0, -2, 0, -1, 1, 1, -2, 1, 0, 1, 0) x + 0 >= 0,\n",
       " An inequality (0, 0, 0, 0, 0, -2, 0, 1, 1, 1, -2, 1, 0, 3, -2) x + 0 >= 0,\n",
       " An inequality (0, 0, 0, 2, 0, 0, 0, -1, 1, 1, -2, 1, 0, 1, -2) x + 0 >= 0,\n",
       " An inequality (0, 0, -2, -2, 0, 0, 0, 1, 1, 1, 2, 1, 0, -1, 0) x + 0 >= 0,\n",
       " An inequality (0, 0, 2, 0, 0, 0, 0, -1, -1, 1, 0, -1, 0, 1, 0) x + 0 >= 0,\n",
       " An inequality (0, 0, 0, 0, 0, 0, 0, 1, -1, 1, 0, -1, 0, -1, 2) x + 0 >= 0,\n",
       " An inequality (0, 0, 0, 0, 0, 0, 0, 1, 1, -1, 2, -1, 0, -1, 0) x + 0 >= 0,\n",
       " An inequality (0, 0, 0, 0, 0, 2, 0, 1, -1, -1, 0, 1, 0, -1, 0) x + 0 >= 0,\n",
       " An inequality (0, 0, 0, 2, 0, 0, 0, -1, -1, -1, 0, 1, 0, 1, 0) x + 0 >= 0,\n",
       " An inequality (0, 0, -2, -2, 0, 2, 0, 1, 1, -1, 2, -1, 0, -1, 2) x + 0 >= 0)"
      ]
     },
     "execution_count": 58,
     "metadata": {},
     "output_type": "execute_result"
    }
   ],
   "source": [
    "cv.inequalities()"
   ]
  },
  {
   "cell_type": "code",
   "execution_count": 59,
   "id": "48212f2b-9121-401a-b2b6-51c899586b8b",
   "metadata": {},
   "outputs": [
    {
     "data": {
      "text/plain": [
       "(An equation (0, 0, 1, 1, 1, -1, 0, -1, 0, 0, -1, 0, 0, 1, -1) x + 0 == 0,\n",
       " An equation (1, 0, 0, 0, 0, 1, 0, 0, -1, -1, 1, -1, 0, -1, 1) x + 0 == 0,\n",
       " An equation (0, 1, -1, 0, 0, 1, 0, 0, 0, -1, 1, 0, 0, -1, 0) x + 0 == 0,\n",
       " An equation (0, 0, 0, 1, 0, 0, -1, 0, 0, 0, -1, 1, 0, 1, -1) x + 0 == 0,\n",
       " An equation (0, 0, 1, 1, 0, 0, 0, -1, -1, 0, -1, 0, 1, 0, 0) x + 0 == 0)"
      ]
     },
     "execution_count": 59,
     "metadata": {},
     "output_type": "execute_result"
    }
   ],
   "source": [
    "cv.equations()"
   ]
  },
  {
   "cell_type": "code",
   "execution_count": 25,
   "id": "4fb1f49a-dcb2-40dd-bfa8-e6af4437bf78",
   "metadata": {},
   "outputs": [],
   "source": [
    "k_1, k_2 = var(\"k_1 k_2\")"
   ]
  },
  {
   "cell_type": "code",
   "execution_count": 5,
   "id": "78a2e1b5-9c99-4689-a300-17688c8113ee",
   "metadata": {},
   "outputs": [],
   "source": [
    "rays = compute_rays(5,\n",
    "    mixed_volume = lambda a,b: 1/2*(a[0]*b[1] + a[1]*b[0]),\n",
    "    body_types = Set([\n",
    "        (k_1, 0),\n",
    "        (0, k_2)\n",
    "    ])\n",
    ")"
   ]
  },
  {
   "cell_type": "code",
   "execution_count": null,
   "id": "4b5693a4-2415-418b-8b94-3195e74c0092",
   "metadata": {},
   "outputs": [],
   "source": [
    "rays"
   ]
  },
  {
   "cell_type": "code",
   "execution_count": 35,
   "id": "e1d4a4f9-c373-4895-89bb-dbfeef31f8e0",
   "metadata": {},
   "outputs": [
    {
     "data": {
      "text/plain": [
       "(An inequality (0, 0, 2, 0, 0, -2, 0, -1, 1, 1, -2, 1, 0, 1, 0) x + 0 >= 0,\n",
       " An inequality (0, 0, 0, 0, 0, -2, 0, 1, 1, 1, -2, 1, 0, 3, -2) x + 0 >= 0,\n",
       " An inequality (0, 0, 0, 2, 0, 0, 0, -1, 1, 1, -2, 1, 0, 1, -2) x + 0 >= 0,\n",
       " An inequality (0, 0, -2, -2, 0, 0, 0, 1, 1, 1, 2, 1, 0, -1, 0) x + 0 >= 0,\n",
       " An inequality (0, 0, 2, 0, 0, 0, 0, -1, -1, 1, 0, -1, 0, 1, 0) x + 0 >= 0,\n",
       " An inequality (0, 0, 0, 0, 0, 0, 0, 1, -1, 1, 0, -1, 0, -1, 2) x + 0 >= 0,\n",
       " An inequality (0, 0, 0, 0, 0, 0, 0, 1, 1, -1, 2, -1, 0, -1, 0) x + 0 >= 0,\n",
       " An inequality (0, 0, 0, 0, 0, 2, 0, 1, -1, -1, 0, 1, 0, -1, 0) x + 0 >= 0,\n",
       " An inequality (0, 0, 0, 2, 0, 0, 0, -1, -1, -1, 0, 1, 0, 1, 0) x + 0 >= 0,\n",
       " An inequality (0, 0, -2, -2, 0, 2, 0, 1, 1, -1, 2, -1, 0, -1, 2) x + 0 >= 0)"
      ]
     },
     "execution_count": 35,
     "metadata": {},
     "output_type": "execute_result"
    }
   ],
   "source": [
    "cv = Polyhedron(rays=[[QQ(item.substitute(k_1=1,k_2=1)) for item in ray] for ray in rays])\n",
    "cv.inequalities()"
   ]
  },
  {
   "cell_type": "code",
   "execution_count": null,
   "id": "68563121-2b4f-4317-b4e8-636d5f17d9b9",
   "metadata": {},
   "outputs": [],
   "source": []
  }
 ],
 "metadata": {
  "kernelspec": {
   "display_name": "SageMath 10.0",
   "language": "sagemath",
   "name": "sagemath"
  },
  "language_info": {
   "codemirror_mode": {
    "name": "ipython",
    "version": 3
   },
   "file_extension": ".py",
   "mimetype": "text/x-python",
   "name": "python",
   "nbconvert_exporter": "python",
   "pygments_lexer": "ipython3",
   "version": "3.10.12"
  }
 },
 "nbformat": 4,
 "nbformat_minor": 5
}
