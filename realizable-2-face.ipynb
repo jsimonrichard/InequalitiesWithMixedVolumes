{
 "cells": [
  {
   "cell_type": "code",
   "execution_count": 9,
   "id": "00cfedb5-74d8-465b-9b6c-1e551e05c5b3",
   "metadata": {},
   "outputs": [],
   "source": [
    "load(\"mv_inequality_search.sage\")\n",
    "n = 6\n",
    "terms = generate_inequality_terms(n, dimension=2, term_factors=3)"
   ]
  },
  {
   "cell_type": "markdown",
   "id": "27afec3c-e29e-4972-bff2-88286210f841",
   "metadata": {},
   "source": [
    "Up to permutation of the indicies and swapping of line segments (which we can do since there are only three unique segments), there is one edge between two \"3+3\" rays in our cone:\n",
    "$$f(0,0,0,1,1,1) \\leftrightarrow f(0,0,1,0,1,1)$$\n",
    "where $(0,0,0,1,1,1)$ are the $y$-coordinates for six vectors with the $x$-coordinate $1$."
   ]
  },
  {
   "cell_type": "code",
   "execution_count": 11,
   "id": "2faf85ff-a8d3-44e1-92a7-a984d0119cf0",
   "metadata": {},
   "outputs": [
    {
     "data": {
      "text/plain": [
       "(0, 0, 0, -s + 1, 0, 0, -s + 1, 0, 0, 0, -s + 1, -s + 1, -s + 1, -s + 1, 0)"
      ]
     },
     "execution_count": 11,
     "metadata": {},
     "output_type": "execute_result"
    }
   ],
   "source": [
    "s = var('s')\n",
    "a = compute_inequality_terms(\n",
    "    terms,\n",
    "    [\n",
    "        0,\n",
    "        0,\n",
    "        s,\n",
    "        1,\n",
    "        1,\n",
    "        1\n",
    "    ],\n",
    "    mixed_volume = lambda a,b: b-a\n",
    ")\n",
    "a"
   ]
  },
  {
   "cell_type": "markdown",
   "id": "21146150-c162-4961-9e77-677d4ac7f204",
   "metadata": {},
   "source": [
    "This shows that $f(0,0,s,1,1,1) = f(0,0,0,1,1,1)$ in projective space. Similarly, $f(0,0,t,0,1,1) = f(0,0,1,0,1,1)$.\n",
    "\n",
    "Now, let $s=t=\\frac{1}{2}$. Then $\\lambda_1 f(0,0,\\frac{1}{2}, 1, 1, 1) + \\lambda_2 f(0, 0, \\frac{1}{2}, 0, 1, 1) = f(\\lambda_1 (0,0,\\frac{1}{2}, 1, 1, 1) + \\lambda_2 (0, 0, \\frac{1}{2}, 0, 1, 1)) = f(0,0, \\frac{1}{2}, A, 1, 1)$ where $A$ is the Minkouski sum of the vector $[1,0]$ and the vector $[1,1]$."
   ]
  },
  {
   "cell_type": "code",
   "execution_count": null,
   "id": "ecc085d8-434c-4bc7-bca0-0a3f31054c34",
   "metadata": {},
   "outputs": [],
   "source": []
  }
 ],
 "metadata": {
  "kernelspec": {
   "display_name": "SageMath 10.0",
   "language": "sagemath",
   "name": "sagemath"
  },
  "language_info": {
   "codemirror_mode": {
    "name": "ipython",
    "version": 3
   },
   "file_extension": ".py",
   "mimetype": "text/x-python",
   "name": "python",
   "nbconvert_exporter": "python",
   "pygments_lexer": "ipython3",
   "version": "3.10.12"
  }
 },
 "nbformat": 4,
 "nbformat_minor": 5
}
