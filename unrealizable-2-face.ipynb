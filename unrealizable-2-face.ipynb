{
 "cells": [
  {
   "cell_type": "code",
   "execution_count": 1,
   "id": "54766cb5-c367-4510-84e7-8381de4ac8ac",
   "metadata": {},
   "outputs": [],
   "source": [
    "load(\"mv_inequality_search.sage\")\n",
    "n = 6\n",
    "terms = generate_inequality_terms(n, dimension=2, term_factors=3)"
   ]
  },
  {
   "cell_type": "markdown",
   "id": "0e4c4afe-82b7-43e2-9692-5e64b294ba6a",
   "metadata": {},
   "source": [
    "2-face between $f(\\{1,2\\}\\cup \\{3,4\\} \\cup \\{5,6\\})$ and $f(\\{1,3\\}\\cup \\{2,5\\} \\cup \\{1,6\\})$."
   ]
  },
  {
   "cell_type": "code",
   "execution_count": 14,
   "id": "33d94862-b9dc-477a-ac83-7b7967abcb77",
   "metadata": {},
   "outputs": [
    {
     "data": {
      "text/plain": [
       "((0, 2, 2, 2, 0, 2, 2, 0, 0, 0, 0, 2, 0, 2, 2),\n",
       " (2, 0, 2, 0, 0, 2, 0, 2, 0, 2, 2, 0, 0, 2, 2))"
      ]
     },
     "execution_count": 14,
     "metadata": {},
     "output_type": "execute_result"
    }
   ],
   "source": [
    "a = compute_inequality_terms(\n",
    "    terms,\n",
    "    [\n",
    "        0,\n",
    "        0,\n",
    "        1,\n",
    "        1,\n",
    "        2,\n",
    "        2\n",
    "    ],\n",
    "    mixed_volume = lambda a,b: abs(b-a)\n",
    ")\n",
    "b = compute_inequality_terms(\n",
    "    terms,\n",
    "    [\n",
    "        0,\n",
    "        1,\n",
    "        2,\n",
    "        0,\n",
    "        1,\n",
    "        2\n",
    "    ],\n",
    "    mixed_volume = lambda a,b: abs(b-a)\n",
    ")\n",
    "a,b"
   ]
  },
  {
   "cell_type": "code",
   "execution_count": 15,
   "id": "b0da0022-4444-4dc5-80f1-d9f814e43c29",
   "metadata": {},
   "outputs": [
    {
     "name": "stdout",
     "output_type": "stream",
     "text": [
      " 0: 2*t       , {{3, 4}, {5, 6}, {1, 2}}\n",
      " 1: 2*s       , {{4, 6}, {2, 5}, {1, 3}}\n",
      " 2: 2*s + 2*t , {{1, 5}, {4, 6}, {2, 3}}\n",
      " 3: 2*s       , {{1, 4}, {3, 5}, {2, 6}}\n",
      " 4: 0         , {{5, 6}, {2, 3}, {1, 4}}\n",
      " 5: 2*s + 2*t , {{4, 5}, {2, 3}, {1, 6}}\n",
      " 6: 2*s       , {{3, 6}, {2, 5}, {1, 4}}\n",
      " 7: 2*t       , {{2, 4}, {5, 6}, {1, 3}}\n",
      " 8: 0         , {{4, 5}, {3, 6}, {1, 2}}\n",
      " 9: 2*t       , {{4, 6}, {3, 5}, {1, 2}}\n",
      "10: 2*t       , {{3, 4}, {1, 5}, {2, 6}}\n",
      "11: 2*s       , {{2, 4}, {3, 6}, {1, 5}}\n",
      "12: 0         , {{3, 4}, {2, 5}, {1, 6}}\n",
      "13: 2*s + 2*t , {{1, 6}, {2, 4}, {3, 5}}\n",
      "14: 2*s + 2*t , {{4, 5}, {1, 3}, {2, 6}}\n"
     ]
    }
   ],
   "source": [
    "s,t = var(\"s t\")\n",
    "for i, j in enumerate(s*vector(a) + t*vector(b)):\n",
    "    print(f\"{i:2}: {str(j):10}, {terms[i]}\")"
   ]
  },
  {
   "cell_type": "markdown",
   "id": "e3da9ba1-bfaa-413d-8409-eaac84e79e43",
   "metadata": {},
   "source": [
    "2-face between $f(\\{1,6\\}\\cup \\{2,3\\} \\cup \\{4,5\\})$ and $f(\\{1,6\\}\\cup \\{2,4\\} \\cup \\{3,5\\})$."
   ]
  },
  {
   "cell_type": "code",
   "execution_count": 5,
   "id": "23c43403-8db1-4451-ab39-d945521d1d2b",
   "metadata": {},
   "outputs": [
    {
     "data": {
      "text/plain": [
       "((0, 2, 2, 2, 0, 2, 2, 0, 0, 0, 0, 2, 0, 2, 2),\n",
       " (2, 2, 2, 0, 2, 0, 2, 0, 2, 0, 2, 0, 0, 0, 2))"
      ]
     },
     "execution_count": 5,
     "metadata": {},
     "output_type": "execute_result"
    }
   ],
   "source": [
    "a = compute_inequality_terms(\n",
    "    terms,\n",
    "    [\n",
    "        0,\n",
    "        0,\n",
    "        1,\n",
    "        1,\n",
    "        2,\n",
    "        2\n",
    "    ],\n",
    "    mixed_volume = lambda a,b: abs(b-a)\n",
    ")\n",
    "b = compute_inequality_terms(\n",
    "    terms,\n",
    "    [\n",
    "        0,\n",
    "        1,\n",
    "        2,\n",
    "        1,\n",
    "        2,\n",
    "        0\n",
    "    ],\n",
    "    mixed_volume = lambda a,b: abs(b-a)\n",
    ")\n",
    "a,b"
   ]
  },
  {
   "cell_type": "code",
   "execution_count": 7,
   "id": "1b3e05fb-1408-4ecf-8a48-895c3711a0ce",
   "metadata": {},
   "outputs": [
    {
     "name": "stdout",
     "output_type": "stream",
     "text": [
      " 0: 2*t        {{3, 4}, {5, 6}, {1, 2}}\n",
      " 1: 2*s + 2*t  {{4, 6}, {2, 5}, {1, 3}}\n",
      " 2: 2*s + 2*t  {{1, 5}, {4, 6}, {2, 3}}\n",
      " 3: 2*s        {{1, 4}, {3, 5}, {2, 6}}\n",
      " 4: 2*t        {{5, 6}, {2, 3}, {1, 4}}\n",
      " 5: 2*s        {{4, 5}, {2, 3}, {1, 6}}\n",
      " 6: 2*s + 2*t  {{3, 6}, {2, 5}, {1, 4}}\n",
      " 7: 0          {{2, 4}, {5, 6}, {1, 3}}\n",
      " 8: 2*t        {{4, 5}, {3, 6}, {1, 2}}\n",
      " 9: 0          {{4, 6}, {3, 5}, {1, 2}}\n",
      "10: 2*t        {{3, 4}, {1, 5}, {2, 6}}\n",
      "11: 2*s        {{2, 4}, {3, 6}, {1, 5}}\n",
      "12: 0          {{3, 4}, {2, 5}, {1, 6}}\n",
      "13: 2*s        {{1, 6}, {2, 4}, {3, 5}}\n",
      "14: 2*s + 2*t  {{4, 5}, {1, 3}, {2, 6}}\n"
     ]
    }
   ],
   "source": [
    "s,t = var(\"s t\")\n",
    "for i, j in enumerate(s*vector(a) + t*vector(b)):\n",
    "    print(f\"{i:2}: {str(j):10} {terms[i]}\")"
   ]
  },
  {
   "cell_type": "markdown",
   "id": "e4be1285-4bc1-46b0-bee1-1eac1b01a87f",
   "metadata": {},
   "source": [
    "$2$-face between $f(\\{1,2,3\\}\\cup\\{4,5,6\\})$ and $f(\\{1,2,3\\}\\cup\\{3,5,6\\})$."
   ]
  },
  {
   "cell_type": "code",
   "execution_count": 3,
   "id": "d332df6e-75fe-4b8b-9919-c70fa8354527",
   "metadata": {},
   "outputs": [
    {
     "data": {
      "text/plain": [
       "((0, 0, 0, 1, 0, 0, 1, 0, 0, 0, 1, 1, 1, 1, 0),\n",
       " (0, 1, 1, 0, 0, 1, 0, 0, 0, 0, 1, 0, 1, 0, 1))"
      ]
     },
     "execution_count": 3,
     "metadata": {},
     "output_type": "execute_result"
    }
   ],
   "source": [
    "a = compute_inequality_terms(\n",
    "    terms,\n",
    "    [\n",
    "        0,\n",
    "        0,\n",
    "        0,\n",
    "        1,\n",
    "        1,\n",
    "        1\n",
    "    ],\n",
    "    mixed_volume = lambda a,b: abs(b-a)\n",
    ")\n",
    "b = compute_inequality_terms(\n",
    "    terms,\n",
    "    [\n",
    "        0,\n",
    "        0,\n",
    "        1,\n",
    "        0,\n",
    "        1,\n",
    "        1\n",
    "    ],\n",
    "    mixed_volume = lambda a,b: abs(b-a)\n",
    ")\n",
    "a,b"
   ]
  },
  {
   "cell_type": "code",
   "execution_count": 4,
   "id": "4458c4d9-f7bc-47a9-8901-9b470f9cb744",
   "metadata": {},
   "outputs": [
    {
     "name": "stdout",
     "output_type": "stream",
     "text": [
      " 0: 0          {{3, 4}, {5, 6}, {1, 2}}\n",
      " 1: t          {{4, 6}, {2, 5}, {1, 3}}\n",
      " 2: t          {{1, 5}, {4, 6}, {2, 3}}\n",
      " 3: s          {{1, 4}, {3, 5}, {2, 6}}\n",
      " 4: 0          {{5, 6}, {2, 3}, {1, 4}}\n",
      " 5: t          {{4, 5}, {2, 3}, {1, 6}}\n",
      " 6: s          {{3, 6}, {2, 5}, {1, 4}}\n",
      " 7: 0          {{2, 4}, {5, 6}, {1, 3}}\n",
      " 8: 0          {{4, 5}, {3, 6}, {1, 2}}\n",
      " 9: 0          {{4, 6}, {3, 5}, {1, 2}}\n",
      "10: s + t      {{3, 4}, {1, 5}, {2, 6}}\n",
      "11: s          {{2, 4}, {3, 6}, {1, 5}}\n",
      "12: s + t      {{3, 4}, {2, 5}, {1, 6}}\n",
      "13: s          {{1, 6}, {2, 4}, {3, 5}}\n",
      "14: t          {{4, 5}, {1, 3}, {2, 6}}\n"
     ]
    }
   ],
   "source": [
    "s,t = var(\"s t\")\n",
    "for i, j in enumerate(s*vector(a) + t*vector(b)):\n",
    "    print(f\"{i:2}: {str(j):10} {terms[i]}\")"
   ]
  },
  {
   "cell_type": "code",
   "execution_count": 5,
   "id": "8445f6b3-752d-4666-83b5-089da2b811ba",
   "metadata": {},
   "outputs": [
    {
     "data": {
      "text/plain": [
       "((0, 0, 0, 1, 0, 0, 1, 0, 0, 0, 1, 1, 1, 1, 0),\n",
       " (1, 0, 0, 0, 1, 1, 1, 0, 1, 0, 0, 0, 1, 0, 0))"
      ]
     },
     "execution_count": 5,
     "metadata": {},
     "output_type": "execute_result"
    }
   ],
   "source": [
    "a = compute_inequality_terms(\n",
    "    terms,\n",
    "    [\n",
    "        0,\n",
    "        0,\n",
    "        0,\n",
    "        1,\n",
    "        1,\n",
    "        1\n",
    "    ],\n",
    "    mixed_volume = lambda a,b: abs(b-a)\n",
    ")\n",
    "b = compute_inequality_terms(\n",
    "    terms,\n",
    "    [\n",
    "        0,\n",
    "        1,\n",
    "        0,\n",
    "        1,\n",
    "        0,\n",
    "        1\n",
    "    ],\n",
    "    mixed_volume = lambda a,b: abs(b-a)\n",
    ")\n",
    "a,b"
   ]
  },
  {
   "cell_type": "code",
   "execution_count": 6,
   "id": "ca6e1f73-daf6-475a-8408-6097ae2e8fe9",
   "metadata": {},
   "outputs": [
    {
     "name": "stdout",
     "output_type": "stream",
     "text": [
      " 0: t          {{3, 4}, {5, 6}, {1, 2}}\n",
      " 1: 0          {{4, 6}, {2, 5}, {1, 3}}\n",
      " 2: 0          {{1, 5}, {4, 6}, {2, 3}}\n",
      " 3: s          {{1, 4}, {3, 5}, {2, 6}}\n",
      " 4: t          {{5, 6}, {2, 3}, {1, 4}}\n",
      " 5: t          {{4, 5}, {2, 3}, {1, 6}}\n",
      " 6: s + t      {{3, 6}, {2, 5}, {1, 4}}\n",
      " 7: 0          {{2, 4}, {5, 6}, {1, 3}}\n",
      " 8: t          {{4, 5}, {3, 6}, {1, 2}}\n",
      " 9: 0          {{4, 6}, {3, 5}, {1, 2}}\n",
      "10: s          {{3, 4}, {1, 5}, {2, 6}}\n",
      "11: s          {{2, 4}, {3, 6}, {1, 5}}\n",
      "12: s + t      {{3, 4}, {2, 5}, {1, 6}}\n",
      "13: s          {{1, 6}, {2, 4}, {3, 5}}\n",
      "14: 0          {{4, 5}, {1, 3}, {2, 6}}\n"
     ]
    }
   ],
   "source": [
    "s,t = var(\"s t\")\n",
    "for i, j in enumerate(s*vector(a) + t*vector(b)):\n",
    "    print(f\"{i:2}: {str(j):10} {terms[i]}\")"
   ]
  },
  {
   "cell_type": "code",
   "execution_count": null,
   "id": "a3ba8113-ee82-438e-9339-bc079bd40fc7",
   "metadata": {},
   "outputs": [],
   "source": []
  }
 ],
 "metadata": {
  "kernelspec": {
   "display_name": "SageMath 10.0",
   "language": "sagemath",
   "name": "sagemath"
  },
  "language_info": {
   "codemirror_mode": {
    "name": "ipython",
    "version": 3
   },
   "file_extension": ".py",
   "mimetype": "text/x-python",
   "name": "python",
   "nbconvert_exporter": "python",
   "pygments_lexer": "ipython3",
   "version": "3.10.12"
  }
 },
 "nbformat": 4,
 "nbformat_minor": 5
}
