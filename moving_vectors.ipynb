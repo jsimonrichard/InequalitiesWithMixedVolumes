{
 "cells": [
  {
   "cell_type": "code",
   "execution_count": 1,
   "id": "e903690c-8df7-4d3f-9a5e-a6b6d72422e5",
   "metadata": {},
   "outputs": [],
   "source": [
    "from IPython.display import display, Math, Latex\n",
    "\n",
    "load(\"mv_inequality_search.sage\")"
   ]
  },
  {
   "cell_type": "markdown",
   "id": "87f7f2f9-e62a-406d-8123-fb3baa858d12",
   "metadata": {},
   "source": [
    "For $n=6$, there are only two kinds of partitions: two groups of three and three groups of two.\n",
    "\n",
    "**Case 1:** two groups of three:\n",
    "\n",
    "Let $K=(a,a,a,b,b,b)$ and $K'=(a',a',a',b',b',b')$. Now each coordinate of $f(K)$ that is zero must be zero for $f(K')$ (and vice versa) because it implies that a determinant $k_i-k_j = 0$ which implies $k_i=k_j$ for some $i,j\\in[6]$, and this remains true when applying the transformation from $K$ to $K'$. Every other coordinate must be $|a-b|^3$ for $f(K)$ and $|a'-b'|^3$ for $f(K')$, which means that they lie on the same ray.\n",
    "\n",
    "**Case 2:** three groups of two:\n",
    "\n",
    "Let $K=(a,a,b,b,c,c)$ and $K'=(a',a',b',b',c',c')$. The same argument for the coordinates that are zero follows. Every other coordinate must be $|a-b||b-c||c-a|$ for $f(K)$ and $|a'-b'||b'-c'||c'-a'|$ for $f(K')$, which mean that they lie on the same ray."
   ]
  },
  {
   "cell_type": "markdown",
   "id": "c6d3077d-c153-4c21-9e1d-f491f67fec17",
   "metadata": {},
   "source": [
    "## A counterexample for $n=8$"
   ]
  },
  {
   "cell_type": "code",
   "execution_count": 7,
   "id": "bfb52e45-fe21-484e-89b0-96c80cb091cf",
   "metadata": {},
   "outputs": [],
   "source": [
    "n=8\n",
    "%display latex\n",
    "\n",
    "# Define symbols for printing LaTeX\n",
    "V = function(\"V\") # Mixed volumes\n",
    "K = var([f\"K_{i}\" for i in range(1,n+1)]) # Bodies\n",
    "\n",
    "# Define term column vector\n",
    "terms = generate_inequality_terms(n, dimension=2, term_factors=4)\n",
    "term_list = list(terms)"
   ]
  },
  {
   "cell_type": "code",
   "execution_count": 8,
   "id": "adb981d7-42dd-4c83-b423-5dac05d7a955",
   "metadata": {},
   "outputs": [],
   "source": [
    "a = vector(compute_inequality_terms(\n",
    "    terms,\n",
    "    [\n",
    "        0,\n",
    "        0,\n",
    "        1,\n",
    "        1,\n",
    "        2,\n",
    "        2,\n",
    "        3,\n",
    "        3,\n",
    "    ],\n",
    "    mixed_volume = lambda a,b: abs(b-a)\n",
    "))\n",
    "b = vector(compute_inequality_terms(\n",
    "    terms,\n",
    "    [\n",
    "        0,\n",
    "        0,\n",
    "        1,\n",
    "        1,\n",
    "        2,\n",
    "        2,\n",
    "        4,\n",
    "        4,\n",
    "    ],\n",
    "    mixed_volume = lambda a,b: abs(b-a)\n",
    "))"
   ]
  },
  {
   "cell_type": "code",
   "execution_count": 9,
   "id": "544c6603-5b2c-4eae-917e-301e0e8442c6",
   "metadata": {},
   "outputs": [
    {
     "data": {
      "text/html": [
       "<html>\\(\\displaystyle 2\\)</html>"
      ],
      "text/latex": [
       "$\\displaystyle 2$"
      ],
      "text/plain": [
       "2"
      ]
     },
     "execution_count": 9,
     "metadata": {},
     "output_type": "execute_result"
    }
   ],
   "source": [
    "Matrix([a,b]).rank()"
   ]
  },
  {
   "cell_type": "code",
   "execution_count": null,
   "id": "024376b3-9eb9-4bfd-9ee1-cab194dc8a00",
   "metadata": {},
   "outputs": [],
   "source": []
  }
 ],
 "metadata": {
  "kernelspec": {
   "display_name": "SageMath 10.0",
   "language": "sagemath",
   "name": "sagemath"
  },
  "language_info": {
   "codemirror_mode": {
    "name": "ipython",
    "version": 3
   },
   "file_extension": ".py",
   "mimetype": "text/x-python",
   "name": "python",
   "nbconvert_exporter": "python",
   "pygments_lexer": "ipython3",
   "version": "3.10.12"
  }
 },
 "nbformat": 4,
 "nbformat_minor": 5
}
