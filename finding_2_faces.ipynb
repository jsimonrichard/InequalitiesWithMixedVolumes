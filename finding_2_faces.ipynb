{
 "cells": [
  {
   "cell_type": "code",
   "execution_count": 24,
   "id": "42554b17-8416-48c9-b15d-4ae60f96f6ac",
   "metadata": {},
   "outputs": [],
   "source": [
    "from IPython.display import display, Math, Latex\n",
    "\n",
    "load(\"mv_inequality_search.sage\")"
   ]
  },
  {
   "cell_type": "code",
   "execution_count": 25,
   "id": "c1ce0a29-df33-4015-a65c-7d04ac3b35ed",
   "metadata": {},
   "outputs": [],
   "source": [
    "n=6"
   ]
  },
  {
   "cell_type": "code",
   "execution_count": 26,
   "id": "70d6da46-7605-4d5c-96f6-0f42b7728b40",
   "metadata": {
    "scrolled": true
   },
   "outputs": [],
   "source": [
    "%display latex\n",
    "\n",
    "# Define term column vector\n",
    "terms = generate_inequality_terms(n, dimension=2, term_factors=3)\n",
    "term_list = list(terms)"
   ]
  },
  {
   "cell_type": "code",
   "execution_count": 12,
   "id": "81dad0c8-a727-4c55-819d-a6572d5e4eb8",
   "metadata": {},
   "outputs": [
    {
     "data": {
      "text/html": [
       "<html>\\(\\displaystyle \\verb|CSPolygon([(t_0,|\\verb| |\\verb|t_1),|\\verb| |\\verb|(t_2,|\\verb| |\\verb|t_3)])|\\)</html>"
      ],
      "text/latex": [
       "$\\displaystyle \\verb|CSPolygon([(t_0,|\\verb| |\\verb|t_1),|\\verb| |\\verb|(t_2,|\\verb| |\\verb|t_3)])|$"
      ],
      "text/plain": [
       "CSPolygon([(t_0, t_1), (t_2, t_3)])"
      ]
     },
     "metadata": {},
     "output_type": "display_data"
    },
    {
     "data": {
      "text/html": [
       "<html>\\(\\displaystyle \\verb|CSPolygon([(t_4,|\\verb| |\\verb|t_5),|\\verb| |\\verb|(t_6,|\\verb| |\\verb|t_7)])|\\)</html>"
      ],
      "text/latex": [
       "$\\displaystyle \\verb|CSPolygon([(t_4,|\\verb| |\\verb|t_5),|\\verb| |\\verb|(t_6,|\\verb| |\\verb|t_7)])|$"
      ],
      "text/plain": [
       "CSPolygon([(t_4, t_5), (t_6, t_7)])"
      ]
     },
     "metadata": {},
     "output_type": "display_data"
    },
    {
     "data": {
      "text/html": [
       "<html>\\(\\displaystyle \\verb|CSPolygon([(t_8,|\\verb| |\\verb|t_9),|\\verb| |\\verb|(t_10,|\\verb| |\\verb|t_11)])|\\)</html>"
      ],
      "text/latex": [
       "$\\displaystyle \\verb|CSPolygon([(t_8,|\\verb| |\\verb|t_9),|\\verb| |\\verb|(t_10,|\\verb| |\\verb|t_11)])|$"
      ],
      "text/plain": [
       "CSPolygon([(t_8, t_9), (t_10, t_11)])"
      ]
     },
     "metadata": {},
     "output_type": "display_data"
    },
    {
     "data": {
      "text/html": [
       "<html>\\(\\displaystyle \\verb|CSPolygon([(t_12,|\\verb| |\\verb|t_13),|\\verb| |\\verb|(t_14,|\\verb| |\\verb|t_15)])|\\)</html>"
      ],
      "text/latex": [
       "$\\displaystyle \\verb|CSPolygon([(t_12,|\\verb| |\\verb|t_13),|\\verb| |\\verb|(t_14,|\\verb| |\\verb|t_15)])|$"
      ],
      "text/plain": [
       "CSPolygon([(t_12, t_13), (t_14, t_15)])"
      ]
     },
     "metadata": {},
     "output_type": "display_data"
    },
    {
     "data": {
      "text/html": [
       "<html>\\(\\displaystyle \\verb|CSPolygon([(t_16,|\\verb| |\\verb|t_17),|\\verb| |\\verb|(t_18,|\\verb| |\\verb|t_19)])|\\)</html>"
      ],
      "text/latex": [
       "$\\displaystyle \\verb|CSPolygon([(t_16,|\\verb| |\\verb|t_17),|\\verb| |\\verb|(t_18,|\\verb| |\\verb|t_19)])|$"
      ],
      "text/plain": [
       "CSPolygon([(t_16, t_17), (t_18, t_19)])"
      ]
     },
     "metadata": {},
     "output_type": "display_data"
    },
    {
     "data": {
      "text/html": [
       "<html>\\(\\displaystyle \\verb|CSPolygon([(t_20,|\\verb| |\\verb|t_21),|\\verb| |\\verb|(t_22,|\\verb| |\\verb|t_23)])|\\)</html>"
      ],
      "text/latex": [
       "$\\displaystyle \\verb|CSPolygon([(t_20,|\\verb| |\\verb|t_21),|\\verb| |\\verb|(t_22,|\\verb| |\\verb|t_23)])|$"
      ],
      "text/plain": [
       "CSPolygon([(t_20, t_21), (t_22, t_23)])"
      ]
     },
     "metadata": {},
     "output_type": "display_data"
    }
   ],
   "source": []
  },
  {
   "cell_type": "code",
   "execution_count": null,
   "id": "0fb9cb11-6f3a-41be-a491-df64320e8c35",
   "metadata": {
    "scrolled": true
   },
   "outputs": [],
   "source": [
    "a = vector(compute_inequality_terms(\n",
    "    terms,\n",
    "    K,\n",
    "    mixed_volume = lambda a,b: a.mixed_volume(b)\n",
    "))\n",
    "for i in range(15):\n",
    "    display(a[i])"
   ]
  },
  {
   "cell_type": "code",
   "execution_count": 22,
   "id": "80acbd8b-dcde-4761-b96d-cf1d3031f494",
   "metadata": {},
   "outputs": [
    {
     "data": {
      "text/html": [
       "<html>\\(\\displaystyle \\verb|A|\\verb| |\\verb|15-dimensional|\\verb| |\\verb|polyhedron|\\verb| |\\verb|in|\\verb| |\\verb|QQ^15|\\verb| |\\verb|defined|\\verb| |\\verb|as|\\verb| |\\verb|the|\\verb| |\\verb|convex|\\verb| |\\verb|hull|\\verb| |\\verb|of|\\verb| |\\verb|1|\\verb| |\\verb|vertex|\\verb| |\\verb|and|\\verb| |\\verb|25|\\verb| |\\verb|rays|\\)</html>"
      ],
      "text/latex": [
       "$\\displaystyle \\verb|A|\\verb| |\\verb|15-dimensional|\\verb| |\\verb|polyhedron|\\verb| |\\verb|in|\\verb| |\\verb|QQ^15|\\verb| |\\verb|defined|\\verb| |\\verb|as|\\verb| |\\verb|the|\\verb| |\\verb|convex|\\verb| |\\verb|hull|\\verb| |\\verb|of|\\verb| |\\verb|1|\\verb| |\\verb|vertex|\\verb| |\\verb|and|\\verb| |\\verb|25|\\verb| |\\verb|rays|$"
      ],
      "text/plain": [
       "\\text{\\texttt{A{ }15{-}dimensional{ }polyhedron{ }in{ }QQ{\\char`\\^}15{ }defined{ }as{ }the{ }convex{ }hull{ }of{ }1{ }vertex{ }and{ }25{ }rays}}"
      ]
     },
     "execution_count": 22,
     "metadata": {},
     "output_type": "execute_result"
    }
   ],
   "source": [
    "%display latex\n",
    "cv = compute_convex_hull(n)\n",
    "latex(cv)"
   ]
  },
  {
   "cell_type": "code",
   "execution_count": null,
   "id": "afc9363b-0f1f-46ea-ac84-fdb93ef08c16",
   "metadata": {},
   "outputs": [],
   "source": []
  }
 ],
 "metadata": {
  "kernelspec": {
   "display_name": "SageMath 10.0",
   "language": "sagemath",
   "name": "sagemath"
  },
  "language_info": {
   "codemirror_mode": {
    "name": "ipython",
    "version": 3
   },
   "file_extension": ".py",
   "mimetype": "text/x-python",
   "name": "python",
   "nbconvert_exporter": "python",
   "pygments_lexer": "ipython3",
   "version": "3.10.12"
  }
 },
 "nbformat": 4,
 "nbformat_minor": 5
}
