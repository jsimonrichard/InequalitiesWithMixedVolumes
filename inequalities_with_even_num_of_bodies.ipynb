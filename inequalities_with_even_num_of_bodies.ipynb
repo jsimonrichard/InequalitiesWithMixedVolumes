{
 "cells": [
  {
   "cell_type": "code",
   "execution_count": 1,
   "id": "db28537f-2d79-4a51-ae6b-a7073dfead56",
   "metadata": {},
   "outputs": [],
   "source": [
    "from IPython.display import display, Math, Latex\n",
    "\n",
    "load(\"mv_inequality_search.sage\")"
   ]
  },
  {
   "cell_type": "markdown",
   "id": "b29ac9e9-1ad3-4b90-8cf9-bb7dc4375859",
   "metadata": {},
   "source": [
    "# Inequalities with Mixed Volumes\n",
    "Searching for relations of the form\n",
    "\n",
    "$$\n",
    "\\sum_{i=0} a_i V(K_{l_i}, K_{m_i}) V(K_{n_i}, K_{o_i}) V(K_{p_i}, K_{q_i}) \\geq 0\n",
    "$$\n",
    "\n",
    "where $1 \\leq l_i \\neq m_i \\neq n_i \\neq o_i \\neq p_i \\neq q_i \\leq n$."
   ]
  },
  {
   "cell_type": "markdown",
   "id": "d7bd9cb9-1c99-4f07-9595-953087753b08",
   "metadata": {},
   "source": [
    "Using the functions in *mv_inequality_search.sage* (especially `compute_convex_hull`), we can easily find relations for small $n$.\n",
    "\n",
    "We'll start with $n=6$."
   ]
  },
  {
   "cell_type": "code",
   "execution_count": 2,
   "id": "2f0b4f41-ae30-4454-82ff-46833b3de2ee",
   "metadata": {},
   "outputs": [],
   "source": [
    "n = 6"
   ]
  },
  {
   "cell_type": "markdown",
   "id": "d60b8676-c7bf-476a-9c9c-1e651bd4f464",
   "metadata": {},
   "source": [
    "Below is a column vector that we'll reference throughout this notebook."
   ]
  },
  {
   "cell_type": "code",
   "execution_count": 3,
   "id": "506091df-a59a-4f20-a41d-a43b18a69d76",
   "metadata": {},
   "outputs": [
    {
     "data": {
      "text/html": [
       "<html>\\(\\displaystyle x = \\left(\\begin{array}{r}\n",
       "V\\left(K_{1}, K_{2}\\right) V\\left(K_{3}, K_{4}\\right) V\\left(K_{5}, K_{6}\\right) \\\\\n",
       "V\\left(K_{1}, K_{3}\\right) V\\left(K_{2}, K_{5}\\right) V\\left(K_{4}, K_{6}\\right) \\\\\n",
       "V\\left(K_{1}, K_{5}\\right) V\\left(K_{2}, K_{3}\\right) V\\left(K_{4}, K_{6}\\right) \\\\\n",
       "V\\left(K_{1}, K_{4}\\right) V\\left(K_{2}, K_{6}\\right) V\\left(K_{3}, K_{5}\\right) \\\\\n",
       "V\\left(K_{1}, K_{4}\\right) V\\left(K_{2}, K_{3}\\right) V\\left(K_{5}, K_{6}\\right) \\\\\n",
       "V\\left(K_{1}, K_{6}\\right) V\\left(K_{2}, K_{3}\\right) V\\left(K_{4}, K_{5}\\right) \\\\\n",
       "V\\left(K_{1}, K_{4}\\right) V\\left(K_{2}, K_{5}\\right) V\\left(K_{3}, K_{6}\\right) \\\\\n",
       "V\\left(K_{1}, K_{3}\\right) V\\left(K_{2}, K_{4}\\right) V\\left(K_{5}, K_{6}\\right) \\\\\n",
       "V\\left(K_{1}, K_{2}\\right) V\\left(K_{3}, K_{6}\\right) V\\left(K_{4}, K_{5}\\right) \\\\\n",
       "V\\left(K_{1}, K_{2}\\right) V\\left(K_{3}, K_{5}\\right) V\\left(K_{4}, K_{6}\\right) \\\\\n",
       "V\\left(K_{1}, K_{5}\\right) V\\left(K_{2}, K_{6}\\right) V\\left(K_{3}, K_{4}\\right) \\\\\n",
       "V\\left(K_{1}, K_{5}\\right) V\\left(K_{2}, K_{4}\\right) V\\left(K_{3}, K_{6}\\right) \\\\\n",
       "V\\left(K_{1}, K_{6}\\right) V\\left(K_{2}, K_{5}\\right) V\\left(K_{3}, K_{4}\\right) \\\\\n",
       "V\\left(K_{1}, K_{6}\\right) V\\left(K_{2}, K_{4}\\right) V\\left(K_{3}, K_{5}\\right) \\\\\n",
       "V\\left(K_{1}, K_{3}\\right) V\\left(K_{2}, K_{6}\\right) V\\left(K_{4}, K_{5}\\right)\n",
       "\\end{array}\\right)\\)</html>"
      ],
      "text/latex": [
       "$\\displaystyle x = \\left(\\begin{array}{r}\n",
       "V\\left(K_{1}, K_{2}\\right) V\\left(K_{3}, K_{4}\\right) V\\left(K_{5}, K_{6}\\right) \\\\\n",
       "V\\left(K_{1}, K_{3}\\right) V\\left(K_{2}, K_{5}\\right) V\\left(K_{4}, K_{6}\\right) \\\\\n",
       "V\\left(K_{1}, K_{5}\\right) V\\left(K_{2}, K_{3}\\right) V\\left(K_{4}, K_{6}\\right) \\\\\n",
       "V\\left(K_{1}, K_{4}\\right) V\\left(K_{2}, K_{6}\\right) V\\left(K_{3}, K_{5}\\right) \\\\\n",
       "V\\left(K_{1}, K_{4}\\right) V\\left(K_{2}, K_{3}\\right) V\\left(K_{5}, K_{6}\\right) \\\\\n",
       "V\\left(K_{1}, K_{6}\\right) V\\left(K_{2}, K_{3}\\right) V\\left(K_{4}, K_{5}\\right) \\\\\n",
       "V\\left(K_{1}, K_{4}\\right) V\\left(K_{2}, K_{5}\\right) V\\left(K_{3}, K_{6}\\right) \\\\\n",
       "V\\left(K_{1}, K_{3}\\right) V\\left(K_{2}, K_{4}\\right) V\\left(K_{5}, K_{6}\\right) \\\\\n",
       "V\\left(K_{1}, K_{2}\\right) V\\left(K_{3}, K_{6}\\right) V\\left(K_{4}, K_{5}\\right) \\\\\n",
       "V\\left(K_{1}, K_{2}\\right) V\\left(K_{3}, K_{5}\\right) V\\left(K_{4}, K_{6}\\right) \\\\\n",
       "V\\left(K_{1}, K_{5}\\right) V\\left(K_{2}, K_{6}\\right) V\\left(K_{3}, K_{4}\\right) \\\\\n",
       "V\\left(K_{1}, K_{5}\\right) V\\left(K_{2}, K_{4}\\right) V\\left(K_{3}, K_{6}\\right) \\\\\n",
       "V\\left(K_{1}, K_{6}\\right) V\\left(K_{2}, K_{5}\\right) V\\left(K_{3}, K_{4}\\right) \\\\\n",
       "V\\left(K_{1}, K_{6}\\right) V\\left(K_{2}, K_{4}\\right) V\\left(K_{3}, K_{5}\\right) \\\\\n",
       "V\\left(K_{1}, K_{3}\\right) V\\left(K_{2}, K_{6}\\right) V\\left(K_{4}, K_{5}\\right)\n",
       "\\end{array}\\right)$"
      ],
      "text/plain": [
       "x = \\left(\\begin{array}{r}\n",
       "V\\left(K_{1}, K_{2}\\right) V\\left(K_{3}, K_{4}\\right) V\\left(K_{5}, K_{6}\\right) \\\\\n",
       "V\\left(K_{1}, K_{3}\\right) V\\left(K_{2}, K_{5}\\right) V\\left(K_{4}, K_{6}\\right) \\\\\n",
       "V\\left(K_{1}, K_{5}\\right) V\\left(K_{2}, K_{3}\\right) V\\left(K_{4}, K_{6}\\right) \\\\\n",
       "V\\left(K_{1}, K_{4}\\right) V\\left(K_{2}, K_{6}\\right) V\\left(K_{3}, K_{5}\\right) \\\\\n",
       "V\\left(K_{1}, K_{4}\\right) V\\left(K_{2}, K_{3}\\right) V\\left(K_{5}, K_{6}\\right) \\\\\n",
       "V\\left(K_{1}, K_{6}\\right) V\\left(K_{2}, K_{3}\\right) V\\left(K_{4}, K_{5}\\right) \\\\\n",
       "V\\left(K_{1}, K_{4}\\right) V\\left(K_{2}, K_{5}\\right) V\\left(K_{3}, K_{6}\\right) \\\\\n",
       "V\\left(K_{1}, K_{3}\\right) V\\left(K_{2}, K_{4}\\right) V\\left(K_{5}, K_{6}\\right) \\\\\n",
       "V\\left(K_{1}, K_{2}\\right) V\\left(K_{3}, K_{6}\\right) V\\left(K_{4}, K_{5}\\right) \\\\\n",
       "V\\left(K_{1}, K_{2}\\right) V\\left(K_{3}, K_{5}\\right) V\\left(K_{4}, K_{6}\\right) \\\\\n",
       "V\\left(K_{1}, K_{5}\\right) V\\left(K_{2}, K_{6}\\right) V\\left(K_{3}, K_{4}\\right) \\\\\n",
       "V\\left(K_{1}, K_{5}\\right) V\\left(K_{2}, K_{4}\\right) V\\left(K_{3}, K_{6}\\right) \\\\\n",
       "V\\left(K_{1}, K_{6}\\right) V\\left(K_{2}, K_{5}\\right) V\\left(K_{3}, K_{4}\\right) \\\\\n",
       "V\\left(K_{1}, K_{6}\\right) V\\left(K_{2}, K_{4}\\right) V\\left(K_{3}, K_{5}\\right) \\\\\n",
       "V\\left(K_{1}, K_{3}\\right) V\\left(K_{2}, K_{6}\\right) V\\left(K_{4}, K_{5}\\right)\n",
       "\\end{array}\\right)"
      ]
     },
     "execution_count": 3,
     "metadata": {},
     "output_type": "execute_result"
    }
   ],
   "source": [
    "%display latex\n",
    "\n",
    "# Define symbols for printing LaTeX\n",
    "V = function(\"V\") # Mixed volumes\n",
    "K = var([f\"K_{i}\" for i in range(1,n+1)]) # Bodies\n",
    "\n",
    "# Define term column vector\n",
    "terms = generate_inequality_terms(n, dimension=2, term_factors=3)\n",
    "term_list = list(terms)\n",
    "x = var('x')\n",
    "x_vec = Matrix([\n",
    "    V(K[term[0][0]-1], K[term[0][1]-1]) *\n",
    "    V(K[term[1][0]-1], K[term[1][1]-1]) *\n",
    "    V(K[term[2][0]-1], K[term[2][1]-1]) for term in terms\n",
    "]).transpose()\n",
    "latex(x) + \"=\" + latex(x_vec)"
   ]
  },
  {
   "cell_type": "code",
   "execution_count": 4,
   "id": "653d5de4-c30e-4660-ab10-ddca5272446a",
   "metadata": {},
   "outputs": [
    {
     "data": {
      "text/html": [
       "<html>\\(\\displaystyle 15\\)</html>"
      ],
      "text/latex": [
       "$\\displaystyle 15$"
      ],
      "text/plain": [
       "15"
      ]
     },
     "execution_count": 4,
     "metadata": {},
     "output_type": "execute_result"
    }
   ],
   "source": [
    "len(term_list)"
   ]
  },
  {
   "cell_type": "code",
   "execution_count": 5,
   "id": "f09e875d-1a3e-496f-a7d0-7768d313a0a6",
   "metadata": {},
   "outputs": [
    {
     "data": {
      "text/html": [
       "<html>\\(\\displaystyle \\left(0, 0, 0, \\frac{1}{8}, 0, 0, \\frac{1}{8}, 0, 0, 0, \\frac{1}{8}, \\frac{1}{8}, \\frac{1}{8}, \\frac{1}{8}, 0\\right)\\)</html>"
      ],
      "text/latex": [
       "$\\displaystyle \\left(0, 0, 0, \\frac{1}{8}, 0, 0, \\frac{1}{8}, 0, 0, 0, \\frac{1}{8}, \\frac{1}{8}, \\frac{1}{8}, \\frac{1}{8}, 0\\right)$"
      ],
      "text/plain": [
       "(0, 0, 0, 1/8, 0, 0, 1/8, 0, 0, 0, 1/8, 1/8, 1/8, 1/8, 0)"
      ]
     },
     "metadata": {},
     "output_type": "display_data"
    },
    {
     "data": {
      "text/html": [
       "<html>\\(\\displaystyle \\left(0, \\frac{1}{8}, \\frac{1}{8}, 0, 0, \\frac{1}{8}, 0, 0, 0, 0, \\frac{1}{8}, 0, \\frac{1}{8}, 0, \\frac{1}{8}\\right)\\)</html>"
      ],
      "text/latex": [
       "$\\displaystyle \\left(0, \\frac{1}{8}, \\frac{1}{8}, 0, 0, \\frac{1}{8}, 0, 0, 0, 0, \\frac{1}{8}, 0, \\frac{1}{8}, 0, \\frac{1}{8}\\right)$"
      ],
      "text/plain": [
       "(0, 1/8, 1/8, 0, 0, 1/8, 0, 0, 0, 0, 1/8, 0, 1/8, 0, 1/8)"
      ]
     },
     "metadata": {},
     "output_type": "display_data"
    },
    {
     "data": {
      "text/html": [
       "<html>\\(\\displaystyle \\left(0, 0, 0, \\frac{1}{8}, \\frac{1}{8}, \\frac{1}{8}, 0, \\frac{1}{8}, 0, 0, 0, 0, 0, \\frac{1}{8}, \\frac{1}{8}\\right)\\)</html>"
      ],
      "text/latex": [
       "$\\displaystyle \\left(0, 0, 0, \\frac{1}{8}, \\frac{1}{8}, \\frac{1}{8}, 0, \\frac{1}{8}, 0, 0, 0, 0, 0, \\frac{1}{8}, \\frac{1}{8}\\right)$"
      ],
      "text/plain": [
       "(0, 0, 0, 1/8, 1/8, 1/8, 0, 1/8, 0, 0, 0, 0, 0, 1/8, 1/8)"
      ]
     },
     "metadata": {},
     "output_type": "display_data"
    },
    {
     "data": {
      "text/html": [
       "<html>\\(\\displaystyle \\left(0, \\frac{1}{8}, \\frac{1}{8}, 0, \\frac{1}{8}, 0, \\frac{1}{8}, \\frac{1}{8}, 0, 0, 0, \\frac{1}{8}, 0, 0, 0\\right)\\)</html>"
      ],
      "text/latex": [
       "$\\displaystyle \\left(0, \\frac{1}{8}, \\frac{1}{8}, 0, \\frac{1}{8}, 0, \\frac{1}{8}, \\frac{1}{8}, 0, 0, 0, \\frac{1}{8}, 0, 0, 0\\right)$"
      ],
      "text/plain": [
       "(0, 1/8, 1/8, 0, 1/8, 0, 1/8, 1/8, 0, 0, 0, 1/8, 0, 0, 0)"
      ]
     },
     "metadata": {},
     "output_type": "display_data"
    },
    {
     "data": {
      "text/html": [
       "<html>\\(\\displaystyle \\left(0, 0, \\frac{1}{8}, 0, 0, \\frac{1}{8}, 0, 0, \\frac{1}{8}, \\frac{1}{8}, 0, \\frac{1}{8}, 0, \\frac{1}{8}, 0\\right)\\)</html>"
      ],
      "text/latex": [
       "$\\displaystyle \\left(0, 0, \\frac{1}{8}, 0, 0, \\frac{1}{8}, 0, 0, \\frac{1}{8}, \\frac{1}{8}, 0, \\frac{1}{8}, 0, \\frac{1}{8}, 0\\right)$"
      ],
      "text/plain": [
       "(0, 0, 1/8, 0, 0, 1/8, 0, 0, 1/8, 1/8, 0, 1/8, 0, 1/8, 0)"
      ]
     },
     "metadata": {},
     "output_type": "display_data"
    },
    {
     "data": {
      "text/html": [
       "<html>\\(\\displaystyle \\left(\\frac{1}{8}, 0, 0, 0, \\frac{1}{8}, \\frac{1}{8}, \\frac{1}{8}, 0, \\frac{1}{8}, 0, 0, 0, \\frac{1}{8}, 0, 0\\right)\\)</html>"
      ],
      "text/latex": [
       "$\\displaystyle \\left(\\frac{1}{8}, 0, 0, 0, \\frac{1}{8}, \\frac{1}{8}, \\frac{1}{8}, 0, \\frac{1}{8}, 0, 0, 0, \\frac{1}{8}, 0, 0\\right)$"
      ],
      "text/plain": [
       "(1/8, 0, 0, 0, 1/8, 1/8, 1/8, 0, 1/8, 0, 0, 0, 1/8, 0, 0)"
      ]
     },
     "metadata": {},
     "output_type": "display_data"
    },
    {
     "data": {
      "text/html": [
       "<html>\\(\\displaystyle \\left(\\frac{1}{8}, 0, \\frac{1}{8}, \\frac{1}{8}, \\frac{1}{8}, 0, 0, 0, 0, \\frac{1}{8}, \\frac{1}{8}, 0, 0, 0, 0\\right)\\)</html>"
      ],
      "text/latex": [
       "$\\displaystyle \\left(\\frac{1}{8}, 0, \\frac{1}{8}, \\frac{1}{8}, \\frac{1}{8}, 0, 0, 0, 0, \\frac{1}{8}, \\frac{1}{8}, 0, 0, 0, 0\\right)$"
      ],
      "text/plain": [
       "(1/8, 0, 1/8, 1/8, 1/8, 0, 0, 0, 0, 1/8, 1/8, 0, 0, 0, 0)"
      ]
     },
     "metadata": {},
     "output_type": "display_data"
    },
    {
     "data": {
      "text/html": [
       "<html>\\(\\displaystyle \\left(\\frac{1}{8}, \\frac{1}{8}, 0, 0, 0, 0, 0, \\frac{1}{8}, 0, \\frac{1}{8}, 0, 0, \\frac{1}{8}, \\frac{1}{8}, 0\\right)\\)</html>"
      ],
      "text/latex": [
       "$\\displaystyle \\left(\\frac{1}{8}, \\frac{1}{8}, 0, 0, 0, 0, 0, \\frac{1}{8}, 0, \\frac{1}{8}, 0, 0, \\frac{1}{8}, \\frac{1}{8}, 0\\right)$"
      ],
      "text/plain": [
       "(1/8, 1/8, 0, 0, 0, 0, 0, 1/8, 0, 1/8, 0, 0, 1/8, 1/8, 0)"
      ]
     },
     "metadata": {},
     "output_type": "display_data"
    },
    {
     "data": {
      "text/html": [
       "<html>\\(\\displaystyle \\left(\\frac{1}{8}, 0, 0, 0, 0, 0, 0, \\frac{1}{8}, \\frac{1}{8}, 0, \\frac{1}{8}, \\frac{1}{8}, 0, 0, \\frac{1}{8}\\right)\\)</html>"
      ],
      "text/latex": [
       "$\\displaystyle \\left(\\frac{1}{8}, 0, 0, 0, 0, 0, 0, \\frac{1}{8}, \\frac{1}{8}, 0, \\frac{1}{8}, \\frac{1}{8}, 0, 0, \\frac{1}{8}\\right)$"
      ],
      "text/plain": [
       "(1/8, 0, 0, 0, 0, 0, 0, 1/8, 1/8, 0, 1/8, 1/8, 0, 0, 1/8)"
      ]
     },
     "metadata": {},
     "output_type": "display_data"
    },
    {
     "data": {
      "text/html": [
       "<html>\\(\\displaystyle \\left(0, \\frac{1}{8}, 0, \\frac{1}{8}, 0, 0, \\frac{1}{8}, 0, \\frac{1}{8}, \\frac{1}{8}, 0, 0, 0, 0, \\frac{1}{8}\\right)\\)</html>"
      ],
      "text/latex": [
       "$\\displaystyle \\left(0, \\frac{1}{8}, 0, \\frac{1}{8}, 0, 0, \\frac{1}{8}, 0, \\frac{1}{8}, \\frac{1}{8}, 0, 0, 0, 0, \\frac{1}{8}\\right)$"
      ],
      "text/plain": [
       "(0, 1/8, 0, 1/8, 0, 0, 1/8, 0, 1/8, 1/8, 0, 0, 0, 0, 1/8)"
      ]
     },
     "metadata": {},
     "output_type": "display_data"
    },
    {
     "data": {
      "text/html": [
       "<html>\\(\\displaystyle \\left(0, \\frac{1}{8}, 0, \\frac{1}{8}, 0, 0, \\frac{1}{8}, 0, \\frac{1}{8}, \\frac{1}{8}, 0, 0, 0, 0, \\frac{1}{8}\\right)\\)</html>"
      ],
      "text/latex": [
       "$\\displaystyle \\left(0, \\frac{1}{8}, 0, \\frac{1}{8}, 0, 0, \\frac{1}{8}, 0, \\frac{1}{8}, \\frac{1}{8}, 0, 0, 0, 0, \\frac{1}{8}\\right)$"
      ],
      "text/plain": [
       "(0, 1/8, 0, 1/8, 0, 0, 1/8, 0, 1/8, 1/8, 0, 0, 0, 0, 1/8)"
      ]
     },
     "metadata": {},
     "output_type": "display_data"
    },
    {
     "data": {
      "text/html": [
       "<html>\\(\\displaystyle \\left(\\frac{1}{8}, 0, 0, 0, 0, 0, 0, \\frac{1}{8}, \\frac{1}{8}, 0, \\frac{1}{8}, \\frac{1}{8}, 0, 0, \\frac{1}{8}\\right)\\)</html>"
      ],
      "text/latex": [
       "$\\displaystyle \\left(\\frac{1}{8}, 0, 0, 0, 0, 0, 0, \\frac{1}{8}, \\frac{1}{8}, 0, \\frac{1}{8}, \\frac{1}{8}, 0, 0, \\frac{1}{8}\\right)$"
      ],
      "text/plain": [
       "(1/8, 0, 0, 0, 0, 0, 0, 1/8, 1/8, 0, 1/8, 1/8, 0, 0, 1/8)"
      ]
     },
     "metadata": {},
     "output_type": "display_data"
    },
    {
     "data": {
      "text/html": [
       "<html>\\(\\displaystyle \\left(\\frac{1}{8}, \\frac{1}{8}, 0, 0, 0, 0, 0, \\frac{1}{8}, 0, \\frac{1}{8}, 0, 0, \\frac{1}{8}, \\frac{1}{8}, 0\\right)\\)</html>"
      ],
      "text/latex": [
       "$\\displaystyle \\left(\\frac{1}{8}, \\frac{1}{8}, 0, 0, 0, 0, 0, \\frac{1}{8}, 0, \\frac{1}{8}, 0, 0, \\frac{1}{8}, \\frac{1}{8}, 0\\right)$"
      ],
      "text/plain": [
       "(1/8, 1/8, 0, 0, 0, 0, 0, 1/8, 0, 1/8, 0, 0, 1/8, 1/8, 0)"
      ]
     },
     "metadata": {},
     "output_type": "display_data"
    },
    {
     "data": {
      "text/html": [
       "<html>\\(\\displaystyle \\left(\\frac{1}{8}, 0, \\frac{1}{8}, \\frac{1}{8}, \\frac{1}{8}, 0, 0, 0, 0, \\frac{1}{8}, \\frac{1}{8}, 0, 0, 0, 0\\right)\\)</html>"
      ],
      "text/latex": [
       "$\\displaystyle \\left(\\frac{1}{8}, 0, \\frac{1}{8}, \\frac{1}{8}, \\frac{1}{8}, 0, 0, 0, 0, \\frac{1}{8}, \\frac{1}{8}, 0, 0, 0, 0\\right)$"
      ],
      "text/plain": [
       "(1/8, 0, 1/8, 1/8, 1/8, 0, 0, 0, 0, 1/8, 1/8, 0, 0, 0, 0)"
      ]
     },
     "metadata": {},
     "output_type": "display_data"
    },
    {
     "data": {
      "text/html": [
       "<html>\\(\\displaystyle \\left(\\frac{1}{8}, 0, 0, 0, \\frac{1}{8}, \\frac{1}{8}, \\frac{1}{8}, 0, \\frac{1}{8}, 0, 0, 0, \\frac{1}{8}, 0, 0\\right)\\)</html>"
      ],
      "text/latex": [
       "$\\displaystyle \\left(\\frac{1}{8}, 0, 0, 0, \\frac{1}{8}, \\frac{1}{8}, \\frac{1}{8}, 0, \\frac{1}{8}, 0, 0, 0, \\frac{1}{8}, 0, 0\\right)$"
      ],
      "text/plain": [
       "(1/8, 0, 0, 0, 1/8, 1/8, 1/8, 0, 1/8, 0, 0, 0, 1/8, 0, 0)"
      ]
     },
     "metadata": {},
     "output_type": "display_data"
    },
    {
     "data": {
      "text/html": [
       "<html>\\(\\displaystyle \\left(0, 0, \\frac{1}{8}, 0, 0, \\frac{1}{8}, 0, 0, \\frac{1}{8}, \\frac{1}{8}, 0, \\frac{1}{8}, 0, \\frac{1}{8}, 0\\right)\\)</html>"
      ],
      "text/latex": [
       "$\\displaystyle \\left(0, 0, \\frac{1}{8}, 0, 0, \\frac{1}{8}, 0, 0, \\frac{1}{8}, \\frac{1}{8}, 0, \\frac{1}{8}, 0, \\frac{1}{8}, 0\\right)$"
      ],
      "text/plain": [
       "(0, 0, 1/8, 0, 0, 1/8, 0, 0, 1/8, 1/8, 0, 1/8, 0, 1/8, 0)"
      ]
     },
     "metadata": {},
     "output_type": "display_data"
    },
    {
     "data": {
      "text/html": [
       "<html>\\(\\displaystyle \\left(0, \\frac{1}{8}, \\frac{1}{8}, 0, \\frac{1}{8}, 0, \\frac{1}{8}, \\frac{1}{8}, 0, 0, 0, \\frac{1}{8}, 0, 0, 0\\right)\\)</html>"
      ],
      "text/latex": [
       "$\\displaystyle \\left(0, \\frac{1}{8}, \\frac{1}{8}, 0, \\frac{1}{8}, 0, \\frac{1}{8}, \\frac{1}{8}, 0, 0, 0, \\frac{1}{8}, 0, 0, 0\\right)$"
      ],
      "text/plain": [
       "(0, 1/8, 1/8, 0, 1/8, 0, 1/8, 1/8, 0, 0, 0, 1/8, 0, 0, 0)"
      ]
     },
     "metadata": {},
     "output_type": "display_data"
    },
    {
     "data": {
      "text/html": [
       "<html>\\(\\displaystyle \\left(0, 0, 0, \\frac{1}{8}, \\frac{1}{8}, \\frac{1}{8}, 0, \\frac{1}{8}, 0, 0, 0, 0, 0, \\frac{1}{8}, \\frac{1}{8}\\right)\\)</html>"
      ],
      "text/latex": [
       "$\\displaystyle \\left(0, 0, 0, \\frac{1}{8}, \\frac{1}{8}, \\frac{1}{8}, 0, \\frac{1}{8}, 0, 0, 0, 0, 0, \\frac{1}{8}, \\frac{1}{8}\\right)$"
      ],
      "text/plain": [
       "(0, 0, 0, 1/8, 1/8, 1/8, 0, 1/8, 0, 0, 0, 0, 0, 1/8, 1/8)"
      ]
     },
     "metadata": {},
     "output_type": "display_data"
    },
    {
     "data": {
      "text/html": [
       "<html>\\(\\displaystyle \\left(0, \\frac{1}{8}, \\frac{1}{8}, 0, 0, \\frac{1}{8}, 0, 0, 0, 0, \\frac{1}{8}, 0, \\frac{1}{8}, 0, \\frac{1}{8}\\right)\\)</html>"
      ],
      "text/latex": [
       "$\\displaystyle \\left(0, \\frac{1}{8}, \\frac{1}{8}, 0, 0, \\frac{1}{8}, 0, 0, 0, 0, \\frac{1}{8}, 0, \\frac{1}{8}, 0, \\frac{1}{8}\\right)$"
      ],
      "text/plain": [
       "(0, 1/8, 1/8, 0, 0, 1/8, 0, 0, 0, 0, 1/8, 0, 1/8, 0, 1/8)"
      ]
     },
     "metadata": {},
     "output_type": "display_data"
    },
    {
     "data": {
      "text/html": [
       "<html>\\(\\displaystyle \\left(0, 0, 0, \\frac{1}{8}, 0, 0, \\frac{1}{8}, 0, 0, 0, \\frac{1}{8}, \\frac{1}{8}, \\frac{1}{8}, \\frac{1}{8}, 0\\right)\\)</html>"
      ],
      "text/latex": [
       "$\\displaystyle \\left(0, 0, 0, \\frac{1}{8}, 0, 0, \\frac{1}{8}, 0, 0, 0, \\frac{1}{8}, \\frac{1}{8}, \\frac{1}{8}, \\frac{1}{8}, 0\\right)$"
      ],
      "text/plain": [
       "(0, 0, 0, 1/8, 0, 0, 1/8, 0, 0, 0, 1/8, 1/8, 1/8, 1/8, 0)"
      ]
     },
     "metadata": {},
     "output_type": "display_data"
    }
   ],
   "source": [
    "for ray in compute_rays(n):\n",
    "    display(ray)"
   ]
  },
  {
   "cell_type": "code",
   "execution_count": 6,
   "id": "bee1d632-34da-4d79-b019-bd07a8f5b323",
   "metadata": {
    "scrolled": true
   },
   "outputs": [],
   "source": [
    "# Compute convex hull\n",
    "cv = compute_convex_hull(n)"
   ]
  },
  {
   "cell_type": "code",
   "execution_count": 7,
   "id": "92ea0a28-2909-443b-90fd-717efc34c511",
   "metadata": {},
   "outputs": [
    {
     "data": {
      "text/html": [
       "<html>\\(\\displaystyle \\verb|A|\\verb| |\\verb|ray|\\verb| |\\verb|in|\\verb| |\\verb|the|\\verb| |\\verb|direction|\\verb| |\\verb|(0,|\\verb| |\\verb|0,|\\verb| |\\verb|0,|\\verb| |\\verb|1,|\\verb| |\\verb|0,|\\verb| |\\verb|0,|\\verb| |\\verb|1,|\\verb| |\\verb|0,|\\verb| |\\verb|0,|\\verb| |\\verb|0,|\\verb| |\\verb|1,|\\verb| |\\verb|1,|\\verb| |\\verb|1,|\\verb| |\\verb|1,|\\verb| |\\verb|0)|\\)</html>"
      ],
      "text/latex": [
       "$\\displaystyle \\verb|A|\\verb| |\\verb|ray|\\verb| |\\verb|in|\\verb| |\\verb|the|\\verb| |\\verb|direction|\\verb| |\\verb|(0,|\\verb| |\\verb|0,|\\verb| |\\verb|0,|\\verb| |\\verb|1,|\\verb| |\\verb|0,|\\verb| |\\verb|0,|\\verb| |\\verb|1,|\\verb| |\\verb|0,|\\verb| |\\verb|0,|\\verb| |\\verb|0,|\\verb| |\\verb|1,|\\verb| |\\verb|1,|\\verb| |\\verb|1,|\\verb| |\\verb|1,|\\verb| |\\verb|0)|$"
      ],
      "text/plain": [
       "A ray in the direction (0, 0, 0, 1, 0, 0, 1, 0, 0, 0, 1, 1, 1, 1, 0)"
      ]
     },
     "metadata": {},
     "output_type": "display_data"
    },
    {
     "data": {
      "text/html": [
       "<html>\\(\\displaystyle \\verb|A|\\verb| |\\verb|ray|\\verb| |\\verb|in|\\verb| |\\verb|the|\\verb| |\\verb|direction|\\verb| |\\verb|(0,|\\verb| |\\verb|0,|\\verb| |\\verb|0,|\\verb| |\\verb|1,|\\verb| |\\verb|1,|\\verb| |\\verb|1,|\\verb| |\\verb|0,|\\verb| |\\verb|1,|\\verb| |\\verb|0,|\\verb| |\\verb|0,|\\verb| |\\verb|0,|\\verb| |\\verb|0,|\\verb| |\\verb|0,|\\verb| |\\verb|1,|\\verb| |\\verb|1)|\\)</html>"
      ],
      "text/latex": [
       "$\\displaystyle \\verb|A|\\verb| |\\verb|ray|\\verb| |\\verb|in|\\verb| |\\verb|the|\\verb| |\\verb|direction|\\verb| |\\verb|(0,|\\verb| |\\verb|0,|\\verb| |\\verb|0,|\\verb| |\\verb|1,|\\verb| |\\verb|1,|\\verb| |\\verb|1,|\\verb| |\\verb|0,|\\verb| |\\verb|1,|\\verb| |\\verb|0,|\\verb| |\\verb|0,|\\verb| |\\verb|0,|\\verb| |\\verb|0,|\\verb| |\\verb|0,|\\verb| |\\verb|1,|\\verb| |\\verb|1)|$"
      ],
      "text/plain": [
       "A ray in the direction (0, 0, 0, 1, 1, 1, 0, 1, 0, 0, 0, 0, 0, 1, 1)"
      ]
     },
     "metadata": {},
     "output_type": "display_data"
    },
    {
     "data": {
      "text/html": [
       "<html>\\(\\displaystyle \\verb|A|\\verb| |\\verb|ray|\\verb| |\\verb|in|\\verb| |\\verb|the|\\verb| |\\verb|direction|\\verb| |\\verb|(0,|\\verb| |\\verb|0,|\\verb| |\\verb|1,|\\verb| |\\verb|0,|\\verb| |\\verb|0,|\\verb| |\\verb|1,|\\verb| |\\verb|0,|\\verb| |\\verb|0,|\\verb| |\\verb|1,|\\verb| |\\verb|1,|\\verb| |\\verb|0,|\\verb| |\\verb|1,|\\verb| |\\verb|0,|\\verb| |\\verb|1,|\\verb| |\\verb|0)|\\)</html>"
      ],
      "text/latex": [
       "$\\displaystyle \\verb|A|\\verb| |\\verb|ray|\\verb| |\\verb|in|\\verb| |\\verb|the|\\verb| |\\verb|direction|\\verb| |\\verb|(0,|\\verb| |\\verb|0,|\\verb| |\\verb|1,|\\verb| |\\verb|0,|\\verb| |\\verb|0,|\\verb| |\\verb|1,|\\verb| |\\verb|0,|\\verb| |\\verb|0,|\\verb| |\\verb|1,|\\verb| |\\verb|1,|\\verb| |\\verb|0,|\\verb| |\\verb|1,|\\verb| |\\verb|0,|\\verb| |\\verb|1,|\\verb| |\\verb|0)|$"
      ],
      "text/plain": [
       "A ray in the direction (0, 0, 1, 0, 0, 1, 0, 0, 1, 1, 0, 1, 0, 1, 0)"
      ]
     },
     "metadata": {},
     "output_type": "display_data"
    },
    {
     "data": {
      "text/html": [
       "<html>\\(\\displaystyle \\verb|A|\\verb| |\\verb|ray|\\verb| |\\verb|in|\\verb| |\\verb|the|\\verb| |\\verb|direction|\\verb| |\\verb|(0,|\\verb| |\\verb|1,|\\verb| |\\verb|0,|\\verb| |\\verb|1,|\\verb| |\\verb|0,|\\verb| |\\verb|0,|\\verb| |\\verb|1,|\\verb| |\\verb|0,|\\verb| |\\verb|1,|\\verb| |\\verb|1,|\\verb| |\\verb|0,|\\verb| |\\verb|0,|\\verb| |\\verb|0,|\\verb| |\\verb|0,|\\verb| |\\verb|1)|\\)</html>"
      ],
      "text/latex": [
       "$\\displaystyle \\verb|A|\\verb| |\\verb|ray|\\verb| |\\verb|in|\\verb| |\\verb|the|\\verb| |\\verb|direction|\\verb| |\\verb|(0,|\\verb| |\\verb|1,|\\verb| |\\verb|0,|\\verb| |\\verb|1,|\\verb| |\\verb|0,|\\verb| |\\verb|0,|\\verb| |\\verb|1,|\\verb| |\\verb|0,|\\verb| |\\verb|1,|\\verb| |\\verb|1,|\\verb| |\\verb|0,|\\verb| |\\verb|0,|\\verb| |\\verb|0,|\\verb| |\\verb|0,|\\verb| |\\verb|1)|$"
      ],
      "text/plain": [
       "A ray in the direction (0, 1, 0, 1, 0, 0, 1, 0, 1, 1, 0, 0, 0, 0, 1)"
      ]
     },
     "metadata": {},
     "output_type": "display_data"
    },
    {
     "data": {
      "text/html": [
       "<html>\\(\\displaystyle \\verb|A|\\verb| |\\verb|ray|\\verb| |\\verb|in|\\verb| |\\verb|the|\\verb| |\\verb|direction|\\verb| |\\verb|(0,|\\verb| |\\verb|1,|\\verb| |\\verb|1,|\\verb| |\\verb|0,|\\verb| |\\verb|0,|\\verb| |\\verb|1,|\\verb| |\\verb|0,|\\verb| |\\verb|0,|\\verb| |\\verb|0,|\\verb| |\\verb|0,|\\verb| |\\verb|1,|\\verb| |\\verb|0,|\\verb| |\\verb|1,|\\verb| |\\verb|0,|\\verb| |\\verb|1)|\\)</html>"
      ],
      "text/latex": [
       "$\\displaystyle \\verb|A|\\verb| |\\verb|ray|\\verb| |\\verb|in|\\verb| |\\verb|the|\\verb| |\\verb|direction|\\verb| |\\verb|(0,|\\verb| |\\verb|1,|\\verb| |\\verb|1,|\\verb| |\\verb|0,|\\verb| |\\verb|0,|\\verb| |\\verb|1,|\\verb| |\\verb|0,|\\verb| |\\verb|0,|\\verb| |\\verb|0,|\\verb| |\\verb|0,|\\verb| |\\verb|1,|\\verb| |\\verb|0,|\\verb| |\\verb|1,|\\verb| |\\verb|0,|\\verb| |\\verb|1)|$"
      ],
      "text/plain": [
       "A ray in the direction (0, 1, 1, 0, 0, 1, 0, 0, 0, 0, 1, 0, 1, 0, 1)"
      ]
     },
     "metadata": {},
     "output_type": "display_data"
    },
    {
     "data": {
      "text/html": [
       "<html>\\(\\displaystyle \\verb|A|\\verb| |\\verb|ray|\\verb| |\\verb|in|\\verb| |\\verb|the|\\verb| |\\verb|direction|\\verb| |\\verb|(0,|\\verb| |\\verb|1,|\\verb| |\\verb|1,|\\verb| |\\verb|0,|\\verb| |\\verb|1,|\\verb| |\\verb|0,|\\verb| |\\verb|1,|\\verb| |\\verb|1,|\\verb| |\\verb|0,|\\verb| |\\verb|0,|\\verb| |\\verb|0,|\\verb| |\\verb|1,|\\verb| |\\verb|0,|\\verb| |\\verb|0,|\\verb| |\\verb|0)|\\)</html>"
      ],
      "text/latex": [
       "$\\displaystyle \\verb|A|\\verb| |\\verb|ray|\\verb| |\\verb|in|\\verb| |\\verb|the|\\verb| |\\verb|direction|\\verb| |\\verb|(0,|\\verb| |\\verb|1,|\\verb| |\\verb|1,|\\verb| |\\verb|0,|\\verb| |\\verb|1,|\\verb| |\\verb|0,|\\verb| |\\verb|1,|\\verb| |\\verb|1,|\\verb| |\\verb|0,|\\verb| |\\verb|0,|\\verb| |\\verb|0,|\\verb| |\\verb|1,|\\verb| |\\verb|0,|\\verb| |\\verb|0,|\\verb| |\\verb|0)|$"
      ],
      "text/plain": [
       "A ray in the direction (0, 1, 1, 0, 1, 0, 1, 1, 0, 0, 0, 1, 0, 0, 0)"
      ]
     },
     "metadata": {},
     "output_type": "display_data"
    },
    {
     "data": {
      "text/html": [
       "<html>\\(\\displaystyle \\verb|A|\\verb| |\\verb|ray|\\verb| |\\verb|in|\\verb| |\\verb|the|\\verb| |\\verb|direction|\\verb| |\\verb|(1,|\\verb| |\\verb|0,|\\verb| |\\verb|0,|\\verb| |\\verb|0,|\\verb| |\\verb|0,|\\verb| |\\verb|0,|\\verb| |\\verb|0,|\\verb| |\\verb|1,|\\verb| |\\verb|1,|\\verb| |\\verb|0,|\\verb| |\\verb|1,|\\verb| |\\verb|1,|\\verb| |\\verb|0,|\\verb| |\\verb|0,|\\verb| |\\verb|1)|\\)</html>"
      ],
      "text/latex": [
       "$\\displaystyle \\verb|A|\\verb| |\\verb|ray|\\verb| |\\verb|in|\\verb| |\\verb|the|\\verb| |\\verb|direction|\\verb| |\\verb|(1,|\\verb| |\\verb|0,|\\verb| |\\verb|0,|\\verb| |\\verb|0,|\\verb| |\\verb|0,|\\verb| |\\verb|0,|\\verb| |\\verb|0,|\\verb| |\\verb|1,|\\verb| |\\verb|1,|\\verb| |\\verb|0,|\\verb| |\\verb|1,|\\verb| |\\verb|1,|\\verb| |\\verb|0,|\\verb| |\\verb|0,|\\verb| |\\verb|1)|$"
      ],
      "text/plain": [
       "A ray in the direction (1, 0, 0, 0, 0, 0, 0, 1, 1, 0, 1, 1, 0, 0, 1)"
      ]
     },
     "metadata": {},
     "output_type": "display_data"
    },
    {
     "data": {
      "text/html": [
       "<html>\\(\\displaystyle \\verb|A|\\verb| |\\verb|ray|\\verb| |\\verb|in|\\verb| |\\verb|the|\\verb| |\\verb|direction|\\verb| |\\verb|(1,|\\verb| |\\verb|0,|\\verb| |\\verb|0,|\\verb| |\\verb|0,|\\verb| |\\verb|1,|\\verb| |\\verb|1,|\\verb| |\\verb|1,|\\verb| |\\verb|0,|\\verb| |\\verb|1,|\\verb| |\\verb|0,|\\verb| |\\verb|0,|\\verb| |\\verb|0,|\\verb| |\\verb|1,|\\verb| |\\verb|0,|\\verb| |\\verb|0)|\\)</html>"
      ],
      "text/latex": [
       "$\\displaystyle \\verb|A|\\verb| |\\verb|ray|\\verb| |\\verb|in|\\verb| |\\verb|the|\\verb| |\\verb|direction|\\verb| |\\verb|(1,|\\verb| |\\verb|0,|\\verb| |\\verb|0,|\\verb| |\\verb|0,|\\verb| |\\verb|1,|\\verb| |\\verb|1,|\\verb| |\\verb|1,|\\verb| |\\verb|0,|\\verb| |\\verb|1,|\\verb| |\\verb|0,|\\verb| |\\verb|0,|\\verb| |\\verb|0,|\\verb| |\\verb|1,|\\verb| |\\verb|0,|\\verb| |\\verb|0)|$"
      ],
      "text/plain": [
       "A ray in the direction (1, 0, 0, 0, 1, 1, 1, 0, 1, 0, 0, 0, 1, 0, 0)"
      ]
     },
     "metadata": {},
     "output_type": "display_data"
    },
    {
     "data": {
      "text/html": [
       "<html>\\(\\displaystyle \\verb|A|\\verb| |\\verb|ray|\\verb| |\\verb|in|\\verb| |\\verb|the|\\verb| |\\verb|direction|\\verb| |\\verb|(1,|\\verb| |\\verb|0,|\\verb| |\\verb|1,|\\verb| |\\verb|1,|\\verb| |\\verb|1,|\\verb| |\\verb|0,|\\verb| |\\verb|0,|\\verb| |\\verb|0,|\\verb| |\\verb|0,|\\verb| |\\verb|1,|\\verb| |\\verb|1,|\\verb| |\\verb|0,|\\verb| |\\verb|0,|\\verb| |\\verb|0,|\\verb| |\\verb|0)|\\)</html>"
      ],
      "text/latex": [
       "$\\displaystyle \\verb|A|\\verb| |\\verb|ray|\\verb| |\\verb|in|\\verb| |\\verb|the|\\verb| |\\verb|direction|\\verb| |\\verb|(1,|\\verb| |\\verb|0,|\\verb| |\\verb|1,|\\verb| |\\verb|1,|\\verb| |\\verb|1,|\\verb| |\\verb|0,|\\verb| |\\verb|0,|\\verb| |\\verb|0,|\\verb| |\\verb|0,|\\verb| |\\verb|1,|\\verb| |\\verb|1,|\\verb| |\\verb|0,|\\verb| |\\verb|0,|\\verb| |\\verb|0,|\\verb| |\\verb|0)|$"
      ],
      "text/plain": [
       "A ray in the direction (1, 0, 1, 1, 1, 0, 0, 0, 0, 1, 1, 0, 0, 0, 0)"
      ]
     },
     "metadata": {},
     "output_type": "display_data"
    },
    {
     "data": {
      "text/html": [
       "<html>\\(\\displaystyle \\verb|A|\\verb| |\\verb|ray|\\verb| |\\verb|in|\\verb| |\\verb|the|\\verb| |\\verb|direction|\\verb| |\\verb|(1,|\\verb| |\\verb|1,|\\verb| |\\verb|0,|\\verb| |\\verb|0,|\\verb| |\\verb|0,|\\verb| |\\verb|0,|\\verb| |\\verb|0,|\\verb| |\\verb|1,|\\verb| |\\verb|0,|\\verb| |\\verb|1,|\\verb| |\\verb|0,|\\verb| |\\verb|0,|\\verb| |\\verb|1,|\\verb| |\\verb|1,|\\verb| |\\verb|0)|\\)</html>"
      ],
      "text/latex": [
       "$\\displaystyle \\verb|A|\\verb| |\\verb|ray|\\verb| |\\verb|in|\\verb| |\\verb|the|\\verb| |\\verb|direction|\\verb| |\\verb|(1,|\\verb| |\\verb|1,|\\verb| |\\verb|0,|\\verb| |\\verb|0,|\\verb| |\\verb|0,|\\verb| |\\verb|0,|\\verb| |\\verb|0,|\\verb| |\\verb|1,|\\verb| |\\verb|0,|\\verb| |\\verb|1,|\\verb| |\\verb|0,|\\verb| |\\verb|0,|\\verb| |\\verb|1,|\\verb| |\\verb|1,|\\verb| |\\verb|0)|$"
      ],
      "text/plain": [
       "A ray in the direction (1, 1, 0, 0, 0, 0, 0, 1, 0, 1, 0, 0, 1, 1, 0)"
      ]
     },
     "metadata": {},
     "output_type": "display_data"
    }
   ],
   "source": [
    "for ray in cv.rays():\n",
    "    display(ray)"
   ]
  },
  {
   "cell_type": "code",
   "execution_count": 8,
   "id": "e57989da-21e2-492a-8405-78a428dd060f",
   "metadata": {},
   "outputs": [
    {
     "data": {
      "text/html": [
       "<html>\\(\\displaystyle 10\\)</html>"
      ],
      "text/latex": [
       "$\\displaystyle 10$"
      ],
      "text/plain": [
       "10"
      ]
     },
     "execution_count": 8,
     "metadata": {},
     "output_type": "execute_result"
    }
   ],
   "source": [
    "ieqs = cv.inequalities()\n",
    "len(ieqs)"
   ]
  },
  {
   "cell_type": "code",
   "execution_count": 9,
   "id": "18228846-3656-41cc-8cc4-382bf26ca44d",
   "metadata": {},
   "outputs": [
    {
     "data": {
      "text/html": [
       "<html>\\(\\displaystyle \\left(\\begin{array}{rrrrrrrrrrrrrrr}\n",
       "0 & 0 & -1 & -1 & 0 & 0 & 0 & 1 & -1 & 2 & 0 & 0 & 1 & 0 & 0 \\\\\n",
       "2 & 0 & 1 & 1 & 0 & 0 & 0 & -1 & -1 & 0 & 0 & 0 & -1 & 0 & 0 \\\\\n",
       "2 & 0 & 1 & 1 & 0 & 0 & 0 & -1 & 1 & -2 & -2 & 0 & 1 & 0 & 0 \\\\\n",
       "0 & 0 & -1 & -1 & 0 & 0 & 0 & 1 & 1 & 0 & 2 & 0 & -1 & 0 & 0 \\\\\n",
       "0 & 2 & 1 & 1 & 0 & 0 & 0 & 1 & 1 & -2 & 0 & 0 & -1 & 0 & -2 \\\\\n",
       "0 & 0 & 1 & -1 & 0 & 0 & 0 & -1 & -1 & 0 & 0 & 0 & 1 & 0 & 2 \\\\\n",
       "0 & 2 & -1 & 1 & 0 & 0 & 0 & -1 & 1 & 0 & 0 & 0 & -1 & 0 & 0 \\\\\n",
       "-2 & -2 & 1 & -1 & 0 & 0 & 0 & 1 & 1 & 2 & 0 & 0 & 1 & 0 & 0 \\\\\n",
       "0 & -2 & 1 & 1 & 0 & 0 & 0 & 1 & -1 & 0 & -2 & 0 & 1 & 0 & 2 \\\\\n",
       "-2 & 0 & -1 & 1 & 0 & 0 & 0 & 1 & 1 & 0 & 2 & 0 & 1 & 0 & -2\n",
       "\\end{array}\\right) x \\geq \\vec 0\\)</html>"
      ],
      "text/latex": [
       "$\\displaystyle \\left(\\begin{array}{rrrrrrrrrrrrrrr}\n",
       "0 & 0 & -1 & -1 & 0 & 0 & 0 & 1 & -1 & 2 & 0 & 0 & 1 & 0 & 0 \\\\\n",
       "2 & 0 & 1 & 1 & 0 & 0 & 0 & -1 & -1 & 0 & 0 & 0 & -1 & 0 & 0 \\\\\n",
       "2 & 0 & 1 & 1 & 0 & 0 & 0 & -1 & 1 & -2 & -2 & 0 & 1 & 0 & 0 \\\\\n",
       "0 & 0 & -1 & -1 & 0 & 0 & 0 & 1 & 1 & 0 & 2 & 0 & -1 & 0 & 0 \\\\\n",
       "0 & 2 & 1 & 1 & 0 & 0 & 0 & 1 & 1 & -2 & 0 & 0 & -1 & 0 & -2 \\\\\n",
       "0 & 0 & 1 & -1 & 0 & 0 & 0 & -1 & -1 & 0 & 0 & 0 & 1 & 0 & 2 \\\\\n",
       "0 & 2 & -1 & 1 & 0 & 0 & 0 & -1 & 1 & 0 & 0 & 0 & -1 & 0 & 0 \\\\\n",
       "-2 & -2 & 1 & -1 & 0 & 0 & 0 & 1 & 1 & 2 & 0 & 0 & 1 & 0 & 0 \\\\\n",
       "0 & -2 & 1 & 1 & 0 & 0 & 0 & 1 & -1 & 0 & -2 & 0 & 1 & 0 & 2 \\\\\n",
       "-2 & 0 & -1 & 1 & 0 & 0 & 0 & 1 & 1 & 0 & 2 & 0 & 1 & 0 & -2\n",
       "\\end{array}\\right) x \\geq \\vec 0$"
      ],
      "text/plain": [
       "\\left(\\begin{array}{rrrrrrrrrrrrrrr}\n",
       "0 & 0 & -1 & -1 & 0 & 0 & 0 & 1 & -1 & 2 & 0 & 0 & 1 & 0 & 0 \\\\\n",
       "2 & 0 & 1 & 1 & 0 & 0 & 0 & -1 & -1 & 0 & 0 & 0 & -1 & 0 & 0 \\\\\n",
       "2 & 0 & 1 & 1 & 0 & 0 & 0 & -1 & 1 & -2 & -2 & 0 & 1 & 0 & 0 \\\\\n",
       "0 & 0 & -1 & -1 & 0 & 0 & 0 & 1 & 1 & 0 & 2 & 0 & -1 & 0 & 0 \\\\\n",
       "0 & 2 & 1 & 1 & 0 & 0 & 0 & 1 & 1 & -2 & 0 & 0 & -1 & 0 & -2 \\\\\n",
       "0 & 0 & 1 & -1 & 0 & 0 & 0 & -1 & -1 & 0 & 0 & 0 & 1 & 0 & 2 \\\\\n",
       "0 & 2 & -1 & 1 & 0 & 0 & 0 & -1 & 1 & 0 & 0 & 0 & -1 & 0 & 0 \\\\\n",
       "-2 & -2 & 1 & -1 & 0 & 0 & 0 & 1 & 1 & 2 & 0 & 0 & 1 & 0 & 0 \\\\\n",
       "0 & -2 & 1 & 1 & 0 & 0 & 0 & 1 & -1 & 0 & -2 & 0 & 1 & 0 & 2 \\\\\n",
       "-2 & 0 & -1 & 1 & 0 & 0 & 0 & 1 & 1 & 0 & 2 & 0 & 1 & 0 & -2\n",
       "\\end{array}\\right) x \\geq \\vec 0"
      ]
     },
     "execution_count": 9,
     "metadata": {},
     "output_type": "execute_result"
    }
   ],
   "source": [
    "%display latex\n",
    "A = Matrix([i.vector()[1:16] for i in ieqs])\n",
    "latex(A) + latex(x) + \"\\\\geq \\\\vec 0\""
   ]
  },
  {
   "cell_type": "code",
   "execution_count": 10,
   "id": "48212f2b-9121-401a-b2b6-51c899586b8b",
   "metadata": {},
   "outputs": [
    {
     "data": {
      "text/html": [
       "<html>\\(\\displaystyle \\left(\\begin{array}{rrrrrrrrrrrrrrr}\n",
       "1 & 0 & 1 & 1 & -1 & 0 & 0 & 0 & 0 & -1 & -1 & 0 & 0 & 0 & 0 \\\\\n",
       "0 & 1 & -1 & 0 & 0 & 1 & 0 & 0 & 0 & 0 & 1 & 0 & -1 & 0 & -1 \\\\\n",
       "0 & 1 & 0 & 1 & 0 & 0 & -1 & 0 & 1 & -1 & 0 & 0 & 0 & 0 & -1 \\\\\n",
       "1 & 0 & 0 & 0 & 0 & 0 & 0 & -1 & -1 & 0 & -1 & 1 & 0 & 0 & 1 \\\\\n",
       "1 & 1 & 0 & 0 & 0 & 0 & 0 & -1 & 0 & -1 & 0 & 0 & -1 & 1 & 0\n",
       "\\end{array}\\right) x = \\vec 0\\)</html>"
      ],
      "text/latex": [
       "$\\displaystyle \\left(\\begin{array}{rrrrrrrrrrrrrrr}\n",
       "1 & 0 & 1 & 1 & -1 & 0 & 0 & 0 & 0 & -1 & -1 & 0 & 0 & 0 & 0 \\\\\n",
       "0 & 1 & -1 & 0 & 0 & 1 & 0 & 0 & 0 & 0 & 1 & 0 & -1 & 0 & -1 \\\\\n",
       "0 & 1 & 0 & 1 & 0 & 0 & -1 & 0 & 1 & -1 & 0 & 0 & 0 & 0 & -1 \\\\\n",
       "1 & 0 & 0 & 0 & 0 & 0 & 0 & -1 & -1 & 0 & -1 & 1 & 0 & 0 & 1 \\\\\n",
       "1 & 1 & 0 & 0 & 0 & 0 & 0 & -1 & 0 & -1 & 0 & 0 & -1 & 1 & 0\n",
       "\\end{array}\\right) x = \\vec 0$"
      ],
      "text/plain": [
       "\\left(\\begin{array}{rrrrrrrrrrrrrrr}\n",
       "1 & 0 & 1 & 1 & -1 & 0 & 0 & 0 & 0 & -1 & -1 & 0 & 0 & 0 & 0 \\\\\n",
       "0 & 1 & -1 & 0 & 0 & 1 & 0 & 0 & 0 & 0 & 1 & 0 & -1 & 0 & -1 \\\\\n",
       "0 & 1 & 0 & 1 & 0 & 0 & -1 & 0 & 1 & -1 & 0 & 0 & 0 & 0 & -1 \\\\\n",
       "1 & 0 & 0 & 0 & 0 & 0 & 0 & -1 & -1 & 0 & -1 & 1 & 0 & 0 & 1 \\\\\n",
       "1 & 1 & 0 & 0 & 0 & 0 & 0 & -1 & 0 & -1 & 0 & 0 & -1 & 1 & 0\n",
       "\\end{array}\\right) x = \\vec 0"
      ]
     },
     "execution_count": 10,
     "metadata": {},
     "output_type": "execute_result"
    }
   ],
   "source": [
    "%display latex\n",
    "eqs = cv.equations()\n",
    "\n",
    "B = Matrix([i.vector()[1:16] for i in eqs])\n",
    "latex(B) + latex(x) + \"= \\\\vec 0\""
   ]
  },
  {
   "cell_type": "code",
   "execution_count": 11,
   "id": "14263585-6fb0-4fe8-88ea-3a367ecf9c79",
   "metadata": {},
   "outputs": [
    {
     "data": {
      "text/html": [
       "<html>\\(\\displaystyle 15\\)</html>"
      ],
      "text/latex": [
       "$\\displaystyle 15$"
      ],
      "text/plain": [
       "15"
      ]
     },
     "execution_count": 11,
     "metadata": {},
     "output_type": "execute_result"
    }
   ],
   "source": [
    "C = Matrix([i.vector()[1:16] for i in eqs]+[i.vector()[1:16] for i in ieqs])\n",
    "C.rank()"
   ]
  },
  {
   "cell_type": "code",
   "execution_count": 12,
   "id": "22833b2b-a942-43f3-b419-c778b20523ad",
   "metadata": {},
   "outputs": [
    {
     "data": {
      "text/html": [
       "<html>\\(\\displaystyle \\left(-V\\left(K_{1}, K_{5}\\right) V\\left(K_{2}, K_{6}\\right) V\\left(K_{3}, K_{4}\\right) + V\\left(K_{1}, K_{4}\\right) V\\left(K_{2}, K_{6}\\right) V\\left(K_{3}, K_{5}\\right) + V\\left(K_{1}, K_{5}\\right) V\\left(K_{2}, K_{3}\\right) V\\left(K_{4}, K_{6}\\right) - V\\left(K_{1}, K_{2}\\right) V\\left(K_{3}, K_{5}\\right) V\\left(K_{4}, K_{6}\\right) - V\\left(K_{1}, K_{4}\\right) V\\left(K_{2}, K_{3}\\right) V\\left(K_{5}, K_{6}\\right) + V\\left(K_{1}, K_{2}\\right) V\\left(K_{3}, K_{4}\\right) V\\left(K_{5}, K_{6}\\right)\\right)\\)</html>"
      ],
      "text/latex": [
       "$\\displaystyle \\left(-V\\left(K_{1}, K_{5}\\right) V\\left(K_{2}, K_{6}\\right) V\\left(K_{3}, K_{4}\\right) + V\\left(K_{1}, K_{4}\\right) V\\left(K_{2}, K_{6}\\right) V\\left(K_{3}, K_{5}\\right) + V\\left(K_{1}, K_{5}\\right) V\\left(K_{2}, K_{3}\\right) V\\left(K_{4}, K_{6}\\right) - V\\left(K_{1}, K_{2}\\right) V\\left(K_{3}, K_{5}\\right) V\\left(K_{4}, K_{6}\\right) - V\\left(K_{1}, K_{4}\\right) V\\left(K_{2}, K_{3}\\right) V\\left(K_{5}, K_{6}\\right) + V\\left(K_{1}, K_{2}\\right) V\\left(K_{3}, K_{4}\\right) V\\left(K_{5}, K_{6}\\right)\\right)$"
      ],
      "text/plain": [
       "(-V(K_1, K_5)*V(K_2, K_6)*V(K_3, K_4) + V(K_1, K_4)*V(K_2, K_6)*V(K_3, K_5) + V(K_1, K_5)*V(K_2, K_3)*V(K_4, K_6) - V(K_1, K_2)*V(K_3, K_5)*V(K_4, K_6) - V(K_1, K_4)*V(K_2, K_3)*V(K_5, K_6) + V(K_1, K_2)*V(K_3, K_4)*V(K_5, K_6))"
      ]
     },
     "execution_count": 12,
     "metadata": {},
     "output_type": "execute_result"
    }
   ],
   "source": [
    "(eqs[0].vector()[1:16] * x_vec)"
   ]
  },
  {
   "cell_type": "code",
   "execution_count": 13,
   "id": "83b88dc8-a31f-45bc-81c4-66780cf7d979",
   "metadata": {},
   "outputs": [
    {
     "data": {
      "text/html": [
       "<html>\\(\\displaystyle 10\\)</html>"
      ],
      "text/latex": [
       "$\\displaystyle 10$"
      ],
      "text/plain": [
       "10"
      ]
     },
     "execution_count": 13,
     "metadata": {},
     "output_type": "execute_result"
    }
   ],
   "source": [
    "cv.dimension()"
   ]
  },
  {
   "cell_type": "markdown",
   "id": "30834e00-6e23-4d43-8eed-fa2fb4a15d19",
   "metadata": {},
   "source": [
    "Next, we'd like to determine how many fundamental relations we have.\n",
    "\n",
    "If we permute the labels of our six bodies, we expect to get the same set of relations. However, appling these permutations to any one relation is sure to change it. We'd like to determine how many of these relations are simply a permuted form of another relation and how many are fundamentally unique.\n",
    "\n",
    "These permutations, represented by the symmetric group $S_{6}$, induce another permutation group $G < S_{15}$ on the terms of the relations. This group acts on our set of relations and produce orbits of fundamentally equivalent relations.\n",
    "\n",
    "To find these orbits, we can simply use SageMath's orbit API."
   ]
  },
  {
   "cell_type": "code",
   "execution_count": 14,
   "id": "81e578bb-a39b-442e-80ef-fe5b68326d1a",
   "metadata": {
    "scrolled": true
   },
   "outputs": [
    {
     "data": {
      "text/html": [
       "<html>\\(\\displaystyle \\mathrm{True}\\)</html>"
      ],
      "text/latex": [
       "$\\displaystyle \\mathrm{True}$"
      ],
      "text/plain": [
       "True"
      ]
     },
     "execution_count": 14,
     "metadata": {},
     "output_type": "execute_result"
    }
   ],
   "source": [
    "sg = SymmetricGroup(6)\n",
    "\n",
    "term_list = list(terms)\n",
    "g = PermutationGroup([\n",
    "    term_permutation_from_body_permutation(p, term_list) for p in sg\n",
    "])\n",
    "g.is_subgroup(SymmetricGroup(15))"
   ]
  },
  {
   "cell_type": "code",
   "execution_count": 15,
   "id": "e1fb08b5-010c-45dc-999e-740e553aefcb",
   "metadata": {},
   "outputs": [
    {
     "data": {
      "text/html": [
       "<html>\\(\\displaystyle \\left[\\left(1\\right), \\left(2, 3\\right), \\left(4, 14\\right), \\left(5, 8\\right), \\left(6, 15\\right), \\left(7, 12\\right), \\left(9\\right), \\left(10\\right), \\left(11, 13\\right)\\right]\\)</html>"
      ],
      "text/latex": [
       "$\\displaystyle \\left[\\left(1\\right), \\left(2, 3\\right), \\left(4, 14\\right), \\left(5, 8\\right), \\left(6, 15\\right), \\left(7, 12\\right), \\left(9\\right), \\left(10\\right), \\left(11, 13\\right)\\right]$"
      ],
      "text/plain": [
       "[(1,), (2, 3), (4, 14), (5, 8), (6, 15), (7, 12), (9,), (10,), (11, 13)]"
      ]
     },
     "execution_count": 15,
     "metadata": {},
     "output_type": "execute_result"
    }
   ],
   "source": [
    "term_permutation_from_body_permutation(Permutation(\"(1,2)(6)\"),term_list).to_cycles()"
   ]
  },
  {
   "cell_type": "code",
   "execution_count": 16,
   "id": "a4ff4752-f958-4559-aead-6211798a51c2",
   "metadata": {},
   "outputs": [
    {
     "data": {
      "text/html": [
       "<html>\\(\\displaystyle 720\\)</html>"
      ],
      "text/latex": [
       "$\\displaystyle 720$"
      ],
      "text/plain": [
       "720"
      ]
     },
     "execution_count": 16,
     "metadata": {},
     "output_type": "execute_result"
    }
   ],
   "source": [
    "len(g.gens())"
   ]
  },
  {
   "cell_type": "code",
   "execution_count": 17,
   "id": "e325c923-5a48-42ef-b1d3-cc304de3b2df",
   "metadata": {
    "scrolled": true
   },
   "outputs": [
    {
     "data": {
      "text/html": [
       "<html>\\(\\displaystyle 720\\)</html>"
      ],
      "text/latex": [
       "$\\displaystyle 720$"
      ],
      "text/plain": [
       "720"
      ]
     },
     "execution_count": 17,
     "metadata": {},
     "output_type": "execute_result"
    }
   ],
   "source": [
    "len(g)"
   ]
  },
  {
   "cell_type": "code",
   "execution_count": 28,
   "id": "514f8e00-1ff5-4753-b05b-cd3df9ddbff7",
   "metadata": {},
   "outputs": [
    {
     "name": "stdout",
     "output_type": "stream",
     "text": [
      "Orbit of size 60 with representative:\n"
     ]
    },
    {
     "data": {
      "text/html": [
       "<html>\\(\\displaystyle V\\left(K_{1}, K_{6}\\right) V\\left(K_{2}, K_{5}\\right) V\\left(K_{3}, K_{4}\\right) - V\\left(K_{1}, K_{4}\\right) V\\left(K_{2}, K_{6}\\right) V\\left(K_{3}, K_{5}\\right) - V\\left(K_{1}, K_{2}\\right) V\\left(K_{3}, K_{6}\\right) V\\left(K_{4}, K_{5}\\right) - V\\left(K_{1}, K_{5}\\right) V\\left(K_{2}, K_{3}\\right) V\\left(K_{4}, K_{6}\\right) + 2 \\, V\\left(K_{1}, K_{2}\\right) V\\left(K_{3}, K_{5}\\right) V\\left(K_{4}, K_{6}\\right) + V\\left(K_{1}, K_{3}\\right) V\\left(K_{2}, K_{4}\\right) V\\left(K_{5}, K_{6}\\right)\\)</html>"
      ],
      "text/latex": [
       "$\\displaystyle V\\left(K_{1}, K_{6}\\right) V\\left(K_{2}, K_{5}\\right) V\\left(K_{3}, K_{4}\\right) - V\\left(K_{1}, K_{4}\\right) V\\left(K_{2}, K_{6}\\right) V\\left(K_{3}, K_{5}\\right) - V\\left(K_{1}, K_{2}\\right) V\\left(K_{3}, K_{6}\\right) V\\left(K_{4}, K_{5}\\right) - V\\left(K_{1}, K_{5}\\right) V\\left(K_{2}, K_{3}\\right) V\\left(K_{4}, K_{6}\\right) + 2 \\, V\\left(K_{1}, K_{2}\\right) V\\left(K_{3}, K_{5}\\right) V\\left(K_{4}, K_{6}\\right) + V\\left(K_{1}, K_{3}\\right) V\\left(K_{2}, K_{4}\\right) V\\left(K_{5}, K_{6}\\right)$"
      ],
      "text/plain": [
       "V(K_1, K_6)*V(K_2, K_5)*V(K_3, K_4) - V(K_1, K_4)*V(K_2, K_6)*V(K_3, K_5) - V(K_1, K_2)*V(K_3, K_6)*V(K_4, K_5) - V(K_1, K_5)*V(K_2, K_3)*V(K_4, K_6) + 2*V(K_1, K_2)*V(K_3, K_5)*V(K_4, K_6) + V(K_1, K_3)*V(K_2, K_4)*V(K_5, K_6)"
      ]
     },
     "metadata": {},
     "output_type": "display_data"
    },
    {
     "name": "stdout",
     "output_type": "stream",
     "text": [
      "Orbit of size 180 with representative:\n"
     ]
    },
    {
     "data": {
      "text/html": [
       "<html>\\(\\displaystyle V\\left(K_{1}, K_{6}\\right) V\\left(K_{2}, K_{5}\\right) V\\left(K_{3}, K_{4}\\right) - 2 \\, V\\left(K_{1}, K_{5}\\right) V\\left(K_{2}, K_{6}\\right) V\\left(K_{3}, K_{4}\\right) + V\\left(K_{1}, K_{4}\\right) V\\left(K_{2}, K_{6}\\right) V\\left(K_{3}, K_{5}\\right) + V\\left(K_{1}, K_{2}\\right) V\\left(K_{3}, K_{6}\\right) V\\left(K_{4}, K_{5}\\right) + V\\left(K_{1}, K_{5}\\right) V\\left(K_{2}, K_{3}\\right) V\\left(K_{4}, K_{6}\\right) - 2 \\, V\\left(K_{1}, K_{2}\\right) V\\left(K_{3}, K_{5}\\right) V\\left(K_{4}, K_{6}\\right) - V\\left(K_{1}, K_{3}\\right) V\\left(K_{2}, K_{4}\\right) V\\left(K_{5}, K_{6}\\right) + 2 \\, V\\left(K_{1}, K_{2}\\right) V\\left(K_{3}, K_{4}\\right) V\\left(K_{5}, K_{6}\\right)\\)</html>"
      ],
      "text/latex": [
       "$\\displaystyle V\\left(K_{1}, K_{6}\\right) V\\left(K_{2}, K_{5}\\right) V\\left(K_{3}, K_{4}\\right) - 2 \\, V\\left(K_{1}, K_{5}\\right) V\\left(K_{2}, K_{6}\\right) V\\left(K_{3}, K_{4}\\right) + V\\left(K_{1}, K_{4}\\right) V\\left(K_{2}, K_{6}\\right) V\\left(K_{3}, K_{5}\\right) + V\\left(K_{1}, K_{2}\\right) V\\left(K_{3}, K_{6}\\right) V\\left(K_{4}, K_{5}\\right) + V\\left(K_{1}, K_{5}\\right) V\\left(K_{2}, K_{3}\\right) V\\left(K_{4}, K_{6}\\right) - 2 \\, V\\left(K_{1}, K_{2}\\right) V\\left(K_{3}, K_{5}\\right) V\\left(K_{4}, K_{6}\\right) - V\\left(K_{1}, K_{3}\\right) V\\left(K_{2}, K_{4}\\right) V\\left(K_{5}, K_{6}\\right) + 2 \\, V\\left(K_{1}, K_{2}\\right) V\\left(K_{3}, K_{4}\\right) V\\left(K_{5}, K_{6}\\right)$"
      ],
      "text/plain": [
       "V(K_1, K_6)*V(K_2, K_5)*V(K_3, K_4) - 2*V(K_1, K_5)*V(K_2, K_6)*V(K_3, K_4) + V(K_1, K_4)*V(K_2, K_6)*V(K_3, K_5) + V(K_1, K_2)*V(K_3, K_6)*V(K_4, K_5) + V(K_1, K_5)*V(K_2, K_3)*V(K_4, K_6) - 2*V(K_1, K_2)*V(K_3, K_5)*V(K_4, K_6) - V(K_1, K_3)*V(K_2, K_4)*V(K_5, K_6) + 2*V(K_1, K_2)*V(K_3, K_4)*V(K_5, K_6)"
      ]
     },
     "metadata": {},
     "output_type": "display_data"
    }
   ],
   "source": [
    "ieq_orbits = get_all_orbits([ieq.vector()[1:16] for ieq in ieqs], g)\n",
    "for orbit in ieq_orbits:\n",
    "    print(f\"Orbit of size {len(orbit)} with representative:\")\n",
    "    display((orbit[0]*x_vec)[0])"
   ]
  },
  {
   "cell_type": "code",
   "execution_count": 29,
   "id": "09161a90-9d67-41af-b300-562625643fdd",
   "metadata": {
    "scrolled": true
   },
   "outputs": [
    {
     "name": "stdout",
     "output_type": "stream",
     "text": [
      "Orbit of size 20 with representative:\n"
     ]
    },
    {
     "data": {
      "text/html": [
       "<html>\\(\\displaystyle -V\\left(K_{1}, K_{5}\\right) V\\left(K_{2}, K_{6}\\right) V\\left(K_{3}, K_{4}\\right) + V\\left(K_{1}, K_{4}\\right) V\\left(K_{2}, K_{6}\\right) V\\left(K_{3}, K_{5}\\right) + V\\left(K_{1}, K_{5}\\right) V\\left(K_{2}, K_{3}\\right) V\\left(K_{4}, K_{6}\\right) - V\\left(K_{1}, K_{2}\\right) V\\left(K_{3}, K_{5}\\right) V\\left(K_{4}, K_{6}\\right) - V\\left(K_{1}, K_{4}\\right) V\\left(K_{2}, K_{3}\\right) V\\left(K_{5}, K_{6}\\right) + V\\left(K_{1}, K_{2}\\right) V\\left(K_{3}, K_{4}\\right) V\\left(K_{5}, K_{6}\\right)\\)</html>"
      ],
      "text/latex": [
       "$\\displaystyle -V\\left(K_{1}, K_{5}\\right) V\\left(K_{2}, K_{6}\\right) V\\left(K_{3}, K_{4}\\right) + V\\left(K_{1}, K_{4}\\right) V\\left(K_{2}, K_{6}\\right) V\\left(K_{3}, K_{5}\\right) + V\\left(K_{1}, K_{5}\\right) V\\left(K_{2}, K_{3}\\right) V\\left(K_{4}, K_{6}\\right) - V\\left(K_{1}, K_{2}\\right) V\\left(K_{3}, K_{5}\\right) V\\left(K_{4}, K_{6}\\right) - V\\left(K_{1}, K_{4}\\right) V\\left(K_{2}, K_{3}\\right) V\\left(K_{5}, K_{6}\\right) + V\\left(K_{1}, K_{2}\\right) V\\left(K_{3}, K_{4}\\right) V\\left(K_{5}, K_{6}\\right)$"
      ],
      "text/plain": [
       "-V(K_1, K_5)*V(K_2, K_6)*V(K_3, K_4) + V(K_1, K_4)*V(K_2, K_6)*V(K_3, K_5) + V(K_1, K_5)*V(K_2, K_3)*V(K_4, K_6) - V(K_1, K_2)*V(K_3, K_5)*V(K_4, K_6) - V(K_1, K_4)*V(K_2, K_3)*V(K_5, K_6) + V(K_1, K_2)*V(K_3, K_4)*V(K_5, K_6)"
      ]
     },
     "metadata": {},
     "output_type": "display_data"
    }
   ],
   "source": [
    "eq_orbits = get_all_orbits([eq.vector()[1:16] for eq in eqs], g)\n",
    "for orbit in eq_orbits:\n",
    "    print(f\"Orbit of size {len(orbit)} with representative:\")\n",
    "    display((orbit[0]*x_vec)[0])"
   ]
  },
  {
   "cell_type": "markdown",
   "id": "7054fff8-9ebb-4edf-a18f-02f70e05aecd",
   "metadata": {},
   "source": [
    "## Proof via Plucker Relations?"
   ]
  },
  {
   "cell_type": "code",
   "execution_count": 22,
   "id": "b04a4611-9f2d-48fc-987f-6e2c0901487d",
   "metadata": {},
   "outputs": [
    {
     "data": {
      "text/html": [
       "<html>\\(\\displaystyle \\left(\\begin{array}{rrrrrrrrrrrrrrr}\n",
       "-1 & 0 & 0 & 0 & -1 & 0 & 0 & 1 & 0 & 0 & 0 & 0 & 0 & 0 & 0 \\\\\n",
       "0 & 1 & -1 & 0 & 0 & 0 & 0 & 0 & 0 & -1 & 0 & 0 & 0 & 0 & 0 \\\\\n",
       "0 & 0 & 0 & 0 & 0 & -1 & 0 & 0 & -1 & 0 & 0 & 0 & 0 & 0 & 1 \\\\\n",
       "0 & 0 & 0 & 0 & 0 & 0 & 1 & 0 & -1 & 0 & 0 & -1 & 0 & 0 & 0 \\\\\n",
       "0 & 0 & 0 & 1 & 0 & 0 & 0 & 0 & 0 & -1 & 0 & 0 & 0 & -1 & 0 \\\\\n",
       "-1 & 0 & 0 & 0 & 0 & 0 & 0 & 0 & 0 & 0 & 1 & 0 & -1 & 0 & 0 \\\\\n",
       "0 & 0 & 0 & 1 & 0 & 0 & 0 & 0 & 0 & 0 & -1 & 0 & 0 & 0 & -1 \\\\\n",
       "0 & -1 & 0 & 0 & 0 & 0 & 1 & 0 & 0 & 0 & 0 & 0 & -1 & 0 & 0 \\\\\n",
       "0 & 0 & 0 & 0 & 0 & 0 & 0 & -1 & 0 & 0 & 0 & 1 & 0 & -1 & 0 \\\\\n",
       "0 & 0 & 1 & 0 & -1 & -1 & 0 & 0 & 0 & 0 & 0 & 0 & 0 & 0 & 0 \\\\\n",
       "0 & 0 & 0 & 0 & 0 & -1 & 0 & 0 & 0 & 0 & 0 & 0 & -1 & 1 & 0 \\\\\n",
       "0 & 0 & -1 & 0 & 0 & 0 & 0 & 0 & 0 & 0 & -1 & 1 & 0 & 0 & 0 \\\\\n",
       "0 & 0 & 0 & -1 & -1 & 0 & 1 & 0 & 0 & 0 & 0 & 0 & 0 & 0 & 0 \\\\\n",
       "0 & 1 & 0 & 0 & 0 & 0 & 0 & -1 & 0 & 0 & 0 & 0 & 0 & 0 & -1 \\\\\n",
       "-1 & 0 & 0 & 0 & 0 & 0 & 0 & 0 & -1 & 1 & 0 & 0 & 0 & 0 & 0\n",
       "\\end{array}\\right) x = \\vec 0\\)</html>"
      ],
      "text/latex": [
       "$\\displaystyle \\left(\\begin{array}{rrrrrrrrrrrrrrr}\n",
       "-1 & 0 & 0 & 0 & -1 & 0 & 0 & 1 & 0 & 0 & 0 & 0 & 0 & 0 & 0 \\\\\n",
       "0 & 1 & -1 & 0 & 0 & 0 & 0 & 0 & 0 & -1 & 0 & 0 & 0 & 0 & 0 \\\\\n",
       "0 & 0 & 0 & 0 & 0 & -1 & 0 & 0 & -1 & 0 & 0 & 0 & 0 & 0 & 1 \\\\\n",
       "0 & 0 & 0 & 0 & 0 & 0 & 1 & 0 & -1 & 0 & 0 & -1 & 0 & 0 & 0 \\\\\n",
       "0 & 0 & 0 & 1 & 0 & 0 & 0 & 0 & 0 & -1 & 0 & 0 & 0 & -1 & 0 \\\\\n",
       "-1 & 0 & 0 & 0 & 0 & 0 & 0 & 0 & 0 & 0 & 1 & 0 & -1 & 0 & 0 \\\\\n",
       "0 & 0 & 0 & 1 & 0 & 0 & 0 & 0 & 0 & 0 & -1 & 0 & 0 & 0 & -1 \\\\\n",
       "0 & -1 & 0 & 0 & 0 & 0 & 1 & 0 & 0 & 0 & 0 & 0 & -1 & 0 & 0 \\\\\n",
       "0 & 0 & 0 & 0 & 0 & 0 & 0 & -1 & 0 & 0 & 0 & 1 & 0 & -1 & 0 \\\\\n",
       "0 & 0 & 1 & 0 & -1 & -1 & 0 & 0 & 0 & 0 & 0 & 0 & 0 & 0 & 0 \\\\\n",
       "0 & 0 & 0 & 0 & 0 & -1 & 0 & 0 & 0 & 0 & 0 & 0 & -1 & 1 & 0 \\\\\n",
       "0 & 0 & -1 & 0 & 0 & 0 & 0 & 0 & 0 & 0 & -1 & 1 & 0 & 0 & 0 \\\\\n",
       "0 & 0 & 0 & -1 & -1 & 0 & 1 & 0 & 0 & 0 & 0 & 0 & 0 & 0 & 0 \\\\\n",
       "0 & 1 & 0 & 0 & 0 & 0 & 0 & -1 & 0 & 0 & 0 & 0 & 0 & 0 & -1 \\\\\n",
       "-1 & 0 & 0 & 0 & 0 & 0 & 0 & 0 & -1 & 1 & 0 & 0 & 0 & 0 & 0\n",
       "\\end{array}\\right) x = \\vec 0$"
      ],
      "text/plain": [
       "\\left(\\begin{array}{rrrrrrrrrrrrrrr}\n",
       "-1 & 0 & 0 & 0 & -1 & 0 & 0 & 1 & 0 & 0 & 0 & 0 & 0 & 0 & 0 \\\\\n",
       "0 & 1 & -1 & 0 & 0 & 0 & 0 & 0 & 0 & -1 & 0 & 0 & 0 & 0 & 0 \\\\\n",
       "0 & 0 & 0 & 0 & 0 & -1 & 0 & 0 & -1 & 0 & 0 & 0 & 0 & 0 & 1 \\\\\n",
       "0 & 0 & 0 & 0 & 0 & 0 & 1 & 0 & -1 & 0 & 0 & -1 & 0 & 0 & 0 \\\\\n",
       "0 & 0 & 0 & 1 & 0 & 0 & 0 & 0 & 0 & -1 & 0 & 0 & 0 & -1 & 0 \\\\\n",
       "-1 & 0 & 0 & 0 & 0 & 0 & 0 & 0 & 0 & 0 & 1 & 0 & -1 & 0 & 0 \\\\\n",
       "0 & 0 & 0 & 1 & 0 & 0 & 0 & 0 & 0 & 0 & -1 & 0 & 0 & 0 & -1 \\\\\n",
       "0 & -1 & 0 & 0 & 0 & 0 & 1 & 0 & 0 & 0 & 0 & 0 & -1 & 0 & 0 \\\\\n",
       "0 & 0 & 0 & 0 & 0 & 0 & 0 & -1 & 0 & 0 & 0 & 1 & 0 & -1 & 0 \\\\\n",
       "0 & 0 & 1 & 0 & -1 & -1 & 0 & 0 & 0 & 0 & 0 & 0 & 0 & 0 & 0 \\\\\n",
       "0 & 0 & 0 & 0 & 0 & -1 & 0 & 0 & 0 & 0 & 0 & 0 & -1 & 1 & 0 \\\\\n",
       "0 & 0 & -1 & 0 & 0 & 0 & 0 & 0 & 0 & 0 & -1 & 1 & 0 & 0 & 0 \\\\\n",
       "0 & 0 & 0 & -1 & -1 & 0 & 1 & 0 & 0 & 0 & 0 & 0 & 0 & 0 & 0 \\\\\n",
       "0 & 1 & 0 & 0 & 0 & 0 & 0 & -1 & 0 & 0 & 0 & 0 & 0 & 0 & -1 \\\\\n",
       "-1 & 0 & 0 & 0 & 0 & 0 & 0 & 0 & -1 & 1 & 0 & 0 & 0 & 0 & 0\n",
       "\\end{array}\\right) x = \\vec 0"
      ]
     },
     "execution_count": 22,
     "metadata": {},
     "output_type": "execute_result"
    }
   ],
   "source": [
    "# Generate the plucker relation vectors\n",
    "bodies = Set(range(1, n+1))\n",
    "p_vecs = []\n",
    "for subset in Subsets(bodies, 4):\n",
    "    i,j,k,l = subset\n",
    "    r = bodies - subset\n",
    "    v = vector([0]*15)\n",
    "    v[term_list.index(Set([Set([i,j]), Set([k,l]), r]))] = -1\n",
    "    v[term_list.index(Set([Set([i,k]), Set([j,l]), r]))] = 1\n",
    "    v[term_list.index(Set([Set([i,l]), Set([j,k]), r]))] = -1\n",
    "    p_vecs.append(v)\n",
    "\n",
    "%display latex\n",
    "A = Matrix(p_vecs)\n",
    "latex(A) + latex(x) + \"= \\\\vec 0\""
   ]
  },
  {
   "cell_type": "code",
   "execution_count": 25,
   "id": "b045086f-d83c-4f80-84fa-99b40fb9dd19",
   "metadata": {},
   "outputs": [
    {
     "data": {
      "text/html": [
       "<html>\\(\\displaystyle \\newcommand{\\Bold}[1]{\\mathbf{#1}}\\mathrm{RowSpan}_{\\Bold{Q}}\\left(\\begin{array}{rrrrrrrrrrrrrrr}\n",
       "1 & 0 & 0 & 0 & 0 & 0 & 0 & 0 & 0 & 0 & -1 & 0 & 1 & 0 & 0 \\\\\n",
       "0 & 1 & 0 & 0 & 0 & 0 & 0 & 0 & 0 & 0 & 0 & -1 & 0 & 1 & -1 \\\\\n",
       "0 & 0 & 1 & 0 & 0 & 0 & 0 & 0 & 0 & 0 & 1 & -1 & 0 & 0 & 0 \\\\\n",
       "0 & 0 & 0 & 1 & 0 & 0 & 0 & 0 & 0 & 0 & -1 & 0 & 0 & 0 & -1 \\\\\n",
       "0 & 0 & 0 & 0 & 1 & 0 & 0 & 0 & 0 & 0 & 1 & -1 & -1 & 1 & 0 \\\\\n",
       "0 & 0 & 0 & 0 & 0 & 1 & 0 & 0 & 0 & 0 & 0 & 0 & 1 & -1 & 0 \\\\\n",
       "0 & 0 & 0 & 0 & 0 & 0 & 1 & 0 & 0 & 0 & 0 & -1 & -1 & 1 & -1 \\\\\n",
       "0 & 0 & 0 & 0 & 0 & 0 & 0 & 1 & 0 & 0 & 0 & -1 & 0 & 1 & 0 \\\\\n",
       "0 & 0 & 0 & 0 & 0 & 0 & 0 & 0 & 1 & 0 & 0 & 0 & -1 & 1 & -1 \\\\\n",
       "0 & 0 & 0 & 0 & 0 & 0 & 0 & 0 & 0 & 1 & -1 & 0 & 0 & 1 & -1\n",
       "\\end{array}\\right)\\)</html>"
      ],
      "text/latex": [
       "$\\displaystyle \\newcommand{\\Bold}[1]{\\mathbf{#1}}\\mathrm{RowSpan}_{\\Bold{Q}}\\left(\\begin{array}{rrrrrrrrrrrrrrr}\n",
       "1 & 0 & 0 & 0 & 0 & 0 & 0 & 0 & 0 & 0 & -1 & 0 & 1 & 0 & 0 \\\\\n",
       "0 & 1 & 0 & 0 & 0 & 0 & 0 & 0 & 0 & 0 & 0 & -1 & 0 & 1 & -1 \\\\\n",
       "0 & 0 & 1 & 0 & 0 & 0 & 0 & 0 & 0 & 0 & 1 & -1 & 0 & 0 & 0 \\\\\n",
       "0 & 0 & 0 & 1 & 0 & 0 & 0 & 0 & 0 & 0 & -1 & 0 & 0 & 0 & -1 \\\\\n",
       "0 & 0 & 0 & 0 & 1 & 0 & 0 & 0 & 0 & 0 & 1 & -1 & -1 & 1 & 0 \\\\\n",
       "0 & 0 & 0 & 0 & 0 & 1 & 0 & 0 & 0 & 0 & 0 & 0 & 1 & -1 & 0 \\\\\n",
       "0 & 0 & 0 & 0 & 0 & 0 & 1 & 0 & 0 & 0 & 0 & -1 & -1 & 1 & -1 \\\\\n",
       "0 & 0 & 0 & 0 & 0 & 0 & 0 & 1 & 0 & 0 & 0 & -1 & 0 & 1 & 0 \\\\\n",
       "0 & 0 & 0 & 0 & 0 & 0 & 0 & 0 & 1 & 0 & 0 & 0 & -1 & 1 & -1 \\\\\n",
       "0 & 0 & 0 & 0 & 0 & 0 & 0 & 0 & 0 & 1 & -1 & 0 & 0 & 1 & -1\n",
       "\\end{array}\\right)$"
      ],
      "text/plain": [
       "Vector space of degree 15 and dimension 10 over Rational Field\n",
       "User basis matrix:\n",
       "[ 1  0  0  0  0  0  0  0  0  0 -1  0  1  0  0]\n",
       "[ 0  1  0  0  0  0  0  0  0  0  0 -1  0  1 -1]\n",
       "[ 0  0  1  0  0  0  0  0  0  0  1 -1  0  0  0]\n",
       "[ 0  0  0  1  0  0  0  0  0  0 -1  0  0  0 -1]\n",
       "[ 0  0  0  0  1  0  0  0  0  0  1 -1 -1  1  0]\n",
       "[ 0  0  0  0  0  1  0  0  0  0  0  0  1 -1  0]\n",
       "[ 0  0  0  0  0  0  1  0  0  0  0 -1 -1  1 -1]\n",
       "[ 0  0  0  0  0  0  0  1  0  0  0 -1  0  1  0]\n",
       "[ 0  0  0  0  0  0  0  0  1  0  0  0 -1  1 -1]\n",
       "[ 0  0  0  0  0  0  0  0  0  1 -1  0  0  1 -1]"
      ]
     },
     "execution_count": 25,
     "metadata": {},
     "output_type": "execute_result"
    }
   ],
   "source": [
    "PS = (QQ^len(term_list)).span_of_basis(A.rref()[0:A.rank()])\n",
    "PS"
   ]
  },
  {
   "cell_type": "code",
   "execution_count": 32,
   "id": "555cf8ea-1dd9-43f6-a883-98fdd39bed08",
   "metadata": {},
   "outputs": [
    {
     "ename": "ArithmeticError",
     "evalue": "vector is not in free module",
     "output_type": "error",
     "traceback": [
      "\u001b[0;31m---------------------------------------------------------------------------\u001b[0m",
      "\u001b[0;31mArithmeticError\u001b[0m                           Traceback (most recent call last)",
      "Cell \u001b[0;32mIn[32], line 1\u001b[0m\n\u001b[0;32m----> 1\u001b[0m \u001b[43mPS\u001b[49m\u001b[38;5;241;43m.\u001b[39;49m\u001b[43mcoordinate_vector\u001b[49m\u001b[43m(\u001b[49m\u001b[43meq_orbits\u001b[49m\u001b[43m[\u001b[49m\u001b[43mInteger\u001b[49m\u001b[43m(\u001b[49m\u001b[38;5;241;43m0\u001b[39;49m\u001b[43m)\u001b[49m\u001b[43m]\u001b[49m\u001b[43m[\u001b[49m\u001b[43mInteger\u001b[49m\u001b[43m(\u001b[49m\u001b[38;5;241;43m0\u001b[39;49m\u001b[43m)\u001b[49m\u001b[43m]\u001b[49m\u001b[43m)\u001b[49m\n",
      "File \u001b[0;32m/nix/store/vr3vwy9fdw54lrfhks15qyk3fa2ab7h9-python3-3.10.12-env/lib/python3.10/site-packages/sage/modules/free_module.py:7410\u001b[0m, in \u001b[0;36mFreeModule_submodule_with_basis_pid.coordinate_vector\u001b[0;34m(self, v, check)\u001b[0m\n\u001b[1;32m   7381\u001b[0m \u001b[38;5;250m\u001b[39m\u001b[38;5;124;03m\"\"\"\u001b[39;00m\n\u001b[1;32m   7382\u001b[0m \u001b[38;5;124;03mWrite `v` in terms of the user basis for ``self``.\u001b[39;00m\n\u001b[1;32m   7383\u001b[0m \n\u001b[0;32m   (...)\u001b[0m\n\u001b[1;32m   7407\u001b[0m \u001b[38;5;124;03m    (8)\u001b[39;00m\n\u001b[1;32m   7408\u001b[0m \u001b[38;5;124;03m\"\"\"\u001b[39;00m\n\u001b[1;32m   7409\u001b[0m \u001b[38;5;66;03m# First find the coordinates of v wrt echelon basis.\u001b[39;00m\n\u001b[0;32m-> 7410\u001b[0m w \u001b[38;5;241m=\u001b[39m \u001b[38;5;28;43mself\u001b[39;49m\u001b[38;5;241;43m.\u001b[39;49m\u001b[43mechelon_coordinate_vector\u001b[49m\u001b[43m(\u001b[49m\u001b[43mv\u001b[49m\u001b[43m,\u001b[49m\u001b[43m \u001b[49m\u001b[43mcheck\u001b[49m\u001b[38;5;241;43m=\u001b[39;49m\u001b[43mcheck\u001b[49m\u001b[43m)\u001b[49m\n\u001b[1;32m   7411\u001b[0m \u001b[38;5;66;03m# Next use transformation matrix from echelon basis to\u001b[39;00m\n\u001b[1;32m   7412\u001b[0m \u001b[38;5;66;03m# user basis.\u001b[39;00m\n\u001b[1;32m   7413\u001b[0m T \u001b[38;5;241m=\u001b[39m \u001b[38;5;28mself\u001b[39m\u001b[38;5;241m.\u001b[39mechelon_to_user_matrix()\n",
      "File \u001b[0;32m/nix/store/vr3vwy9fdw54lrfhks15qyk3fa2ab7h9-python3-3.10.12-env/lib/python3.10/site-packages/sage/modules/free_module.py:7471\u001b[0m, in \u001b[0;36mFreeModule_submodule_with_basis_pid.echelon_coordinate_vector\u001b[0;34m(self, v, check)\u001b[0m\n\u001b[1;32m   7439\u001b[0m \u001b[38;5;28;01mdef\u001b[39;00m \u001b[38;5;21mechelon_coordinate_vector\u001b[39m(\u001b[38;5;28mself\u001b[39m, v, check\u001b[38;5;241m=\u001b[39m\u001b[38;5;28;01mTrue\u001b[39;00m):\n\u001b[1;32m   7440\u001b[0m \u001b[38;5;250m    \u001b[39m\u001b[38;5;124;03m\"\"\"\u001b[39;00m\n\u001b[1;32m   7441\u001b[0m \u001b[38;5;124;03m    Write `v` in terms of the echelonized basis for ``self``.\u001b[39;00m\n\u001b[1;32m   7442\u001b[0m \n\u001b[0;32m   (...)\u001b[0m\n\u001b[1;32m   7469\u001b[0m \u001b[38;5;124;03m        (1, 18)\u001b[39;00m\n\u001b[1;32m   7470\u001b[0m \u001b[38;5;124;03m    \"\"\"\u001b[39;00m\n\u001b[0;32m-> 7471\u001b[0m     \u001b[38;5;28;01mreturn\u001b[39;00m FreeModule(\u001b[38;5;28mself\u001b[39m\u001b[38;5;241m.\u001b[39mbase_ring()\u001b[38;5;241m.\u001b[39mfraction_field(), \u001b[38;5;28mself\u001b[39m\u001b[38;5;241m.\u001b[39mrank())(\u001b[38;5;28;43mself\u001b[39;49m\u001b[38;5;241;43m.\u001b[39;49m\u001b[43mechelon_coordinates\u001b[49m\u001b[43m(\u001b[49m\u001b[43mv\u001b[49m\u001b[43m,\u001b[49m\u001b[43m \u001b[49m\u001b[43mcheck\u001b[49m\u001b[38;5;241;43m=\u001b[39;49m\u001b[43mcheck\u001b[49m\u001b[43m)\u001b[49m)\n",
      "File \u001b[0;32m/nix/store/vr3vwy9fdw54lrfhks15qyk3fa2ab7h9-python3-3.10.12-env/lib/python3.10/site-packages/sage/modules/free_module.py:7008\u001b[0m, in \u001b[0;36mFreeModule_submodule_with_basis_pid.echelon_coordinates\u001b[0;34m(self, v, check)\u001b[0m\n\u001b[1;32m   7006\u001b[0m lc \u001b[38;5;241m=\u001b[39m E\u001b[38;5;241m.\u001b[39mlinear_combination_of_rows(x)\n\u001b[1;32m   7007\u001b[0m \u001b[38;5;28;01mif\u001b[39;00m \u001b[38;5;28mlist\u001b[39m(lc) \u001b[38;5;241m!=\u001b[39m \u001b[38;5;28mlist\u001b[39m(v):\n\u001b[0;32m-> 7008\u001b[0m     \u001b[38;5;28;01mraise\u001b[39;00m \u001b[38;5;167;01mArithmeticError\u001b[39;00m(\u001b[38;5;124m\"\u001b[39m\u001b[38;5;124mvector is not in free module\u001b[39m\u001b[38;5;124m\"\u001b[39m)\n\u001b[1;32m   7009\u001b[0m \u001b[38;5;28;01mreturn\u001b[39;00m x\n",
      "\u001b[0;31mArithmeticError\u001b[0m: vector is not in free module"
     ]
    }
   ],
   "source": [
    "PS.coordinate_vector(eq_orbits[0][0])"
   ]
  },
  {
   "cell_type": "code",
   "execution_count": 33,
   "id": "a4069a90-f7b2-4184-9ff8-129e160922ef",
   "metadata": {},
   "outputs": [
    {
     "data": {
      "text/html": [
       "<html>\\(\\displaystyle \\left(1,\\,0,\\,1,\\,1,\\,-1,\\,0,\\,0,\\,0,\\,0,\\,-1,\\,-1,\\,0,\\,0,\\,0,\\,0\\right)\\)</html>"
      ],
      "text/latex": [
       "$\\displaystyle \\left(1,\\,0,\\,1,\\,1,\\,-1,\\,0,\\,0,\\,0,\\,0,\\,-1,\\,-1,\\,0,\\,0,\\,0,\\,0\\right)$"
      ],
      "text/plain": [
       "(1, 0, 1, 1, -1, 0, 0, 0, 0, -1, -1, 0, 0, 0, 0)"
      ]
     },
     "execution_count": 33,
     "metadata": {},
     "output_type": "execute_result"
    }
   ],
   "source": [
    "eq_orbits[0][0]"
   ]
  },
  {
   "cell_type": "code",
   "execution_count": null,
   "id": "1fba2ae8-1c58-4486-bf05-c84b6f1e2c68",
   "metadata": {},
   "outputs": [],
   "source": []
  }
 ],
 "metadata": {
  "kernelspec": {
   "display_name": "SageMath 10.0",
   "language": "sagemath",
   "name": "sagemath"
  },
  "language_info": {
   "codemirror_mode": {
    "name": "ipython",
    "version": 3
   },
   "file_extension": ".py",
   "mimetype": "text/x-python",
   "name": "python",
   "nbconvert_exporter": "python",
   "pygments_lexer": "ipython3",
   "version": "3.10.12"
  }
 },
 "nbformat": 4,
 "nbformat_minor": 5
}
