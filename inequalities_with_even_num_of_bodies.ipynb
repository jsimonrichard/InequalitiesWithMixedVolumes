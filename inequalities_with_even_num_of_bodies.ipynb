{
 "cells": [
  {
   "cell_type": "code",
   "execution_count": 51,
   "id": "db28537f-2d79-4a51-ae6b-a7073dfead56",
   "metadata": {},
   "outputs": [],
   "source": [
    "from IPython.display import display, Math, Latex\n",
    "\n",
    "load(\"mv_inequality_search.sage\")"
   ]
  },
  {
   "cell_type": "markdown",
   "id": "b29ac9e9-1ad3-4b90-8cf9-bb7dc4375859",
   "metadata": {},
   "source": [
    "# Inequalities with Mixed Volumes\n",
    "Searching for relations of the form\n",
    "\n",
    "$$\n",
    "\\sum_{i=0} a_i V(K_{l_i}, K_{m_i}) V(K_{n_i}, K_{o_i}) V(K_{p_i}, K_{q_i}) \\geq 0\n",
    "$$\n",
    "\n",
    "where $1 \\leq l_i \\neq m_i \\neq n_i \\neq o_i \\neq p_i \\neq q_i \\leq n$."
   ]
  },
  {
   "cell_type": "markdown",
   "id": "d7bd9cb9-1c99-4f07-9595-953087753b08",
   "metadata": {},
   "source": [
    "Using the functions in *mv_inequality_search.sage* (especially `compute_convex_hull`), we can easily find relations for small $n$.\n",
    "\n",
    "We'll start with $n=6$."
   ]
  },
  {
   "cell_type": "code",
   "execution_count": 2,
   "id": "2f0b4f41-ae30-4454-82ff-46833b3de2ee",
   "metadata": {},
   "outputs": [],
   "source": [
    "n = 6"
   ]
  },
  {
   "cell_type": "markdown",
   "id": "d60b8676-c7bf-476a-9c9c-1e651bd4f464",
   "metadata": {},
   "source": [
    "Below is a column vector that we'll reference throughout this notebook."
   ]
  },
  {
   "cell_type": "code",
   "execution_count": 3,
   "id": "506091df-a59a-4f20-a41d-a43b18a69d76",
   "metadata": {},
   "outputs": [
    {
     "data": {
      "text/html": [
       "<html>\\(\\displaystyle x = \\left(\\begin{array}{r}\n",
       "V\\left(K_{1}, K_{2}\\right) V\\left(K_{3}, K_{4}\\right) V\\left(K_{5}, K_{6}\\right) \\\\\n",
       "V\\left(K_{1}, K_{3}\\right) V\\left(K_{2}, K_{5}\\right) V\\left(K_{4}, K_{6}\\right) \\\\\n",
       "V\\left(K_{1}, K_{5}\\right) V\\left(K_{2}, K_{3}\\right) V\\left(K_{4}, K_{6}\\right) \\\\\n",
       "V\\left(K_{1}, K_{4}\\right) V\\left(K_{2}, K_{6}\\right) V\\left(K_{3}, K_{5}\\right) \\\\\n",
       "V\\left(K_{1}, K_{4}\\right) V\\left(K_{2}, K_{3}\\right) V\\left(K_{5}, K_{6}\\right) \\\\\n",
       "V\\left(K_{1}, K_{6}\\right) V\\left(K_{2}, K_{3}\\right) V\\left(K_{4}, K_{5}\\right) \\\\\n",
       "V\\left(K_{1}, K_{4}\\right) V\\left(K_{2}, K_{5}\\right) V\\left(K_{3}, K_{6}\\right) \\\\\n",
       "V\\left(K_{1}, K_{3}\\right) V\\left(K_{2}, K_{4}\\right) V\\left(K_{5}, K_{6}\\right) \\\\\n",
       "V\\left(K_{1}, K_{2}\\right) V\\left(K_{3}, K_{6}\\right) V\\left(K_{4}, K_{5}\\right) \\\\\n",
       "V\\left(K_{1}, K_{2}\\right) V\\left(K_{3}, K_{5}\\right) V\\left(K_{4}, K_{6}\\right) \\\\\n",
       "V\\left(K_{1}, K_{5}\\right) V\\left(K_{2}, K_{6}\\right) V\\left(K_{3}, K_{4}\\right) \\\\\n",
       "V\\left(K_{1}, K_{5}\\right) V\\left(K_{2}, K_{4}\\right) V\\left(K_{3}, K_{6}\\right) \\\\\n",
       "V\\left(K_{1}, K_{6}\\right) V\\left(K_{2}, K_{5}\\right) V\\left(K_{3}, K_{4}\\right) \\\\\n",
       "V\\left(K_{1}, K_{6}\\right) V\\left(K_{2}, K_{4}\\right) V\\left(K_{3}, K_{5}\\right) \\\\\n",
       "V\\left(K_{1}, K_{3}\\right) V\\left(K_{2}, K_{6}\\right) V\\left(K_{4}, K_{5}\\right)\n",
       "\\end{array}\\right)\\)</html>"
      ],
      "text/latex": [
       "$\\displaystyle x = \\left(\\begin{array}{r}\n",
       "V\\left(K_{1}, K_{2}\\right) V\\left(K_{3}, K_{4}\\right) V\\left(K_{5}, K_{6}\\right) \\\\\n",
       "V\\left(K_{1}, K_{3}\\right) V\\left(K_{2}, K_{5}\\right) V\\left(K_{4}, K_{6}\\right) \\\\\n",
       "V\\left(K_{1}, K_{5}\\right) V\\left(K_{2}, K_{3}\\right) V\\left(K_{4}, K_{6}\\right) \\\\\n",
       "V\\left(K_{1}, K_{4}\\right) V\\left(K_{2}, K_{6}\\right) V\\left(K_{3}, K_{5}\\right) \\\\\n",
       "V\\left(K_{1}, K_{4}\\right) V\\left(K_{2}, K_{3}\\right) V\\left(K_{5}, K_{6}\\right) \\\\\n",
       "V\\left(K_{1}, K_{6}\\right) V\\left(K_{2}, K_{3}\\right) V\\left(K_{4}, K_{5}\\right) \\\\\n",
       "V\\left(K_{1}, K_{4}\\right) V\\left(K_{2}, K_{5}\\right) V\\left(K_{3}, K_{6}\\right) \\\\\n",
       "V\\left(K_{1}, K_{3}\\right) V\\left(K_{2}, K_{4}\\right) V\\left(K_{5}, K_{6}\\right) \\\\\n",
       "V\\left(K_{1}, K_{2}\\right) V\\left(K_{3}, K_{6}\\right) V\\left(K_{4}, K_{5}\\right) \\\\\n",
       "V\\left(K_{1}, K_{2}\\right) V\\left(K_{3}, K_{5}\\right) V\\left(K_{4}, K_{6}\\right) \\\\\n",
       "V\\left(K_{1}, K_{5}\\right) V\\left(K_{2}, K_{6}\\right) V\\left(K_{3}, K_{4}\\right) \\\\\n",
       "V\\left(K_{1}, K_{5}\\right) V\\left(K_{2}, K_{4}\\right) V\\left(K_{3}, K_{6}\\right) \\\\\n",
       "V\\left(K_{1}, K_{6}\\right) V\\left(K_{2}, K_{5}\\right) V\\left(K_{3}, K_{4}\\right) \\\\\n",
       "V\\left(K_{1}, K_{6}\\right) V\\left(K_{2}, K_{4}\\right) V\\left(K_{3}, K_{5}\\right) \\\\\n",
       "V\\left(K_{1}, K_{3}\\right) V\\left(K_{2}, K_{6}\\right) V\\left(K_{4}, K_{5}\\right)\n",
       "\\end{array}\\right)$"
      ],
      "text/plain": [
       "x = \\left(\\begin{array}{r}\n",
       "V\\left(K_{1}, K_{2}\\right) V\\left(K_{3}, K_{4}\\right) V\\left(K_{5}, K_{6}\\right) \\\\\n",
       "V\\left(K_{1}, K_{3}\\right) V\\left(K_{2}, K_{5}\\right) V\\left(K_{4}, K_{6}\\right) \\\\\n",
       "V\\left(K_{1}, K_{5}\\right) V\\left(K_{2}, K_{3}\\right) V\\left(K_{4}, K_{6}\\right) \\\\\n",
       "V\\left(K_{1}, K_{4}\\right) V\\left(K_{2}, K_{6}\\right) V\\left(K_{3}, K_{5}\\right) \\\\\n",
       "V\\left(K_{1}, K_{4}\\right) V\\left(K_{2}, K_{3}\\right) V\\left(K_{5}, K_{6}\\right) \\\\\n",
       "V\\left(K_{1}, K_{6}\\right) V\\left(K_{2}, K_{3}\\right) V\\left(K_{4}, K_{5}\\right) \\\\\n",
       "V\\left(K_{1}, K_{4}\\right) V\\left(K_{2}, K_{5}\\right) V\\left(K_{3}, K_{6}\\right) \\\\\n",
       "V\\left(K_{1}, K_{3}\\right) V\\left(K_{2}, K_{4}\\right) V\\left(K_{5}, K_{6}\\right) \\\\\n",
       "V\\left(K_{1}, K_{2}\\right) V\\left(K_{3}, K_{6}\\right) V\\left(K_{4}, K_{5}\\right) \\\\\n",
       "V\\left(K_{1}, K_{2}\\right) V\\left(K_{3}, K_{5}\\right) V\\left(K_{4}, K_{6}\\right) \\\\\n",
       "V\\left(K_{1}, K_{5}\\right) V\\left(K_{2}, K_{6}\\right) V\\left(K_{3}, K_{4}\\right) \\\\\n",
       "V\\left(K_{1}, K_{5}\\right) V\\left(K_{2}, K_{4}\\right) V\\left(K_{3}, K_{6}\\right) \\\\\n",
       "V\\left(K_{1}, K_{6}\\right) V\\left(K_{2}, K_{5}\\right) V\\left(K_{3}, K_{4}\\right) \\\\\n",
       "V\\left(K_{1}, K_{6}\\right) V\\left(K_{2}, K_{4}\\right) V\\left(K_{3}, K_{5}\\right) \\\\\n",
       "V\\left(K_{1}, K_{3}\\right) V\\left(K_{2}, K_{6}\\right) V\\left(K_{4}, K_{5}\\right)\n",
       "\\end{array}\\right)"
      ]
     },
     "execution_count": 3,
     "metadata": {},
     "output_type": "execute_result"
    }
   ],
   "source": [
    "%display latex\n",
    "\n",
    "# Define symbols for printing LaTeX\n",
    "V = function(\"V\") # Mixed volumes\n",
    "K = var([f\"K_{i}\" for i in range(1,n+1)]) # Bodies\n",
    "\n",
    "# Define term column vector\n",
    "terms = generate_inequality_terms(n, dimension=2, term_factors=3)\n",
    "term_list = list(terms)\n",
    "x = var('x')\n",
    "x_vec = Matrix([\n",
    "    V(K[term[0][0]-1], K[term[0][1]-1]) *\n",
    "    V(K[term[1][0]-1], K[term[1][1]-1]) *\n",
    "    V(K[term[2][0]-1], K[term[2][1]-1]) for term in terms\n",
    "]).transpose()\n",
    "latex(x) + \"=\" + latex(x_vec)"
   ]
  },
  {
   "cell_type": "code",
   "execution_count": 4,
   "id": "653d5de4-c30e-4660-ab10-ddca5272446a",
   "metadata": {},
   "outputs": [
    {
     "data": {
      "text/html": [
       "<html>\\(\\displaystyle 15\\)</html>"
      ],
      "text/latex": [
       "$\\displaystyle 15$"
      ],
      "text/plain": [
       "15"
      ]
     },
     "execution_count": 4,
     "metadata": {},
     "output_type": "execute_result"
    }
   ],
   "source": [
    "len(term_list)"
   ]
  },
  {
   "cell_type": "code",
   "execution_count": 5,
   "id": "60f01f3d-00de-4db5-81cd-e35adcc8150d",
   "metadata": {
    "scrolled": true
   },
   "outputs": [
    {
     "name": "stdout",
     "output_type": "stream",
     "text": [
      "3,4,5,6,1,2\n",
      "4,6,2,5,1,3\n",
      "1,5,4,6,2,3\n",
      "1,4,3,5,2,6\n",
      "5,6,2,3,1,4\n",
      "4,5,2,3,1,6\n",
      "3,6,2,5,1,4\n",
      "2,4,5,6,1,3\n",
      "4,5,3,6,1,2\n",
      "4,6,3,5,1,2\n",
      "3,4,1,5,2,6\n",
      "2,4,3,6,1,5\n",
      "3,4,2,5,1,6\n",
      "1,6,2,4,3,5\n",
      "4,5,1,3,2,6\n"
     ]
    }
   ],
   "source": [
    "for term in term_list:\n",
    "    print(\",\".join(\",\".join(str(j) for j in i) for i in term))"
   ]
  },
  {
   "cell_type": "code",
   "execution_count": 52,
   "id": "5932050a-e15c-4500-99f6-4a041897f72f",
   "metadata": {},
   "outputs": [
    {
     "data": {
      "text/html": [
       "<html>\\(\\displaystyle 25\\)</html>"
      ],
      "text/latex": [
       "$\\displaystyle 25$"
      ],
      "text/plain": [
       "25"
      ]
     },
     "execution_count": 52,
     "metadata": {},
     "output_type": "execute_result"
    }
   ],
   "source": [
    "rays, configurations = compute_rays(n)\n",
    "len(rays)"
   ]
  },
  {
   "cell_type": "code",
   "execution_count": 67,
   "id": "3d65efcd-1570-48fc-8c76-8319b05b3601",
   "metadata": {},
   "outputs": [
    {
     "data": {
      "text/html": [
       "<html>\\(\\displaystyle \\left(\\begin{array}{rrrrrr}\n",
       "0 & 0 & 0 & 1 & 1 & 1 \\\\\n",
       "1 & 1 & 1 & 1 & 1 & 1\n",
       "\\end{array}\\right)\\)</html>"
      ],
      "text/latex": [
       "$\\displaystyle \\left(\\begin{array}{rrrrrr}\n",
       "0 & 0 & 0 & 1 & 1 & 1 \\\\\n",
       "1 & 1 & 1 & 1 & 1 & 1\n",
       "\\end{array}\\right)$"
      ],
      "text/plain": [
       "[0 0 0 1 1 1]\n",
       "[1 1 1 1 1 1]"
      ]
     },
     "metadata": {},
     "output_type": "display_data"
    },
    {
     "data": {
      "text/html": [
       "<html>\\(\\displaystyle \\left(\\begin{array}{rrrrrr}\n",
       "0 & 0 & 1 & 0 & 1 & 1 \\\\\n",
       "1 & 1 & 1 & 1 & 1 & 1\n",
       "\\end{array}\\right)\\)</html>"
      ],
      "text/latex": [
       "$\\displaystyle \\left(\\begin{array}{rrrrrr}\n",
       "0 & 0 & 1 & 0 & 1 & 1 \\\\\n",
       "1 & 1 & 1 & 1 & 1 & 1\n",
       "\\end{array}\\right)$"
      ],
      "text/plain": [
       "[0 0 1 0 1 1]\n",
       "[1 1 1 1 1 1]"
      ]
     },
     "metadata": {},
     "output_type": "display_data"
    },
    {
     "data": {
      "text/html": [
       "<html>\\(\\displaystyle \\left(\\begin{array}{rrrrrr}\n",
       "0 & 0 & 1 & 1 & 0 & 1 \\\\\n",
       "1 & 1 & 1 & 1 & 1 & 1\n",
       "\\end{array}\\right)\\)</html>"
      ],
      "text/latex": [
       "$\\displaystyle \\left(\\begin{array}{rrrrrr}\n",
       "0 & 0 & 1 & 1 & 0 & 1 \\\\\n",
       "1 & 1 & 1 & 1 & 1 & 1\n",
       "\\end{array}\\right)$"
      ],
      "text/plain": [
       "[0 0 1 1 0 1]\n",
       "[1 1 1 1 1 1]"
      ]
     },
     "metadata": {},
     "output_type": "display_data"
    },
    {
     "data": {
      "text/html": [
       "<html>\\(\\displaystyle \\left(\\begin{array}{rrrrrr}\n",
       "0 & 0 & 1 & 1 & 1 & 0 \\\\\n",
       "1 & 1 & 1 & 1 & 1 & 1\n",
       "\\end{array}\\right)\\)</html>"
      ],
      "text/latex": [
       "$\\displaystyle \\left(\\begin{array}{rrrrrr}\n",
       "0 & 0 & 1 & 1 & 1 & 0 \\\\\n",
       "1 & 1 & 1 & 1 & 1 & 1\n",
       "\\end{array}\\right)$"
      ],
      "text/plain": [
       "[0 0 1 1 1 0]\n",
       "[1 1 1 1 1 1]"
      ]
     },
     "metadata": {},
     "output_type": "display_data"
    },
    {
     "data": {
      "text/html": [
       "<html>\\(\\displaystyle \\left(\\begin{array}{rrrrrr}\n",
       "0 & 0 & 1 & 1 & 1 & 1 \\\\\n",
       "1 & 1 & 1 & 1 & 0 & 0\n",
       "\\end{array}\\right)\\)</html>"
      ],
      "text/latex": [
       "$\\displaystyle \\left(\\begin{array}{rrrrrr}\n",
       "0 & 0 & 1 & 1 & 1 & 1 \\\\\n",
       "1 & 1 & 1 & 1 & 0 & 0\n",
       "\\end{array}\\right)$"
      ],
      "text/plain": [
       "[0 0 1 1 1 1]\n",
       "[1 1 1 1 0 0]"
      ]
     },
     "metadata": {},
     "output_type": "display_data"
    },
    {
     "data": {
      "text/html": [
       "<html>\\(\\displaystyle \\left(\\begin{array}{rrrrrr}\n",
       "0 & 0 & 1 & 1 & 1 & 1 \\\\\n",
       "1 & 1 & 1 & 0 & 1 & 0\n",
       "\\end{array}\\right)\\)</html>"
      ],
      "text/latex": [
       "$\\displaystyle \\left(\\begin{array}{rrrrrr}\n",
       "0 & 0 & 1 & 1 & 1 & 1 \\\\\n",
       "1 & 1 & 1 & 0 & 1 & 0\n",
       "\\end{array}\\right)$"
      ],
      "text/plain": [
       "[0 0 1 1 1 1]\n",
       "[1 1 1 0 1 0]"
      ]
     },
     "metadata": {},
     "output_type": "display_data"
    },
    {
     "data": {
      "text/html": [
       "<html>\\(\\displaystyle \\left(\\begin{array}{rrrrrr}\n",
       "0 & 0 & 1 & 1 & 1 & 1 \\\\\n",
       "1 & 1 & 1 & 0 & 0 & 1\n",
       "\\end{array}\\right)\\)</html>"
      ],
      "text/latex": [
       "$\\displaystyle \\left(\\begin{array}{rrrrrr}\n",
       "0 & 0 & 1 & 1 & 1 & 1 \\\\\n",
       "1 & 1 & 1 & 0 & 0 & 1\n",
       "\\end{array}\\right)$"
      ],
      "text/plain": [
       "[0 0 1 1 1 1]\n",
       "[1 1 1 0 0 1]"
      ]
     },
     "metadata": {},
     "output_type": "display_data"
    },
    {
     "data": {
      "text/html": [
       "<html>\\(\\displaystyle \\left(\\begin{array}{rrrrrr}\n",
       "0 & 1 & 0 & 0 & 1 & 1 \\\\\n",
       "1 & 1 & 1 & 1 & 1 & 1\n",
       "\\end{array}\\right)\\)</html>"
      ],
      "text/latex": [
       "$\\displaystyle \\left(\\begin{array}{rrrrrr}\n",
       "0 & 1 & 0 & 0 & 1 & 1 \\\\\n",
       "1 & 1 & 1 & 1 & 1 & 1\n",
       "\\end{array}\\right)$"
      ],
      "text/plain": [
       "[0 1 0 0 1 1]\n",
       "[1 1 1 1 1 1]"
      ]
     },
     "metadata": {},
     "output_type": "display_data"
    },
    {
     "data": {
      "text/html": [
       "<html>\\(\\displaystyle \\left(\\begin{array}{rrrrrr}\n",
       "0 & 1 & 0 & 1 & 0 & 1 \\\\\n",
       "1 & 1 & 1 & 1 & 1 & 1\n",
       "\\end{array}\\right)\\)</html>"
      ],
      "text/latex": [
       "$\\displaystyle \\left(\\begin{array}{rrrrrr}\n",
       "0 & 1 & 0 & 1 & 0 & 1 \\\\\n",
       "1 & 1 & 1 & 1 & 1 & 1\n",
       "\\end{array}\\right)$"
      ],
      "text/plain": [
       "[0 1 0 1 0 1]\n",
       "[1 1 1 1 1 1]"
      ]
     },
     "metadata": {},
     "output_type": "display_data"
    },
    {
     "data": {
      "text/html": [
       "<html>\\(\\displaystyle \\left(\\begin{array}{rrrrrr}\n",
       "0 & 1 & 0 & 1 & 1 & 0 \\\\\n",
       "1 & 1 & 1 & 1 & 1 & 1\n",
       "\\end{array}\\right)\\)</html>"
      ],
      "text/latex": [
       "$\\displaystyle \\left(\\begin{array}{rrrrrr}\n",
       "0 & 1 & 0 & 1 & 1 & 0 \\\\\n",
       "1 & 1 & 1 & 1 & 1 & 1\n",
       "\\end{array}\\right)$"
      ],
      "text/plain": [
       "[0 1 0 1 1 0]\n",
       "[1 1 1 1 1 1]"
      ]
     },
     "metadata": {},
     "output_type": "display_data"
    },
    {
     "data": {
      "text/html": [
       "<html>\\(\\displaystyle \\left(\\begin{array}{rrrrrr}\n",
       "0 & 1 & 0 & 1 & 1 & 1 \\\\\n",
       "1 & 1 & 1 & 1 & 0 & 0\n",
       "\\end{array}\\right)\\)</html>"
      ],
      "text/latex": [
       "$\\displaystyle \\left(\\begin{array}{rrrrrr}\n",
       "0 & 1 & 0 & 1 & 1 & 1 \\\\\n",
       "1 & 1 & 1 & 1 & 0 & 0\n",
       "\\end{array}\\right)$"
      ],
      "text/plain": [
       "[0 1 0 1 1 1]\n",
       "[1 1 1 1 0 0]"
      ]
     },
     "metadata": {},
     "output_type": "display_data"
    },
    {
     "data": {
      "text/html": [
       "<html>\\(\\displaystyle \\left(\\begin{array}{rrrrrr}\n",
       "0 & 1 & 0 & 1 & 1 & 1 \\\\\n",
       "1 & 1 & 1 & 0 & 1 & 0\n",
       "\\end{array}\\right)\\)</html>"
      ],
      "text/latex": [
       "$\\displaystyle \\left(\\begin{array}{rrrrrr}\n",
       "0 & 1 & 0 & 1 & 1 & 1 \\\\\n",
       "1 & 1 & 1 & 0 & 1 & 0\n",
       "\\end{array}\\right)$"
      ],
      "text/plain": [
       "[0 1 0 1 1 1]\n",
       "[1 1 1 0 1 0]"
      ]
     },
     "metadata": {},
     "output_type": "display_data"
    },
    {
     "data": {
      "text/html": [
       "<html>\\(\\displaystyle \\left(\\begin{array}{rrrrrr}\n",
       "0 & 1 & 0 & 1 & 1 & 1 \\\\\n",
       "1 & 1 & 1 & 0 & 0 & 1\n",
       "\\end{array}\\right)\\)</html>"
      ],
      "text/latex": [
       "$\\displaystyle \\left(\\begin{array}{rrrrrr}\n",
       "0 & 1 & 0 & 1 & 1 & 1 \\\\\n",
       "1 & 1 & 1 & 0 & 0 & 1\n",
       "\\end{array}\\right)$"
      ],
      "text/plain": [
       "[0 1 0 1 1 1]\n",
       "[1 1 1 0 0 1]"
      ]
     },
     "metadata": {},
     "output_type": "display_data"
    },
    {
     "data": {
      "text/html": [
       "<html>\\(\\displaystyle \\left(\\begin{array}{rrrrrr}\n",
       "0 & 1 & 1 & 0 & 0 & 1 \\\\\n",
       "1 & 1 & 1 & 1 & 1 & 1\n",
       "\\end{array}\\right)\\)</html>"
      ],
      "text/latex": [
       "$\\displaystyle \\left(\\begin{array}{rrrrrr}\n",
       "0 & 1 & 1 & 0 & 0 & 1 \\\\\n",
       "1 & 1 & 1 & 1 & 1 & 1\n",
       "\\end{array}\\right)$"
      ],
      "text/plain": [
       "[0 1 1 0 0 1]\n",
       "[1 1 1 1 1 1]"
      ]
     },
     "metadata": {},
     "output_type": "display_data"
    },
    {
     "data": {
      "text/html": [
       "<html>\\(\\displaystyle \\left(\\begin{array}{rrrrrr}\n",
       "0 & 1 & 1 & 0 & 1 & 0 \\\\\n",
       "1 & 1 & 1 & 1 & 1 & 1\n",
       "\\end{array}\\right)\\)</html>"
      ],
      "text/latex": [
       "$\\displaystyle \\left(\\begin{array}{rrrrrr}\n",
       "0 & 1 & 1 & 0 & 1 & 0 \\\\\n",
       "1 & 1 & 1 & 1 & 1 & 1\n",
       "\\end{array}\\right)$"
      ],
      "text/plain": [
       "[0 1 1 0 1 0]\n",
       "[1 1 1 1 1 1]"
      ]
     },
     "metadata": {},
     "output_type": "display_data"
    },
    {
     "data": {
      "text/html": [
       "<html>\\(\\displaystyle \\left(\\begin{array}{rrrrrr}\n",
       "0 & 1 & 1 & 0 & 1 & 1 \\\\\n",
       "1 & 1 & 1 & 1 & 0 & 0\n",
       "\\end{array}\\right)\\)</html>"
      ],
      "text/latex": [
       "$\\displaystyle \\left(\\begin{array}{rrrrrr}\n",
       "0 & 1 & 1 & 0 & 1 & 1 \\\\\n",
       "1 & 1 & 1 & 1 & 0 & 0\n",
       "\\end{array}\\right)$"
      ],
      "text/plain": [
       "[0 1 1 0 1 1]\n",
       "[1 1 1 1 0 0]"
      ]
     },
     "metadata": {},
     "output_type": "display_data"
    },
    {
     "data": {
      "text/html": [
       "<html>\\(\\displaystyle \\left(\\begin{array}{rrrrrr}\n",
       "0 & 1 & 1 & 1 & 0 & 0 \\\\\n",
       "1 & 1 & 1 & 1 & 1 & 1\n",
       "\\end{array}\\right)\\)</html>"
      ],
      "text/latex": [
       "$\\displaystyle \\left(\\begin{array}{rrrrrr}\n",
       "0 & 1 & 1 & 1 & 0 & 0 \\\\\n",
       "1 & 1 & 1 & 1 & 1 & 1\n",
       "\\end{array}\\right)$"
      ],
      "text/plain": [
       "[0 1 1 1 0 0]\n",
       "[1 1 1 1 1 1]"
      ]
     },
     "metadata": {},
     "output_type": "display_data"
    },
    {
     "data": {
      "text/html": [
       "<html>\\(\\displaystyle \\left(\\begin{array}{rrrrrr}\n",
       "0 & 1 & 1 & 1 & 0 & 1 \\\\\n",
       "1 & 1 & 1 & 0 & 1 & 0\n",
       "\\end{array}\\right)\\)</html>"
      ],
      "text/latex": [
       "$\\displaystyle \\left(\\begin{array}{rrrrrr}\n",
       "0 & 1 & 1 & 1 & 0 & 1 \\\\\n",
       "1 & 1 & 1 & 0 & 1 & 0\n",
       "\\end{array}\\right)$"
      ],
      "text/plain": [
       "[0 1 1 1 0 1]\n",
       "[1 1 1 0 1 0]"
      ]
     },
     "metadata": {},
     "output_type": "display_data"
    },
    {
     "data": {
      "text/html": [
       "<html>\\(\\displaystyle \\left(\\begin{array}{rrrrrr}\n",
       "0 & 1 & 1 & 1 & 1 & 0 \\\\\n",
       "1 & 1 & 1 & 0 & 0 & 1\n",
       "\\end{array}\\right)\\)</html>"
      ],
      "text/latex": [
       "$\\displaystyle \\left(\\begin{array}{rrrrrr}\n",
       "0 & 1 & 1 & 1 & 1 & 0 \\\\\n",
       "1 & 1 & 1 & 0 & 0 & 1\n",
       "\\end{array}\\right)$"
      ],
      "text/plain": [
       "[0 1 1 1 1 0]\n",
       "[1 1 1 0 0 1]"
      ]
     },
     "metadata": {},
     "output_type": "display_data"
    },
    {
     "data": {
      "text/html": [
       "<html>\\(\\displaystyle \\left(\\begin{array}{rrrrrr}\n",
       "0 & 1 & 1 & 0 & 1 & 1 \\\\\n",
       "1 & 1 & 0 & 1 & 1 & 0\n",
       "\\end{array}\\right)\\)</html>"
      ],
      "text/latex": [
       "$\\displaystyle \\left(\\begin{array}{rrrrrr}\n",
       "0 & 1 & 1 & 0 & 1 & 1 \\\\\n",
       "1 & 1 & 0 & 1 & 1 & 0\n",
       "\\end{array}\\right)$"
      ],
      "text/plain": [
       "[0 1 1 0 1 1]\n",
       "[1 1 0 1 1 0]"
      ]
     },
     "metadata": {},
     "output_type": "display_data"
    },
    {
     "data": {
      "text/html": [
       "<html>\\(\\displaystyle \\left(\\begin{array}{rrrrrr}\n",
       "0 & 1 & 1 & 0 & 1 & 1 \\\\\n",
       "1 & 1 & 0 & 1 & 0 & 1\n",
       "\\end{array}\\right)\\)</html>"
      ],
      "text/latex": [
       "$\\displaystyle \\left(\\begin{array}{rrrrrr}\n",
       "0 & 1 & 1 & 0 & 1 & 1 \\\\\n",
       "1 & 1 & 0 & 1 & 0 & 1\n",
       "\\end{array}\\right)$"
      ],
      "text/plain": [
       "[0 1 1 0 1 1]\n",
       "[1 1 0 1 0 1]"
      ]
     },
     "metadata": {},
     "output_type": "display_data"
    },
    {
     "data": {
      "text/html": [
       "<html>\\(\\displaystyle \\left(\\begin{array}{rrrrrr}\n",
       "0 & 1 & 1 & 1 & 0 & 1 \\\\\n",
       "1 & 1 & 0 & 1 & 1 & 0\n",
       "\\end{array}\\right)\\)</html>"
      ],
      "text/latex": [
       "$\\displaystyle \\left(\\begin{array}{rrrrrr}\n",
       "0 & 1 & 1 & 1 & 0 & 1 \\\\\n",
       "1 & 1 & 0 & 1 & 1 & 0\n",
       "\\end{array}\\right)$"
      ],
      "text/plain": [
       "[0 1 1 1 0 1]\n",
       "[1 1 0 1 1 0]"
      ]
     },
     "metadata": {},
     "output_type": "display_data"
    },
    {
     "data": {
      "text/html": [
       "<html>\\(\\displaystyle \\left(\\begin{array}{rrrrrr}\n",
       "0 & 1 & 1 & 1 & 1 & 0 \\\\\n",
       "1 & 1 & 0 & 1 & 0 & 1\n",
       "\\end{array}\\right)\\)</html>"
      ],
      "text/latex": [
       "$\\displaystyle \\left(\\begin{array}{rrrrrr}\n",
       "0 & 1 & 1 & 1 & 1 & 0 \\\\\n",
       "1 & 1 & 0 & 1 & 0 & 1\n",
       "\\end{array}\\right)$"
      ],
      "text/plain": [
       "[0 1 1 1 1 0]\n",
       "[1 1 0 1 0 1]"
      ]
     },
     "metadata": {},
     "output_type": "display_data"
    },
    {
     "data": {
      "text/html": [
       "<html>\\(\\displaystyle \\left(\\begin{array}{rrrrrr}\n",
       "0 & 1 & 1 & 1 & 0 & 1 \\\\\n",
       "1 & 1 & 0 & 0 & 1 & 1\n",
       "\\end{array}\\right)\\)</html>"
      ],
      "text/latex": [
       "$\\displaystyle \\left(\\begin{array}{rrrrrr}\n",
       "0 & 1 & 1 & 1 & 0 & 1 \\\\\n",
       "1 & 1 & 0 & 0 & 1 & 1\n",
       "\\end{array}\\right)$"
      ],
      "text/plain": [
       "[0 1 1 1 0 1]\n",
       "[1 1 0 0 1 1]"
      ]
     },
     "metadata": {},
     "output_type": "display_data"
    },
    {
     "data": {
      "text/html": [
       "<html>\\(\\displaystyle \\left(\\begin{array}{rrrrrr}\n",
       "0 & 1 & 1 & 1 & 1 & 0 \\\\\n",
       "1 & 1 & 0 & 0 & 1 & 1\n",
       "\\end{array}\\right)\\)</html>"
      ],
      "text/latex": [
       "$\\displaystyle \\left(\\begin{array}{rrrrrr}\n",
       "0 & 1 & 1 & 1 & 1 & 0 \\\\\n",
       "1 & 1 & 0 & 0 & 1 & 1\n",
       "\\end{array}\\right)$"
      ],
      "text/plain": [
       "[0 1 1 1 1 0]\n",
       "[1 1 0 0 1 1]"
      ]
     },
     "metadata": {},
     "output_type": "display_data"
    }
   ],
   "source": [
    "for c in configurations:\n",
    "    display(Matrix([i.vertices()[1].vector() for i in c]).transpose())"
   ]
  },
  {
   "cell_type": "code",
   "execution_count": 68,
   "id": "bae44a00-253d-4c11-8b0d-18bdb5ba7a24",
   "metadata": {},
   "outputs": [
    {
     "data": {
      "text/html": [
       "<html>\\(\\displaystyle \\left(0, 0, 0, 1, 0, 0, 1, 0, 0, 0, 1, 1, 1, 1, 0\\right)\\)</html>"
      ],
      "text/latex": [
       "$\\displaystyle \\left(0, 0, 0, 1, 0, 0, 1, 0, 0, 0, 1, 1, 1, 1, 0\\right)$"
      ],
      "text/plain": [
       "(0, 0, 0, 1, 0, 0, 1, 0, 0, 0, 1, 1, 1, 1, 0)"
      ]
     },
     "execution_count": 68,
     "metadata": {},
     "output_type": "execute_result"
    }
   ],
   "source": [
    "rays[0]"
   ]
  },
  {
   "cell_type": "code",
   "execution_count": 12,
   "id": "bee1d632-34da-4d79-b019-bd07a8f5b323",
   "metadata": {
    "scrolled": true
   },
   "outputs": [],
   "source": [
    "# Compute convex hull\n",
    "cv = compute_convex_hull(n)"
   ]
  },
  {
   "cell_type": "code",
   "execution_count": 13,
   "id": "92ea0a28-2909-443b-90fd-717efc34c511",
   "metadata": {},
   "outputs": [
    {
     "data": {
      "text/html": [
       "<html>\\(\\displaystyle \\verb|A|\\verb| |\\verb|ray|\\verb| |\\verb|in|\\verb| |\\verb|the|\\verb| |\\verb|direction|\\verb| |\\verb|(0,|\\verb| |\\verb|0,|\\verb| |\\verb|0,|\\verb| |\\verb|0,|\\verb| |\\verb|1,|\\verb| |\\verb|1,|\\verb| |\\verb|1,|\\verb| |\\verb|1,|\\verb| |\\verb|0,|\\verb| |\\verb|0,|\\verb| |\\verb|1,|\\verb| |\\verb|1,|\\verb| |\\verb|1,|\\verb| |\\verb|0,|\\verb| |\\verb|1)|\\)</html>"
      ],
      "text/latex": [
       "$\\displaystyle \\verb|A|\\verb| |\\verb|ray|\\verb| |\\verb|in|\\verb| |\\verb|the|\\verb| |\\verb|direction|\\verb| |\\verb|(0,|\\verb| |\\verb|0,|\\verb| |\\verb|0,|\\verb| |\\verb|0,|\\verb| |\\verb|1,|\\verb| |\\verb|1,|\\verb| |\\verb|1,|\\verb| |\\verb|1,|\\verb| |\\verb|0,|\\verb| |\\verb|0,|\\verb| |\\verb|1,|\\verb| |\\verb|1,|\\verb| |\\verb|1,|\\verb| |\\verb|0,|\\verb| |\\verb|1)|$"
      ],
      "text/plain": [
       "A ray in the direction (0, 0, 0, 0, 1, 1, 1, 1, 0, 0, 1, 1, 1, 0, 1)"
      ]
     },
     "metadata": {},
     "output_type": "display_data"
    },
    {
     "data": {
      "text/html": [
       "<html>\\(\\displaystyle \\verb|A|\\verb| |\\verb|ray|\\verb| |\\verb|in|\\verb| |\\verb|the|\\verb| |\\verb|direction|\\verb| |\\verb|(0,|\\verb| |\\verb|0,|\\verb| |\\verb|0,|\\verb| |\\verb|1,|\\verb| |\\verb|0,|\\verb| |\\verb|0,|\\verb| |\\verb|1,|\\verb| |\\verb|0,|\\verb| |\\verb|0,|\\verb| |\\verb|0,|\\verb| |\\verb|1,|\\verb| |\\verb|1,|\\verb| |\\verb|1,|\\verb| |\\verb|1,|\\verb| |\\verb|0)|\\)</html>"
      ],
      "text/latex": [
       "$\\displaystyle \\verb|A|\\verb| |\\verb|ray|\\verb| |\\verb|in|\\verb| |\\verb|the|\\verb| |\\verb|direction|\\verb| |\\verb|(0,|\\verb| |\\verb|0,|\\verb| |\\verb|0,|\\verb| |\\verb|1,|\\verb| |\\verb|0,|\\verb| |\\verb|0,|\\verb| |\\verb|1,|\\verb| |\\verb|0,|\\verb| |\\verb|0,|\\verb| |\\verb|0,|\\verb| |\\verb|1,|\\verb| |\\verb|1,|\\verb| |\\verb|1,|\\verb| |\\verb|1,|\\verb| |\\verb|0)|$"
      ],
      "text/plain": [
       "A ray in the direction (0, 0, 0, 1, 0, 0, 1, 0, 0, 0, 1, 1, 1, 1, 0)"
      ]
     },
     "metadata": {},
     "output_type": "display_data"
    },
    {
     "data": {
      "text/html": [
       "<html>\\(\\displaystyle \\verb|A|\\verb| |\\verb|ray|\\verb| |\\verb|in|\\verb| |\\verb|the|\\verb| |\\verb|direction|\\verb| |\\verb|(0,|\\verb| |\\verb|0,|\\verb| |\\verb|0,|\\verb| |\\verb|1,|\\verb| |\\verb|1,|\\verb| |\\verb|1,|\\verb| |\\verb|0,|\\verb| |\\verb|1,|\\verb| |\\verb|0,|\\verb| |\\verb|0,|\\verb| |\\verb|0,|\\verb| |\\verb|0,|\\verb| |\\verb|0,|\\verb| |\\verb|1,|\\verb| |\\verb|1)|\\)</html>"
      ],
      "text/latex": [
       "$\\displaystyle \\verb|A|\\verb| |\\verb|ray|\\verb| |\\verb|in|\\verb| |\\verb|the|\\verb| |\\verb|direction|\\verb| |\\verb|(0,|\\verb| |\\verb|0,|\\verb| |\\verb|0,|\\verb| |\\verb|1,|\\verb| |\\verb|1,|\\verb| |\\verb|1,|\\verb| |\\verb|0,|\\verb| |\\verb|1,|\\verb| |\\verb|0,|\\verb| |\\verb|0,|\\verb| |\\verb|0,|\\verb| |\\verb|0,|\\verb| |\\verb|0,|\\verb| |\\verb|1,|\\verb| |\\verb|1)|$"
      ],
      "text/plain": [
       "A ray in the direction (0, 0, 0, 1, 1, 1, 0, 1, 0, 0, 0, 0, 0, 1, 1)"
      ]
     },
     "metadata": {},
     "output_type": "display_data"
    },
    {
     "data": {
      "text/html": [
       "<html>\\(\\displaystyle \\verb|A|\\verb| |\\verb|ray|\\verb| |\\verb|in|\\verb| |\\verb|the|\\verb| |\\verb|direction|\\verb| |\\verb|(0,|\\verb| |\\verb|0,|\\verb| |\\verb|1,|\\verb| |\\verb|0,|\\verb| |\\verb|0,|\\verb| |\\verb|1,|\\verb| |\\verb|0,|\\verb| |\\verb|0,|\\verb| |\\verb|1,|\\verb| |\\verb|1,|\\verb| |\\verb|0,|\\verb| |\\verb|1,|\\verb| |\\verb|0,|\\verb| |\\verb|1,|\\verb| |\\verb|0)|\\)</html>"
      ],
      "text/latex": [
       "$\\displaystyle \\verb|A|\\verb| |\\verb|ray|\\verb| |\\verb|in|\\verb| |\\verb|the|\\verb| |\\verb|direction|\\verb| |\\verb|(0,|\\verb| |\\verb|0,|\\verb| |\\verb|1,|\\verb| |\\verb|0,|\\verb| |\\verb|0,|\\verb| |\\verb|1,|\\verb| |\\verb|0,|\\verb| |\\verb|0,|\\verb| |\\verb|1,|\\verb| |\\verb|1,|\\verb| |\\verb|0,|\\verb| |\\verb|1,|\\verb| |\\verb|0,|\\verb| |\\verb|1,|\\verb| |\\verb|0)|$"
      ],
      "text/plain": [
       "A ray in the direction (0, 0, 1, 0, 0, 1, 0, 0, 1, 1, 0, 1, 0, 1, 0)"
      ]
     },
     "metadata": {},
     "output_type": "display_data"
    },
    {
     "data": {
      "text/html": [
       "<html>\\(\\displaystyle \\verb|A|\\verb| |\\verb|ray|\\verb| |\\verb|in|\\verb| |\\verb|the|\\verb| |\\verb|direction|\\verb| |\\verb|(0,|\\verb| |\\verb|0,|\\verb| |\\verb|1,|\\verb| |\\verb|1,|\\verb| |\\verb|0,|\\verb| |\\verb|1,|\\verb| |\\verb|1,|\\verb| |\\verb|0,|\\verb| |\\verb|1,|\\verb| |\\verb|1,|\\verb| |\\verb|1,|\\verb| |\\verb|0,|\\verb| |\\verb|1,|\\verb| |\\verb|0,|\\verb| |\\verb|0)|\\)</html>"
      ],
      "text/latex": [
       "$\\displaystyle \\verb|A|\\verb| |\\verb|ray|\\verb| |\\verb|in|\\verb| |\\verb|the|\\verb| |\\verb|direction|\\verb| |\\verb|(0,|\\verb| |\\verb|0,|\\verb| |\\verb|1,|\\verb| |\\verb|1,|\\verb| |\\verb|0,|\\verb| |\\verb|1,|\\verb| |\\verb|1,|\\verb| |\\verb|0,|\\verb| |\\verb|1,|\\verb| |\\verb|1,|\\verb| |\\verb|1,|\\verb| |\\verb|0,|\\verb| |\\verb|1,|\\verb| |\\verb|0,|\\verb| |\\verb|0)|$"
      ],
      "text/plain": [
       "A ray in the direction (0, 0, 1, 1, 0, 1, 1, 0, 1, 1, 1, 0, 1, 0, 0)"
      ]
     },
     "metadata": {},
     "output_type": "display_data"
    },
    {
     "data": {
      "text/html": [
       "<html>\\(\\displaystyle \\verb|A|\\verb| |\\verb|ray|\\verb| |\\verb|in|\\verb| |\\verb|the|\\verb| |\\verb|direction|\\verb| |\\verb|(0,|\\verb| |\\verb|0,|\\verb| |\\verb|1,|\\verb| |\\verb|1,|\\verb| |\\verb|1,|\\verb| |\\verb|0,|\\verb| |\\verb|0,|\\verb| |\\verb|1,|\\verb| |\\verb|1,|\\verb| |\\verb|1,|\\verb| |\\verb|0,|\\verb| |\\verb|1,|\\verb| |\\verb|0,|\\verb| |\\verb|0,|\\verb| |\\verb|1)|\\)</html>"
      ],
      "text/latex": [
       "$\\displaystyle \\verb|A|\\verb| |\\verb|ray|\\verb| |\\verb|in|\\verb| |\\verb|the|\\verb| |\\verb|direction|\\verb| |\\verb|(0,|\\verb| |\\verb|0,|\\verb| |\\verb|1,|\\verb| |\\verb|1,|\\verb| |\\verb|1,|\\verb| |\\verb|0,|\\verb| |\\verb|0,|\\verb| |\\verb|1,|\\verb| |\\verb|1,|\\verb| |\\verb|1,|\\verb| |\\verb|0,|\\verb| |\\verb|1,|\\verb| |\\verb|0,|\\verb| |\\verb|0,|\\verb| |\\verb|1)|$"
      ],
      "text/plain": [
       "A ray in the direction (0, 0, 1, 1, 1, 0, 0, 1, 1, 1, 0, 1, 0, 0, 1)"
      ]
     },
     "metadata": {},
     "output_type": "display_data"
    },
    {
     "data": {
      "text/html": [
       "<html>\\(\\displaystyle \\verb|A|\\verb| |\\verb|ray|\\verb| |\\verb|in|\\verb| |\\verb|the|\\verb| |\\verb|direction|\\verb| |\\verb|(0,|\\verb| |\\verb|1,|\\verb| |\\verb|0,|\\verb| |\\verb|0,|\\verb| |\\verb|0,|\\verb| |\\verb|0,|\\verb| |\\verb|0,|\\verb| |\\verb|0,|\\verb| |\\verb|1,|\\verb| |\\verb|1,|\\verb| |\\verb|1,|\\verb| |\\verb|1,|\\verb| |\\verb|1,|\\verb| |\\verb|1,|\\verb| |\\verb|1)|\\)</html>"
      ],
      "text/latex": [
       "$\\displaystyle \\verb|A|\\verb| |\\verb|ray|\\verb| |\\verb|in|\\verb| |\\verb|the|\\verb| |\\verb|direction|\\verb| |\\verb|(0,|\\verb| |\\verb|1,|\\verb| |\\verb|0,|\\verb| |\\verb|0,|\\verb| |\\verb|0,|\\verb| |\\verb|0,|\\verb| |\\verb|0,|\\verb| |\\verb|0,|\\verb| |\\verb|1,|\\verb| |\\verb|1,|\\verb| |\\verb|1,|\\verb| |\\verb|1,|\\verb| |\\verb|1,|\\verb| |\\verb|1,|\\verb| |\\verb|1)|$"
      ],
      "text/plain": [
       "A ray in the direction (0, 1, 0, 0, 0, 0, 0, 0, 1, 1, 1, 1, 1, 1, 1)"
      ]
     },
     "metadata": {},
     "output_type": "display_data"
    },
    {
     "data": {
      "text/html": [
       "<html>\\(\\displaystyle \\verb|A|\\verb| |\\verb|ray|\\verb| |\\verb|in|\\verb| |\\verb|the|\\verb| |\\verb|direction|\\verb| |\\verb|(0,|\\verb| |\\verb|1,|\\verb| |\\verb|0,|\\verb| |\\verb|0,|\\verb| |\\verb|1,|\\verb| |\\verb|1,|\\verb| |\\verb|1,|\\verb| |\\verb|1,|\\verb| |\\verb|1,|\\verb| |\\verb|1,|\\verb| |\\verb|0,|\\verb| |\\verb|0,|\\verb| |\\verb|0,|\\verb| |\\verb|1,|\\verb| |\\verb|0)|\\)</html>"
      ],
      "text/latex": [
       "$\\displaystyle \\verb|A|\\verb| |\\verb|ray|\\verb| |\\verb|in|\\verb| |\\verb|the|\\verb| |\\verb|direction|\\verb| |\\verb|(0,|\\verb| |\\verb|1,|\\verb| |\\verb|0,|\\verb| |\\verb|0,|\\verb| |\\verb|1,|\\verb| |\\verb|1,|\\verb| |\\verb|1,|\\verb| |\\verb|1,|\\verb| |\\verb|1,|\\verb| |\\verb|1,|\\verb| |\\verb|0,|\\verb| |\\verb|0,|\\verb| |\\verb|0,|\\verb| |\\verb|1,|\\verb| |\\verb|0)|$"
      ],
      "text/plain": [
       "A ray in the direction (0, 1, 0, 0, 1, 1, 1, 1, 1, 1, 0, 0, 0, 1, 0)"
      ]
     },
     "metadata": {},
     "output_type": "display_data"
    },
    {
     "data": {
      "text/html": [
       "<html>\\(\\displaystyle \\verb|A|\\verb| |\\verb|ray|\\verb| |\\verb|in|\\verb| |\\verb|the|\\verb| |\\verb|direction|\\verb| |\\verb|(0,|\\verb| |\\verb|1,|\\verb| |\\verb|0,|\\verb| |\\verb|1,|\\verb| |\\verb|0,|\\verb| |\\verb|0,|\\verb| |\\verb|1,|\\verb| |\\verb|0,|\\verb| |\\verb|1,|\\verb| |\\verb|1,|\\verb| |\\verb|0,|\\verb| |\\verb|0,|\\verb| |\\verb|0,|\\verb| |\\verb|0,|\\verb| |\\verb|1)|\\)</html>"
      ],
      "text/latex": [
       "$\\displaystyle \\verb|A|\\verb| |\\verb|ray|\\verb| |\\verb|in|\\verb| |\\verb|the|\\verb| |\\verb|direction|\\verb| |\\verb|(0,|\\verb| |\\verb|1,|\\verb| |\\verb|0,|\\verb| |\\verb|1,|\\verb| |\\verb|0,|\\verb| |\\verb|0,|\\verb| |\\verb|1,|\\verb| |\\verb|0,|\\verb| |\\verb|1,|\\verb| |\\verb|1,|\\verb| |\\verb|0,|\\verb| |\\verb|0,|\\verb| |\\verb|0,|\\verb| |\\verb|0,|\\verb| |\\verb|1)|$"
      ],
      "text/plain": [
       "A ray in the direction (0, 1, 0, 1, 0, 0, 1, 0, 1, 1, 0, 0, 0, 0, 1)"
      ]
     },
     "metadata": {},
     "output_type": "display_data"
    },
    {
     "data": {
      "text/html": [
       "<html>\\(\\displaystyle \\verb|A|\\verb| |\\verb|ray|\\verb| |\\verb|in|\\verb| |\\verb|the|\\verb| |\\verb|direction|\\verb| |\\verb|(0,|\\verb| |\\verb|1,|\\verb| |\\verb|1,|\\verb| |\\verb|0,|\\verb| |\\verb|0,|\\verb| |\\verb|1,|\\verb| |\\verb|0,|\\verb| |\\verb|0,|\\verb| |\\verb|0,|\\verb| |\\verb|0,|\\verb| |\\verb|1,|\\verb| |\\verb|0,|\\verb| |\\verb|1,|\\verb| |\\verb|0,|\\verb| |\\verb|1)|\\)</html>"
      ],
      "text/latex": [
       "$\\displaystyle \\verb|A|\\verb| |\\verb|ray|\\verb| |\\verb|in|\\verb| |\\verb|the|\\verb| |\\verb|direction|\\verb| |\\verb|(0,|\\verb| |\\verb|1,|\\verb| |\\verb|1,|\\verb| |\\verb|0,|\\verb| |\\verb|0,|\\verb| |\\verb|1,|\\verb| |\\verb|0,|\\verb| |\\verb|0,|\\verb| |\\verb|0,|\\verb| |\\verb|0,|\\verb| |\\verb|1,|\\verb| |\\verb|0,|\\verb| |\\verb|1,|\\verb| |\\verb|0,|\\verb| |\\verb|1)|$"
      ],
      "text/plain": [
       "A ray in the direction (0, 1, 1, 0, 0, 1, 0, 0, 0, 0, 1, 0, 1, 0, 1)"
      ]
     },
     "metadata": {},
     "output_type": "display_data"
    },
    {
     "data": {
      "text/html": [
       "<html>\\(\\displaystyle \\verb|A|\\verb| |\\verb|ray|\\verb| |\\verb|in|\\verb| |\\verb|the|\\verb| |\\verb|direction|\\verb| |\\verb|(0,|\\verb| |\\verb|1,|\\verb| |\\verb|1,|\\verb| |\\verb|0,|\\verb| |\\verb|1,|\\verb| |\\verb|0,|\\verb| |\\verb|1,|\\verb| |\\verb|1,|\\verb| |\\verb|0,|\\verb| |\\verb|0,|\\verb| |\\verb|0,|\\verb| |\\verb|1,|\\verb| |\\verb|0,|\\verb| |\\verb|0,|\\verb| |\\verb|0)|\\)</html>"
      ],
      "text/latex": [
       "$\\displaystyle \\verb|A|\\verb| |\\verb|ray|\\verb| |\\verb|in|\\verb| |\\verb|the|\\verb| |\\verb|direction|\\verb| |\\verb|(0,|\\verb| |\\verb|1,|\\verb| |\\verb|1,|\\verb| |\\verb|0,|\\verb| |\\verb|1,|\\verb| |\\verb|0,|\\verb| |\\verb|1,|\\verb| |\\verb|1,|\\verb| |\\verb|0,|\\verb| |\\verb|0,|\\verb| |\\verb|0,|\\verb| |\\verb|1,|\\verb| |\\verb|0,|\\verb| |\\verb|0,|\\verb| |\\verb|0)|$"
      ],
      "text/plain": [
       "A ray in the direction (0, 1, 1, 0, 1, 0, 1, 1, 0, 0, 0, 1, 0, 0, 0)"
      ]
     },
     "metadata": {},
     "output_type": "display_data"
    },
    {
     "data": {
      "text/html": [
       "<html>\\(\\displaystyle \\verb|A|\\verb| |\\verb|ray|\\verb| |\\verb|in|\\verb| |\\verb|the|\\verb| |\\verb|direction|\\verb| |\\verb|(0,|\\verb| |\\verb|1,|\\verb| |\\verb|1,|\\verb| |\\verb|1,|\\verb| |\\verb|0,|\\verb| |\\verb|1,|\\verb| |\\verb|1,|\\verb| |\\verb|0,|\\verb| |\\verb|0,|\\verb| |\\verb|0,|\\verb| |\\verb|0,|\\verb| |\\verb|1,|\\verb| |\\verb|0,|\\verb| |\\verb|1,|\\verb| |\\verb|1)|\\)</html>"
      ],
      "text/latex": [
       "$\\displaystyle \\verb|A|\\verb| |\\verb|ray|\\verb| |\\verb|in|\\verb| |\\verb|the|\\verb| |\\verb|direction|\\verb| |\\verb|(0,|\\verb| |\\verb|1,|\\verb| |\\verb|1,|\\verb| |\\verb|1,|\\verb| |\\verb|0,|\\verb| |\\verb|1,|\\verb| |\\verb|1,|\\verb| |\\verb|0,|\\verb| |\\verb|0,|\\verb| |\\verb|0,|\\verb| |\\verb|0,|\\verb| |\\verb|1,|\\verb| |\\verb|0,|\\verb| |\\verb|1,|\\verb| |\\verb|1)|$"
      ],
      "text/plain": [
       "A ray in the direction (0, 1, 1, 1, 0, 1, 1, 0, 0, 0, 0, 1, 0, 1, 1)"
      ]
     },
     "metadata": {},
     "output_type": "display_data"
    },
    {
     "data": {
      "text/html": [
       "<html>\\(\\displaystyle \\verb|A|\\verb| |\\verb|ray|\\verb| |\\verb|in|\\verb| |\\verb|the|\\verb| |\\verb|direction|\\verb| |\\verb|(0,|\\verb| |\\verb|1,|\\verb| |\\verb|1,|\\verb| |\\verb|1,|\\verb| |\\verb|1,|\\verb| |\\verb|0,|\\verb| |\\verb|0,|\\verb| |\\verb|1,|\\verb| |\\verb|0,|\\verb| |\\verb|0,|\\verb| |\\verb|1,|\\verb| |\\verb|0,|\\verb| |\\verb|1,|\\verb| |\\verb|1,|\\verb| |\\verb|0)|\\)</html>"
      ],
      "text/latex": [
       "$\\displaystyle \\verb|A|\\verb| |\\verb|ray|\\verb| |\\verb|in|\\verb| |\\verb|the|\\verb| |\\verb|direction|\\verb| |\\verb|(0,|\\verb| |\\verb|1,|\\verb| |\\verb|1,|\\verb| |\\verb|1,|\\verb| |\\verb|1,|\\verb| |\\verb|0,|\\verb| |\\verb|0,|\\verb| |\\verb|1,|\\verb| |\\verb|0,|\\verb| |\\verb|0,|\\verb| |\\verb|1,|\\verb| |\\verb|0,|\\verb| |\\verb|1,|\\verb| |\\verb|1,|\\verb| |\\verb|0)|$"
      ],
      "text/plain": [
       "A ray in the direction (0, 1, 1, 1, 1, 0, 0, 1, 0, 0, 1, 0, 1, 1, 0)"
      ]
     },
     "metadata": {},
     "output_type": "display_data"
    },
    {
     "data": {
      "text/html": [
       "<html>\\(\\displaystyle \\verb|A|\\verb| |\\verb|ray|\\verb| |\\verb|in|\\verb| |\\verb|the|\\verb| |\\verb|direction|\\verb| |\\verb|(1,|\\verb| |\\verb|0,|\\verb| |\\verb|0,|\\verb| |\\verb|0,|\\verb| |\\verb|0,|\\verb| |\\verb|0,|\\verb| |\\verb|0,|\\verb| |\\verb|1,|\\verb| |\\verb|1,|\\verb| |\\verb|0,|\\verb| |\\verb|1,|\\verb| |\\verb|1,|\\verb| |\\verb|0,|\\verb| |\\verb|0,|\\verb| |\\verb|1)|\\)</html>"
      ],
      "text/latex": [
       "$\\displaystyle \\verb|A|\\verb| |\\verb|ray|\\verb| |\\verb|in|\\verb| |\\verb|the|\\verb| |\\verb|direction|\\verb| |\\verb|(1,|\\verb| |\\verb|0,|\\verb| |\\verb|0,|\\verb| |\\verb|0,|\\verb| |\\verb|0,|\\verb| |\\verb|0,|\\verb| |\\verb|0,|\\verb| |\\verb|1,|\\verb| |\\verb|1,|\\verb| |\\verb|0,|\\verb| |\\verb|1,|\\verb| |\\verb|1,|\\verb| |\\verb|0,|\\verb| |\\verb|0,|\\verb| |\\verb|1)|$"
      ],
      "text/plain": [
       "A ray in the direction (1, 0, 0, 0, 0, 0, 0, 1, 1, 0, 1, 1, 0, 0, 1)"
      ]
     },
     "metadata": {},
     "output_type": "display_data"
    },
    {
     "data": {
      "text/html": [
       "<html>\\(\\displaystyle \\verb|A|\\verb| |\\verb|ray|\\verb| |\\verb|in|\\verb| |\\verb|the|\\verb| |\\verb|direction|\\verb| |\\verb|(1,|\\verb| |\\verb|0,|\\verb| |\\verb|0,|\\verb| |\\verb|0,|\\verb| |\\verb|1,|\\verb| |\\verb|1,|\\verb| |\\verb|1,|\\verb| |\\verb|0,|\\verb| |\\verb|1,|\\verb| |\\verb|0,|\\verb| |\\verb|0,|\\verb| |\\verb|0,|\\verb| |\\verb|1,|\\verb| |\\verb|0,|\\verb| |\\verb|0)|\\)</html>"
      ],
      "text/latex": [
       "$\\displaystyle \\verb|A|\\verb| |\\verb|ray|\\verb| |\\verb|in|\\verb| |\\verb|the|\\verb| |\\verb|direction|\\verb| |\\verb|(1,|\\verb| |\\verb|0,|\\verb| |\\verb|0,|\\verb| |\\verb|0,|\\verb| |\\verb|1,|\\verb| |\\verb|1,|\\verb| |\\verb|1,|\\verb| |\\verb|0,|\\verb| |\\verb|1,|\\verb| |\\verb|0,|\\verb| |\\verb|0,|\\verb| |\\verb|0,|\\verb| |\\verb|1,|\\verb| |\\verb|0,|\\verb| |\\verb|0)|$"
      ],
      "text/plain": [
       "A ray in the direction (1, 0, 0, 0, 1, 1, 1, 0, 1, 0, 0, 0, 1, 0, 0)"
      ]
     },
     "metadata": {},
     "output_type": "display_data"
    },
    {
     "data": {
      "text/html": [
       "<html>\\(\\displaystyle \\verb|A|\\verb| |\\verb|ray|\\verb| |\\verb|in|\\verb| |\\verb|the|\\verb| |\\verb|direction|\\verb| |\\verb|(1,|\\verb| |\\verb|0,|\\verb| |\\verb|0,|\\verb| |\\verb|1,|\\verb| |\\verb|0,|\\verb| |\\verb|0,|\\verb| |\\verb|1,|\\verb| |\\verb|1,|\\verb| |\\verb|1,|\\verb| |\\verb|0,|\\verb| |\\verb|0,|\\verb| |\\verb|0,|\\verb| |\\verb|1,|\\verb| |\\verb|1,|\\verb| |\\verb|1)|\\)</html>"
      ],
      "text/latex": [
       "$\\displaystyle \\verb|A|\\verb| |\\verb|ray|\\verb| |\\verb|in|\\verb| |\\verb|the|\\verb| |\\verb|direction|\\verb| |\\verb|(1,|\\verb| |\\verb|0,|\\verb| |\\verb|0,|\\verb| |\\verb|1,|\\verb| |\\verb|0,|\\verb| |\\verb|0,|\\verb| |\\verb|1,|\\verb| |\\verb|1,|\\verb| |\\verb|1,|\\verb| |\\verb|0,|\\verb| |\\verb|0,|\\verb| |\\verb|0,|\\verb| |\\verb|1,|\\verb| |\\verb|1,|\\verb| |\\verb|1)|$"
      ],
      "text/plain": [
       "A ray in the direction (1, 0, 0, 1, 0, 0, 1, 1, 1, 0, 0, 0, 1, 1, 1)"
      ]
     },
     "metadata": {},
     "output_type": "display_data"
    },
    {
     "data": {
      "text/html": [
       "<html>\\(\\displaystyle \\verb|A|\\verb| |\\verb|ray|\\verb| |\\verb|in|\\verb| |\\verb|the|\\verb| |\\verb|direction|\\verb| |\\verb|(1,|\\verb| |\\verb|0,|\\verb| |\\verb|0,|\\verb| |\\verb|1,|\\verb| |\\verb|1,|\\verb| |\\verb|1,|\\verb| |\\verb|0,|\\verb| |\\verb|0,|\\verb| |\\verb|1,|\\verb| |\\verb|0,|\\verb| |\\verb|1,|\\verb| |\\verb|1,|\\verb| |\\verb|0,|\\verb| |\\verb|1,|\\verb| |\\verb|0)|\\)</html>"
      ],
      "text/latex": [
       "$\\displaystyle \\verb|A|\\verb| |\\verb|ray|\\verb| |\\verb|in|\\verb| |\\verb|the|\\verb| |\\verb|direction|\\verb| |\\verb|(1,|\\verb| |\\verb|0,|\\verb| |\\verb|0,|\\verb| |\\verb|1,|\\verb| |\\verb|1,|\\verb| |\\verb|1,|\\verb| |\\verb|0,|\\verb| |\\verb|0,|\\verb| |\\verb|1,|\\verb| |\\verb|0,|\\verb| |\\verb|1,|\\verb| |\\verb|1,|\\verb| |\\verb|0,|\\verb| |\\verb|1,|\\verb| |\\verb|0)|$"
      ],
      "text/plain": [
       "A ray in the direction (1, 0, 0, 1, 1, 1, 0, 0, 1, 0, 1, 1, 0, 1, 0)"
      ]
     },
     "metadata": {},
     "output_type": "display_data"
    },
    {
     "data": {
      "text/html": [
       "<html>\\(\\displaystyle \\verb|A|\\verb| |\\verb|ray|\\verb| |\\verb|in|\\verb| |\\verb|the|\\verb| |\\verb|direction|\\verb| |\\verb|(1,|\\verb| |\\verb|0,|\\verb| |\\verb|1,|\\verb| |\\verb|0,|\\verb| |\\verb|0,|\\verb| |\\verb|1,|\\verb| |\\verb|0,|\\verb| |\\verb|1,|\\verb| |\\verb|0,|\\verb| |\\verb|1,|\\verb| |\\verb|1,|\\verb| |\\verb|0,|\\verb| |\\verb|0,|\\verb| |\\verb|1,|\\verb| |\\verb|1)|\\)</html>"
      ],
      "text/latex": [
       "$\\displaystyle \\verb|A|\\verb| |\\verb|ray|\\verb| |\\verb|in|\\verb| |\\verb|the|\\verb| |\\verb|direction|\\verb| |\\verb|(1,|\\verb| |\\verb|0,|\\verb| |\\verb|1,|\\verb| |\\verb|0,|\\verb| |\\verb|0,|\\verb| |\\verb|1,|\\verb| |\\verb|0,|\\verb| |\\verb|1,|\\verb| |\\verb|0,|\\verb| |\\verb|1,|\\verb| |\\verb|1,|\\verb| |\\verb|0,|\\verb| |\\verb|0,|\\verb| |\\verb|1,|\\verb| |\\verb|1)|$"
      ],
      "text/plain": [
       "A ray in the direction (1, 0, 1, 0, 0, 1, 0, 1, 0, 1, 1, 0, 0, 1, 1)"
      ]
     },
     "metadata": {},
     "output_type": "display_data"
    },
    {
     "data": {
      "text/html": [
       "<html>\\(\\displaystyle \\verb|A|\\verb| |\\verb|ray|\\verb| |\\verb|in|\\verb| |\\verb|the|\\verb| |\\verb|direction|\\verb| |\\verb|(1,|\\verb| |\\verb|0,|\\verb| |\\verb|1,|\\verb| |\\verb|0,|\\verb| |\\verb|1,|\\verb| |\\verb|0,|\\verb| |\\verb|1,|\\verb| |\\verb|0,|\\verb| |\\verb|0,|\\verb| |\\verb|1,|\\verb| |\\verb|0,|\\verb| |\\verb|1,|\\verb| |\\verb|1,|\\verb| |\\verb|1,|\\verb| |\\verb|0)|\\)</html>"
      ],
      "text/latex": [
       "$\\displaystyle \\verb|A|\\verb| |\\verb|ray|\\verb| |\\verb|in|\\verb| |\\verb|the|\\verb| |\\verb|direction|\\verb| |\\verb|(1,|\\verb| |\\verb|0,|\\verb| |\\verb|1,|\\verb| |\\verb|0,|\\verb| |\\verb|1,|\\verb| |\\verb|0,|\\verb| |\\verb|1,|\\verb| |\\verb|0,|\\verb| |\\verb|0,|\\verb| |\\verb|1,|\\verb| |\\verb|0,|\\verb| |\\verb|1,|\\verb| |\\verb|1,|\\verb| |\\verb|1,|\\verb| |\\verb|0)|$"
      ],
      "text/plain": [
       "A ray in the direction (1, 0, 1, 0, 1, 0, 1, 0, 0, 1, 0, 1, 1, 1, 0)"
      ]
     },
     "metadata": {},
     "output_type": "display_data"
    },
    {
     "data": {
      "text/html": [
       "<html>\\(\\displaystyle \\verb|A|\\verb| |\\verb|ray|\\verb| |\\verb|in|\\verb| |\\verb|the|\\verb| |\\verb|direction|\\verb| |\\verb|(1,|\\verb| |\\verb|0,|\\verb| |\\verb|1,|\\verb| |\\verb|1,|\\verb| |\\verb|1,|\\verb| |\\verb|0,|\\verb| |\\verb|0,|\\verb| |\\verb|0,|\\verb| |\\verb|0,|\\verb| |\\verb|1,|\\verb| |\\verb|1,|\\verb| |\\verb|0,|\\verb| |\\verb|0,|\\verb| |\\verb|0,|\\verb| |\\verb|0)|\\)</html>"
      ],
      "text/latex": [
       "$\\displaystyle \\verb|A|\\verb| |\\verb|ray|\\verb| |\\verb|in|\\verb| |\\verb|the|\\verb| |\\verb|direction|\\verb| |\\verb|(1,|\\verb| |\\verb|0,|\\verb| |\\verb|1,|\\verb| |\\verb|1,|\\verb| |\\verb|1,|\\verb| |\\verb|0,|\\verb| |\\verb|0,|\\verb| |\\verb|0,|\\verb| |\\verb|0,|\\verb| |\\verb|1,|\\verb| |\\verb|1,|\\verb| |\\verb|0,|\\verb| |\\verb|0,|\\verb| |\\verb|0,|\\verb| |\\verb|0)|$"
      ],
      "text/plain": [
       "A ray in the direction (1, 0, 1, 1, 1, 0, 0, 0, 0, 1, 1, 0, 0, 0, 0)"
      ]
     },
     "metadata": {},
     "output_type": "display_data"
    },
    {
     "data": {
      "text/html": [
       "<html>\\(\\displaystyle \\verb|A|\\verb| |\\verb|ray|\\verb| |\\verb|in|\\verb| |\\verb|the|\\verb| |\\verb|direction|\\verb| |\\verb|(1,|\\verb| |\\verb|1,|\\verb| |\\verb|0,|\\verb| |\\verb|0,|\\verb| |\\verb|0,|\\verb| |\\verb|0,|\\verb| |\\verb|0,|\\verb| |\\verb|1,|\\verb| |\\verb|0,|\\verb| |\\verb|1,|\\verb| |\\verb|0,|\\verb| |\\verb|0,|\\verb| |\\verb|1,|\\verb| |\\verb|1,|\\verb| |\\verb|0)|\\)</html>"
      ],
      "text/latex": [
       "$\\displaystyle \\verb|A|\\verb| |\\verb|ray|\\verb| |\\verb|in|\\verb| |\\verb|the|\\verb| |\\verb|direction|\\verb| |\\verb|(1,|\\verb| |\\verb|1,|\\verb| |\\verb|0,|\\verb| |\\verb|0,|\\verb| |\\verb|0,|\\verb| |\\verb|0,|\\verb| |\\verb|0,|\\verb| |\\verb|1,|\\verb| |\\verb|0,|\\verb| |\\verb|1,|\\verb| |\\verb|0,|\\verb| |\\verb|0,|\\verb| |\\verb|1,|\\verb| |\\verb|1,|\\verb| |\\verb|0)|$"
      ],
      "text/plain": [
       "A ray in the direction (1, 1, 0, 0, 0, 0, 0, 1, 0, 1, 0, 0, 1, 1, 0)"
      ]
     },
     "metadata": {},
     "output_type": "display_data"
    },
    {
     "data": {
      "text/html": [
       "<html>\\(\\displaystyle \\verb|A|\\verb| |\\verb|ray|\\verb| |\\verb|in|\\verb| |\\verb|the|\\verb| |\\verb|direction|\\verb| |\\verb|(1,|\\verb| |\\verb|1,|\\verb| |\\verb|0,|\\verb| |\\verb|1,|\\verb| |\\verb|0,|\\verb| |\\verb|0,|\\verb| |\\verb|1,|\\verb| |\\verb|1,|\\verb| |\\verb|0,|\\verb| |\\verb|1,|\\verb| |\\verb|1,|\\verb| |\\verb|1,|\\verb| |\\verb|0,|\\verb| |\\verb|0,|\\verb| |\\verb|0)|\\)</html>"
      ],
      "text/latex": [
       "$\\displaystyle \\verb|A|\\verb| |\\verb|ray|\\verb| |\\verb|in|\\verb| |\\verb|the|\\verb| |\\verb|direction|\\verb| |\\verb|(1,|\\verb| |\\verb|1,|\\verb| |\\verb|0,|\\verb| |\\verb|1,|\\verb| |\\verb|0,|\\verb| |\\verb|0,|\\verb| |\\verb|1,|\\verb| |\\verb|1,|\\verb| |\\verb|0,|\\verb| |\\verb|1,|\\verb| |\\verb|1,|\\verb| |\\verb|1,|\\verb| |\\verb|0,|\\verb| |\\verb|0,|\\verb| |\\verb|0)|$"
      ],
      "text/plain": [
       "A ray in the direction (1, 1, 0, 1, 0, 0, 1, 1, 0, 1, 1, 1, 0, 0, 0)"
      ]
     },
     "metadata": {},
     "output_type": "display_data"
    },
    {
     "data": {
      "text/html": [
       "<html>\\(\\displaystyle \\verb|A|\\verb| |\\verb|ray|\\verb| |\\verb|in|\\verb| |\\verb|the|\\verb| |\\verb|direction|\\verb| |\\verb|(1,|\\verb| |\\verb|1,|\\verb| |\\verb|0,|\\verb| |\\verb|1,|\\verb| |\\verb|1,|\\verb| |\\verb|1,|\\verb| |\\verb|0,|\\verb| |\\verb|0,|\\verb| |\\verb|0,|\\verb| |\\verb|1,|\\verb| |\\verb|0,|\\verb| |\\verb|0,|\\verb| |\\verb|1,|\\verb| |\\verb|0,|\\verb| |\\verb|1)|\\)</html>"
      ],
      "text/latex": [
       "$\\displaystyle \\verb|A|\\verb| |\\verb|ray|\\verb| |\\verb|in|\\verb| |\\verb|the|\\verb| |\\verb|direction|\\verb| |\\verb|(1,|\\verb| |\\verb|1,|\\verb| |\\verb|0,|\\verb| |\\verb|1,|\\verb| |\\verb|1,|\\verb| |\\verb|1,|\\verb| |\\verb|0,|\\verb| |\\verb|0,|\\verb| |\\verb|0,|\\verb| |\\verb|1,|\\verb| |\\verb|0,|\\verb| |\\verb|0,|\\verb| |\\verb|1,|\\verb| |\\verb|0,|\\verb| |\\verb|1)|$"
      ],
      "text/plain": [
       "A ray in the direction (1, 1, 0, 1, 1, 1, 0, 0, 0, 1, 0, 0, 1, 0, 1)"
      ]
     },
     "metadata": {},
     "output_type": "display_data"
    },
    {
     "data": {
      "text/html": [
       "<html>\\(\\displaystyle \\verb|A|\\verb| |\\verb|ray|\\verb| |\\verb|in|\\verb| |\\verb|the|\\verb| |\\verb|direction|\\verb| |\\verb|(1,|\\verb| |\\verb|1,|\\verb| |\\verb|1,|\\verb| |\\verb|0,|\\verb| |\\verb|0,|\\verb| |\\verb|1,|\\verb| |\\verb|0,|\\verb| |\\verb|1,|\\verb| |\\verb|1,|\\verb| |\\verb|0,|\\verb| |\\verb|0,|\\verb| |\\verb|1,|\\verb| |\\verb|1,|\\verb| |\\verb|0,|\\verb| |\\verb|0)|\\)</html>"
      ],
      "text/latex": [
       "$\\displaystyle \\verb|A|\\verb| |\\verb|ray|\\verb| |\\verb|in|\\verb| |\\verb|the|\\verb| |\\verb|direction|\\verb| |\\verb|(1,|\\verb| |\\verb|1,|\\verb| |\\verb|1,|\\verb| |\\verb|0,|\\verb| |\\verb|0,|\\verb| |\\verb|1,|\\verb| |\\verb|0,|\\verb| |\\verb|1,|\\verb| |\\verb|1,|\\verb| |\\verb|0,|\\verb| |\\verb|0,|\\verb| |\\verb|1,|\\verb| |\\verb|1,|\\verb| |\\verb|0,|\\verb| |\\verb|0)|$"
      ],
      "text/plain": [
       "A ray in the direction (1, 1, 1, 0, 0, 1, 0, 1, 1, 0, 0, 1, 1, 0, 0)"
      ]
     },
     "metadata": {},
     "output_type": "display_data"
    },
    {
     "data": {
      "text/html": [
       "<html>\\(\\displaystyle \\verb|A|\\verb| |\\verb|ray|\\verb| |\\verb|in|\\verb| |\\verb|the|\\verb| |\\verb|direction|\\verb| |\\verb|(1,|\\verb| |\\verb|1,|\\verb| |\\verb|1,|\\verb| |\\verb|0,|\\verb| |\\verb|1,|\\verb| |\\verb|0,|\\verb| |\\verb|1,|\\verb| |\\verb|0,|\\verb| |\\verb|1,|\\verb| |\\verb|0,|\\verb| |\\verb|1,|\\verb| |\\verb|0,|\\verb| |\\verb|0,|\\verb| |\\verb|0,|\\verb| |\\verb|1)|\\)</html>"
      ],
      "text/latex": [
       "$\\displaystyle \\verb|A|\\verb| |\\verb|ray|\\verb| |\\verb|in|\\verb| |\\verb|the|\\verb| |\\verb|direction|\\verb| |\\verb|(1,|\\verb| |\\verb|1,|\\verb| |\\verb|1,|\\verb| |\\verb|0,|\\verb| |\\verb|1,|\\verb| |\\verb|0,|\\verb| |\\verb|1,|\\verb| |\\verb|0,|\\verb| |\\verb|1,|\\verb| |\\verb|0,|\\verb| |\\verb|1,|\\verb| |\\verb|0,|\\verb| |\\verb|0,|\\verb| |\\verb|0,|\\verb| |\\verb|1)|$"
      ],
      "text/plain": [
       "A ray in the direction (1, 1, 1, 0, 1, 0, 1, 0, 1, 0, 1, 0, 0, 0, 1)"
      ]
     },
     "metadata": {},
     "output_type": "display_data"
    }
   ],
   "source": [
    "for ray in cv.rays():\n",
    "    display(ray)"
   ]
  },
  {
   "cell_type": "code",
   "execution_count": 14,
   "id": "e57989da-21e2-492a-8405-78a428dd060f",
   "metadata": {},
   "outputs": [
    {
     "data": {
      "text/html": [
       "<html>\\(\\displaystyle 975\\)</html>"
      ],
      "text/latex": [
       "$\\displaystyle 975$"
      ],
      "text/plain": [
       "975"
      ]
     },
     "execution_count": 14,
     "metadata": {},
     "output_type": "execute_result"
    }
   ],
   "source": [
    "ieqs = cv.inequalities()\n",
    "len(ieqs)"
   ]
  },
  {
   "cell_type": "code",
   "execution_count": 29,
   "id": "050fa34f-7846-4ccb-87cc-69e4fb6d2f36",
   "metadata": {},
   "outputs": [
    {
     "data": {
      "text/html": [
       "<html>\\(\\displaystyle +\\infty\\)</html>"
      ],
      "text/latex": [
       "$\\displaystyle +\\infty$"
      ],
      "text/plain": [
       "+Infinity"
      ]
     },
     "execution_count": 29,
     "metadata": {},
     "output_type": "execute_result"
    }
   ],
   "source": [
    "cv.volume()"
   ]
  },
  {
   "cell_type": "code",
   "execution_count": 28,
   "id": "704f9725-7052-4e68-b548-27cb4a406d5a",
   "metadata": {},
   "outputs": [
    {
     "data": {
      "text/html": [
       "<html>\\(\\displaystyle \\mathrm{True}\\)</html>"
      ],
      "text/latex": [
       "$\\displaystyle \\mathrm{True}$"
      ],
      "text/plain": [
       "True"
      ]
     },
     "execution_count": 28,
     "metadata": {},
     "output_type": "execute_result"
    }
   ],
   "source": [
    "Set(cv.rays()) == Set(map(lambda f: f.rays()[0], cv.faces(1)))"
   ]
  },
  {
   "cell_type": "code",
   "execution_count": 30,
   "id": "72b29bfb-e0b4-43c3-95fb-083852272ecf",
   "metadata": {},
   "outputs": [
    {
     "data": {
      "text/html": [
       "<html>\\(\\displaystyle 975\\)</html>"
      ],
      "text/latex": [
       "$\\displaystyle 975$"
      ],
      "text/plain": [
       "975"
      ]
     },
     "execution_count": 30,
     "metadata": {},
     "output_type": "execute_result"
    }
   ],
   "source": [
    "a = cv.faces(14)\n",
    "len(a)"
   ]
  },
  {
   "cell_type": "code",
   "execution_count": 31,
   "id": "445cb7a7-df65-4cef-82d3-9da57738e7ee",
   "metadata": {},
   "outputs": [
    {
     "data": {
      "text/html": [
       "<html>\\(\\displaystyle 300\\)</html>"
      ],
      "text/latex": [
       "$\\displaystyle 300$"
      ],
      "text/plain": [
       "300"
      ]
     },
     "execution_count": 31,
     "metadata": {},
     "output_type": "execute_result"
    }
   ],
   "source": [
    "b = cv.faces(2)\n",
    "len(b)"
   ]
  },
  {
   "cell_type": "code",
   "execution_count": 48,
   "id": "78d7df1f-95ec-41d0-8b09-cfd48752aa52",
   "metadata": {},
   "outputs": [
    {
     "data": {
      "text/html": [
       "<html>\\(\\displaystyle 2285\\)</html>"
      ],
      "text/latex": [
       "$\\displaystyle 2285$"
      ],
      "text/plain": [
       "2285"
      ]
     },
     "execution_count": 48,
     "metadata": {},
     "output_type": "execute_result"
    }
   ],
   "source": [
    "len(cv.faces(3))"
   ]
  },
  {
   "cell_type": "code",
   "execution_count": 32,
   "id": "e488d07c-7b46-4848-8762-ea39388bd588",
   "metadata": {},
   "outputs": [
    {
     "data": {
      "text/html": [
       "<html>\\(\\displaystyle 15\\)</html>"
      ],
      "text/latex": [
       "$\\displaystyle 15$"
      ],
      "text/plain": [
       "15"
      ]
     },
     "execution_count": 32,
     "metadata": {},
     "output_type": "execute_result"
    }
   ],
   "source": [
    "cv.dimension()"
   ]
  },
  {
   "cell_type": "code",
   "execution_count": null,
   "id": "18228846-3656-41cc-8cc4-382bf26ca44d",
   "metadata": {},
   "outputs": [],
   "source": [
    "%display latex\n",
    "A = Matrix([i.vector()[1:16] for i in ieqs])\n",
    "latex(A) + latex(x) + \"\\\\geq \\\\vec 0\""
   ]
  },
  {
   "cell_type": "code",
   "execution_count": 16,
   "id": "ed524a80-3718-438b-b63d-784e836f16da",
   "metadata": {},
   "outputs": [
    {
     "data": {
      "text/html": [
       "<html>\\(\\displaystyle 0\\)</html>"
      ],
      "text/latex": [
       "$\\displaystyle 0$"
      ],
      "text/plain": [
       "0"
      ]
     },
     "execution_count": 16,
     "metadata": {},
     "output_type": "execute_result"
    }
   ],
   "source": [
    "eqs = cv.equations()\n",
    "len(eqs)"
   ]
  },
  {
   "cell_type": "code",
   "execution_count": 11,
   "id": "48212f2b-9121-401a-b2b6-51c899586b8b",
   "metadata": {},
   "outputs": [
    {
     "data": {
      "text/html": [
       "<html>\\(\\displaystyle \\left(\\begin{array}{rrrrrrrrrrrrrrr}\n",
       "1 & 0 & 1 & 1 & -1 & 0 & 0 & 0 & 0 & -1 & -1 & 0 & 0 & 0 & 0 \\\\\n",
       "0 & 1 & -1 & 0 & 0 & 1 & 0 & 0 & 0 & 0 & 1 & 0 & -1 & 0 & -1 \\\\\n",
       "0 & 1 & 0 & 1 & 0 & 0 & -1 & 0 & 1 & -1 & 0 & 0 & 0 & 0 & -1 \\\\\n",
       "1 & 0 & 0 & 0 & 0 & 0 & 0 & -1 & -1 & 0 & -1 & 1 & 0 & 0 & 1 \\\\\n",
       "1 & 1 & 0 & 0 & 0 & 0 & 0 & -1 & 0 & -1 & 0 & 0 & -1 & 1 & 0\n",
       "\\end{array}\\right) x = \\vec 0\\)</html>"
      ],
      "text/latex": [
       "$\\displaystyle \\left(\\begin{array}{rrrrrrrrrrrrrrr}\n",
       "1 & 0 & 1 & 1 & -1 & 0 & 0 & 0 & 0 & -1 & -1 & 0 & 0 & 0 & 0 \\\\\n",
       "0 & 1 & -1 & 0 & 0 & 1 & 0 & 0 & 0 & 0 & 1 & 0 & -1 & 0 & -1 \\\\\n",
       "0 & 1 & 0 & 1 & 0 & 0 & -1 & 0 & 1 & -1 & 0 & 0 & 0 & 0 & -1 \\\\\n",
       "1 & 0 & 0 & 0 & 0 & 0 & 0 & -1 & -1 & 0 & -1 & 1 & 0 & 0 & 1 \\\\\n",
       "1 & 1 & 0 & 0 & 0 & 0 & 0 & -1 & 0 & -1 & 0 & 0 & -1 & 1 & 0\n",
       "\\end{array}\\right) x = \\vec 0$"
      ],
      "text/plain": [
       "\\left(\\begin{array}{rrrrrrrrrrrrrrr}\n",
       "1 & 0 & 1 & 1 & -1 & 0 & 0 & 0 & 0 & -1 & -1 & 0 & 0 & 0 & 0 \\\\\n",
       "0 & 1 & -1 & 0 & 0 & 1 & 0 & 0 & 0 & 0 & 1 & 0 & -1 & 0 & -1 \\\\\n",
       "0 & 1 & 0 & 1 & 0 & 0 & -1 & 0 & 1 & -1 & 0 & 0 & 0 & 0 & -1 \\\\\n",
       "1 & 0 & 0 & 0 & 0 & 0 & 0 & -1 & -1 & 0 & -1 & 1 & 0 & 0 & 1 \\\\\n",
       "1 & 1 & 0 & 0 & 0 & 0 & 0 & -1 & 0 & -1 & 0 & 0 & -1 & 1 & 0\n",
       "\\end{array}\\right) x = \\vec 0"
      ]
     },
     "execution_count": 11,
     "metadata": {},
     "output_type": "execute_result"
    }
   ],
   "source": [
    "%display latex\n",
    "\n",
    "\n",
    "B = Matrix([i.vector()[1:16] for i in eqs])\n",
    "latex(B) + latex(x) + \"= \\\\vec 0\""
   ]
  },
  {
   "cell_type": "code",
   "execution_count": 33,
   "id": "14263585-6fb0-4fe8-88ea-3a367ecf9c79",
   "metadata": {},
   "outputs": [
    {
     "data": {
      "text/html": [
       "<html>\\(\\displaystyle 15\\)</html>"
      ],
      "text/latex": [
       "$\\displaystyle 15$"
      ],
      "text/plain": [
       "15"
      ]
     },
     "execution_count": 33,
     "metadata": {},
     "output_type": "execute_result"
    }
   ],
   "source": [
    "C = Matrix([i.vector()[1:16] for i in eqs]+[i.vector()[1:16] for i in ieqs])\n",
    "C.rank()"
   ]
  },
  {
   "cell_type": "code",
   "execution_count": 13,
   "id": "22833b2b-a942-43f3-b419-c778b20523ad",
   "metadata": {},
   "outputs": [
    {
     "data": {
      "text/html": [
       "<html>\\(\\displaystyle \\left(-V\\left(K_{1}, K_{5}\\right) V\\left(K_{2}, K_{6}\\right) V\\left(K_{3}, K_{4}\\right) + V\\left(K_{1}, K_{4}\\right) V\\left(K_{2}, K_{6}\\right) V\\left(K_{3}, K_{5}\\right) + V\\left(K_{1}, K_{5}\\right) V\\left(K_{2}, K_{3}\\right) V\\left(K_{4}, K_{6}\\right) - V\\left(K_{1}, K_{2}\\right) V\\left(K_{3}, K_{5}\\right) V\\left(K_{4}, K_{6}\\right) - V\\left(K_{1}, K_{4}\\right) V\\left(K_{2}, K_{3}\\right) V\\left(K_{5}, K_{6}\\right) + V\\left(K_{1}, K_{2}\\right) V\\left(K_{3}, K_{4}\\right) V\\left(K_{5}, K_{6}\\right)\\right)\\)</html>"
      ],
      "text/latex": [
       "$\\displaystyle \\left(-V\\left(K_{1}, K_{5}\\right) V\\left(K_{2}, K_{6}\\right) V\\left(K_{3}, K_{4}\\right) + V\\left(K_{1}, K_{4}\\right) V\\left(K_{2}, K_{6}\\right) V\\left(K_{3}, K_{5}\\right) + V\\left(K_{1}, K_{5}\\right) V\\left(K_{2}, K_{3}\\right) V\\left(K_{4}, K_{6}\\right) - V\\left(K_{1}, K_{2}\\right) V\\left(K_{3}, K_{5}\\right) V\\left(K_{4}, K_{6}\\right) - V\\left(K_{1}, K_{4}\\right) V\\left(K_{2}, K_{3}\\right) V\\left(K_{5}, K_{6}\\right) + V\\left(K_{1}, K_{2}\\right) V\\left(K_{3}, K_{4}\\right) V\\left(K_{5}, K_{6}\\right)\\right)$"
      ],
      "text/plain": [
       "(-V(K_1, K_5)*V(K_2, K_6)*V(K_3, K_4) + V(K_1, K_4)*V(K_2, K_6)*V(K_3, K_5) + V(K_1, K_5)*V(K_2, K_3)*V(K_4, K_6) - V(K_1, K_2)*V(K_3, K_5)*V(K_4, K_6) - V(K_1, K_4)*V(K_2, K_3)*V(K_5, K_6) + V(K_1, K_2)*V(K_3, K_4)*V(K_5, K_6))"
      ]
     },
     "execution_count": 13,
     "metadata": {},
     "output_type": "execute_result"
    }
   ],
   "source": [
    "(eqs[0].vector()[1:16] * x_vec)"
   ]
  },
  {
   "cell_type": "code",
   "execution_count": 15,
   "id": "83b88dc8-a31f-45bc-81c4-66780cf7d979",
   "metadata": {},
   "outputs": [
    {
     "data": {
      "text/html": [
       "<html>\\(\\displaystyle 15\\)</html>"
      ],
      "text/latex": [
       "$\\displaystyle 15$"
      ],
      "text/plain": [
       "15"
      ]
     },
     "execution_count": 15,
     "metadata": {},
     "output_type": "execute_result"
    }
   ],
   "source": [
    "cv.dimension()"
   ]
  },
  {
   "cell_type": "markdown",
   "id": "30834e00-6e23-4d43-8eed-fa2fb4a15d19",
   "metadata": {},
   "source": [
    "Next, we'd like to determine how many fundamental relations we have.\n",
    "\n",
    "If we permute the labels of our six bodies, we expect to get the same set of relations. However, appling these permutations to any one relation is sure to change it. We'd like to determine how many of these relations are simply a permuted form of another relation and how many are fundamentally unique.\n",
    "\n",
    "These permutations, represented by the symmetric group $S_{6}$, induce another permutation group $G < S_{15}$ on the terms of the relations. This group acts on our set of relations and produce orbits of fundamentally equivalent relations.\n",
    "\n",
    "To find these orbits, we can simply use SageMath's orbit API."
   ]
  },
  {
   "cell_type": "code",
   "execution_count": 34,
   "id": "81e578bb-a39b-442e-80ef-fe5b68326d1a",
   "metadata": {
    "scrolled": true
   },
   "outputs": [
    {
     "data": {
      "text/html": [
       "<html>\\(\\displaystyle \\mathrm{True}\\)</html>"
      ],
      "text/latex": [
       "$\\displaystyle \\mathrm{True}$"
      ],
      "text/plain": [
       "True"
      ]
     },
     "execution_count": 34,
     "metadata": {},
     "output_type": "execute_result"
    }
   ],
   "source": [
    "sg = SymmetricGroup(6)\n",
    "\n",
    "term_list = list(terms)\n",
    "g = PermutationGroup([\n",
    "    term_permutation_from_body_permutation(p, term_list) for p in sg\n",
    "])\n",
    "g.is_subgroup(SymmetricGroup(15))"
   ]
  },
  {
   "cell_type": "code",
   "execution_count": 35,
   "id": "e1fb08b5-010c-45dc-999e-740e553aefcb",
   "metadata": {},
   "outputs": [
    {
     "data": {
      "text/html": [
       "<html>\\(\\displaystyle \\left[\\left(1\\right), \\left(2, 3\\right), \\left(4, 14\\right), \\left(5, 8\\right), \\left(6, 15\\right), \\left(7, 12\\right), \\left(9\\right), \\left(10\\right), \\left(11, 13\\right)\\right]\\)</html>"
      ],
      "text/latex": [
       "$\\displaystyle \\left[\\left(1\\right), \\left(2, 3\\right), \\left(4, 14\\right), \\left(5, 8\\right), \\left(6, 15\\right), \\left(7, 12\\right), \\left(9\\right), \\left(10\\right), \\left(11, 13\\right)\\right]$"
      ],
      "text/plain": [
       "[(1,), (2, 3), (4, 14), (5, 8), (6, 15), (7, 12), (9,), (10,), (11, 13)]"
      ]
     },
     "execution_count": 35,
     "metadata": {},
     "output_type": "execute_result"
    }
   ],
   "source": [
    "term_permutation_from_body_permutation(Permutation(\"(1,2)(6)\"),term_list).to_cycles()"
   ]
  },
  {
   "cell_type": "code",
   "execution_count": 17,
   "id": "a4ff4752-f958-4559-aead-6211798a51c2",
   "metadata": {},
   "outputs": [
    {
     "data": {
      "text/html": [
       "<html>\\(\\displaystyle 720\\)</html>"
      ],
      "text/latex": [
       "$\\displaystyle 720$"
      ],
      "text/plain": [
       "720"
      ]
     },
     "execution_count": 17,
     "metadata": {},
     "output_type": "execute_result"
    }
   ],
   "source": [
    "len(g.gens())"
   ]
  },
  {
   "cell_type": "code",
   "execution_count": 18,
   "id": "e325c923-5a48-42ef-b1d3-cc304de3b2df",
   "metadata": {
    "scrolled": true
   },
   "outputs": [
    {
     "data": {
      "text/html": [
       "<html>\\(\\displaystyle 720\\)</html>"
      ],
      "text/latex": [
       "$\\displaystyle 720$"
      ],
      "text/plain": [
       "720"
      ]
     },
     "execution_count": 18,
     "metadata": {},
     "output_type": "execute_result"
    }
   ],
   "source": [
    "len(g)"
   ]
  },
  {
   "cell_type": "code",
   "execution_count": 38,
   "id": "514f8e00-1ff5-4753-b05b-cd3df9ddbff7",
   "metadata": {},
   "outputs": [
    {
     "name": "stdout",
     "output_type": "stream",
     "text": [
      "Orbit of size 45 with representative:\n"
     ]
    },
    {
     "data": {
      "text/html": [
       "<html>\\(\\displaystyle \\left(0,\\,0,\\,0,\\,1,\\,0,\\,0,\\,0,\\,0,\\,0,\\,-1,\\,0,\\,0,\\,0,\\,1,\\,0\\right)\\)</html>"
      ],
      "text/latex": [
       "$\\displaystyle \\left(0,\\,0,\\,0,\\,1,\\,0,\\,0,\\,0,\\,0,\\,0,\\,-1,\\,0,\\,0,\\,0,\\,1,\\,0\\right)$"
      ],
      "text/plain": [
       "(0, 0, 0, 1, 0, 0, 0, 0, 0, -1, 0, 0, 0, 1, 0)"
      ]
     },
     "metadata": {},
     "output_type": "display_data"
    },
    {
     "name": "stdout",
     "output_type": "stream",
     "text": [
      "Orbit of size 120 with representative:\n"
     ]
    },
    {
     "data": {
      "text/html": [
       "<html>\\(\\displaystyle \\left(-1,\\,1,\\,-1,\\,-1,\\,1,\\,1,\\,-1,\\,1,\\,1,\\,1,\\,1,\\,-1,\\,-1,\\,3,\\,-1\\right)\\)</html>"
      ],
      "text/latex": [
       "$\\displaystyle \\left(-1,\\,1,\\,-1,\\,-1,\\,1,\\,1,\\,-1,\\,1,\\,1,\\,1,\\,1,\\,-1,\\,-1,\\,3,\\,-1\\right)$"
      ],
      "text/plain": [
       "(-1, 1, -1, -1, 1, 1, -1, 1, 1, 1, 1, -1, -1, 3, -1)"
      ]
     },
     "metadata": {},
     "output_type": "display_data"
    },
    {
     "name": "stdout",
     "output_type": "stream",
     "text": [
      "Orbit of size 30 with representative:\n"
     ]
    },
    {
     "data": {
      "text/html": [
       "<html>\\(\\displaystyle \\left(-1,\\,-1,\\,0,\\,-1,\\,1,\\,-1,\\,0,\\,0,\\,0,\\,1,\\,0,\\,2,\\,1,\\,0,\\,1\\right)\\)</html>"
      ],
      "text/latex": [
       "$\\displaystyle \\left(-1,\\,-1,\\,0,\\,-1,\\,1,\\,-1,\\,0,\\,0,\\,0,\\,1,\\,0,\\,2,\\,1,\\,0,\\,1\\right)$"
      ],
      "text/plain": [
       "(-1, -1, 0, -1, 1, -1, 0, 0, 0, 1, 0, 2, 1, 0, 1)"
      ]
     },
     "metadata": {},
     "output_type": "display_data"
    },
    {
     "name": "stdout",
     "output_type": "stream",
     "text": [
      "Orbit of size 360 with representative:\n"
     ]
    },
    {
     "data": {
      "text/html": [
       "<html>\\(\\displaystyle \\left(-1,\\,-1,\\,0,\\,-1,\\,1,\\,0,\\,0,\\,1,\\,0,\\,1,\\,0,\\,1,\\,0,\\,0,\\,1\\right)\\)</html>"
      ],
      "text/latex": [
       "$\\displaystyle \\left(-1,\\,-1,\\,0,\\,-1,\\,1,\\,0,\\,0,\\,1,\\,0,\\,1,\\,0,\\,1,\\,0,\\,0,\\,1\\right)$"
      ],
      "text/plain": [
       "(-1, -1, 0, -1, 1, 0, 0, 1, 0, 1, 0, 1, 0, 0, 1)"
      ]
     },
     "metadata": {},
     "output_type": "display_data"
    },
    {
     "name": "stdout",
     "output_type": "stream",
     "text": [
      "Orbit of size 120 with representative:\n"
     ]
    },
    {
     "data": {
      "text/html": [
       "<html>\\(\\displaystyle \\left(1,\\,-1,\\,-1,\\,1,\\,1,\\,1,\\,1,\\,-1,\\,-1,\\,-1,\\,-1,\\,1,\\,1,\\,1,\\,1\\right)\\)</html>"
      ],
      "text/latex": [
       "$\\displaystyle \\left(1,\\,-1,\\,-1,\\,1,\\,1,\\,1,\\,1,\\,-1,\\,-1,\\,-1,\\,-1,\\,1,\\,1,\\,1,\\,1\\right)$"
      ],
      "text/plain": [
       "(1, -1, -1, 1, 1, 1, 1, -1, -1, -1, -1, 1, 1, 1, 1)"
      ]
     },
     "metadata": {},
     "output_type": "display_data"
    },
    {
     "name": "stdout",
     "output_type": "stream",
     "text": [
      "Orbit of size 90 with representative:\n"
     ]
    },
    {
     "data": {
      "text/html": [
       "<html>\\(\\displaystyle \\left(1,\\,1,\\,0,\\,1,\\,0,\\,0,\\,0,\\,0,\\,0,\\,0,\\,0,\\,1,\\,-1,\\,-1,\\,0\\right)\\)</html>"
      ],
      "text/latex": [
       "$\\displaystyle \\left(1,\\,1,\\,0,\\,1,\\,0,\\,0,\\,0,\\,0,\\,0,\\,0,\\,0,\\,1,\\,-1,\\,-1,\\,0\\right)$"
      ],
      "text/plain": [
       "(1, 1, 0, 1, 0, 0, 0, 0, 0, 0, 0, 1, -1, -1, 0)"
      ]
     },
     "metadata": {},
     "output_type": "display_data"
    },
    {
     "name": "stdout",
     "output_type": "stream",
     "text": [
      "Orbit of size 180 with representative:\n"
     ]
    },
    {
     "data": {
      "text/html": [
       "<html>\\(\\displaystyle \\left(3,\\,3,\\,-1,\\,3,\\,1,\\,3,\\,-1,\\,-3,\\,-1,\\,-1,\\,-1,\\,1,\\,-1,\\,-1,\\,1\\right)\\)</html>"
      ],
      "text/latex": [
       "$\\displaystyle \\left(3,\\,3,\\,-1,\\,3,\\,1,\\,3,\\,-1,\\,-3,\\,-1,\\,-1,\\,-1,\\,1,\\,-1,\\,-1,\\,1\\right)$"
      ],
      "text/plain": [
       "(3, 3, -1, 3, 1, 3, -1, -3, -1, -1, -1, 1, -1, -1, 1)"
      ]
     },
     "metadata": {},
     "output_type": "display_data"
    },
    {
     "name": "stdout",
     "output_type": "stream",
     "text": [
      "Orbit of size 30 with representative:\n"
     ]
    },
    {
     "data": {
      "text/html": [
       "<html>\\(\\displaystyle \\left(0,\\,2,\\,0,\\,-1,\\,2,\\,-1,\\,0,\\,-1,\\,2,\\,-1,\\,2,\\,-1,\\,-1,\\,1,\\,0\\right)\\)</html>"
      ],
      "text/latex": [
       "$\\displaystyle \\left(0,\\,2,\\,0,\\,-1,\\,2,\\,-1,\\,0,\\,-1,\\,2,\\,-1,\\,2,\\,-1,\\,-1,\\,1,\\,0\\right)$"
      ],
      "text/plain": [
       "(0, 2, 0, -1, 2, -1, 0, -1, 2, -1, 2, -1, -1, 1, 0)"
      ]
     },
     "metadata": {},
     "output_type": "display_data"
    }
   ],
   "source": [
    "ieq_orbits = get_all_orbits([ieq.vector()[1:16] for ieq in ieqs], g)\n",
    "for orbit in ieq_orbits:\n",
    "    print(f\"Orbit of size {len(orbit)} with representative:\")\n",
    "    display((orbit[0]))"
   ]
  },
  {
   "cell_type": "code",
   "execution_count": 40,
   "id": "09161a90-9d67-41af-b300-562625643fdd",
   "metadata": {
    "scrolled": true
   },
   "outputs": [],
   "source": [
    "eq_orbits = get_all_orbits([eq.vector()[1:16] for eq in eqs], g)\n",
    "for orbit in eq_orbits:\n",
    "    print(f\"Orbit of size {len(orbit)} with representative:\")\n",
    "    display(orbit[0])\n",
    "    display((orbit[0]*x_vec)[0])"
   ]
  },
  {
   "cell_type": "markdown",
   "id": "7054fff8-9ebb-4edf-a18f-02f70e05aecd",
   "metadata": {},
   "source": [
    "## Proof via Plucker Relations?"
   ]
  },
  {
   "cell_type": "code",
   "execution_count": 39,
   "id": "b04a4611-9f2d-48fc-987f-6e2c0901487d",
   "metadata": {
    "scrolled": true
   },
   "outputs": [
    {
     "data": {
      "text/html": [
       "<html>\\(\\displaystyle \\left(\\begin{array}{rrrrrrrrrrrrrrr}\n",
       "-1 & 0 & 0 & 0 & -1 & 0 & 0 & 1 & 0 & 0 & 0 & 0 & 0 & 0 & 0 \\\\\n",
       "0 & 1 & -1 & 0 & 0 & 0 & 0 & 0 & 0 & -1 & 0 & 0 & 0 & 0 & 0 \\\\\n",
       "0 & 0 & 0 & 0 & 0 & -1 & 0 & 0 & -1 & 0 & 0 & 0 & 0 & 0 & 1 \\\\\n",
       "0 & 0 & 0 & 0 & 0 & 0 & 1 & 0 & -1 & 0 & 0 & -1 & 0 & 0 & 0 \\\\\n",
       "0 & 0 & 0 & 1 & 0 & 0 & 0 & 0 & 0 & -1 & 0 & 0 & 0 & -1 & 0 \\\\\n",
       "-1 & 0 & 0 & 0 & 0 & 0 & 0 & 0 & 0 & 0 & 1 & 0 & -1 & 0 & 0 \\\\\n",
       "0 & 0 & 0 & 1 & 0 & 0 & 0 & 0 & 0 & 0 & -1 & 0 & 0 & 0 & -1 \\\\\n",
       "0 & -1 & 0 & 0 & 0 & 0 & 1 & 0 & 0 & 0 & 0 & 0 & -1 & 0 & 0 \\\\\n",
       "0 & 0 & 0 & 0 & 0 & 0 & 0 & -1 & 0 & 0 & 0 & 1 & 0 & -1 & 0 \\\\\n",
       "0 & 0 & 1 & 0 & -1 & -1 & 0 & 0 & 0 & 0 & 0 & 0 & 0 & 0 & 0 \\\\\n",
       "0 & 0 & 0 & 0 & 0 & -1 & 0 & 0 & 0 & 0 & 0 & 0 & -1 & 1 & 0 \\\\\n",
       "0 & 0 & -1 & 0 & 0 & 0 & 0 & 0 & 0 & 0 & -1 & 1 & 0 & 0 & 0 \\\\\n",
       "0 & 0 & 0 & -1 & -1 & 0 & 1 & 0 & 0 & 0 & 0 & 0 & 0 & 0 & 0 \\\\\n",
       "0 & 1 & 0 & 0 & 0 & 0 & 0 & -1 & 0 & 0 & 0 & 0 & 0 & 0 & -1 \\\\\n",
       "-1 & 0 & 0 & 0 & 0 & 0 & 0 & 0 & -1 & 1 & 0 & 0 & 0 & 0 & 0\n",
       "\\end{array}\\right) x = \\vec 0\\)</html>"
      ],
      "text/latex": [
       "$\\displaystyle \\left(\\begin{array}{rrrrrrrrrrrrrrr}\n",
       "-1 & 0 & 0 & 0 & -1 & 0 & 0 & 1 & 0 & 0 & 0 & 0 & 0 & 0 & 0 \\\\\n",
       "0 & 1 & -1 & 0 & 0 & 0 & 0 & 0 & 0 & -1 & 0 & 0 & 0 & 0 & 0 \\\\\n",
       "0 & 0 & 0 & 0 & 0 & -1 & 0 & 0 & -1 & 0 & 0 & 0 & 0 & 0 & 1 \\\\\n",
       "0 & 0 & 0 & 0 & 0 & 0 & 1 & 0 & -1 & 0 & 0 & -1 & 0 & 0 & 0 \\\\\n",
       "0 & 0 & 0 & 1 & 0 & 0 & 0 & 0 & 0 & -1 & 0 & 0 & 0 & -1 & 0 \\\\\n",
       "-1 & 0 & 0 & 0 & 0 & 0 & 0 & 0 & 0 & 0 & 1 & 0 & -1 & 0 & 0 \\\\\n",
       "0 & 0 & 0 & 1 & 0 & 0 & 0 & 0 & 0 & 0 & -1 & 0 & 0 & 0 & -1 \\\\\n",
       "0 & -1 & 0 & 0 & 0 & 0 & 1 & 0 & 0 & 0 & 0 & 0 & -1 & 0 & 0 \\\\\n",
       "0 & 0 & 0 & 0 & 0 & 0 & 0 & -1 & 0 & 0 & 0 & 1 & 0 & -1 & 0 \\\\\n",
       "0 & 0 & 1 & 0 & -1 & -1 & 0 & 0 & 0 & 0 & 0 & 0 & 0 & 0 & 0 \\\\\n",
       "0 & 0 & 0 & 0 & 0 & -1 & 0 & 0 & 0 & 0 & 0 & 0 & -1 & 1 & 0 \\\\\n",
       "0 & 0 & -1 & 0 & 0 & 0 & 0 & 0 & 0 & 0 & -1 & 1 & 0 & 0 & 0 \\\\\n",
       "0 & 0 & 0 & -1 & -1 & 0 & 1 & 0 & 0 & 0 & 0 & 0 & 0 & 0 & 0 \\\\\n",
       "0 & 1 & 0 & 0 & 0 & 0 & 0 & -1 & 0 & 0 & 0 & 0 & 0 & 0 & -1 \\\\\n",
       "-1 & 0 & 0 & 0 & 0 & 0 & 0 & 0 & -1 & 1 & 0 & 0 & 0 & 0 & 0\n",
       "\\end{array}\\right) x = \\vec 0$"
      ],
      "text/plain": [
       "\\left(\\begin{array}{rrrrrrrrrrrrrrr}\n",
       "-1 & 0 & 0 & 0 & -1 & 0 & 0 & 1 & 0 & 0 & 0 & 0 & 0 & 0 & 0 \\\\\n",
       "0 & 1 & -1 & 0 & 0 & 0 & 0 & 0 & 0 & -1 & 0 & 0 & 0 & 0 & 0 \\\\\n",
       "0 & 0 & 0 & 0 & 0 & -1 & 0 & 0 & -1 & 0 & 0 & 0 & 0 & 0 & 1 \\\\\n",
       "0 & 0 & 0 & 0 & 0 & 0 & 1 & 0 & -1 & 0 & 0 & -1 & 0 & 0 & 0 \\\\\n",
       "0 & 0 & 0 & 1 & 0 & 0 & 0 & 0 & 0 & -1 & 0 & 0 & 0 & -1 & 0 \\\\\n",
       "-1 & 0 & 0 & 0 & 0 & 0 & 0 & 0 & 0 & 0 & 1 & 0 & -1 & 0 & 0 \\\\\n",
       "0 & 0 & 0 & 1 & 0 & 0 & 0 & 0 & 0 & 0 & -1 & 0 & 0 & 0 & -1 \\\\\n",
       "0 & -1 & 0 & 0 & 0 & 0 & 1 & 0 & 0 & 0 & 0 & 0 & -1 & 0 & 0 \\\\\n",
       "0 & 0 & 0 & 0 & 0 & 0 & 0 & -1 & 0 & 0 & 0 & 1 & 0 & -1 & 0 \\\\\n",
       "0 & 0 & 1 & 0 & -1 & -1 & 0 & 0 & 0 & 0 & 0 & 0 & 0 & 0 & 0 \\\\\n",
       "0 & 0 & 0 & 0 & 0 & -1 & 0 & 0 & 0 & 0 & 0 & 0 & -1 & 1 & 0 \\\\\n",
       "0 & 0 & -1 & 0 & 0 & 0 & 0 & 0 & 0 & 0 & -1 & 1 & 0 & 0 & 0 \\\\\n",
       "0 & 0 & 0 & -1 & -1 & 0 & 1 & 0 & 0 & 0 & 0 & 0 & 0 & 0 & 0 \\\\\n",
       "0 & 1 & 0 & 0 & 0 & 0 & 0 & -1 & 0 & 0 & 0 & 0 & 0 & 0 & -1 \\\\\n",
       "-1 & 0 & 0 & 0 & 0 & 0 & 0 & 0 & -1 & 1 & 0 & 0 & 0 & 0 & 0\n",
       "\\end{array}\\right) x = \\vec 0"
      ]
     },
     "execution_count": 39,
     "metadata": {},
     "output_type": "execute_result"
    }
   ],
   "source": [
    "# Generate the plucker relation vectors assuming natural order\n",
    "bodies = Set(range(1, n+1))\n",
    "p_vecs = []\n",
    "for subset in Subsets(bodies, 4):\n",
    "    i,j,k,l = subset\n",
    "    r = bodies - subset\n",
    "    v = vector([0]*15)\n",
    "    v[term_list.index(Set([Set([i,j]), Set([k,l]), r]))] = -1\n",
    "    v[term_list.index(Set([Set([i,k]), Set([j,l]), r]))] = 1\n",
    "    v[term_list.index(Set([Set([i,l]), Set([j,k]), r]))] = -1\n",
    "    p_vecs.append(v)\n",
    "\n",
    "%display latex\n",
    "A = Matrix(p_vecs)\n",
    "latex(A) + latex(x) + \"= \\\\vec 0\""
   ]
  },
  {
   "cell_type": "code",
   "execution_count": 41,
   "id": "b045086f-d83c-4f80-84fa-99b40fb9dd19",
   "metadata": {},
   "outputs": [
    {
     "data": {
      "text/html": [
       "<html>\\(\\displaystyle \\newcommand{\\Bold}[1]{\\mathbf{#1}}\\mathrm{RowSpan}_{\\Bold{Q}}\\left(\\begin{array}{rrrrrrrrrrrrrrr}\n",
       "1 & 0 & 0 & 0 & 0 & 0 & 0 & 0 & 0 & 0 & -1 & 0 & 1 & 0 & 0 \\\\\n",
       "0 & 1 & 0 & 0 & 0 & 0 & 0 & 0 & 0 & 0 & 0 & -1 & 0 & 1 & -1 \\\\\n",
       "0 & 0 & 1 & 0 & 0 & 0 & 0 & 0 & 0 & 0 & 1 & -1 & 0 & 0 & 0 \\\\\n",
       "0 & 0 & 0 & 1 & 0 & 0 & 0 & 0 & 0 & 0 & -1 & 0 & 0 & 0 & -1 \\\\\n",
       "0 & 0 & 0 & 0 & 1 & 0 & 0 & 0 & 0 & 0 & 1 & -1 & -1 & 1 & 0 \\\\\n",
       "0 & 0 & 0 & 0 & 0 & 1 & 0 & 0 & 0 & 0 & 0 & 0 & 1 & -1 & 0 \\\\\n",
       "0 & 0 & 0 & 0 & 0 & 0 & 1 & 0 & 0 & 0 & 0 & -1 & -1 & 1 & -1 \\\\\n",
       "0 & 0 & 0 & 0 & 0 & 0 & 0 & 1 & 0 & 0 & 0 & -1 & 0 & 1 & 0 \\\\\n",
       "0 & 0 & 0 & 0 & 0 & 0 & 0 & 0 & 1 & 0 & 0 & 0 & -1 & 1 & -1 \\\\\n",
       "0 & 0 & 0 & 0 & 0 & 0 & 0 & 0 & 0 & 1 & -1 & 0 & 0 & 1 & -1\n",
       "\\end{array}\\right)\\)</html>"
      ],
      "text/latex": [
       "$\\displaystyle \\newcommand{\\Bold}[1]{\\mathbf{#1}}\\mathrm{RowSpan}_{\\Bold{Q}}\\left(\\begin{array}{rrrrrrrrrrrrrrr}\n",
       "1 & 0 & 0 & 0 & 0 & 0 & 0 & 0 & 0 & 0 & -1 & 0 & 1 & 0 & 0 \\\\\n",
       "0 & 1 & 0 & 0 & 0 & 0 & 0 & 0 & 0 & 0 & 0 & -1 & 0 & 1 & -1 \\\\\n",
       "0 & 0 & 1 & 0 & 0 & 0 & 0 & 0 & 0 & 0 & 1 & -1 & 0 & 0 & 0 \\\\\n",
       "0 & 0 & 0 & 1 & 0 & 0 & 0 & 0 & 0 & 0 & -1 & 0 & 0 & 0 & -1 \\\\\n",
       "0 & 0 & 0 & 0 & 1 & 0 & 0 & 0 & 0 & 0 & 1 & -1 & -1 & 1 & 0 \\\\\n",
       "0 & 0 & 0 & 0 & 0 & 1 & 0 & 0 & 0 & 0 & 0 & 0 & 1 & -1 & 0 \\\\\n",
       "0 & 0 & 0 & 0 & 0 & 0 & 1 & 0 & 0 & 0 & 0 & -1 & -1 & 1 & -1 \\\\\n",
       "0 & 0 & 0 & 0 & 0 & 0 & 0 & 1 & 0 & 0 & 0 & -1 & 0 & 1 & 0 \\\\\n",
       "0 & 0 & 0 & 0 & 0 & 0 & 0 & 0 & 1 & 0 & 0 & 0 & -1 & 1 & -1 \\\\\n",
       "0 & 0 & 0 & 0 & 0 & 0 & 0 & 0 & 0 & 1 & -1 & 0 & 0 & 1 & -1\n",
       "\\end{array}\\right)$"
      ],
      "text/plain": [
       "Vector space of degree 15 and dimension 10 over Rational Field\n",
       "User basis matrix:\n",
       "[ 1  0  0  0  0  0  0  0  0  0 -1  0  1  0  0]\n",
       "[ 0  1  0  0  0  0  0  0  0  0  0 -1  0  1 -1]\n",
       "[ 0  0  1  0  0  0  0  0  0  0  1 -1  0  0  0]\n",
       "[ 0  0  0  1  0  0  0  0  0  0 -1  0  0  0 -1]\n",
       "[ 0  0  0  0  1  0  0  0  0  0  1 -1 -1  1  0]\n",
       "[ 0  0  0  0  0  1  0  0  0  0  0  0  1 -1  0]\n",
       "[ 0  0  0  0  0  0  1  0  0  0  0 -1 -1  1 -1]\n",
       "[ 0  0  0  0  0  0  0  1  0  0  0 -1  0  1  0]\n",
       "[ 0  0  0  0  0  0  0  0  1  0  0  0 -1  1 -1]\n",
       "[ 0  0  0  0  0  0  0  0  0  1 -1  0  0  1 -1]"
      ]
     },
     "execution_count": 41,
     "metadata": {},
     "output_type": "execute_result"
    }
   ],
   "source": [
    "PS = (QQ^len(term_list)).span_of_basis(A.rref()[0:A.rank()])\n",
    "PS"
   ]
  },
  {
   "cell_type": "code",
   "execution_count": 42,
   "id": "555cf8ea-1dd9-43f6-a883-98fdd39bed08",
   "metadata": {
    "scrolled": true
   },
   "outputs": [],
   "source": [
    "for orbit in eq_orbits:\n",
    "    for eq in orbit:\n",
    "        try:\n",
    "            print(PS.coordinate_vector(eq))\n",
    "            print(eq)\n",
    "        except:\n",
    "            pass"
   ]
  },
  {
   "cell_type": "code",
   "execution_count": null,
   "id": "00ad1302-dafb-40df-ae0d-b9431e60c03a",
   "metadata": {},
   "outputs": [],
   "source": []
  }
 ],
 "metadata": {
  "kernelspec": {
   "display_name": "SageMath 10.0",
   "language": "sagemath",
   "name": "sagemath"
  },
  "language_info": {
   "codemirror_mode": {
    "name": "ipython",
    "version": 3
   },
   "file_extension": ".py",
   "mimetype": "text/x-python",
   "name": "python",
   "nbconvert_exporter": "python",
   "pygments_lexer": "ipython3",
   "version": "3.10.12"
  }
 },
 "nbformat": 4,
 "nbformat_minor": 5
}
