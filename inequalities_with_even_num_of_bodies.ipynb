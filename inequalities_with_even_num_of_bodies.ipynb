{
 "cells": [
  {
   "cell_type": "code",
   "execution_count": 2,
   "id": "db28537f-2d79-4a51-ae6b-a7073dfead56",
   "metadata": {},
   "outputs": [],
   "source": [
    "from IPython.display import display, Math, Latex\n",
    "\n",
    "load(\"mv_inequality_search.sage\")"
   ]
  },
  {
   "cell_type": "markdown",
   "id": "b29ac9e9-1ad3-4b90-8cf9-bb7dc4375859",
   "metadata": {},
   "source": [
    "# Inequalities with Mixed Volumes\n",
    "Searching for relations of the form\n",
    "\n",
    "$$\n",
    "\\sum_{i=0} a_i V(K_{l_i}, K_{m_i}) V(K_{n_i}, K_{o_i}) V(K_{p_i}, K_{q_i}) \\geq 0\n",
    "$$\n",
    "\n",
    "where $1 \\leq l_i \\neq m_i \\neq n_i \\neq o_i \\neq p_i \\neq q_i \\leq n$."
   ]
  },
  {
   "cell_type": "markdown",
   "id": "d7bd9cb9-1c99-4f07-9595-953087753b08",
   "metadata": {},
   "source": [
    "Using the functions in *mv_inequality_search.sage* (especially `compute_convex_hull`), we can easily find relations for small $n$.\n",
    "\n",
    "We'll start with $n=6$."
   ]
  },
  {
   "cell_type": "code",
   "execution_count": 3,
   "id": "2f0b4f41-ae30-4454-82ff-46833b3de2ee",
   "metadata": {},
   "outputs": [],
   "source": [
    "n = 6"
   ]
  },
  {
   "cell_type": "markdown",
   "id": "d60b8676-c7bf-476a-9c9c-1e651bd4f464",
   "metadata": {},
   "source": [
    "We are searching this space using the function\n",
    "$$f:\\mathbb{R}^{2 \\times 6} \\to \\mathbb{R}_{\\geq 0}^{15}$$\n",
    "which is definted by..."
   ]
  },
  {
   "cell_type": "code",
   "execution_count": 4,
   "id": "506091df-a59a-4f20-a41d-a43b18a69d76",
   "metadata": {},
   "outputs": [
    {
     "data": {
      "text/html": [
       "<html>\\(\\displaystyle f \\left(K_{1}, K_{2}, K_{3}, K_{4}, K_{5}, K_{6}\\right) = \\left(\\begin{array}{r}\n",
       "V\\left(K_{1}, K_{2}\\right) V\\left(K_{3}, K_{4}\\right) V\\left(K_{5}, K_{6}\\right) \\\\\n",
       "V\\left(K_{1}, K_{3}\\right) V\\left(K_{2}, K_{5}\\right) V\\left(K_{4}, K_{6}\\right) \\\\\n",
       "V\\left(K_{1}, K_{5}\\right) V\\left(K_{2}, K_{3}\\right) V\\left(K_{4}, K_{6}\\right) \\\\\n",
       "V\\left(K_{1}, K_{4}\\right) V\\left(K_{2}, K_{6}\\right) V\\left(K_{3}, K_{5}\\right) \\\\\n",
       "V\\left(K_{1}, K_{4}\\right) V\\left(K_{2}, K_{3}\\right) V\\left(K_{5}, K_{6}\\right) \\\\\n",
       "V\\left(K_{1}, K_{6}\\right) V\\left(K_{2}, K_{3}\\right) V\\left(K_{4}, K_{5}\\right) \\\\\n",
       "V\\left(K_{1}, K_{4}\\right) V\\left(K_{2}, K_{5}\\right) V\\left(K_{3}, K_{6}\\right) \\\\\n",
       "V\\left(K_{1}, K_{3}\\right) V\\left(K_{2}, K_{4}\\right) V\\left(K_{5}, K_{6}\\right) \\\\\n",
       "V\\left(K_{1}, K_{2}\\right) V\\left(K_{3}, K_{6}\\right) V\\left(K_{4}, K_{5}\\right) \\\\\n",
       "V\\left(K_{1}, K_{2}\\right) V\\left(K_{3}, K_{5}\\right) V\\left(K_{4}, K_{6}\\right) \\\\\n",
       "V\\left(K_{1}, K_{5}\\right) V\\left(K_{2}, K_{6}\\right) V\\left(K_{3}, K_{4}\\right) \\\\\n",
       "V\\left(K_{1}, K_{5}\\right) V\\left(K_{2}, K_{4}\\right) V\\left(K_{3}, K_{6}\\right) \\\\\n",
       "V\\left(K_{1}, K_{6}\\right) V\\left(K_{2}, K_{5}\\right) V\\left(K_{3}, K_{4}\\right) \\\\\n",
       "V\\left(K_{1}, K_{6}\\right) V\\left(K_{2}, K_{4}\\right) V\\left(K_{3}, K_{5}\\right) \\\\\n",
       "V\\left(K_{1}, K_{3}\\right) V\\left(K_{2}, K_{6}\\right) V\\left(K_{4}, K_{5}\\right)\n",
       "\\end{array}\\right)\\)</html>"
      ],
      "text/latex": [
       "$\\displaystyle f \\left(K_{1}, K_{2}, K_{3}, K_{4}, K_{5}, K_{6}\\right) = \\left(\\begin{array}{r}\n",
       "V\\left(K_{1}, K_{2}\\right) V\\left(K_{3}, K_{4}\\right) V\\left(K_{5}, K_{6}\\right) \\\\\n",
       "V\\left(K_{1}, K_{3}\\right) V\\left(K_{2}, K_{5}\\right) V\\left(K_{4}, K_{6}\\right) \\\\\n",
       "V\\left(K_{1}, K_{5}\\right) V\\left(K_{2}, K_{3}\\right) V\\left(K_{4}, K_{6}\\right) \\\\\n",
       "V\\left(K_{1}, K_{4}\\right) V\\left(K_{2}, K_{6}\\right) V\\left(K_{3}, K_{5}\\right) \\\\\n",
       "V\\left(K_{1}, K_{4}\\right) V\\left(K_{2}, K_{3}\\right) V\\left(K_{5}, K_{6}\\right) \\\\\n",
       "V\\left(K_{1}, K_{6}\\right) V\\left(K_{2}, K_{3}\\right) V\\left(K_{4}, K_{5}\\right) \\\\\n",
       "V\\left(K_{1}, K_{4}\\right) V\\left(K_{2}, K_{5}\\right) V\\left(K_{3}, K_{6}\\right) \\\\\n",
       "V\\left(K_{1}, K_{3}\\right) V\\left(K_{2}, K_{4}\\right) V\\left(K_{5}, K_{6}\\right) \\\\\n",
       "V\\left(K_{1}, K_{2}\\right) V\\left(K_{3}, K_{6}\\right) V\\left(K_{4}, K_{5}\\right) \\\\\n",
       "V\\left(K_{1}, K_{2}\\right) V\\left(K_{3}, K_{5}\\right) V\\left(K_{4}, K_{6}\\right) \\\\\n",
       "V\\left(K_{1}, K_{5}\\right) V\\left(K_{2}, K_{6}\\right) V\\left(K_{3}, K_{4}\\right) \\\\\n",
       "V\\left(K_{1}, K_{5}\\right) V\\left(K_{2}, K_{4}\\right) V\\left(K_{3}, K_{6}\\right) \\\\\n",
       "V\\left(K_{1}, K_{6}\\right) V\\left(K_{2}, K_{5}\\right) V\\left(K_{3}, K_{4}\\right) \\\\\n",
       "V\\left(K_{1}, K_{6}\\right) V\\left(K_{2}, K_{4}\\right) V\\left(K_{3}, K_{5}\\right) \\\\\n",
       "V\\left(K_{1}, K_{3}\\right) V\\left(K_{2}, K_{6}\\right) V\\left(K_{4}, K_{5}\\right)\n",
       "\\end{array}\\right)$"
      ],
      "text/plain": [
       "f \\left(K_{1}, K_{2}, K_{3}, K_{4}, K_{5}, K_{6}\\right) = \\left(\\begin{array}{r}\n",
       "V\\left(K_{1}, K_{2}\\right) V\\left(K_{3}, K_{4}\\right) V\\left(K_{5}, K_{6}\\right) \\\\\n",
       "V\\left(K_{1}, K_{3}\\right) V\\left(K_{2}, K_{5}\\right) V\\left(K_{4}, K_{6}\\right) \\\\\n",
       "V\\left(K_{1}, K_{5}\\right) V\\left(K_{2}, K_{3}\\right) V\\left(K_{4}, K_{6}\\right) \\\\\n",
       "V\\left(K_{1}, K_{4}\\right) V\\left(K_{2}, K_{6}\\right) V\\left(K_{3}, K_{5}\\right) \\\\\n",
       "V\\left(K_{1}, K_{4}\\right) V\\left(K_{2}, K_{3}\\right) V\\left(K_{5}, K_{6}\\right) \\\\\n",
       "V\\left(K_{1}, K_{6}\\right) V\\left(K_{2}, K_{3}\\right) V\\left(K_{4}, K_{5}\\right) \\\\\n",
       "V\\left(K_{1}, K_{4}\\right) V\\left(K_{2}, K_{5}\\right) V\\left(K_{3}, K_{6}\\right) \\\\\n",
       "V\\left(K_{1}, K_{3}\\right) V\\left(K_{2}, K_{4}\\right) V\\left(K_{5}, K_{6}\\right) \\\\\n",
       "V\\left(K_{1}, K_{2}\\right) V\\left(K_{3}, K_{6}\\right) V\\left(K_{4}, K_{5}\\right) \\\\\n",
       "V\\left(K_{1}, K_{2}\\right) V\\left(K_{3}, K_{5}\\right) V\\left(K_{4}, K_{6}\\right) \\\\\n",
       "V\\left(K_{1}, K_{5}\\right) V\\left(K_{2}, K_{6}\\right) V\\left(K_{3}, K_{4}\\right) \\\\\n",
       "V\\left(K_{1}, K_{5}\\right) V\\left(K_{2}, K_{4}\\right) V\\left(K_{3}, K_{6}\\right) \\\\\n",
       "V\\left(K_{1}, K_{6}\\right) V\\left(K_{2}, K_{5}\\right) V\\left(K_{3}, K_{4}\\right) \\\\\n",
       "V\\left(K_{1}, K_{6}\\right) V\\left(K_{2}, K_{4}\\right) V\\left(K_{3}, K_{5}\\right) \\\\\n",
       "V\\left(K_{1}, K_{3}\\right) V\\left(K_{2}, K_{6}\\right) V\\left(K_{4}, K_{5}\\right)\n",
       "\\end{array}\\right)"
      ]
     },
     "execution_count": 4,
     "metadata": {},
     "output_type": "execute_result"
    }
   ],
   "source": [
    "%display latex\n",
    "\n",
    "# Define symbols for printing LaTeX\n",
    "V = function(\"V\") # Mixed volumes\n",
    "K = var([f\"K_{i}\" for i in range(1,n+1)]) # Bodies\n",
    "\n",
    "# Define term column vector\n",
    "terms = generate_inequality_terms(n, dimension=2, term_factors=3)\n",
    "term_list = list(terms)\n",
    "term_vec = Matrix([\n",
    "    V(K[term[0][0]-1], K[term[0][1]-1]) *\n",
    "    V(K[term[1][0]-1], K[term[1][1]-1]) *\n",
    "    V(K[term[2][0]-1], K[term[2][1]-1]) for term in terms\n",
    "]).transpose()\n",
    "\"f\" + latex(K) + \"=\" + latex(term_vec)"
   ]
  },
  {
   "cell_type": "markdown",
   "id": "cba6cf7b-ff0d-4b00-9a58-2649c148fa2a",
   "metadata": {},
   "source": [
    "Where $K_i\\in \\mathbb{R}^2$."
   ]
  },
  {
   "cell_type": "code",
   "execution_count": 5,
   "id": "653d5de4-c30e-4660-ab10-ddca5272446a",
   "metadata": {},
   "outputs": [
    {
     "data": {
      "text/html": [
       "<html>\\(\\displaystyle 15\\)</html>"
      ],
      "text/latex": [
       "$\\displaystyle 15$"
      ],
      "text/plain": [
       "15"
      ]
     },
     "execution_count": 5,
     "metadata": {},
     "output_type": "execute_result"
    }
   ],
   "source": [
    "len(term_list)"
   ]
  },
  {
   "cell_type": "markdown",
   "id": "ee53d790-5f88-4236-909f-9d78dcb39dfe",
   "metadata": {},
   "source": [
    "Let's generate all rays that might be extremal"
   ]
  },
  {
   "cell_type": "code",
   "execution_count": 6,
   "id": "5932050a-e15c-4500-99f6-4a041897f72f",
   "metadata": {},
   "outputs": [],
   "source": [
    "rays, configurations = compute_rays(n)\n",
    "# for ray in rays:\n",
    "#     print(ray)"
   ]
  },
  {
   "cell_type": "code",
   "execution_count": 7,
   "id": "2ead25ee-1aa7-4f6f-bdfa-4c8e5e5a62d7",
   "metadata": {},
   "outputs": [
    {
     "data": {
      "text/html": [
       "<html>\\(\\displaystyle \\left(20, 90\\right)\\)</html>"
      ],
      "text/latex": [
       "$\\displaystyle \\left(20, 90\\right)$"
      ],
      "text/plain": [
       "(20, 90)"
      ]
     },
     "execution_count": 7,
     "metadata": {},
     "output_type": "execute_result"
    }
   ],
   "source": [
    "type1_rays = rays[0:20]\n",
    "type2_rays = rays[20:]\n",
    "len(type1_rays), len(type2_rays)"
   ]
  },
  {
   "cell_type": "code",
   "execution_count": 8,
   "id": "94cdabb6-9f26-4a78-aac6-02d831f8fcd8",
   "metadata": {},
   "outputs": [
    {
     "data": {
      "text/html": [
       "<html>\\(\\displaystyle \\left(10, 15\\right)\\)</html>"
      ],
      "text/latex": [
       "$\\displaystyle \\left(10, 15\\right)$"
      ],
      "text/plain": [
       "(10, 15)"
      ]
     },
     "execution_count": 8,
     "metadata": {},
     "output_type": "execute_result"
    }
   ],
   "source": [
    "len(Set(type1_rays)), len(Set(type2_rays))"
   ]
  },
  {
   "cell_type": "code",
   "execution_count": 9,
   "id": "df0c6b14-43f2-4033-978b-b1cc722180ce",
   "metadata": {},
   "outputs": [
    {
     "data": {
      "text/html": [
       "<html>\\(\\displaystyle \\left(0, 2, 2, 6, 0, 2, 6, 0, 0, 0, 4, 6, 4, 6, 2\\right)\\)</html>"
      ],
      "text/latex": [
       "$\\displaystyle \\left(0, 2, 2, 6, 0, 2, 6, 0, 0, 0, 4, 6, 4, 6, 2\\right)$"
      ],
      "text/plain": [
       "(0, 2, 2, 6, 0, 2, 6, 0, 0, 0, 4, 6, 4, 6, 2)"
      ]
     },
     "execution_count": 9,
     "metadata": {},
     "output_type": "execute_result"
    }
   ],
   "source": [
    "compute_inequality_terms(\n",
    "    terms,\n",
    "    [\n",
    "        Polyhedron([(0,0), (1,0)]),\n",
    "        Polyhedron([(0,0), (1,0)]),\n",
    "        Polyhedron([(0,0), (1,0), (2,1), (1,1)]),\n",
    "        Polyhedron([(0,0), (1,1)]),\n",
    "        Polyhedron([(0,0), (1,2)]),\n",
    "        Polyhedron([(0,0), (1,2)])\n",
    "    ],\n",
    "    # list(map(lambda a: Polyhedron([(0,0), (1,a)]), [0,0,1,1,2,2])),\n",
    "    mixed_volume=mixed_volume\n",
    ")"
   ]
  },
  {
   "cell_type": "code",
   "execution_count": 27,
   "id": "2d8b8476-ccff-4c14-865a-a7a044f1f567",
   "metadata": {},
   "outputs": [
    {
     "data": {
      "text/html": [
       "<html>\\(\\displaystyle K(s, t) = \\left(0, 2 \\, {\\left| s \\right|} {\\left| -t + 2 \\right|}, 2 \\, {\\left| s \\right|} {\\left| -t + 2 \\right|}, 2 \\, {\\left| -s + 2 \\right|} {\\left| t \\right|}, 0, 2 \\, {\\left| s \\right|} {\\left| -t + 2 \\right|}, 2 \\, {\\left| -s + 2 \\right|} {\\left| t \\right|}, 0, 0, 0, 4 \\, {\\left| -s + t \\right|}, 2 \\, {\\left| -s + 2 \\right|} {\\left| t \\right|}, 4 \\, {\\left| -s + t \\right|}, 2 \\, {\\left| -s + 2 \\right|} {\\left| t \\right|}, 2 \\, {\\left| s \\right|} {\\left| -t + 2 \\right|}\\right)\\)</html>"
      ],
      "text/latex": [
       "$\\displaystyle K(s, t) = \\left(0, 2 \\, {\\left| s \\right|} {\\left| -t + 2 \\right|}, 2 \\, {\\left| s \\right|} {\\left| -t + 2 \\right|}, 2 \\, {\\left| -s + 2 \\right|} {\\left| t \\right|}, 0, 2 \\, {\\left| s \\right|} {\\left| -t + 2 \\right|}, 2 \\, {\\left| -s + 2 \\right|} {\\left| t \\right|}, 0, 0, 0, 4 \\, {\\left| -s + t \\right|}, 2 \\, {\\left| -s + 2 \\right|} {\\left| t \\right|}, 4 \\, {\\left| -s + t \\right|}, 2 \\, {\\left| -s + 2 \\right|} {\\left| t \\right|}, 2 \\, {\\left| s \\right|} {\\left| -t + 2 \\right|}\\right)$"
      ],
      "text/plain": [
       "K(s, t) = \\left(0, 2 \\, {\\left| s \\right|} {\\left| -t + 2 \\right|}, 2 \\, {\\left| s \\right|} {\\left| -t + 2 \\right|}, 2 \\, {\\left| -s + 2 \\right|} {\\left| t \\right|}, 0, 2 \\, {\\left| s \\right|} {\\left| -t + 2 \\right|}, 2 \\, {\\left| -s + 2 \\right|} {\\left| t \\right|}, 0, 0, 0, 4 \\, {\\left| -s + t \\right|}, 2 \\, {\\left| -s + 2 \\right|} {\\left| t \\right|}, 4 \\, {\\left| -s + t \\right|}, 2 \\, {\\left| -s + 2 \\right|} {\\left| t \\right|}, 2 \\, {\\left| s \\right|} {\\left| -t + 2 \\right|}\\right)"
      ]
     },
     "execution_count": 27,
     "metadata": {},
     "output_type": "execute_result"
    }
   ],
   "source": [
    "t = var('t')\n",
    "a = compute_inequality_terms(\n",
    "    terms,\n",
    "    [\n",
    "        0,\n",
    "        0,\n",
    "        s,\n",
    "        t,\n",
    "        2,\n",
    "        2\n",
    "    ],\n",
    "    mixed_volume = lambda a,b: abs(b-a)\n",
    ")\n",
    "\"K(s, t) = \" + latex(a)"
   ]
  },
  {
   "cell_type": "code",
   "execution_count": 29,
   "id": "8456f395-01b4-4fd9-95f7-b2ab25a00e65",
   "metadata": {},
   "outputs": [
    {
     "data": {
      "text/html": [
       "<html>\\(\\displaystyle \\left(0,\\,0,\\,0,\\,0,\\,0,\\,0,\\,0,\\,0,\\,0,\\,0,\\,0,\\,0,\\,0,\\,0,\\,0\\right)\\)</html>"
      ],
      "text/latex": [
       "$\\displaystyle \\left(0,\\,0,\\,0,\\,0,\\,0,\\,0,\\,0,\\,0,\\,0,\\,0,\\,0,\\,0,\\,0,\\,0,\\,0\\right)$"
      ],
      "text/plain": [
       "(0, 0, 0, 0, 0, 0, 0, 0, 0, 0, 0, 0, 0, 0, 0)"
      ]
     },
     "execution_count": 29,
     "metadata": {},
     "output_type": "execute_result"
    }
   ],
   "source": [
    "vector(a).substitute(s=2, t=2)"
   ]
  },
  {
   "cell_type": "code",
   "execution_count": 28,
   "id": "f4e98992-2cfd-4d39-9019-a5627b396d26",
   "metadata": {},
   "outputs": [
    {
     "data": {
      "text/html": [
       "<html>\\(\\displaystyle \\left(0,\\,0,\\,0,\\,8,\\,0,\\,0,\\,8,\\,0,\\,0,\\,0,\\,8,\\,8,\\,8,\\,8,\\,0\\right)\\)</html>"
      ],
      "text/latex": [
       "$\\displaystyle \\left(0,\\,0,\\,0,\\,8,\\,0,\\,0,\\,8,\\,0,\\,0,\\,0,\\,8,\\,8,\\,8,\\,8,\\,0\\right)$"
      ],
      "text/plain": [
       "(0, 0, 0, 8, 0, 0, 8, 0, 0, 0, 8, 8, 8, 8, 0)"
      ]
     },
     "execution_count": 28,
     "metadata": {},
     "output_type": "execute_result"
    }
   ],
   "source": [
    "vector(a).substitute(s=0, t=2)"
   ]
  },
  {
   "cell_type": "markdown",
   "id": "14dd9540-745f-46e7-8a52-8abd6a810690",
   "metadata": {},
   "source": [
    "Therefore, when $s=2$,  $\\forall t$ we have $K(2,t) = k K(2, 0)$ for some $k$ (so they all lie on the same ray).\n",
    "\n",
    "Now, fix $t=1$."
   ]
  },
  {
   "cell_type": "code",
   "execution_count": 30,
   "id": "fa4d3ee4-023e-4858-8e2e-ccba29a98b0c",
   "metadata": {
    "scrolled": true
   },
   "outputs": [
    {
     "data": {
      "text/html": [
       "<html>\\(\\displaystyle \\left(0,\\,0,\\,0,\\,4,\\,0,\\,0,\\,4,\\,0,\\,0,\\,0,\\,4,\\,4,\\,4,\\,4,\\,0\\right)\\)</html>"
      ],
      "text/latex": [
       "$\\displaystyle \\left(0,\\,0,\\,0,\\,4,\\,0,\\,0,\\,4,\\,0,\\,0,\\,0,\\,4,\\,4,\\,4,\\,4,\\,0\\right)$"
      ],
      "text/plain": [
       "(0, 0, 0, 4, 0, 0, 4, 0, 0, 0, 4, 4, 4, 4, 0)"
      ]
     },
     "execution_count": 30,
     "metadata": {},
     "output_type": "execute_result"
    }
   ],
   "source": [
    "vector(a).substitute(s=1, t=2)"
   ]
  },
  {
   "cell_type": "code",
   "execution_count": 31,
   "id": "8aa618c2-8ed9-4e33-b2c7-057674215871",
   "metadata": {
    "scrolled": true
   },
   "outputs": [
    {
     "data": {
      "text/html": [
       "<html>\\(\\displaystyle \\left(0,\\,2,\\,2,\\,2,\\,0,\\,2,\\,2,\\,0,\\,0,\\,0,\\,0,\\,2,\\,0,\\,2,\\,2\\right)\\)</html>"
      ],
      "text/latex": [
       "$\\displaystyle \\left(0,\\,2,\\,2,\\,2,\\,0,\\,2,\\,2,\\,0,\\,0,\\,0,\\,0,\\,2,\\,0,\\,2,\\,2\\right)$"
      ],
      "text/plain": [
       "(0, 2, 2, 2, 0, 2, 2, 0, 0, 0, 0, 2, 0, 2, 2)"
      ]
     },
     "execution_count": 31,
     "metadata": {},
     "output_type": "execute_result"
    }
   ],
   "source": [
    "vector(a).substitute(s=1, t=1)"
   ]
  },
  {
   "cell_type": "markdown",
   "id": "bea2cff7-aa94-431b-b21a-d02afde5b411",
   "metadata": {},
   "source": [
    "Since we can scale this vector however we like, this allows us to generate the $2$-face between $\\frac{1}{k}K(1,2) = K(0,2)$ (a configuration with two groups of three) and $K(1,1)$ (a configuration with three groups of two)."
   ]
  },
  {
   "cell_type": "markdown",
   "id": "96231b92-1688-483d-811d-3b991358425e",
   "metadata": {},
   "source": [
    "There is another method that realizes the $2$-face between $K(0,1)=kK(0,2)$ (since $K(0,0)=\\vec 0$) and $K(1,1)$:\n",
    "$$f(\\lambda_1 K(0,1) + \\lambda_2 K(1,1)) = \\lambda_1 f(K(0,1)) + \\lambda_2 f(K(1,1)) = \\lambda_1 k f(K(0,2)) + \\lambda_2 f(K(1,1))$$"
   ]
  },
  {
   "cell_type": "code",
   "execution_count": 13,
   "id": "bee1d632-34da-4d79-b019-bd07a8f5b323",
   "metadata": {
    "scrolled": true
   },
   "outputs": [],
   "source": [
    "# Compute convex hull\n",
    "cv = Polyhedron(rays=rays)"
   ]
  },
  {
   "cell_type": "code",
   "execution_count": 14,
   "id": "92ea0a28-2909-443b-90fd-717efc34c511",
   "metadata": {
    "scrolled": true
   },
   "outputs": [
    {
     "data": {
      "text/html": [
       "<html>\\(\\displaystyle 25\\)</html>"
      ],
      "text/latex": [
       "$\\displaystyle 25$"
      ],
      "text/plain": [
       "25"
      ]
     },
     "execution_count": 14,
     "metadata": {},
     "output_type": "execute_result"
    }
   ],
   "source": [
    "outer_rays = cv.rays()\n",
    "len(outer_rays)"
   ]
  },
  {
   "cell_type": "code",
   "execution_count": 15,
   "id": "e57989da-21e2-492a-8405-78a428dd060f",
   "metadata": {},
   "outputs": [
    {
     "data": {
      "text/html": [
       "<html>\\(\\displaystyle 975\\)</html>"
      ],
      "text/latex": [
       "$\\displaystyle 975$"
      ],
      "text/plain": [
       "975"
      ]
     },
     "execution_count": 15,
     "metadata": {},
     "output_type": "execute_result"
    }
   ],
   "source": [
    "ieqs = cv.inequalities()\n",
    "len(ieqs)"
   ]
  },
  {
   "cell_type": "code",
   "execution_count": 16,
   "id": "050fa34f-7846-4ccb-87cc-69e4fb6d2f36",
   "metadata": {},
   "outputs": [
    {
     "data": {
      "text/html": [
       "<html>\\(\\displaystyle +\\infty\\)</html>"
      ],
      "text/latex": [
       "$\\displaystyle +\\infty$"
      ],
      "text/plain": [
       "+Infinity"
      ]
     },
     "execution_count": 16,
     "metadata": {},
     "output_type": "execute_result"
    }
   ],
   "source": [
    "cv.volume()"
   ]
  },
  {
   "cell_type": "code",
   "execution_count": 17,
   "id": "704f9725-7052-4e68-b548-27cb4a406d5a",
   "metadata": {},
   "outputs": [
    {
     "data": {
      "text/html": [
       "<html>\\(\\displaystyle \\mathrm{True}\\)</html>"
      ],
      "text/latex": [
       "$\\displaystyle \\mathrm{True}$"
      ],
      "text/plain": [
       "True"
      ]
     },
     "execution_count": 17,
     "metadata": {},
     "output_type": "execute_result"
    }
   ],
   "source": [
    "Set(outer_rays) == Set(map(lambda f: f.rays()[0], cv.faces(1)))"
   ]
  },
  {
   "cell_type": "code",
   "execution_count": 18,
   "id": "72b29bfb-e0b4-43c3-95fb-083852272ecf",
   "metadata": {
    "scrolled": true
   },
   "outputs": [
    {
     "data": {
      "text/html": [
       "<html>\\(\\displaystyle 975\\)</html>"
      ],
      "text/latex": [
       "$\\displaystyle 975$"
      ],
      "text/plain": [
       "975"
      ]
     },
     "execution_count": 18,
     "metadata": {},
     "output_type": "execute_result"
    }
   ],
   "source": [
    "a = cv.faces(14)\n",
    "len(a)"
   ]
  },
  {
   "cell_type": "code",
   "execution_count": 19,
   "id": "323ff1ad-8c3b-46da-8179-724042583ce9",
   "metadata": {},
   "outputs": [
    {
     "data": {
      "text/html": [
       "<html>\\(\\displaystyle 300\\)</html>"
      ],
      "text/latex": [
       "$\\displaystyle 300$"
      ],
      "text/plain": [
       "300"
      ]
     },
     "execution_count": 19,
     "metadata": {},
     "output_type": "execute_result"
    }
   ],
   "source": [
    "binomial(25,2)"
   ]
  },
  {
   "cell_type": "code",
   "execution_count": 20,
   "id": "445cb7a7-df65-4cef-82d3-9da57738e7ee",
   "metadata": {},
   "outputs": [
    {
     "data": {
      "text/html": [
       "<html>\\(\\displaystyle 300\\)</html>"
      ],
      "text/latex": [
       "$\\displaystyle 300$"
      ],
      "text/plain": [
       "300"
      ]
     },
     "execution_count": 20,
     "metadata": {},
     "output_type": "execute_result"
    }
   ],
   "source": [
    "b = cv.faces(2)\n",
    "len(b)"
   ]
  },
  {
   "cell_type": "code",
   "execution_count": 21,
   "id": "78d7df1f-95ec-41d0-8b09-cfd48752aa52",
   "metadata": {},
   "outputs": [
    {
     "data": {
      "text/html": [
       "<html>\\(\\displaystyle 2285\\)</html>"
      ],
      "text/latex": [
       "$\\displaystyle 2285$"
      ],
      "text/plain": [
       "2285"
      ]
     },
     "execution_count": 21,
     "metadata": {},
     "output_type": "execute_result"
    }
   ],
   "source": [
    "len(cv.faces(3))"
   ]
  },
  {
   "cell_type": "code",
   "execution_count": 22,
   "id": "e488d07c-7b46-4848-8762-ea39388bd588",
   "metadata": {},
   "outputs": [
    {
     "data": {
      "text/html": [
       "<html>\\(\\displaystyle 15\\)</html>"
      ],
      "text/latex": [
       "$\\displaystyle 15$"
      ],
      "text/plain": [
       "15"
      ]
     },
     "execution_count": 22,
     "metadata": {},
     "output_type": "execute_result"
    }
   ],
   "source": [
    "cv.dimension()"
   ]
  },
  {
   "cell_type": "code",
   "execution_count": 24,
   "id": "18228846-3656-41cc-8cc4-382bf26ca44d",
   "metadata": {},
   "outputs": [],
   "source": [
    "%display latex\n",
    "A = Matrix([i.vector()[1:16] for i in ieqs])\n",
    "# latex(A) + latex(x) + \"\\\\geq \\\\vec 0\""
   ]
  },
  {
   "cell_type": "code",
   "execution_count": 25,
   "id": "8cbb19b0-10c5-4db4-ae73-2149f4a56128",
   "metadata": {},
   "outputs": [
    {
     "data": {
      "text/html": [
       "<html>\\(\\displaystyle 0\\)</html>"
      ],
      "text/latex": [
       "$\\displaystyle 0$"
      ],
      "text/plain": [
       "0"
      ]
     },
     "execution_count": 25,
     "metadata": {},
     "output_type": "execute_result"
    }
   ],
   "source": [
    "eqs = cv.equations()\n",
    "len(eqs)"
   ]
  },
  {
   "cell_type": "code",
   "execution_count": 26,
   "id": "14263585-6fb0-4fe8-88ea-3a367ecf9c79",
   "metadata": {},
   "outputs": [
    {
     "data": {
      "text/html": [
       "<html>\\(\\displaystyle 15\\)</html>"
      ],
      "text/latex": [
       "$\\displaystyle 15$"
      ],
      "text/plain": [
       "15"
      ]
     },
     "execution_count": 26,
     "metadata": {},
     "output_type": "execute_result"
    }
   ],
   "source": [
    "C = Matrix([i.vector()[1:16] for i in eqs]+[i.vector()[1:16] for i in ieqs])\n",
    "C.rank()"
   ]
  },
  {
   "cell_type": "code",
   "execution_count": 27,
   "id": "cedf6759-fdc1-4695-b503-c7853aacf0c4",
   "metadata": {},
   "outputs": [
    {
     "data": {
      "text/html": [
       "<html>\\(\\displaystyle \\mathrm{True}\\)</html>"
      ],
      "text/latex": [
       "$\\displaystyle \\mathrm{True}$"
      ],
      "text/plain": [
       "True"
      ]
     },
     "execution_count": 27,
     "metadata": {},
     "output_type": "execute_result"
    }
   ],
   "source": [
    "sg = SymmetricGroup(6)\n",
    "\n",
    "term_list = list(terms)\n",
    "g = PermutationGroup([\n",
    "    term_permutation_from_body_permutation(p, term_list) for p in sg\n",
    "])\n",
    "g.is_subgroup(SymmetricGroup(15))"
   ]
  },
  {
   "cell_type": "code",
   "execution_count": 28,
   "id": "514f8e00-1ff5-4753-b05b-cd3df9ddbff7",
   "metadata": {},
   "outputs": [
    {
     "name": "stdout",
     "output_type": "stream",
     "text": [
      "Orbit of size 45 with representative:\n"
     ]
    },
    {
     "data": {
      "text/html": [
       "<html>\\(\\displaystyle \\left(0,\\,0,\\,0,\\,1,\\,0,\\,0,\\,0,\\,0,\\,0,\\,-1,\\,0,\\,0,\\,0,\\,1,\\,0\\right)\\)</html>"
      ],
      "text/latex": [
       "$\\displaystyle \\left(0,\\,0,\\,0,\\,1,\\,0,\\,0,\\,0,\\,0,\\,0,\\,-1,\\,0,\\,0,\\,0,\\,1,\\,0\\right)$"
      ],
      "text/plain": [
       "(0, 0, 0, 1, 0, 0, 0, 0, 0, -1, 0, 0, 0, 1, 0)"
      ]
     },
     "metadata": {},
     "output_type": "display_data"
    },
    {
     "name": "stdout",
     "output_type": "stream",
     "text": [
      "Orbit of size 120 with representative:\n"
     ]
    },
    {
     "data": {
      "text/html": [
       "<html>\\(\\displaystyle \\left(-1,\\,1,\\,-1,\\,-1,\\,1,\\,1,\\,-1,\\,1,\\,1,\\,1,\\,1,\\,-1,\\,-1,\\,3,\\,-1\\right)\\)</html>"
      ],
      "text/latex": [
       "$\\displaystyle \\left(-1,\\,1,\\,-1,\\,-1,\\,1,\\,1,\\,-1,\\,1,\\,1,\\,1,\\,1,\\,-1,\\,-1,\\,3,\\,-1\\right)$"
      ],
      "text/plain": [
       "(-1, 1, -1, -1, 1, 1, -1, 1, 1, 1, 1, -1, -1, 3, -1)"
      ]
     },
     "metadata": {},
     "output_type": "display_data"
    },
    {
     "name": "stdout",
     "output_type": "stream",
     "text": [
      "Orbit of size 30 with representative:\n"
     ]
    },
    {
     "data": {
      "text/html": [
       "<html>\\(\\displaystyle \\left(-1,\\,-1,\\,0,\\,-1,\\,1,\\,-1,\\,0,\\,0,\\,0,\\,1,\\,0,\\,2,\\,1,\\,0,\\,1\\right)\\)</html>"
      ],
      "text/latex": [
       "$\\displaystyle \\left(-1,\\,-1,\\,0,\\,-1,\\,1,\\,-1,\\,0,\\,0,\\,0,\\,1,\\,0,\\,2,\\,1,\\,0,\\,1\\right)$"
      ],
      "text/plain": [
       "(-1, -1, 0, -1, 1, -1, 0, 0, 0, 1, 0, 2, 1, 0, 1)"
      ]
     },
     "metadata": {},
     "output_type": "display_data"
    },
    {
     "name": "stdout",
     "output_type": "stream",
     "text": [
      "Orbit of size 360 with representative:\n"
     ]
    },
    {
     "data": {
      "text/html": [
       "<html>\\(\\displaystyle \\left(-1,\\,-1,\\,0,\\,-1,\\,1,\\,0,\\,0,\\,1,\\,0,\\,1,\\,0,\\,1,\\,0,\\,0,\\,1\\right)\\)</html>"
      ],
      "text/latex": [
       "$\\displaystyle \\left(-1,\\,-1,\\,0,\\,-1,\\,1,\\,0,\\,0,\\,1,\\,0,\\,1,\\,0,\\,1,\\,0,\\,0,\\,1\\right)$"
      ],
      "text/plain": [
       "(-1, -1, 0, -1, 1, 0, 0, 1, 0, 1, 0, 1, 0, 0, 1)"
      ]
     },
     "metadata": {},
     "output_type": "display_data"
    },
    {
     "name": "stdout",
     "output_type": "stream",
     "text": [
      "Orbit of size 120 with representative:\n"
     ]
    },
    {
     "data": {
      "text/html": [
       "<html>\\(\\displaystyle \\left(1,\\,-1,\\,-1,\\,1,\\,1,\\,1,\\,1,\\,-1,\\,-1,\\,-1,\\,-1,\\,1,\\,1,\\,1,\\,1\\right)\\)</html>"
      ],
      "text/latex": [
       "$\\displaystyle \\left(1,\\,-1,\\,-1,\\,1,\\,1,\\,1,\\,1,\\,-1,\\,-1,\\,-1,\\,-1,\\,1,\\,1,\\,1,\\,1\\right)$"
      ],
      "text/plain": [
       "(1, -1, -1, 1, 1, 1, 1, -1, -1, -1, -1, 1, 1, 1, 1)"
      ]
     },
     "metadata": {},
     "output_type": "display_data"
    },
    {
     "name": "stdout",
     "output_type": "stream",
     "text": [
      "Orbit of size 90 with representative:\n"
     ]
    },
    {
     "data": {
      "text/html": [
       "<html>\\(\\displaystyle \\left(1,\\,1,\\,0,\\,1,\\,0,\\,0,\\,0,\\,0,\\,0,\\,0,\\,0,\\,1,\\,-1,\\,-1,\\,0\\right)\\)</html>"
      ],
      "text/latex": [
       "$\\displaystyle \\left(1,\\,1,\\,0,\\,1,\\,0,\\,0,\\,0,\\,0,\\,0,\\,0,\\,0,\\,1,\\,-1,\\,-1,\\,0\\right)$"
      ],
      "text/plain": [
       "(1, 1, 0, 1, 0, 0, 0, 0, 0, 0, 0, 1, -1, -1, 0)"
      ]
     },
     "metadata": {},
     "output_type": "display_data"
    },
    {
     "name": "stdout",
     "output_type": "stream",
     "text": [
      "Orbit of size 180 with representative:\n"
     ]
    },
    {
     "data": {
      "text/html": [
       "<html>\\(\\displaystyle \\left(3,\\,3,\\,-1,\\,3,\\,1,\\,3,\\,-1,\\,-3,\\,-1,\\,-1,\\,-1,\\,1,\\,-1,\\,-1,\\,1\\right)\\)</html>"
      ],
      "text/latex": [
       "$\\displaystyle \\left(3,\\,3,\\,-1,\\,3,\\,1,\\,3,\\,-1,\\,-3,\\,-1,\\,-1,\\,-1,\\,1,\\,-1,\\,-1,\\,1\\right)$"
      ],
      "text/plain": [
       "(3, 3, -1, 3, 1, 3, -1, -3, -1, -1, -1, 1, -1, -1, 1)"
      ]
     },
     "metadata": {},
     "output_type": "display_data"
    },
    {
     "name": "stdout",
     "output_type": "stream",
     "text": [
      "Orbit of size 30 with representative:\n"
     ]
    },
    {
     "data": {
      "text/html": [
       "<html>\\(\\displaystyle \\left(0,\\,2,\\,0,\\,-1,\\,2,\\,-1,\\,0,\\,-1,\\,2,\\,-1,\\,2,\\,-1,\\,-1,\\,1,\\,0\\right)\\)</html>"
      ],
      "text/latex": [
       "$\\displaystyle \\left(0,\\,2,\\,0,\\,-1,\\,2,\\,-1,\\,0,\\,-1,\\,2,\\,-1,\\,2,\\,-1,\\,-1,\\,1,\\,0\\right)$"
      ],
      "text/plain": [
       "(0, 2, 0, -1, 2, -1, 0, -1, 2, -1, 2, -1, -1, 1, 0)"
      ]
     },
     "metadata": {},
     "output_type": "display_data"
    }
   ],
   "source": [
    "ieq_orbits = get_all_orbits([ieq.vector()[1:16] for ieq in ieqs], g)\n",
    "for orbit in ieq_orbits:\n",
    "    print(f\"Orbit of size {len(orbit)} with representative:\")\n",
    "    display((orbit[0]))"
   ]
  },
  {
   "cell_type": "markdown",
   "id": "7c8b7422-0566-496c-b592-5f483fec7447",
   "metadata": {},
   "source": [
    "Note that the first orbit has the size $45 = 3\\cdot {6\\choose 4}$, which is exactly what we'd expect for plucker inequlities on 6 bodies."
   ]
  },
  {
   "cell_type": "code",
   "execution_count": 29,
   "id": "6d02dd68-03b8-4f3d-bea4-a2310a5839f4",
   "metadata": {},
   "outputs": [
    {
     "data": {
      "text/html": [
       "<html>\\(\\displaystyle \\left(0, 0, 0, 1, 0, 0, 1, 0, 0, 0, 1, 1, 1, 1, 0\\right)\\)</html>"
      ],
      "text/latex": [
       "$\\displaystyle \\left(0, 0, 0, 1, 0, 0, 1, 0, 0, 0, 1, 1, 1, 1, 0\\right)$"
      ],
      "text/plain": [
       "(0, 0, 0, 1, 0, 0, 1, 0, 0, 0, 1, 1, 1, 1, 0)"
      ]
     },
     "execution_count": 29,
     "metadata": {},
     "output_type": "execute_result"
    }
   ],
   "source": [
    "compute_inequality_terms(terms, [\n",
    "    Polyhedron([(0,0), (1,a)]) for a in [0,0,0,1,1,1]\n",
    "])"
   ]
  },
  {
   "cell_type": "code",
   "execution_count": 30,
   "id": "8cf820cb-134d-4622-b4fd-3e5d7243e8ae",
   "metadata": {},
   "outputs": [
    {
     "data": {
      "text/html": [
       "<html>\\(\\displaystyle \\left(0, 1, 1, 0, 0, 1, 0, 0, 0, 0, 1, 0, 1, 0, 1\\right)\\)</html>"
      ],
      "text/latex": [
       "$\\displaystyle \\left(0, 1, 1, 0, 0, 1, 0, 0, 0, 0, 1, 0, 1, 0, 1\\right)$"
      ],
      "text/plain": [
       "(0, 1, 1, 0, 0, 1, 0, 0, 0, 0, 1, 0, 1, 0, 1)"
      ]
     },
     "execution_count": 30,
     "metadata": {},
     "output_type": "execute_result"
    }
   ],
   "source": [
    "compute_inequality_terms(terms, [\n",
    "    Polyhedron([(0,0), (1,a)]) for a in [0,0,1,0,1,1]\n",
    "])"
   ]
  },
  {
   "cell_type": "code",
   "execution_count": 31,
   "id": "e971e47d-a9f2-497e-9d70-476043aae191",
   "metadata": {},
   "outputs": [
    {
     "data": {
      "text/html": [
       "<html>\\(\\displaystyle \\left(0, 1, 1, 1, 0, 1, 1, 0, 0, 0, 0, 1, 0, 1, 1\\right)\\)</html>"
      ],
      "text/latex": [
       "$\\displaystyle \\left(0, 1, 1, 1, 0, 1, 1, 0, 0, 0, 0, 1, 0, 1, 1\\right)$"
      ],
      "text/plain": [
       "(0, 1, 1, 1, 0, 1, 1, 0, 0, 0, 0, 1, 0, 1, 1)"
      ]
     },
     "execution_count": 31,
     "metadata": {},
     "output_type": "execute_result"
    }
   ],
   "source": [
    "tuple(int(i*4) for i in compute_inequality_terms(terms, [\n",
    "    Polyhedron([(0,0), (1,a)]) for a in [0,0,0.5,0.5,1,1]\n",
    "]))"
   ]
  },
  {
   "cell_type": "code",
   "execution_count": null,
   "id": "daec82ab-48ed-489b-b038-df6dd28e8400",
   "metadata": {},
   "outputs": [],
   "source": []
  }
 ],
 "metadata": {
  "kernelspec": {
   "display_name": "SageMath 10.0",
   "language": "sagemath",
   "name": "sagemath"
  },
  "language_info": {
   "codemirror_mode": {
    "name": "ipython",
    "version": 3
   },
   "file_extension": ".py",
   "mimetype": "text/x-python",
   "name": "python",
   "nbconvert_exporter": "python",
   "pygments_lexer": "ipython3",
   "version": "3.10.12"
  }
 },
 "nbformat": 4,
 "nbformat_minor": 5
}
