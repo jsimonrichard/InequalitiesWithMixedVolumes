{
 "cells": [
  {
   "cell_type": "code",
   "execution_count": 1,
   "id": "db28537f-2d79-4a51-ae6b-a7073dfead56",
   "metadata": {},
   "outputs": [],
   "source": [
    "from IPython.display import display, Math, Latex\n",
    "\n",
    "load(\"mv_inequality_search.sage\")"
   ]
  },
  {
   "cell_type": "markdown",
   "id": "b29ac9e9-1ad3-4b90-8cf9-bb7dc4375859",
   "metadata": {},
   "source": [
    "# Inequalities with Mixed Volumes\n",
    "Searching for relations of the form\n",
    "\n",
    "$$\n",
    "\\sum_{i=0} a_i V(K_{l_i}, K_{m_i}) V(K_{n_i}, K_{o_i}) V(K_{p_i}, K_{q_i}) \\geq 0\n",
    "$$\n",
    "\n",
    "where $1 \\leq l_i \\neq m_i \\neq n_i \\neq o_i \\neq p_i \\neq q_i \\leq n$."
   ]
  },
  {
   "cell_type": "markdown",
   "id": "d7bd9cb9-1c99-4f07-9595-953087753b08",
   "metadata": {},
   "source": [
    "Using the functions in *mv_inequality_search.sage* (especially `compute_convex_hull`), we can easily find relations for small $n$.\n",
    "\n",
    "We'll start with $n=6$."
   ]
  },
  {
   "cell_type": "code",
   "execution_count": 2,
   "id": "2f0b4f41-ae30-4454-82ff-46833b3de2ee",
   "metadata": {},
   "outputs": [],
   "source": [
    "n = 6"
   ]
  },
  {
   "cell_type": "markdown",
   "id": "d60b8676-c7bf-476a-9c9c-1e651bd4f464",
   "metadata": {},
   "source": [
    "We are searching this space using the function\n",
    "$$f:\\mathbb{R}^{2 \\times 6} \\to \\mathbb{R}_{\\geq 0}^{15}$$\n",
    "which is definted by..."
   ]
  },
  {
   "cell_type": "code",
   "execution_count": 2,
   "id": "506091df-a59a-4f20-a41d-a43b18a69d76",
   "metadata": {},
   "outputs": [
    {
     "ename": "TypeError",
     "evalue": "unsupported operand parent(s) for +: '<class 'function'>' and 'Integer Ring'",
     "output_type": "error",
     "traceback": [
      "\u001b[0;31m---------------------------------------------------------------------------\u001b[0m",
      "\u001b[0;31mTypeError\u001b[0m                                 Traceback (most recent call last)",
      "Cell \u001b[0;32mIn[2], line 5\u001b[0m\n\u001b[1;32m      3\u001b[0m \u001b[38;5;66;03m# Define symbols for printing LaTeX\u001b[39;00m\n\u001b[1;32m      4\u001b[0m V \u001b[38;5;241m=\u001b[39m function(\u001b[38;5;124m\"\u001b[39m\u001b[38;5;124mV\u001b[39m\u001b[38;5;124m\"\u001b[39m) \u001b[38;5;66;03m# Mixed volumes\u001b[39;00m\n\u001b[0;32m----> 5\u001b[0m K \u001b[38;5;241m=\u001b[39m var([\u001b[38;5;124mf\u001b[39m\u001b[38;5;124m\"\u001b[39m\u001b[38;5;124mK_\u001b[39m\u001b[38;5;132;01m{\u001b[39;00mi\u001b[38;5;132;01m}\u001b[39;00m\u001b[38;5;124m\"\u001b[39m \u001b[38;5;28;01mfor\u001b[39;00m i \u001b[38;5;129;01min\u001b[39;00m \u001b[38;5;28mrange\u001b[39m(Integer(\u001b[38;5;241m1\u001b[39m),\u001b[43mn\u001b[49m\u001b[38;5;241;43m+\u001b[39;49m\u001b[43mInteger\u001b[49m\u001b[43m(\u001b[49m\u001b[38;5;241;43m1\u001b[39;49m\u001b[43m)\u001b[49m)]) \u001b[38;5;66;03m# Bodies\u001b[39;00m\n\u001b[1;32m      7\u001b[0m \u001b[38;5;66;03m# Define term column vector\u001b[39;00m\n\u001b[1;32m      8\u001b[0m terms \u001b[38;5;241m=\u001b[39m generate_inequality_terms(n, dimension\u001b[38;5;241m=\u001b[39mInteger(\u001b[38;5;241m2\u001b[39m), term_factors\u001b[38;5;241m=\u001b[39mInteger(\u001b[38;5;241m3\u001b[39m))\n",
      "File \u001b[0;32m/nix/store/vr3vwy9fdw54lrfhks15qyk3fa2ab7h9-python3-3.10.12-env/lib/python3.10/site-packages/sage/rings/integer.pyx:1766\u001b[0m, in \u001b[0;36msage.rings.integer.Integer.__add__ (build/cythonized/sage/rings/integer.c:12126)\u001b[0;34m()\u001b[0m\n\u001b[1;32m   1764\u001b[0m         return y\n\u001b[1;32m   1765\u001b[0m \n\u001b[0;32m-> 1766\u001b[0m     return coercion_model.bin_op(left, right, operator.add)\n\u001b[1;32m   1767\u001b[0m \n\u001b[1;32m   1768\u001b[0m cpdef _add_(self, right):\n",
      "File \u001b[0;32m/nix/store/vr3vwy9fdw54lrfhks15qyk3fa2ab7h9-python3-3.10.12-env/lib/python3.10/site-packages/sage/structure/coerce.pyx:1248\u001b[0m, in \u001b[0;36msage.structure.coerce.CoercionModel.bin_op (build/cythonized/sage/structure/coerce.c:11878)\u001b[0;34m()\u001b[0m\n\u001b[1;32m   1246\u001b[0m     # We should really include the underlying error.\n\u001b[1;32m   1247\u001b[0m     # This causes so much headache.\n\u001b[0;32m-> 1248\u001b[0m     raise bin_op_exception(op, x, y)\n\u001b[1;32m   1249\u001b[0m \n\u001b[1;32m   1250\u001b[0m cpdef canonical_coercion(self, x, y):\n",
      "\u001b[0;31mTypeError\u001b[0m: unsupported operand parent(s) for +: '<class 'function'>' and 'Integer Ring'"
     ]
    }
   ],
   "source": [
    "%display latex\n",
    "\n",
    "# Define symbols for printing LaTeX\n",
    "V = function(\"V\") # Mixed volumes\n",
    "K = var([f\"K_{i}\" for i in range(1,n+1)]) # Bodies\n",
    "\n",
    "# Define term column vector\n",
    "terms = generate_inequality_terms(n, dimension=2, term_factors=3)\n",
    "term_list = list(terms)\n",
    "term_vec = Matrix([\n",
    "    V(K[term[0][0]-1], K[term[0][1]-1]) *\n",
    "    V(K[term[1][0]-1], K[term[1][1]-1]) *\n",
    "    V(K[term[2][0]-1], K[term[2][1]-1]) for term in terms\n",
    "]).transpose()\n",
    "\"f\" + latex(K) + \"=\" + latex(x_vec)"
   ]
  },
  {
   "cell_type": "markdown",
   "id": "cba6cf7b-ff0d-4b00-9a58-2649c148fa2a",
   "metadata": {},
   "source": [
    "Where $K_i\\in \\mathbb{R}^2$."
   ]
  },
  {
   "cell_type": "code",
   "execution_count": 71,
   "id": "653d5de4-c30e-4660-ab10-ddca5272446a",
   "metadata": {},
   "outputs": [
    {
     "data": {
      "text/html": [
       "<html>\\(\\displaystyle 15\\)</html>"
      ],
      "text/latex": [
       "$\\displaystyle 15$"
      ],
      "text/plain": [
       "15"
      ]
     },
     "execution_count": 71,
     "metadata": {},
     "output_type": "execute_result"
    }
   ],
   "source": [
    "len(term_list)"
   ]
  },
  {
   "cell_type": "code",
   "execution_count": 119,
   "id": "60f01f3d-00de-4db5-81cd-e35adcc8150d",
   "metadata": {
    "scrolled": true
   },
   "outputs": [
    {
     "name": "stdout",
     "output_type": "stream",
     "text": [
      "3,4|5,6|1,2\n",
      "4,6|2,5|1,3\n",
      "1,5|4,6|2,3\n",
      "1,4|3,5|2,6\n",
      "5,6|2,3|1,4\n",
      "4,5|2,3|1,6\n",
      "3,6|2,5|1,4\n",
      "2,4|5,6|1,3\n",
      "4,5|3,6|1,2\n",
      "4,6|3,5|1,2\n",
      "3,4|1,5|2,6\n",
      "2,4|3,6|1,5\n",
      "3,4|2,5|1,6\n",
      "1,6|2,4|3,5\n",
      "4,5|1,3|2,6\n"
     ]
    }
   ],
   "source": [
    "# Using a more compact notation\n",
    "for term in term_list:\n",
    "    print(\"|\".join(\",\".join(str(j) for j in i) for i in term))"
   ]
  },
  {
   "cell_type": "markdown",
   "id": "ee53d790-5f88-4236-909f-9d78dcb39dfe",
   "metadata": {},
   "source": [
    "Let's generate all rays that might be extremal"
   ]
  },
  {
   "cell_type": "code",
   "execution_count": 124,
   "id": "5932050a-e15c-4500-99f6-4a041897f72f",
   "metadata": {},
   "outputs": [
    {
     "name": "stdout",
     "output_type": "stream",
     "text": [
      "110\n",
      "25\n"
     ]
    }
   ],
   "source": [
    "rays, configurations = compute_rays(n)\n",
    "print(len(rays))\n",
    "print(len(Set(rays)))"
   ]
  },
  {
   "cell_type": "code",
   "execution_count": 125,
   "id": "ae89ddc0-6e5a-4ef8-8e32-c7ba856638bc",
   "metadata": {},
   "outputs": [
    {
     "name": "stdout",
     "output_type": "stream",
     "text": [
      "(0, 0, 0, 1, 0, 0, 1, 0, 0, 0, 1, 1, 1, 1, 0)\n",
      "(0, 1, 1, 0, 0, 1, 0, 0, 0, 0, 1, 0, 1, 0, 1)\n",
      "(0, 0, 0, 1, 1, 1, 0, 1, 0, 0, 0, 0, 0, 1, 1)\n",
      "(0, 1, 1, 0, 1, 0, 1, 1, 0, 0, 0, 1, 0, 0, 0)\n",
      "(0, 0, 1, 0, 0, 1, 0, 0, 1, 1, 0, 1, 0, 1, 0)\n",
      "...\n"
     ]
    }
   ],
   "source": [
    "for r in rays[0:5]:\n",
    "    print(r)\n",
    "print(\"...\")"
   ]
  },
  {
   "cell_type": "code",
   "execution_count": 126,
   "id": "bee1d632-34da-4d79-b019-bd07a8f5b323",
   "metadata": {
    "scrolled": true
   },
   "outputs": [],
   "source": [
    "# Compute convex hull\n",
    "cv = Polyhedron(rays=rays)"
   ]
  },
  {
   "cell_type": "code",
   "execution_count": 127,
   "id": "92ea0a28-2909-443b-90fd-717efc34c511",
   "metadata": {},
   "outputs": [
    {
     "data": {
      "text/html": [
       "<html>\\(\\displaystyle 25\\)</html>"
      ],
      "text/latex": [
       "$\\displaystyle 25$"
      ],
      "text/plain": [
       "25"
      ]
     },
     "execution_count": 127,
     "metadata": {},
     "output_type": "execute_result"
    }
   ],
   "source": [
    "outer_rays = cv.rays()\n",
    "len(outer_rays)"
   ]
  },
  {
   "cell_type": "code",
   "execution_count": 128,
   "id": "e57989da-21e2-492a-8405-78a428dd060f",
   "metadata": {},
   "outputs": [
    {
     "data": {
      "text/html": [
       "<html>\\(\\displaystyle 975\\)</html>"
      ],
      "text/latex": [
       "$\\displaystyle 975$"
      ],
      "text/plain": [
       "975"
      ]
     },
     "execution_count": 128,
     "metadata": {},
     "output_type": "execute_result"
    }
   ],
   "source": [
    "ieqs = cv.inequalities()\n",
    "len(ieqs)"
   ]
  },
  {
   "cell_type": "code",
   "execution_count": 129,
   "id": "050fa34f-7846-4ccb-87cc-69e4fb6d2f36",
   "metadata": {},
   "outputs": [
    {
     "data": {
      "text/html": [
       "<html>\\(\\displaystyle +\\infty\\)</html>"
      ],
      "text/latex": [
       "$\\displaystyle +\\infty$"
      ],
      "text/plain": [
       "+Infinity"
      ]
     },
     "execution_count": 129,
     "metadata": {},
     "output_type": "execute_result"
    }
   ],
   "source": [
    "cv.volume()"
   ]
  },
  {
   "cell_type": "code",
   "execution_count": 130,
   "id": "704f9725-7052-4e68-b548-27cb4a406d5a",
   "metadata": {},
   "outputs": [
    {
     "data": {
      "text/html": [
       "<html>\\(\\displaystyle \\mathrm{True}\\)</html>"
      ],
      "text/latex": [
       "$\\displaystyle \\mathrm{True}$"
      ],
      "text/plain": [
       "True"
      ]
     },
     "execution_count": 130,
     "metadata": {},
     "output_type": "execute_result"
    }
   ],
   "source": [
    "Set(outer_rays) == Set(map(lambda f: f.rays()[0], cv.faces(1)))"
   ]
  },
  {
   "cell_type": "code",
   "execution_count": 131,
   "id": "72b29bfb-e0b4-43c3-95fb-083852272ecf",
   "metadata": {
    "scrolled": true
   },
   "outputs": [
    {
     "data": {
      "text/html": [
       "<html>\\(\\displaystyle 975\\)</html>"
      ],
      "text/latex": [
       "$\\displaystyle 975$"
      ],
      "text/plain": [
       "975"
      ]
     },
     "execution_count": 131,
     "metadata": {},
     "output_type": "execute_result"
    }
   ],
   "source": [
    "a = cv.faces(14)\n",
    "len(a)"
   ]
  },
  {
   "cell_type": "code",
   "execution_count": 93,
   "id": "445cb7a7-df65-4cef-82d3-9da57738e7ee",
   "metadata": {},
   "outputs": [
    {
     "data": {
      "text/html": [
       "<html>\\(\\displaystyle 300\\)</html>"
      ],
      "text/latex": [
       "$\\displaystyle 300$"
      ],
      "text/plain": [
       "300"
      ]
     },
     "execution_count": 93,
     "metadata": {},
     "output_type": "execute_result"
    }
   ],
   "source": [
    "b = cv.faces(2)\n",
    "len(b)"
   ]
  },
  {
   "cell_type": "code",
   "execution_count": 94,
   "id": "78d7df1f-95ec-41d0-8b09-cfd48752aa52",
   "metadata": {},
   "outputs": [
    {
     "data": {
      "text/html": [
       "<html>\\(\\displaystyle 2285\\)</html>"
      ],
      "text/latex": [
       "$\\displaystyle 2285$"
      ],
      "text/plain": [
       "2285"
      ]
     },
     "execution_count": 94,
     "metadata": {},
     "output_type": "execute_result"
    }
   ],
   "source": [
    "len(cv.faces(3))"
   ]
  },
  {
   "cell_type": "code",
   "execution_count": 95,
   "id": "e488d07c-7b46-4848-8762-ea39388bd588",
   "metadata": {},
   "outputs": [
    {
     "data": {
      "text/html": [
       "<html>\\(\\displaystyle 15\\)</html>"
      ],
      "text/latex": [
       "$\\displaystyle 15$"
      ],
      "text/plain": [
       "15"
      ]
     },
     "execution_count": 95,
     "metadata": {},
     "output_type": "execute_result"
    }
   ],
   "source": [
    "cv.dimension()"
   ]
  },
  {
   "cell_type": "code",
   "execution_count": null,
   "id": "18228846-3656-41cc-8cc4-382bf26ca44d",
   "metadata": {},
   "outputs": [],
   "source": [
    "%display latex\n",
    "A = Matrix([i.vector()[1:16] for i in ieqs])\n",
    "latex(A) + latex(x) + \"\\\\geq \\\\vec 0\""
   ]
  },
  {
   "cell_type": "code",
   "execution_count": 102,
   "id": "8cbb19b0-10c5-4db4-ae73-2149f4a56128",
   "metadata": {},
   "outputs": [
    {
     "data": {
      "text/html": [
       "<html>\\(\\displaystyle 0\\)</html>"
      ],
      "text/latex": [
       "$\\displaystyle 0$"
      ],
      "text/plain": [
       "0"
      ]
     },
     "execution_count": 102,
     "metadata": {},
     "output_type": "execute_result"
    }
   ],
   "source": [
    "eqs = cv.equations()\n",
    "len(eqs)"
   ]
  },
  {
   "cell_type": "code",
   "execution_count": 33,
   "id": "14263585-6fb0-4fe8-88ea-3a367ecf9c79",
   "metadata": {},
   "outputs": [
    {
     "data": {
      "text/html": [
       "<html>\\(\\displaystyle 15\\)</html>"
      ],
      "text/latex": [
       "$\\displaystyle 15$"
      ],
      "text/plain": [
       "15"
      ]
     },
     "execution_count": 33,
     "metadata": {},
     "output_type": "execute_result"
    }
   ],
   "source": [
    "C = Matrix([i.vector()[1:16] for i in eqs]+[i.vector()[1:16] for i in ieqs])\n",
    "C.rank()"
   ]
  },
  {
   "cell_type": "code",
   "execution_count": 105,
   "id": "514f8e00-1ff5-4753-b05b-cd3df9ddbff7",
   "metadata": {},
   "outputs": [
    {
     "name": "stdout",
     "output_type": "stream",
     "text": [
      "Orbit of size 45 with representative:\n"
     ]
    },
    {
     "data": {
      "text/html": [
       "<html>\\(\\displaystyle \\left(0,\\,0,\\,0,\\,1,\\,0,\\,0,\\,0,\\,0,\\,0,\\,-1,\\,0,\\,0,\\,0,\\,1,\\,0\\right)\\)</html>"
      ],
      "text/latex": [
       "$\\displaystyle \\left(0,\\,0,\\,0,\\,1,\\,0,\\,0,\\,0,\\,0,\\,0,\\,-1,\\,0,\\,0,\\,0,\\,1,\\,0\\right)$"
      ],
      "text/plain": [
       "(0, 0, 0, 1, 0, 0, 0, 0, 0, -1, 0, 0, 0, 1, 0)"
      ]
     },
     "metadata": {},
     "output_type": "display_data"
    },
    {
     "name": "stdout",
     "output_type": "stream",
     "text": [
      "Orbit of size 120 with representative:\n"
     ]
    },
    {
     "data": {
      "text/html": [
       "<html>\\(\\displaystyle \\left(-1,\\,1,\\,-1,\\,-1,\\,1,\\,1,\\,-1,\\,1,\\,1,\\,1,\\,1,\\,-1,\\,-1,\\,3,\\,-1\\right)\\)</html>"
      ],
      "text/latex": [
       "$\\displaystyle \\left(-1,\\,1,\\,-1,\\,-1,\\,1,\\,1,\\,-1,\\,1,\\,1,\\,1,\\,1,\\,-1,\\,-1,\\,3,\\,-1\\right)$"
      ],
      "text/plain": [
       "(-1, 1, -1, -1, 1, 1, -1, 1, 1, 1, 1, -1, -1, 3, -1)"
      ]
     },
     "metadata": {},
     "output_type": "display_data"
    },
    {
     "name": "stdout",
     "output_type": "stream",
     "text": [
      "Orbit of size 30 with representative:\n"
     ]
    },
    {
     "data": {
      "text/html": [
       "<html>\\(\\displaystyle \\left(-1,\\,-1,\\,0,\\,-1,\\,1,\\,-1,\\,0,\\,0,\\,0,\\,1,\\,0,\\,2,\\,1,\\,0,\\,1\\right)\\)</html>"
      ],
      "text/latex": [
       "$\\displaystyle \\left(-1,\\,-1,\\,0,\\,-1,\\,1,\\,-1,\\,0,\\,0,\\,0,\\,1,\\,0,\\,2,\\,1,\\,0,\\,1\\right)$"
      ],
      "text/plain": [
       "(-1, -1, 0, -1, 1, -1, 0, 0, 0, 1, 0, 2, 1, 0, 1)"
      ]
     },
     "metadata": {},
     "output_type": "display_data"
    },
    {
     "name": "stdout",
     "output_type": "stream",
     "text": [
      "Orbit of size 360 with representative:\n"
     ]
    },
    {
     "data": {
      "text/html": [
       "<html>\\(\\displaystyle \\left(-1,\\,-1,\\,0,\\,-1,\\,1,\\,0,\\,0,\\,1,\\,0,\\,1,\\,0,\\,1,\\,0,\\,0,\\,1\\right)\\)</html>"
      ],
      "text/latex": [
       "$\\displaystyle \\left(-1,\\,-1,\\,0,\\,-1,\\,1,\\,0,\\,0,\\,1,\\,0,\\,1,\\,0,\\,1,\\,0,\\,0,\\,1\\right)$"
      ],
      "text/plain": [
       "(-1, -1, 0, -1, 1, 0, 0, 1, 0, 1, 0, 1, 0, 0, 1)"
      ]
     },
     "metadata": {},
     "output_type": "display_data"
    },
    {
     "name": "stdout",
     "output_type": "stream",
     "text": [
      "Orbit of size 120 with representative:\n"
     ]
    },
    {
     "data": {
      "text/html": [
       "<html>\\(\\displaystyle \\left(1,\\,-1,\\,-1,\\,1,\\,1,\\,1,\\,1,\\,-1,\\,-1,\\,-1,\\,-1,\\,1,\\,1,\\,1,\\,1\\right)\\)</html>"
      ],
      "text/latex": [
       "$\\displaystyle \\left(1,\\,-1,\\,-1,\\,1,\\,1,\\,1,\\,1,\\,-1,\\,-1,\\,-1,\\,-1,\\,1,\\,1,\\,1,\\,1\\right)$"
      ],
      "text/plain": [
       "(1, -1, -1, 1, 1, 1, 1, -1, -1, -1, -1, 1, 1, 1, 1)"
      ]
     },
     "metadata": {},
     "output_type": "display_data"
    },
    {
     "name": "stdout",
     "output_type": "stream",
     "text": [
      "Orbit of size 90 with representative:\n"
     ]
    },
    {
     "data": {
      "text/html": [
       "<html>\\(\\displaystyle \\left(1,\\,1,\\,0,\\,1,\\,0,\\,0,\\,0,\\,0,\\,0,\\,0,\\,0,\\,1,\\,-1,\\,-1,\\,0\\right)\\)</html>"
      ],
      "text/latex": [
       "$\\displaystyle \\left(1,\\,1,\\,0,\\,1,\\,0,\\,0,\\,0,\\,0,\\,0,\\,0,\\,0,\\,1,\\,-1,\\,-1,\\,0\\right)$"
      ],
      "text/plain": [
       "(1, 1, 0, 1, 0, 0, 0, 0, 0, 0, 0, 1, -1, -1, 0)"
      ]
     },
     "metadata": {},
     "output_type": "display_data"
    },
    {
     "name": "stdout",
     "output_type": "stream",
     "text": [
      "Orbit of size 180 with representative:\n"
     ]
    },
    {
     "data": {
      "text/html": [
       "<html>\\(\\displaystyle \\left(3,\\,3,\\,-1,\\,3,\\,1,\\,3,\\,-1,\\,-3,\\,-1,\\,-1,\\,-1,\\,1,\\,-1,\\,-1,\\,1\\right)\\)</html>"
      ],
      "text/latex": [
       "$\\displaystyle \\left(3,\\,3,\\,-1,\\,3,\\,1,\\,3,\\,-1,\\,-3,\\,-1,\\,-1,\\,-1,\\,1,\\,-1,\\,-1,\\,1\\right)$"
      ],
      "text/plain": [
       "(3, 3, -1, 3, 1, 3, -1, -3, -1, -1, -1, 1, -1, -1, 1)"
      ]
     },
     "metadata": {},
     "output_type": "display_data"
    },
    {
     "name": "stdout",
     "output_type": "stream",
     "text": [
      "Orbit of size 30 with representative:\n"
     ]
    },
    {
     "data": {
      "text/html": [
       "<html>\\(\\displaystyle \\left(0,\\,2,\\,0,\\,-1,\\,2,\\,-1,\\,0,\\,-1,\\,2,\\,-1,\\,2,\\,-1,\\,-1,\\,1,\\,0\\right)\\)</html>"
      ],
      "text/latex": [
       "$\\displaystyle \\left(0,\\,2,\\,0,\\,-1,\\,2,\\,-1,\\,0,\\,-1,\\,2,\\,-1,\\,2,\\,-1,\\,-1,\\,1,\\,0\\right)$"
      ],
      "text/plain": [
       "(0, 2, 0, -1, 2, -1, 0, -1, 2, -1, 2, -1, -1, 1, 0)"
      ]
     },
     "metadata": {},
     "output_type": "display_data"
    }
   ],
   "source": [
    "ieq_orbits = get_all_orbits([ieq.vector()[1:16] for ieq in ieqs], g)\n",
    "for orbit in ieq_orbits:\n",
    "    print(f\"Orbit of size {len(orbit)} with representative:\")\n",
    "    display((orbit[0]))"
   ]
  },
  {
   "cell_type": "markdown",
   "id": "7c8b7422-0566-496c-b592-5f483fec7447",
   "metadata": {},
   "source": [
    "Note that the first orbit has the size $45 = 3\\cdot {6\\choose 4}$, which is exactly what we'd expect for plucker inequlities on 6 bodies."
   ]
  },
  {
   "cell_type": "code",
   "execution_count": null,
   "id": "6d02dd68-03b8-4f3d-bea4-a2310a5839f4",
   "metadata": {},
   "outputs": [],
   "source": []
  }
 ],
 "metadata": {
  "kernelspec": {
   "display_name": "SageMath 10.0",
   "language": "sagemath",
   "name": "sagemath"
  },
  "language_info": {
   "codemirror_mode": {
    "name": "ipython",
    "version": 3
   },
   "file_extension": ".py",
   "mimetype": "text/x-python",
   "name": "python",
   "nbconvert_exporter": "python",
   "pygments_lexer": "ipython3",
   "version": "3.10.12"
  }
 },
 "nbformat": 4,
 "nbformat_minor": 5
}
